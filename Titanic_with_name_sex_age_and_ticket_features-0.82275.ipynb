{
 "cells": [
  {
   "cell_type": "code",
   "execution_count": 2,
   "metadata": {},
   "outputs": [],
   "source": [
    "import pandas as pd #数据分析\n",
    "import numpy as np #科学计算\n",
    " \n",
    "import matplotlib.pyplot as plt\n",
    "import seaborn as sns\n",
    "import pylab\n",
    "\n",
    "from sklearn.preprocessing import LabelEncoder\n",
    "from sklearn.ensemble import RandomForestRegressor\n",
    "\n",
    "sns.set_style(\"whitegrid\") \n",
    "%matplotlib inline"
   ]
  },
  {
   "cell_type": "code",
   "execution_count": 3,
   "metadata": {},
   "outputs": [],
   "source": [
    "## 模型训练策略的开关\n",
    "WITH_MISSING_VALUES = True\n",
    "FIXED_CABIN_BY_TICKET_GROUP = False\n",
    "FIXED_CABIN_BY_TICKET_AND_SURNAME = True"
   ]
  },
  {
   "cell_type": "code",
   "execution_count": 163,
   "metadata": {},
   "outputs": [],
   "source": [
    "def dealWithNameFeature(dataset):\n",
    "    # get Title feature\n",
    "    dataset['Title'] = dataset.Name.apply(lambda x:getTitle(x))\n",
    "    # get Surname feature\n",
    "    dataset['Surname'] = dataset.Name.apply(lambda x: x.split(',')[0].strip())\n",
    "\n",
    "def getSurnameGroupId(dataset): \n",
    "    dataset['SurnameGroupId'] = dataset.apply(lambda row : str(row.Surname + '-' + str(row.Pclass) + '-' + str(row.Embarked) + '-' + str(row.Fare) + '-' + row.Ticket[:-2] + '__'), axis = 1)\n",
    "\n",
    "def getTicketGroupId(dataset):    \n",
    "    dataset['TicketGroupId'] = dataset.apply(lambda row : str(str(row.Pclass) + '-' + str(row.Embarked) + '-' + str(row.Fare) + '-' + row.Ticket), axis = 1)\n",
    "\n",
    "def getSurnameGroupSize(dataset): \n",
    "    surname_group_value_count = dataset.SurnameGroupId.value_counts()\n",
    "    dataset['SurnameGroupSize'] = dataset.apply(lambda row : surname_group_value_count.loc[row.SurnameGroupId], axis=1)\n",
    "    \n",
    "def addNanniesCousinsFriends(dataset, only_boy_female = False, verbose = False):\n",
    "    '''\n",
    "    @dataset\n",
    "    @only_boy_female: only adding solo boys and females to surname groups if only_boy_female is True\n",
    "                otherwise: adding solo passengers to surname groups\n",
    "    '''\n",
    "    if only_boy_female:\n",
    "        solo_passengers = dataset.loc[(dataset.SurnameGroupSize == 1) & (index_boy | index_female)]\n",
    "    else:\n",
    "        solo_passengers = dataset.loc[(dataset.SurnameGroupSize == 1)]\n",
    "    if verbose:\n",
    "        print('Tottaly %d solo passengers satifies the condtions' % solo_passengers.shape[0])\n",
    "    nannies_cousins_firends = set()\n",
    "    count_nannies_cousins_firends = 0\n",
    "    for index, solo_passenger in solo_passengers.iterrows():\n",
    "        items = dataset.loc[(dataset.TicketGroupId == solo_passenger.TicketGroupId) & (dataset.PassengerId != solo_passenger.PassengerId)]\n",
    "        if items.shape[0] > 0:\n",
    "            count_nannies_cousins_firends += 1\n",
    "            nannies_cousins_firends.add(solo_passenger.SurnameGroupId)\n",
    "            nannies_cousins_firends.add(items.iloc[0,:].SurnameGroupId)\n",
    "            dataset.loc[dataset.PassengerId == solo_passenger.PassengerId, 'SurnameGroupId'] = items.iloc[0,:].SurnameGroupId\n",
    "    if verbose:\n",
    "        print('Totally adding %d  nannies, cousins and firends to surname groups' % count_nannies_cousins_firends)\n",
    "    return nannies_cousins_firends\n",
    "        \n",
    "def engineeringFeatures(dataset = None, verbose = False):\n",
    "    dealWithNameFeature(dataset)\n",
    "    getSurnameGroupId(dataset)\n",
    "    getTicketGroupId(dataset)\n",
    "    getSurnameGroupSize(dataset)\n",
    "    addNanniesCousinsFriends(dataset, verbose = verbose, only_boy_female=True)\n",
    "    # resize the surname group size \n",
    "    getSurnameGroupSize(dataset)\n",
    "    \n",
    "def getSurnameGroupSurvived(dataset, indicies_train_set):\n",
    "    '''\n",
    "    get the 'SurnameGroupSurvived' feature in train set \n",
    "    @dataset : combination of train set and test set \n",
    "    @indices_train : indices of train set \n",
    "    '''\n",
    "    dataset['SurnameGroupSurvived'] = np.NaN\n",
    "    surname_group_survived_mean = dataset.loc[indicies_train_set, ['SurnameGroupId','Survived']].groupby(['SurnameGroupId']).Survived.mean()\n",
    "    dataset.loc[indicies_train_set, ['SurnameGroupSurvived']] = dataset.loc[indicies_train_set,'SurnameGroupId'].apply(lambda x: surname_group_survived_mean.loc[x])\n",
    "    \n",
    "def setSurnameGroupSurvivedInTestSet(dataset, indices_test_set):\n",
    "    '''\n",
    "    set the 'SurnameGroupSurvived' feature in test set \n",
    "    @dataset : combination of train set and test set \n",
    "    @indices_test_set : indices of test set \n",
    "    ''' \n",
    "    for idx in indices_test_set:\n",
    "        tmp = dataset.loc[(dataset.SurnameGroupId == dataset.loc[idx, 'SurnameGroupId']) & (dataset.SurnameGroupSurvived.notnull()), ['SurnameGroupSurvived']]\n",
    "        if tmp.shape[0] > 0:\n",
    "            dataset.loc[idx, 'SurnameGroupSurvived'] = tmp.values[0]\n",
    "        if (pd.isna(dataset.loc[idx, 'SurnameGroupSurvived'])):\n",
    "            if dataset.loc[idx, 'Pclass']  == 3:\n",
    "                dataset.loc[idx, 'SurnameGroupSurvived'] = 1.0\n",
    "            else:\n",
    "                dataset.loc[idx, 'SurnameGroupSurvived'] = 0.0\n",
    "\n",
    "def getWomanChildrenGroupSurvived(dataset, indicies_train_set):\n",
    "    '''\n",
    "    get the 'SurnameGroupSurvived' feature in train set\n",
    "    @dataset : combination of train set and test set\n",
    "    @indices_train : indices of train set\n",
    "    '''\n",
    "    dataset['WomanChildGroupSurvived'] = np.NaN\n",
    "    indices_female = (dataset.Sex == 'female') \n",
    "    indices_boy = (dataset.Title == 'Master') | ((dataset.Sex == 'male') & (dataset.Age <= children_age_upper_limit))\n",
    "    indices_WCG = (dataset.SurnameGroupSize > 1) & (indices_female | indices_boy)\n",
    "    \n",
    "    # Not to group sb, according to analysis above\n",
    "    dataset['WomanChildGroupId'] = dataset.SurnameGroupId\n",
    "    dataset.loc[~indices_WCG, 'WomanChildGroupId'] = 'NoGroup'  \n",
    "    \n",
    "    ## woman-child-group \n",
    "    woman_child_group_survived_mean = dataset.loc[indicies_train_set, ['WomanChildGroupId','Survived']].groupby(['WomanChildGroupId']).Survived.mean()\n",
    "    dataset.loc[indicies_train_set, 'WomanChildGroupSurvived'] = dataset.loc[indicies_train_set, 'WomanChildGroupId'].apply(lambda x: woman_child_group_survived_mean.loc[x])\n",
    "    \n",
    "    \n",
    "def setWomenChildGroupSurvivedInTestSet(dataset, indices_test_set):\n",
    "    '''\n",
    "    set the 'SurnameGroupSurvived' feature in test set\n",
    "    @dataset : combination of train set and test set\n",
    "    @indices_test_set : indices of test set\n",
    "    '''\n",
    "    for idx in indices_test_set:\n",
    "        tmp = dataset.loc[(dataset.WomanChildGroupId == dataset.loc[idx,'WomanChildGroupId']) & (dataset.WomanChildGroupSurvived.notnull()), 'WomanChildGroupSurvived'] \n",
    "        if tmp.shape[0] > 0:\n",
    "            dataset.loc[idx, 'WomanChildGroupSurvived'] = tmp.values[0]\n",
    "        if (pd.isna(dataset.loc[idx, 'WomanChildGroupSurvived'])):\n",
    "            if dataset.loc[idx, 'Pclass'] == 3:\n",
    "                dataset.loc[idx, 'WomanChildGroupSurvived'] = 0\n",
    "            else:\n",
    "                dataset.loc[idx, 'WomanChildGroupSurvived'] = 1\n",
    "\n",
    "def predictionByWomanBoyRules(dataset):\n",
    "    '''\n",
    "    the results of prediction stored in 'Predict' feature in the dataset\n",
    "    @dataset : combination of train set and test set\n",
    "    '''\n",
    "    indices_female = (dataset.Sex == 'female') \n",
    "    indices_boy = (dataset.Title == 'Master') | ((dataset.Sex == 'male') & (dataset.Age <= children_age_upper_limit))\n",
    "    indices_male_adult = (all_data.SurnameGroupSize > 1) & (~index_boy) & (all_data.Sex == 'male')\n",
    "    \n",
    "    dataset['Predict'] = 0.0\n",
    "    dataset.loc[index_female, 'Predict'] = 1.0\n",
    "    dataset.loc[(dataset.WomanChildGroupSurvived == 0.0) & index_female & (dataset.SurnameGroupSize > 1), 'Predict'] = 0.0\n",
    "    dataset.loc[(dataset.WomanChildGroupSurvived == 1.0) & index_boy & (dataset.SurnameGroupSize > 1), 'Predict'] = 1.0\n",
    "    \n",
    "    #dataset.loc[index_female | index_boy, 'Predict'] = 1.0\n",
    "    #dataset.loc[(dataset.WomanChildGroupSurvived == 0.0) & (index_female | index_boy) & (dataset.SurnameGroupSize > 1), 'Predict'] = 0.0\n",
    "    #dataset.loc[indices_male_adult & (dataset.SurnameGroupSurvived == 1) & (dataset.Pclass == 1), 'Predict'] = 1.0\n",
    "    \n",
    "    \n",
    "    return dataset"
   ]
  },
  {
   "cell_type": "markdown",
   "metadata": {},
   "source": [
    "## 读取数据"
   ]
  },
  {
   "cell_type": "code",
   "execution_count": 5,
   "metadata": {},
   "outputs": [],
   "source": [
    "train = pd.read_csv('./data/train.csv')\n",
    "test = pd.read_csv('./data/test.csv')\n",
    "\n",
    "all_data = pd.concat([train, test], ignore_index = True)"
   ]
  },
  {
   "cell_type": "code",
   "execution_count": 6,
   "metadata": {},
   "outputs": [
    {
     "data": {
      "text/html": [
       "<div>\n",
       "<style scoped>\n",
       "    .dataframe tbody tr th:only-of-type {\n",
       "        vertical-align: middle;\n",
       "    }\n",
       "\n",
       "    .dataframe tbody tr th {\n",
       "        vertical-align: top;\n",
       "    }\n",
       "\n",
       "    .dataframe thead th {\n",
       "        text-align: right;\n",
       "    }\n",
       "</style>\n",
       "<table border=\"1\" class=\"dataframe\">\n",
       "  <thead>\n",
       "    <tr style=\"text-align: right;\">\n",
       "      <th></th>\n",
       "      <th>PassengerId</th>\n",
       "      <th>Survived</th>\n",
       "      <th>Pclass</th>\n",
       "      <th>Name</th>\n",
       "      <th>Sex</th>\n",
       "      <th>Age</th>\n",
       "      <th>SibSp</th>\n",
       "      <th>Parch</th>\n",
       "      <th>Ticket</th>\n",
       "      <th>Fare</th>\n",
       "      <th>Cabin</th>\n",
       "      <th>Embarked</th>\n",
       "    </tr>\n",
       "  </thead>\n",
       "  <tbody>\n",
       "    <tr>\n",
       "      <th>0</th>\n",
       "      <td>1</td>\n",
       "      <td>0</td>\n",
       "      <td>3</td>\n",
       "      <td>Braund, Mr. Owen Harris</td>\n",
       "      <td>male</td>\n",
       "      <td>22.0</td>\n",
       "      <td>1</td>\n",
       "      <td>0</td>\n",
       "      <td>A/5 21171</td>\n",
       "      <td>7.2500</td>\n",
       "      <td>NaN</td>\n",
       "      <td>S</td>\n",
       "    </tr>\n",
       "    <tr>\n",
       "      <th>1</th>\n",
       "      <td>2</td>\n",
       "      <td>1</td>\n",
       "      <td>1</td>\n",
       "      <td>Cumings, Mrs. John Bradley (Florence Briggs Th...</td>\n",
       "      <td>female</td>\n",
       "      <td>38.0</td>\n",
       "      <td>1</td>\n",
       "      <td>0</td>\n",
       "      <td>PC 17599</td>\n",
       "      <td>71.2833</td>\n",
       "      <td>C85</td>\n",
       "      <td>C</td>\n",
       "    </tr>\n",
       "    <tr>\n",
       "      <th>2</th>\n",
       "      <td>3</td>\n",
       "      <td>1</td>\n",
       "      <td>3</td>\n",
       "      <td>Heikkinen, Miss. Laina</td>\n",
       "      <td>female</td>\n",
       "      <td>26.0</td>\n",
       "      <td>0</td>\n",
       "      <td>0</td>\n",
       "      <td>STON/O2. 3101282</td>\n",
       "      <td>7.9250</td>\n",
       "      <td>NaN</td>\n",
       "      <td>S</td>\n",
       "    </tr>\n",
       "    <tr>\n",
       "      <th>3</th>\n",
       "      <td>4</td>\n",
       "      <td>1</td>\n",
       "      <td>1</td>\n",
       "      <td>Futrelle, Mrs. Jacques Heath (Lily May Peel)</td>\n",
       "      <td>female</td>\n",
       "      <td>35.0</td>\n",
       "      <td>1</td>\n",
       "      <td>0</td>\n",
       "      <td>113803</td>\n",
       "      <td>53.1000</td>\n",
       "      <td>C123</td>\n",
       "      <td>S</td>\n",
       "    </tr>\n",
       "    <tr>\n",
       "      <th>4</th>\n",
       "      <td>5</td>\n",
       "      <td>0</td>\n",
       "      <td>3</td>\n",
       "      <td>Allen, Mr. William Henry</td>\n",
       "      <td>male</td>\n",
       "      <td>35.0</td>\n",
       "      <td>0</td>\n",
       "      <td>0</td>\n",
       "      <td>373450</td>\n",
       "      <td>8.0500</td>\n",
       "      <td>NaN</td>\n",
       "      <td>S</td>\n",
       "    </tr>\n",
       "  </tbody>\n",
       "</table>\n",
       "</div>"
      ],
      "text/plain": [
       "   PassengerId  Survived  Pclass  \\\n",
       "0            1         0       3   \n",
       "1            2         1       1   \n",
       "2            3         1       3   \n",
       "3            4         1       1   \n",
       "4            5         0       3   \n",
       "\n",
       "                                                Name     Sex   Age  SibSp  \\\n",
       "0                            Braund, Mr. Owen Harris    male  22.0      1   \n",
       "1  Cumings, Mrs. John Bradley (Florence Briggs Th...  female  38.0      1   \n",
       "2                             Heikkinen, Miss. Laina  female  26.0      0   \n",
       "3       Futrelle, Mrs. Jacques Heath (Lily May Peel)  female  35.0      1   \n",
       "4                           Allen, Mr. William Henry    male  35.0      0   \n",
       "\n",
       "   Parch            Ticket     Fare Cabin Embarked  \n",
       "0      0         A/5 21171   7.2500   NaN        S  \n",
       "1      0          PC 17599  71.2833   C85        C  \n",
       "2      0  STON/O2. 3101282   7.9250   NaN        S  \n",
       "3      0            113803  53.1000  C123        S  \n",
       "4      0            373450   8.0500   NaN        S  "
      ]
     },
     "execution_count": 6,
     "metadata": {},
     "output_type": "execute_result"
    }
   ],
   "source": [
    "train = pd.read_csv(\"./data/train.csv\")\n",
    "train.head()"
   ]
  },
  {
   "cell_type": "markdown",
   "metadata": {},
   "source": [
    "字段有：\n",
    "1. Passengerld => 乘客ID \n",
    "2. Pclass => 乘客等级(1/2/3等舱位) \n",
    "3. Name => 乘客姓名 \n",
    "4. Sex => 性别 \n",
    "5. Age => 年龄 \n",
    "6. SibSp => 堂兄弟/妹个数 \n",
    "7. Parch => 父母与小孩个数 \n",
    "8. Ticket => 船票信息 \n",
    "9. Fare => 票价 \n",
    "10. Cabin => 客舱 \n",
    "11. Embarked => 登船港口"
   ]
  },
  {
   "cell_type": "markdown",
   "metadata": {},
   "source": [
    "### 查看数据集基本信息"
   ]
  },
  {
   "cell_type": "code",
   "execution_count": 7,
   "metadata": {},
   "outputs": [
    {
     "name": "stdout",
     "output_type": "stream",
     "text": [
      "<class 'pandas.core.frame.DataFrame'>\n",
      "RangeIndex: 891 entries, 0 to 890\n",
      "Data columns (total 12 columns):\n",
      "PassengerId    891 non-null int64\n",
      "Survived       891 non-null int64\n",
      "Pclass         891 non-null int64\n",
      "Name           891 non-null object\n",
      "Sex            891 non-null object\n",
      "Age            714 non-null float64\n",
      "SibSp          891 non-null int64\n",
      "Parch          891 non-null int64\n",
      "Ticket         891 non-null object\n",
      "Fare           891 non-null float64\n",
      "Cabin          204 non-null object\n",
      "Embarked       889 non-null object\n",
      "dtypes: float64(2), int64(5), object(5)\n",
      "memory usage: 83.6+ KB\n"
     ]
    }
   ],
   "source": [
    "train.info()"
   ]
  },
  {
   "cell_type": "markdown",
   "metadata": {},
   "source": [
    "### 查看缺失数据"
   ]
  },
  {
   "cell_type": "code",
   "execution_count": 8,
   "metadata": {},
   "outputs": [
    {
     "data": {
      "text/plain": [
       "PassengerId      0\n",
       "Survived         0\n",
       "Pclass           0\n",
       "Name             0\n",
       "Sex              0\n",
       "Age            177\n",
       "SibSp            0\n",
       "Parch            0\n",
       "Ticket           0\n",
       "Fare             0\n",
       "Cabin          687\n",
       "Embarked         2\n",
       "dtype: int64"
      ]
     },
     "execution_count": 8,
     "metadata": {},
     "output_type": "execute_result"
    }
   ],
   "source": [
    "train.isnull().sum()"
   ]
  },
  {
   "cell_type": "markdown",
   "metadata": {},
   "source": [
    "训练数据总共有891名乘客，但是很不幸，我们有些属性的数据不全\n",
    "1. Age(年龄)属性只有714名乘客有记录 \n",
    "2. Cain(客舱)只有204名乘客是已知的；\n",
    "3. Embarked 属性只缺2个\n",
    "\n",
    "看看测试数据"
   ]
  },
  {
   "cell_type": "code",
   "execution_count": 9,
   "metadata": {},
   "outputs": [
    {
     "name": "stdout",
     "output_type": "stream",
     "text": [
      "<class 'pandas.core.frame.DataFrame'>\n",
      "RangeIndex: 418 entries, 0 to 417\n",
      "Data columns (total 11 columns):\n",
      "PassengerId    418 non-null int64\n",
      "Pclass         418 non-null int64\n",
      "Name           418 non-null object\n",
      "Sex            418 non-null object\n",
      "Age            332 non-null float64\n",
      "SibSp          418 non-null int64\n",
      "Parch          418 non-null int64\n",
      "Ticket         418 non-null object\n",
      "Fare           417 non-null float64\n",
      "Cabin          91 non-null object\n",
      "Embarked       418 non-null object\n",
      "dtypes: float64(2), int64(4), object(5)\n",
      "memory usage: 36.0+ KB\n"
     ]
    },
    {
     "data": {
      "text/plain": [
       "PassengerId      0\n",
       "Pclass           0\n",
       "Name             0\n",
       "Sex              0\n",
       "Age             86\n",
       "SibSp            0\n",
       "Parch            0\n",
       "Ticket           0\n",
       "Fare             1\n",
       "Cabin          327\n",
       "Embarked         0\n",
       "dtype: int64"
      ]
     },
     "execution_count": 9,
     "metadata": {},
     "output_type": "execute_result"
    }
   ],
   "source": [
    "test.info()\n",
    "test.isnull().sum()"
   ]
  },
  {
   "cell_type": "markdown",
   "metadata": {},
   "source": [
    "测试数据中总共有481名乘客\n",
    "1. 有更多缺失值Age(年龄)：86个缺失\n",
    "2. Fare属性缺1位乘客的信息 \n",
    "3. Cabin(客舱)只有91名乘客是已知的；"
   ]
  },
  {
   "cell_type": "code",
   "execution_count": 10,
   "metadata": {},
   "outputs": [
    {
     "name": "stdout",
     "output_type": "stream",
     "text": [
      "<class 'pandas.core.frame.DataFrame'>\n",
      "RangeIndex: 1309 entries, 0 to 1308\n",
      "Data columns (total 12 columns):\n",
      "Age            1046 non-null float64\n",
      "Cabin          295 non-null object\n",
      "Embarked       1307 non-null object\n",
      "Fare           1308 non-null float64\n",
      "Name           1309 non-null object\n",
      "Parch          1309 non-null int64\n",
      "PassengerId    1309 non-null int64\n",
      "Pclass         1309 non-null int64\n",
      "Sex            1309 non-null object\n",
      "SibSp          1309 non-null int64\n",
      "Survived       891 non-null float64\n",
      "Ticket         1309 non-null object\n",
      "dtypes: float64(3), int64(4), object(5)\n",
      "memory usage: 122.8+ KB\n"
     ]
    }
   ],
   "source": [
    "all_data.info()"
   ]
  },
  {
   "cell_type": "code",
   "execution_count": 11,
   "metadata": {},
   "outputs": [
    {
     "data": {
      "text/plain": [
       "Age             263\n",
       "Cabin          1014\n",
       "Embarked          2\n",
       "Fare              1\n",
       "Name              0\n",
       "Parch             0\n",
       "PassengerId       0\n",
       "Pclass            0\n",
       "Sex               0\n",
       "SibSp             0\n",
       "Survived        418\n",
       "Ticket            0\n",
       "dtype: int64"
      ]
     },
     "execution_count": 11,
     "metadata": {},
     "output_type": "execute_result"
    }
   ],
   "source": [
    "all_data.isnull().sum()"
   ]
  },
  {
   "cell_type": "markdown",
   "metadata": {},
   "source": [
    "### 查看特征的分布信息"
   ]
  },
  {
   "cell_type": "code",
   "execution_count": 12,
   "metadata": {},
   "outputs": [
    {
     "data": {
      "text/html": [
       "<div>\n",
       "<style scoped>\n",
       "    .dataframe tbody tr th:only-of-type {\n",
       "        vertical-align: middle;\n",
       "    }\n",
       "\n",
       "    .dataframe tbody tr th {\n",
       "        vertical-align: top;\n",
       "    }\n",
       "\n",
       "    .dataframe thead th {\n",
       "        text-align: right;\n",
       "    }\n",
       "</style>\n",
       "<table border=\"1\" class=\"dataframe\">\n",
       "  <thead>\n",
       "    <tr style=\"text-align: right;\">\n",
       "      <th></th>\n",
       "      <th>PassengerId</th>\n",
       "      <th>Survived</th>\n",
       "      <th>Pclass</th>\n",
       "      <th>Age</th>\n",
       "      <th>SibSp</th>\n",
       "      <th>Parch</th>\n",
       "      <th>Fare</th>\n",
       "    </tr>\n",
       "  </thead>\n",
       "  <tbody>\n",
       "    <tr>\n",
       "      <th>count</th>\n",
       "      <td>891.000000</td>\n",
       "      <td>891.000000</td>\n",
       "      <td>891.000000</td>\n",
       "      <td>714.000000</td>\n",
       "      <td>891.000000</td>\n",
       "      <td>891.000000</td>\n",
       "      <td>891.000000</td>\n",
       "    </tr>\n",
       "    <tr>\n",
       "      <th>mean</th>\n",
       "      <td>446.000000</td>\n",
       "      <td>0.383838</td>\n",
       "      <td>2.308642</td>\n",
       "      <td>29.699118</td>\n",
       "      <td>0.523008</td>\n",
       "      <td>0.381594</td>\n",
       "      <td>32.204208</td>\n",
       "    </tr>\n",
       "    <tr>\n",
       "      <th>std</th>\n",
       "      <td>257.353842</td>\n",
       "      <td>0.486592</td>\n",
       "      <td>0.836071</td>\n",
       "      <td>14.526497</td>\n",
       "      <td>1.102743</td>\n",
       "      <td>0.806057</td>\n",
       "      <td>49.693429</td>\n",
       "    </tr>\n",
       "    <tr>\n",
       "      <th>min</th>\n",
       "      <td>1.000000</td>\n",
       "      <td>0.000000</td>\n",
       "      <td>1.000000</td>\n",
       "      <td>0.420000</td>\n",
       "      <td>0.000000</td>\n",
       "      <td>0.000000</td>\n",
       "      <td>0.000000</td>\n",
       "    </tr>\n",
       "    <tr>\n",
       "      <th>25%</th>\n",
       "      <td>223.500000</td>\n",
       "      <td>0.000000</td>\n",
       "      <td>2.000000</td>\n",
       "      <td>20.125000</td>\n",
       "      <td>0.000000</td>\n",
       "      <td>0.000000</td>\n",
       "      <td>7.910400</td>\n",
       "    </tr>\n",
       "    <tr>\n",
       "      <th>50%</th>\n",
       "      <td>446.000000</td>\n",
       "      <td>0.000000</td>\n",
       "      <td>3.000000</td>\n",
       "      <td>28.000000</td>\n",
       "      <td>0.000000</td>\n",
       "      <td>0.000000</td>\n",
       "      <td>14.454200</td>\n",
       "    </tr>\n",
       "    <tr>\n",
       "      <th>75%</th>\n",
       "      <td>668.500000</td>\n",
       "      <td>1.000000</td>\n",
       "      <td>3.000000</td>\n",
       "      <td>38.000000</td>\n",
       "      <td>1.000000</td>\n",
       "      <td>0.000000</td>\n",
       "      <td>31.000000</td>\n",
       "    </tr>\n",
       "    <tr>\n",
       "      <th>max</th>\n",
       "      <td>891.000000</td>\n",
       "      <td>1.000000</td>\n",
       "      <td>3.000000</td>\n",
       "      <td>80.000000</td>\n",
       "      <td>8.000000</td>\n",
       "      <td>6.000000</td>\n",
       "      <td>512.329200</td>\n",
       "    </tr>\n",
       "  </tbody>\n",
       "</table>\n",
       "</div>"
      ],
      "text/plain": [
       "       PassengerId    Survived      Pclass         Age       SibSp  \\\n",
       "count   891.000000  891.000000  891.000000  714.000000  891.000000   \n",
       "mean    446.000000    0.383838    2.308642   29.699118    0.523008   \n",
       "std     257.353842    0.486592    0.836071   14.526497    1.102743   \n",
       "min       1.000000    0.000000    1.000000    0.420000    0.000000   \n",
       "25%     223.500000    0.000000    2.000000   20.125000    0.000000   \n",
       "50%     446.000000    0.000000    3.000000   28.000000    0.000000   \n",
       "75%     668.500000    1.000000    3.000000   38.000000    1.000000   \n",
       "max     891.000000    1.000000    3.000000   80.000000    8.000000   \n",
       "\n",
       "            Parch        Fare  \n",
       "count  891.000000  891.000000  \n",
       "mean     0.381594   32.204208  \n",
       "std      0.806057   49.693429  \n",
       "min      0.000000    0.000000  \n",
       "25%      0.000000    7.910400  \n",
       "50%      0.000000   14.454200  \n",
       "75%      0.000000   31.000000  \n",
       "max      6.000000  512.329200  "
      ]
     },
     "execution_count": 12,
     "metadata": {},
     "output_type": "execute_result"
    }
   ],
   "source": [
    "train.describe()"
   ]
  },
  {
   "cell_type": "code",
   "execution_count": 13,
   "metadata": {},
   "outputs": [
    {
     "name": "stdout",
     "output_type": "stream",
     "text": [
      "<class 'pandas.core.frame.DataFrame'>\n",
      "RangeIndex: 1309 entries, 0 to 1308\n",
      "Data columns (total 12 columns):\n",
      "Age            1046 non-null float64\n",
      "Cabin          295 non-null object\n",
      "Embarked       1307 non-null object\n",
      "Fare           1308 non-null float64\n",
      "Name           1309 non-null object\n",
      "Parch          1309 non-null int64\n",
      "PassengerId    1309 non-null int64\n",
      "Pclass         1309 non-null int64\n",
      "Sex            1309 non-null object\n",
      "SibSp          1309 non-null int64\n",
      "Survived       891 non-null float64\n",
      "Ticket         1309 non-null object\n",
      "dtypes: float64(3), int64(4), object(5)\n",
      "memory usage: 122.8+ KB\n"
     ]
    }
   ],
   "source": [
    "all_data.info()"
   ]
  },
  {
   "cell_type": "code",
   "execution_count": 14,
   "metadata": {},
   "outputs": [
    {
     "data": {
      "text/html": [
       "<div>\n",
       "<style scoped>\n",
       "    .dataframe tbody tr th:only-of-type {\n",
       "        vertical-align: middle;\n",
       "    }\n",
       "\n",
       "    .dataframe tbody tr th {\n",
       "        vertical-align: top;\n",
       "    }\n",
       "\n",
       "    .dataframe thead th {\n",
       "        text-align: right;\n",
       "    }\n",
       "</style>\n",
       "<table border=\"1\" class=\"dataframe\">\n",
       "  <thead>\n",
       "    <tr style=\"text-align: right;\">\n",
       "      <th></th>\n",
       "      <th>Age</th>\n",
       "      <th>Fare</th>\n",
       "      <th>Parch</th>\n",
       "      <th>PassengerId</th>\n",
       "      <th>Pclass</th>\n",
       "      <th>SibSp</th>\n",
       "      <th>Survived</th>\n",
       "    </tr>\n",
       "  </thead>\n",
       "  <tbody>\n",
       "    <tr>\n",
       "      <th>count</th>\n",
       "      <td>1046.000000</td>\n",
       "      <td>1308.000000</td>\n",
       "      <td>1309.000000</td>\n",
       "      <td>1309.000000</td>\n",
       "      <td>1309.000000</td>\n",
       "      <td>1309.000000</td>\n",
       "      <td>891.000000</td>\n",
       "    </tr>\n",
       "    <tr>\n",
       "      <th>mean</th>\n",
       "      <td>29.881138</td>\n",
       "      <td>33.295479</td>\n",
       "      <td>0.385027</td>\n",
       "      <td>655.000000</td>\n",
       "      <td>2.294882</td>\n",
       "      <td>0.498854</td>\n",
       "      <td>0.383838</td>\n",
       "    </tr>\n",
       "    <tr>\n",
       "      <th>std</th>\n",
       "      <td>14.413493</td>\n",
       "      <td>51.758668</td>\n",
       "      <td>0.865560</td>\n",
       "      <td>378.020061</td>\n",
       "      <td>0.837836</td>\n",
       "      <td>1.041658</td>\n",
       "      <td>0.486592</td>\n",
       "    </tr>\n",
       "    <tr>\n",
       "      <th>min</th>\n",
       "      <td>0.170000</td>\n",
       "      <td>0.000000</td>\n",
       "      <td>0.000000</td>\n",
       "      <td>1.000000</td>\n",
       "      <td>1.000000</td>\n",
       "      <td>0.000000</td>\n",
       "      <td>0.000000</td>\n",
       "    </tr>\n",
       "    <tr>\n",
       "      <th>25%</th>\n",
       "      <td>21.000000</td>\n",
       "      <td>7.895800</td>\n",
       "      <td>0.000000</td>\n",
       "      <td>328.000000</td>\n",
       "      <td>2.000000</td>\n",
       "      <td>0.000000</td>\n",
       "      <td>0.000000</td>\n",
       "    </tr>\n",
       "    <tr>\n",
       "      <th>50%</th>\n",
       "      <td>28.000000</td>\n",
       "      <td>14.454200</td>\n",
       "      <td>0.000000</td>\n",
       "      <td>655.000000</td>\n",
       "      <td>3.000000</td>\n",
       "      <td>0.000000</td>\n",
       "      <td>0.000000</td>\n",
       "    </tr>\n",
       "    <tr>\n",
       "      <th>75%</th>\n",
       "      <td>39.000000</td>\n",
       "      <td>31.275000</td>\n",
       "      <td>0.000000</td>\n",
       "      <td>982.000000</td>\n",
       "      <td>3.000000</td>\n",
       "      <td>1.000000</td>\n",
       "      <td>1.000000</td>\n",
       "    </tr>\n",
       "    <tr>\n",
       "      <th>max</th>\n",
       "      <td>80.000000</td>\n",
       "      <td>512.329200</td>\n",
       "      <td>9.000000</td>\n",
       "      <td>1309.000000</td>\n",
       "      <td>3.000000</td>\n",
       "      <td>8.000000</td>\n",
       "      <td>1.000000</td>\n",
       "    </tr>\n",
       "  </tbody>\n",
       "</table>\n",
       "</div>"
      ],
      "text/plain": [
       "               Age         Fare        Parch  PassengerId       Pclass  \\\n",
       "count  1046.000000  1308.000000  1309.000000  1309.000000  1309.000000   \n",
       "mean     29.881138    33.295479     0.385027   655.000000     2.294882   \n",
       "std      14.413493    51.758668     0.865560   378.020061     0.837836   \n",
       "min       0.170000     0.000000     0.000000     1.000000     1.000000   \n",
       "25%      21.000000     7.895800     0.000000   328.000000     2.000000   \n",
       "50%      28.000000    14.454200     0.000000   655.000000     3.000000   \n",
       "75%      39.000000    31.275000     0.000000   982.000000     3.000000   \n",
       "max      80.000000   512.329200     9.000000  1309.000000     3.000000   \n",
       "\n",
       "             SibSp    Survived  \n",
       "count  1309.000000  891.000000  \n",
       "mean      0.498854    0.383838  \n",
       "std       1.041658    0.486592  \n",
       "min       0.000000    0.000000  \n",
       "25%       0.000000    0.000000  \n",
       "50%       0.000000    0.000000  \n",
       "75%       1.000000    1.000000  \n",
       "max       8.000000    1.000000  "
      ]
     },
     "execution_count": 14,
     "metadata": {},
     "output_type": "execute_result"
    }
   ],
   "source": [
    "all_data.describe()"
   ]
  },
  {
   "cell_type": "markdown",
   "metadata": {},
   "source": [
    "**<font color=\"red\">查看特征与标签关系</font>**"
   ]
  },
  {
   "cell_type": "markdown",
   "metadata": {},
   "source": [
    "### Fare"
   ]
  },
  {
   "cell_type": "code",
   "execution_count": 15,
   "metadata": {},
   "outputs": [],
   "source": [
    "ticket_value_counts = dict(all_data.Ticket.value_counts())"
   ]
  },
  {
   "cell_type": "code",
   "execution_count": 16,
   "metadata": {},
   "outputs": [],
   "source": [
    "all_data['TicketSize'] = all_data.Ticket.apply(lambda x : ticket_value_counts[x])"
   ]
  },
  {
   "cell_type": "code",
   "execution_count": 17,
   "metadata": {},
   "outputs": [],
   "source": [
    "all_data['SingleTicketFare'] = all_data.apply(lambda row : row.Fare / row.TicketSize, axis = 1)"
   ]
  },
  {
   "cell_type": "code",
   "execution_count": 18,
   "metadata": {},
   "outputs": [
    {
     "data": {
      "text/plain": [
       "0     7.25000\n",
       "1    35.64165\n",
       "2     7.92500\n",
       "3    26.55000\n",
       "4     8.05000\n",
       "Name: SingleTicketFare, dtype: float64"
      ]
     },
     "execution_count": 18,
     "metadata": {},
     "output_type": "execute_result"
    }
   ],
   "source": [
    "all_data['SingleTicketFare'].head()"
   ]
  },
  {
   "cell_type": "code",
   "execution_count": 19,
   "metadata": {},
   "outputs": [],
   "source": [
    "train = all_data.iloc[:train.shape[0]]\n",
    "test = all_data.iloc[train.shape[0]]"
   ]
  },
  {
   "cell_type": "code",
   "execution_count": 20,
   "metadata": {},
   "outputs": [
    {
     "name": "stderr",
     "output_type": "stream",
     "text": [
      "C:\\Anaconda3\\lib\\site-packages\\ipykernel\\__main__.py:2: SettingWithCopyWarning: \n",
      "A value is trying to be set on a copy of a slice from a DataFrame.\n",
      "Try using .loc[row_indexer,col_indexer] = value instead\n",
      "\n",
      "See the caveats in the documentation: http://pandas.pydata.org/pandas-docs/stable/indexing.html#indexing-view-versus-copy\n",
      "  from ipykernel import kernelapp as app\n"
     ]
    },
    {
     "name": "stdout",
     "output_type": "stream",
     "text": [
      "                 Survived\n",
      "CategoricalFare          \n",
      "(-0.001, 6.238]  0.300000\n",
      "(6.238, 7.245]   0.244898\n",
      "(7.245, 7.775]   0.302752\n",
      "(7.775, 7.925]   0.255556\n",
      "(7.925, 8.872]   0.214286\n",
      "(8.872, 13.0]    0.403614\n",
      "(13.0, 25.576]   0.500000\n",
      "(25.576, 30.0]   0.673469\n",
      "(30.0, 128.082]  0.622449\n"
     ]
    },
    {
     "name": "stderr",
     "output_type": "stream",
     "text": [
      "C:\\Anaconda3\\lib\\site-packages\\ipykernel\\__main__.py:8: SettingWithCopyWarning: \n",
      "A value is trying to be set on a copy of a slice from a DataFrame\n",
      "\n",
      "See the caveats in the documentation: http://pandas.pydata.org/pandas-docs/stable/indexing.html#indexing-view-versus-copy\n"
     ]
    },
    {
     "data": {
      "image/png": "[encoded data removed]",
      "text/plain": [
       "<Figure size 432x288 with 1 Axes>"
      ]
     },
     "metadata": {},
     "output_type": "display_data"
    }
   ],
   "source": [
    "\n",
    "train['CategoricalFare'] = pd.qcut(train['SingleTicketFare'], 9)\n",
    "fare_survived = train.loc[:, ['CategoricalFare', 'Survived']].groupby(['CategoricalFare']).mean()\n",
    "print(fare_survived)\n",
    "plt.xticks(rotation=270)\n",
    "plt.rcParams['figure.figsize'] =(5, 5)\n",
    "sns.barplot(x='CategoricalFare', y='Survived', data=train)\n",
    "train.drop(['CategoricalFare'], axis = 1, inplace=True)"
   ]
  },
  {
   "cell_type": "markdown",
   "metadata": {},
   "source": [
    "### Sex\n",
    "\n",
    "电影里面，援救过程中：女士，小孩优先"
   ]
  },
  {
   "cell_type": "code",
   "execution_count": 21,
   "metadata": {},
   "outputs": [
    {
     "name": "stdout",
     "output_type": "stream",
     "text": [
      "      Sex  Survived\n",
      "0  female  0.742038\n",
      "1    male  0.188908\n"
     ]
    }
   ],
   "source": [
    "print(train[[\"Sex\", \"Survived\"]].groupby(['Sex'], as_index=False).mean())"
   ]
  },
  {
   "cell_type": "code",
   "execution_count": 22,
   "metadata": {},
   "outputs": [
    {
     "data": {
      "text/plain": [
       "<matplotlib.axes._subplots.AxesSubplot at 0x2d588d6b240>"
      ]
     },
     "execution_count": 22,
     "metadata": {},
     "output_type": "execute_result"
    },
    {
     "data": {
      "image/png": "[encoded data removed]",
      "text/plain": [
       "<Figure size 360x360 with 1 Axes>"
      ]
     },
     "metadata": {},
     "output_type": "display_data"
    }
   ],
   "source": [
    "sns.barplot(x=\"Sex\", y=\"Survived\", data=train)"
   ]
  },
  {
   "cell_type": "code",
   "execution_count": 23,
   "metadata": {},
   "outputs": [
    {
     "data": {
      "text/plain": [
       "male      577\n",
       "female    314\n",
       "Name: Sex, dtype: int64"
      ]
     },
     "execution_count": 23,
     "metadata": {},
     "output_type": "execute_result"
    }
   ],
   "source": [
    "train.Sex.value_counts()"
   ]
  },
  {
   "cell_type": "markdown",
   "metadata": {},
   "source": [
    "也就是说，依据性别全部判断女性幸存，男性遇难，训练集正确率都有 \n",
    "\n",
    "$$\\big[577 \\times (1 - 0.188908) + 314 \\times 0.742038\\big] / 891 = 78.67\\%$$\n",
    "\n",
    "当然这只是训练数据。"
   ]
  },
  {
   "cell_type": "markdown",
   "metadata": {},
   "source": [
    "### Age\n",
    "\n",
    "由前面可知，Age缺失严重，但是不妨碍我们根据女士儿童优先探索一下，年龄分段到底影响结果与否？"
   ]
  },
  {
   "cell_type": "code",
   "execution_count": 24,
   "metadata": {},
   "outputs": [],
   "source": [
    "children_age_upper_limit = 12\n",
    "def getAgeSegment(age):\n",
    "    age_seg = 5\n",
    "    if age <= children_age_upper_limit:\n",
    "        age_seg = 1 # aldolescents\n",
    "    elif age <= 32 :\n",
    "        age_seg = 2\n",
    "    elif age <= 48 :\n",
    "        age_seg = 3\n",
    "    elif age <= 65 : # almost retirement age\n",
    "        age_seg = 4\n",
    "\n",
    "    return np.int32(age_seg)"
   ]
  },
  {
   "cell_type": "code",
   "execution_count": 25,
   "metadata": {},
   "outputs": [
    {
     "data": {
      "text/html": [
       "<div>\n",
       "<style scoped>\n",
       "    .dataframe tbody tr th:only-of-type {\n",
       "        vertical-align: middle;\n",
       "    }\n",
       "\n",
       "    .dataframe tbody tr th {\n",
       "        vertical-align: top;\n",
       "    }\n",
       "\n",
       "    .dataframe thead th {\n",
       "        text-align: right;\n",
       "    }\n",
       "</style>\n",
       "<table border=\"1\" class=\"dataframe\">\n",
       "  <thead>\n",
       "    <tr style=\"text-align: right;\">\n",
       "      <th></th>\n",
       "      <th>Age</th>\n",
       "      <th>Survived</th>\n",
       "      <th>Sex</th>\n",
       "    </tr>\n",
       "  </thead>\n",
       "  <tbody>\n",
       "    <tr>\n",
       "      <th>0</th>\n",
       "      <td>22.0</td>\n",
       "      <td>0.0</td>\n",
       "      <td>male</td>\n",
       "    </tr>\n",
       "    <tr>\n",
       "      <th>1</th>\n",
       "      <td>38.0</td>\n",
       "      <td>1.0</td>\n",
       "      <td>female</td>\n",
       "    </tr>\n",
       "    <tr>\n",
       "      <th>2</th>\n",
       "      <td>26.0</td>\n",
       "      <td>1.0</td>\n",
       "      <td>female</td>\n",
       "    </tr>\n",
       "    <tr>\n",
       "      <th>3</th>\n",
       "      <td>35.0</td>\n",
       "      <td>1.0</td>\n",
       "      <td>female</td>\n",
       "    </tr>\n",
       "    <tr>\n",
       "      <th>4</th>\n",
       "      <td>35.0</td>\n",
       "      <td>0.0</td>\n",
       "      <td>male</td>\n",
       "    </tr>\n",
       "  </tbody>\n",
       "</table>\n",
       "</div>"
      ],
      "text/plain": [
       "    Age  Survived     Sex\n",
       "0  22.0       0.0    male\n",
       "1  38.0       1.0  female\n",
       "2  26.0       1.0  female\n",
       "3  35.0       1.0  female\n",
       "4  35.0       0.0    male"
      ]
     },
     "execution_count": 25,
     "metadata": {},
     "output_type": "execute_result"
    }
   ],
   "source": [
    "AgeNotNull = train.loc[train.Age.notnull(), ['Age', 'Survived', 'Sex']]\n",
    "AgeNotNull.head()"
   ]
  },
  {
   "cell_type": "code",
   "execution_count": 26,
   "metadata": {},
   "outputs": [
    {
     "data": {
      "text/html": [
       "<div>\n",
       "<style scoped>\n",
       "    .dataframe tbody tr th:only-of-type {\n",
       "        vertical-align: middle;\n",
       "    }\n",
       "\n",
       "    .dataframe tbody tr th {\n",
       "        vertical-align: top;\n",
       "    }\n",
       "\n",
       "    .dataframe thead th {\n",
       "        text-align: right;\n",
       "    }\n",
       "</style>\n",
       "<table border=\"1\" class=\"dataframe\">\n",
       "  <thead>\n",
       "    <tr style=\"text-align: right;\">\n",
       "      <th></th>\n",
       "      <th>Age</th>\n",
       "      <th>Survived</th>\n",
       "      <th>Sex</th>\n",
       "    </tr>\n",
       "  </thead>\n",
       "  <tbody>\n",
       "    <tr>\n",
       "      <th>0</th>\n",
       "      <td>2</td>\n",
       "      <td>0.0</td>\n",
       "      <td>male</td>\n",
       "    </tr>\n",
       "    <tr>\n",
       "      <th>1</th>\n",
       "      <td>3</td>\n",
       "      <td>1.0</td>\n",
       "      <td>female</td>\n",
       "    </tr>\n",
       "    <tr>\n",
       "      <th>2</th>\n",
       "      <td>2</td>\n",
       "      <td>1.0</td>\n",
       "      <td>female</td>\n",
       "    </tr>\n",
       "    <tr>\n",
       "      <th>3</th>\n",
       "      <td>3</td>\n",
       "      <td>1.0</td>\n",
       "      <td>female</td>\n",
       "    </tr>\n",
       "    <tr>\n",
       "      <th>4</th>\n",
       "      <td>3</td>\n",
       "      <td>0.0</td>\n",
       "      <td>male</td>\n",
       "    </tr>\n",
       "    <tr>\n",
       "      <th>6</th>\n",
       "      <td>4</td>\n",
       "      <td>0.0</td>\n",
       "      <td>male</td>\n",
       "    </tr>\n",
       "    <tr>\n",
       "      <th>7</th>\n",
       "      <td>1</td>\n",
       "      <td>0.0</td>\n",
       "      <td>male</td>\n",
       "    </tr>\n",
       "    <tr>\n",
       "      <th>8</th>\n",
       "      <td>2</td>\n",
       "      <td>1.0</td>\n",
       "      <td>female</td>\n",
       "    </tr>\n",
       "    <tr>\n",
       "      <th>9</th>\n",
       "      <td>2</td>\n",
       "      <td>1.0</td>\n",
       "      <td>female</td>\n",
       "    </tr>\n",
       "    <tr>\n",
       "      <th>10</th>\n",
       "      <td>1</td>\n",
       "      <td>1.0</td>\n",
       "      <td>female</td>\n",
       "    </tr>\n",
       "  </tbody>\n",
       "</table>\n",
       "</div>"
      ],
      "text/plain": [
       "    Age  Survived     Sex\n",
       "0     2       0.0    male\n",
       "1     3       1.0  female\n",
       "2     2       1.0  female\n",
       "3     3       1.0  female\n",
       "4     3       0.0    male\n",
       "6     4       0.0    male\n",
       "7     1       0.0    male\n",
       "8     2       1.0  female\n",
       "9     2       1.0  female\n",
       "10    1       1.0  female"
      ]
     },
     "execution_count": 26,
     "metadata": {},
     "output_type": "execute_result"
    }
   ],
   "source": [
    "AgeNotNull.Age = AgeNotNull.Age.apply(lambda x: getAgeSegment(x))\n",
    "AgeNotNull.head(10)"
   ]
  },
  {
   "cell_type": "code",
   "execution_count": 27,
   "metadata": {},
   "outputs": [
    {
     "data": {
      "text/html": [
       "<div>\n",
       "<style scoped>\n",
       "    .dataframe tbody tr th:only-of-type {\n",
       "        vertical-align: middle;\n",
       "    }\n",
       "\n",
       "    .dataframe tbody tr th {\n",
       "        vertical-align: top;\n",
       "    }\n",
       "\n",
       "    .dataframe thead th {\n",
       "        text-align: right;\n",
       "    }\n",
       "</style>\n",
       "<table border=\"1\" class=\"dataframe\">\n",
       "  <thead>\n",
       "    <tr style=\"text-align: right;\">\n",
       "      <th></th>\n",
       "      <th>Age</th>\n",
       "      <th>Survived</th>\n",
       "    </tr>\n",
       "  </thead>\n",
       "  <tbody>\n",
       "    <tr>\n",
       "      <th>0</th>\n",
       "      <td>1</td>\n",
       "      <td>0.579710</td>\n",
       "    </tr>\n",
       "    <tr>\n",
       "      <th>1</th>\n",
       "      <td>2</td>\n",
       "      <td>0.379310</td>\n",
       "    </tr>\n",
       "    <tr>\n",
       "      <th>2</th>\n",
       "      <td>3</td>\n",
       "      <td>0.404255</td>\n",
       "    </tr>\n",
       "    <tr>\n",
       "      <th>3</th>\n",
       "      <td>4</td>\n",
       "      <td>0.416667</td>\n",
       "    </tr>\n",
       "    <tr>\n",
       "      <th>4</th>\n",
       "      <td>5</td>\n",
       "      <td>0.125000</td>\n",
       "    </tr>\n",
       "  </tbody>\n",
       "</table>\n",
       "</div>"
      ],
      "text/plain": [
       "   Age  Survived\n",
       "0    1  0.579710\n",
       "1    2  0.379310\n",
       "2    3  0.404255\n",
       "3    4  0.416667\n",
       "4    5  0.125000"
      ]
     },
     "execution_count": 27,
     "metadata": {},
     "output_type": "execute_result"
    }
   ],
   "source": [
    "AgeNotNull.groupby(by='Age', as_index=False).mean()"
   ]
  },
  {
   "cell_type": "code",
   "execution_count": 28,
   "metadata": {},
   "outputs": [
    {
     "data": {
      "text/plain": [
       "<matplotlib.axes._subplots.AxesSubplot at 0x2d588dd9048>"
      ]
     },
     "execution_count": 28,
     "metadata": {},
     "output_type": "execute_result"
    },
    {
     "data": {
      "image/png": "[encoded data removed]",
      "text/plain": [
       "<Figure size 360x360 with 1 Axes>"
      ]
     },
     "metadata": {},
     "output_type": "display_data"
    }
   ],
   "source": [
    "sns.barplot(x='Age', y='Survived', data = AgeNotNull)"
   ]
  },
  {
   "cell_type": "code",
   "execution_count": 29,
   "metadata": {},
   "outputs": [
    {
     "data": {
      "text/html": [
       "<div>\n",
       "<style scoped>\n",
       "    .dataframe tbody tr th:only-of-type {\n",
       "        vertical-align: middle;\n",
       "    }\n",
       "\n",
       "    .dataframe tbody tr th {\n",
       "        vertical-align: top;\n",
       "    }\n",
       "\n",
       "    .dataframe thead th {\n",
       "        text-align: right;\n",
       "    }\n",
       "</style>\n",
       "<table border=\"1\" class=\"dataframe\">\n",
       "  <thead>\n",
       "    <tr style=\"text-align: right;\">\n",
       "      <th></th>\n",
       "      <th>Age</th>\n",
       "      <th>Sex</th>\n",
       "      <th>Survived</th>\n",
       "    </tr>\n",
       "  </thead>\n",
       "  <tbody>\n",
       "    <tr>\n",
       "      <th>0</th>\n",
       "      <td>1</td>\n",
       "      <td>female</td>\n",
       "      <td>0.593750</td>\n",
       "    </tr>\n",
       "    <tr>\n",
       "      <th>1</th>\n",
       "      <td>1</td>\n",
       "      <td>male</td>\n",
       "      <td>0.567568</td>\n",
       "    </tr>\n",
       "    <tr>\n",
       "      <th>2</th>\n",
       "      <td>2</td>\n",
       "      <td>female</td>\n",
       "      <td>0.744526</td>\n",
       "    </tr>\n",
       "    <tr>\n",
       "      <th>3</th>\n",
       "      <td>2</td>\n",
       "      <td>male</td>\n",
       "      <td>0.170833</td>\n",
       "    </tr>\n",
       "    <tr>\n",
       "      <th>4</th>\n",
       "      <td>3</td>\n",
       "      <td>female</td>\n",
       "      <td>0.794118</td>\n",
       "    </tr>\n",
       "    <tr>\n",
       "      <th>5</th>\n",
       "      <td>3</td>\n",
       "      <td>male</td>\n",
       "      <td>0.183333</td>\n",
       "    </tr>\n",
       "    <tr>\n",
       "      <th>6</th>\n",
       "      <td>4</td>\n",
       "      <td>female</td>\n",
       "      <td>0.916667</td>\n",
       "    </tr>\n",
       "    <tr>\n",
       "      <th>7</th>\n",
       "      <td>4</td>\n",
       "      <td>male</td>\n",
       "      <td>0.166667</td>\n",
       "    </tr>\n",
       "    <tr>\n",
       "      <th>8</th>\n",
       "      <td>5</td>\n",
       "      <td>male</td>\n",
       "      <td>0.125000</td>\n",
       "    </tr>\n",
       "  </tbody>\n",
       "</table>\n",
       "</div>"
      ],
      "text/plain": [
       "   Age     Sex  Survived\n",
       "0    1  female  0.593750\n",
       "1    1    male  0.567568\n",
       "2    2  female  0.744526\n",
       "3    2    male  0.170833\n",
       "4    3  female  0.794118\n",
       "5    3    male  0.183333\n",
       "6    4  female  0.916667\n",
       "7    4    male  0.166667\n",
       "8    5    male  0.125000"
      ]
     },
     "execution_count": 29,
     "metadata": {},
     "output_type": "execute_result"
    }
   ],
   "source": [
    "AgeNotNull.groupby(by=['Age', 'Sex'], as_index=False).mean()"
   ]
  },
  {
   "cell_type": "markdown",
   "metadata": {},
   "source": [
    "由上表我们观察到：\n",
    "1. 只要是女的，幸存率都很高\n",
    "2. 男的里面属于最小年龄段的幸存率是其他段的3倍多，其他年龄段男生直接预测死亡，准确率都有 $80\\%$ 出头\n",
    "\n",
    "<label align='center'><h3> 目标 </h3></label>\n",
    "\n",
    "那么我们得出这样的<font color='red'>**目标**</font>：<font color='blue'><strong>默认预测女性都存活，男性都遇难，再加上以下：</strong></font>\n",
    "\n",
    "1. <font color='blue'>预测什么样的女性会遇难，毕竟少数，如果能够预测对，正确率就会极大提高。</font>\n",
    "\n",
    "2. <font color='blue'>预测什么样的男孩（最小年龄段的男性）会幸存，也是少数，如果能够预测对，正确率就会极大提高。</font>\n",
    "\n",
    "3. <font color='blue'>不是第一个年龄段的男性什么条件下会存活？</font>\n"
   ]
  },
  {
   "cell_type": "markdown",
   "metadata": {},
   "source": [
    "### Name"
   ]
  },
  {
   "cell_type": "code",
   "execution_count": 30,
   "metadata": {},
   "outputs": [
    {
     "data": {
      "text/plain": [
       "0                              Braund, Mr. Owen Harris\n",
       "1    Cumings, Mrs. John Bradley (Florence Briggs Th...\n",
       "2                               Heikkinen, Miss. Laina\n",
       "3         Futrelle, Mrs. Jacques Heath (Lily May Peel)\n",
       "4                             Allen, Mr. William Henry\n",
       "Name: Name, dtype: object"
      ]
     },
     "execution_count": 30,
     "metadata": {},
     "output_type": "execute_result"
    }
   ],
   "source": [
    "train['Name'].head()"
   ]
  },
  {
   "cell_type": "markdown",
   "metadata": {},
   "source": [
    "Name特征含3个字段：\n",
    "1. 姓氏\n",
    "2. 称谓Title\n",
    "3. 名字"
   ]
  },
  {
   "cell_type": "markdown",
   "metadata": {},
   "source": [
    "#### 提取称谓字段Title "
   ]
  },
  {
   "cell_type": "code",
   "execution_count": 31,
   "metadata": {},
   "outputs": [],
   "source": [
    "import re as re # 正则包提取\n",
    "\n",
    "def getTitle(name):\n",
    "    title_search = re.search(' ([A-Za-z]+)\\.', name)\n",
    "    # If the title exists, extract and return it.\n",
    "    if title_search:\n",
    "        return title_search.group(1)\n",
    "    return \"\"\n",
    "\n",
    "all_data['Title'] = all_data['Name'].apply(getTitle)"
   ]
  },
  {
   "cell_type": "markdown",
   "metadata": {},
   "source": [
    "##### Master\n",
    "\n",
    "启发于 [Chris Deotte](https://www.kaggle.com/cdeotte) 的kernel: [Titanic using Name only [0.81818]\n",
    "](https://www.kaggle.com/cdeotte/titanic-using-name-only-0-81818)，于是探索了一下，`Master` 有何特点？"
   ]
  },
  {
   "cell_type": "code",
   "execution_count": 32,
   "metadata": {},
   "outputs": [],
   "source": [
    "Title_Master_DataFrame = all_data.loc[all_data['Title']=='Master']"
   ]
  },
  {
   "cell_type": "code",
   "execution_count": 33,
   "metadata": {},
   "outputs": [
    {
     "data": {
      "text/plain": [
       "male    61\n",
       "Name: Sex, dtype: int64"
      ]
     },
     "execution_count": 33,
     "metadata": {},
     "output_type": "execute_result"
    }
   ],
   "source": [
    "Title_Master_DataFrame.Sex.value_counts()"
   ]
  },
  {
   "cell_type": "markdown",
   "metadata": {},
   "source": [
    "`Master`全是男的"
   ]
  },
  {
   "cell_type": "code",
   "execution_count": 34,
   "metadata": {},
   "outputs": [
    {
     "data": {
      "text/plain": [
       "2.00     5\n",
       "4.00     5\n",
       "1.00     5\n",
       "9.00     5\n",
       "6.00     4\n",
       "3.00     4\n",
       "7.00     3\n",
       "8.00     3\n",
       "13.00    3\n",
       "0.83     3\n",
       "11.00    2\n",
       "10.00    2\n",
       "11.50    1\n",
       "0.75     1\n",
       "14.50    1\n",
       "5.00     1\n",
       "12.00    1\n",
       "0.33     1\n",
       "0.42     1\n",
       "0.92     1\n",
       "0.67     1\n",
       "Name: Age, dtype: int64"
      ]
     },
     "execution_count": 34,
     "metadata": {},
     "output_type": "execute_result"
    }
   ],
   "source": [
    "Title_Master_DataFrame.Age.value_counts()"
   ]
  },
  {
   "cell_type": "markdown",
   "metadata": {},
   "source": [
    "`Master`全是小于15岁的"
   ]
  },
  {
   "cell_type": "code",
   "execution_count": 35,
   "metadata": {},
   "outputs": [
    {
     "data": {
      "text/plain": [
       "1.0    23\n",
       "0.0    17\n",
       "Name: Survived, dtype: int64"
      ]
     },
     "execution_count": 35,
     "metadata": {},
     "output_type": "execute_result"
    }
   ],
   "source": [
    "Title_Master_DataFrame.Survived.value_counts()"
   ]
  },
  {
   "cell_type": "markdown",
   "metadata": {},
   "source": [
    "我们看看是不是所有的男孩都叫 `Master`:"
   ]
  },
  {
   "cell_type": "code",
   "execution_count": 36,
   "metadata": {},
   "outputs": [
    {
     "data": {
      "text/plain": [
       "61"
      ]
     },
     "execution_count": 36,
     "metadata": {},
     "output_type": "execute_result"
    }
   ],
   "source": [
    "np.sum(all_data.Title == 'Master')"
   ]
  },
  {
   "cell_type": "code",
   "execution_count": 37,
   "metadata": {},
   "outputs": [
    {
     "data": {
      "text/plain": [
       "50"
      ]
     },
     "execution_count": 37,
     "metadata": {},
     "output_type": "execute_result"
    }
   ],
   "source": [
    "boy = all_data.loc[(all_data.Age <= children_age_upper_limit) & (all_data.Sex == 'male')]\n",
    "boy.shape[0]"
   ]
  },
  {
   "cell_type": "code",
   "execution_count": 38,
   "metadata": {},
   "outputs": [
    {
     "data": {
      "text/plain": [
       "49"
      ]
     },
     "execution_count": 38,
     "metadata": {},
     "output_type": "execute_result"
    }
   ],
   "source": [
    "np.sum(boy.Title == 'Master')"
   ]
  },
  {
   "cell_type": "code",
   "execution_count": 39,
   "metadata": {
    "scrolled": true
   },
   "outputs": [
    {
     "data": {
      "text/html": [
       "<div>\n",
       "<style scoped>\n",
       "    .dataframe tbody tr th:only-of-type {\n",
       "        vertical-align: middle;\n",
       "    }\n",
       "\n",
       "    .dataframe tbody tr th {\n",
       "        vertical-align: top;\n",
       "    }\n",
       "\n",
       "    .dataframe thead th {\n",
       "        text-align: right;\n",
       "    }\n",
       "</style>\n",
       "<table border=\"1\" class=\"dataframe\">\n",
       "  <thead>\n",
       "    <tr style=\"text-align: right;\">\n",
       "      <th></th>\n",
       "      <th>Age</th>\n",
       "      <th>Cabin</th>\n",
       "      <th>Embarked</th>\n",
       "      <th>Fare</th>\n",
       "      <th>Name</th>\n",
       "      <th>Parch</th>\n",
       "      <th>PassengerId</th>\n",
       "      <th>Pclass</th>\n",
       "      <th>Sex</th>\n",
       "      <th>SibSp</th>\n",
       "      <th>Survived</th>\n",
       "      <th>Ticket</th>\n",
       "      <th>TicketSize</th>\n",
       "      <th>SingleTicketFare</th>\n",
       "      <th>Title</th>\n",
       "    </tr>\n",
       "  </thead>\n",
       "  <tbody>\n",
       "    <tr>\n",
       "      <th>731</th>\n",
       "      <td>11.0</td>\n",
       "      <td>NaN</td>\n",
       "      <td>C</td>\n",
       "      <td>18.7875</td>\n",
       "      <td>Hassan, Mr. Houssein G N</td>\n",
       "      <td>0</td>\n",
       "      <td>732</td>\n",
       "      <td>3</td>\n",
       "      <td>male</td>\n",
       "      <td>0</td>\n",
       "      <td>0.0</td>\n",
       "      <td>2699</td>\n",
       "      <td>2</td>\n",
       "      <td>9.39375</td>\n",
       "      <td>Mr</td>\n",
       "    </tr>\n",
       "  </tbody>\n",
       "</table>\n",
       "</div>"
      ],
      "text/plain": [
       "      Age Cabin Embarked     Fare                      Name  Parch  \\\n",
       "731  11.0   NaN        C  18.7875  Hassan, Mr. Houssein G N      0   \n",
       "\n",
       "     PassengerId  Pclass   Sex  SibSp  Survived Ticket  TicketSize  \\\n",
       "731          732       3  male      0       0.0   2699           2   \n",
       "\n",
       "     SingleTicketFare Title  \n",
       "731           9.39375    Mr  "
      ]
     },
     "execution_count": 39,
     "metadata": {},
     "output_type": "execute_result"
    }
   ],
   "source": [
    "boy.loc[boy.Title != 'Master']"
   ]
  },
  {
   "cell_type": "code",
   "execution_count": 40,
   "metadata": {},
   "outputs": [
    {
     "data": {
      "text/html": [
       "<div>\n",
       "<style scoped>\n",
       "    .dataframe tbody tr th:only-of-type {\n",
       "        vertical-align: middle;\n",
       "    }\n",
       "\n",
       "    .dataframe tbody tr th {\n",
       "        vertical-align: top;\n",
       "    }\n",
       "\n",
       "    .dataframe thead th {\n",
       "        text-align: right;\n",
       "    }\n",
       "</style>\n",
       "<table border=\"1\" class=\"dataframe\">\n",
       "  <thead>\n",
       "    <tr style=\"text-align: right;\">\n",
       "      <th></th>\n",
       "      <th>Age</th>\n",
       "      <th>Cabin</th>\n",
       "      <th>Embarked</th>\n",
       "      <th>Fare</th>\n",
       "      <th>Name</th>\n",
       "      <th>Parch</th>\n",
       "      <th>PassengerId</th>\n",
       "      <th>Pclass</th>\n",
       "      <th>Sex</th>\n",
       "      <th>SibSp</th>\n",
       "      <th>Survived</th>\n",
       "      <th>Ticket</th>\n",
       "      <th>TicketSize</th>\n",
       "      <th>SingleTicketFare</th>\n",
       "      <th>Title</th>\n",
       "    </tr>\n",
       "  </thead>\n",
       "  <tbody>\n",
       "    <tr>\n",
       "      <th>731</th>\n",
       "      <td>11.0</td>\n",
       "      <td>NaN</td>\n",
       "      <td>C</td>\n",
       "      <td>18.7875</td>\n",
       "      <td>Hassan, Mr. Houssein G N</td>\n",
       "      <td>0</td>\n",
       "      <td>732</td>\n",
       "      <td>3</td>\n",
       "      <td>male</td>\n",
       "      <td>0</td>\n",
       "      <td>0.0</td>\n",
       "      <td>2699</td>\n",
       "      <td>2</td>\n",
       "      <td>9.39375</td>\n",
       "      <td>Mr</td>\n",
       "    </tr>\n",
       "  </tbody>\n",
       "</table>\n",
       "</div>"
      ],
      "text/plain": [
       "      Age Cabin Embarked     Fare                      Name  Parch  \\\n",
       "731  11.0   NaN        C  18.7875  Hassan, Mr. Houssein G N      0   \n",
       "\n",
       "     PassengerId  Pclass   Sex  SibSp  Survived Ticket  TicketSize  \\\n",
       "731          732       3  male      0       0.0   2699           2   \n",
       "\n",
       "     SingleTicketFare Title  \n",
       "731           9.39375    Mr  "
      ]
     },
     "execution_count": 40,
     "metadata": {},
     "output_type": "execute_result"
    }
   ],
   "source": [
    "all_data.loc[all_data.Name.str.contains('Hassan')] "
   ]
  },
  {
   "cell_type": "code",
   "execution_count": 41,
   "metadata": {},
   "outputs": [
    {
     "data": {
      "text/html": [
       "<div>\n",
       "<style scoped>\n",
       "    .dataframe tbody tr th:only-of-type {\n",
       "        vertical-align: middle;\n",
       "    }\n",
       "\n",
       "    .dataframe tbody tr th {\n",
       "        vertical-align: top;\n",
       "    }\n",
       "\n",
       "    .dataframe thead th {\n",
       "        text-align: right;\n",
       "    }\n",
       "</style>\n",
       "<table border=\"1\" class=\"dataframe\">\n",
       "  <thead>\n",
       "    <tr style=\"text-align: right;\">\n",
       "      <th></th>\n",
       "      <th>Age</th>\n",
       "      <th>Cabin</th>\n",
       "      <th>Embarked</th>\n",
       "      <th>Fare</th>\n",
       "      <th>Name</th>\n",
       "      <th>Parch</th>\n",
       "      <th>PassengerId</th>\n",
       "      <th>Pclass</th>\n",
       "      <th>Sex</th>\n",
       "      <th>SibSp</th>\n",
       "      <th>Survived</th>\n",
       "      <th>Ticket</th>\n",
       "      <th>TicketSize</th>\n",
       "      <th>SingleTicketFare</th>\n",
       "      <th>Title</th>\n",
       "    </tr>\n",
       "  </thead>\n",
       "  <tbody>\n",
       "    <tr>\n",
       "      <th>207</th>\n",
       "      <td>26.0</td>\n",
       "      <td>NaN</td>\n",
       "      <td>C</td>\n",
       "      <td>18.7875</td>\n",
       "      <td>Albimona, Mr. Nassef Cassem</td>\n",
       "      <td>0</td>\n",
       "      <td>208</td>\n",
       "      <td>3</td>\n",
       "      <td>male</td>\n",
       "      <td>0</td>\n",
       "      <td>1.0</td>\n",
       "      <td>2699</td>\n",
       "      <td>2</td>\n",
       "      <td>9.39375</td>\n",
       "      <td>Mr</td>\n",
       "    </tr>\n",
       "    <tr>\n",
       "      <th>731</th>\n",
       "      <td>11.0</td>\n",
       "      <td>NaN</td>\n",
       "      <td>C</td>\n",
       "      <td>18.7875</td>\n",
       "      <td>Hassan, Mr. Houssein G N</td>\n",
       "      <td>0</td>\n",
       "      <td>732</td>\n",
       "      <td>3</td>\n",
       "      <td>male</td>\n",
       "      <td>0</td>\n",
       "      <td>0.0</td>\n",
       "      <td>2699</td>\n",
       "      <td>2</td>\n",
       "      <td>9.39375</td>\n",
       "      <td>Mr</td>\n",
       "    </tr>\n",
       "  </tbody>\n",
       "</table>\n",
       "</div>"
      ],
      "text/plain": [
       "      Age Cabin Embarked     Fare                         Name  Parch  \\\n",
       "207  26.0   NaN        C  18.7875  Albimona, Mr. Nassef Cassem      0   \n",
       "731  11.0   NaN        C  18.7875     Hassan, Mr. Houssein G N      0   \n",
       "\n",
       "     PassengerId  Pclass   Sex  SibSp  Survived Ticket  TicketSize  \\\n",
       "207          208       3  male      0       1.0   2699           2   \n",
       "731          732       3  male      0       0.0   2699           2   \n",
       "\n",
       "     SingleTicketFare Title  \n",
       "207           9.39375    Mr  \n",
       "731           9.39375    Mr  "
      ]
     },
     "execution_count": 41,
     "metadata": {},
     "output_type": "execute_result"
    }
   ],
   "source": [
    "all_data.loc[all_data.Ticket.str.match('^2699$')] "
   ]
  },
  {
   "cell_type": "markdown",
   "metadata": {},
   "source": [
    "无法确定他们是不是亲戚关系？如果不是就是这个11岁小男孩单独出行。"
   ]
  },
  {
   "cell_type": "markdown",
   "metadata": {},
   "source": [
    "##### Title的性别分布"
   ]
  },
  {
   "cell_type": "code",
   "execution_count": 42,
   "metadata": {},
   "outputs": [
    {
     "data": {
      "text/plain": [
       "array(['Mr', 'Mrs', 'Miss', 'Master', 'Don', 'Rev', 'Dr', 'Mme', 'Ms',\n",
       "       'Major', 'Lady', 'Sir', 'Mlle', 'Col', 'Capt', 'Countess',\n",
       "       'Jonkheer', 'Dona'], dtype=object)"
      ]
     },
     "execution_count": 42,
     "metadata": {},
     "output_type": "execute_result"
    }
   ],
   "source": [
    "all_data.Title.unique()"
   ]
  },
  {
   "cell_type": "code",
   "execution_count": 43,
   "metadata": {},
   "outputs": [
    {
     "name": "stdout",
     "output_type": "stream",
     "text": [
      "the Countess {}\n",
      "Miss {'female': 260}\n",
      "Mme {'female': 1}\n",
      "Countess {'female': 1}\n",
      "Mrs {'female': 197}\n",
      "Lady {'female': 1}\n",
      "Mlle {'female': 2}\n",
      "Dona {'female': 1}\n",
      "Ms {'female': 2}\n"
     ]
    },
    {
     "data": {
      "text/plain": [
       "(466, 465)"
      ]
     },
     "execution_count": 43,
     "metadata": {},
     "output_type": "execute_result"
    }
   ],
   "source": [
    "a_set = set([\"Dona\",'the Countess','Mme',\"Mlle\",\"Ms\",\"Miss\",\"Lady\",\"Mrs\", 'Countess'])\n",
    "tmp_dict = {'female': 0}\n",
    "for item in a_set:\n",
    "    new_dict = dict(all_data.loc[all_data.Title == item, :].Sex.value_counts())\n",
    "    print(item, new_dict)\n",
    "    if 'female' in set(new_dict.keys()):\n",
    "        tmp_dict['female'] +=new_dict['female'] \n",
    "    \n",
    "all_data.loc[all_data.Sex == 'female'].shape[0], tmp_dict['female'] "
   ]
  },
  {
   "cell_type": "markdown",
   "metadata": {},
   "source": [
    "少了一位女性？看看以下："
   ]
  },
  {
   "cell_type": "code",
   "execution_count": 44,
   "metadata": {},
   "outputs": [
    {
     "name": "stdout",
     "output_type": "stream",
     "text": [
      "Major {'male': 2}\n",
      "Col {'male': 4}\n",
      "Capt {'male': 1}\n",
      "Master {'male': 61}\n",
      "Sir {'male': 1}\n",
      "Rev {'male': 8}\n",
      "Dr {'male': 7, 'female': 1}\n",
      "Mr {'male': 757}\n",
      "Jonkheer {'male': 1}\n",
      "Don {'male': 1}\n"
     ]
    },
    {
     "data": {
      "text/plain": [
       "(843, 843)"
      ]
     },
     "execution_count": 44,
     "metadata": {},
     "output_type": "execute_result"
    }
   ],
   "source": [
    "a_set = set([\"Capt\",\"Don\",\"Major\",\"Col\",\"Rev\",\"Dr\",\"Sir\",\"Mr\",\"Jonkheer\",'Master'])\n",
    "\n",
    "tmp_dict = {'male': 0}\n",
    "for item in a_set:\n",
    "    new_dict = dict(all_data.loc[all_data.Title == item, :].Sex.value_counts())\n",
    "    print(item, new_dict)\n",
    "    if 'male' in set(new_dict.keys()):\n",
    "        tmp_dict['male'] +=new_dict['male'] \n",
    "    \n",
    "all_data.loc[all_data.Sex == 'male'].shape[0], tmp_dict['male'] "
   ]
  },
  {
   "cell_type": "markdown",
   "metadata": {},
   "source": [
    "这里有一位女Dr。\n",
    "\n",
    "**前文我们已经看到女性幸存率和男孩较高，这里我们提取他们的位置：**"
   ]
  },
  {
   "cell_type": "code",
   "execution_count": 45,
   "metadata": {},
   "outputs": [],
   "source": [
    "index_female = (all_data.Sex == 'female')\n",
    "\n",
    "index_boy = ((all_data.Title == 'Master') | ((all_data.Age <= children_age_upper_limit) & (all_data.Sex == 'male')))"
   ]
  },
  {
   "cell_type": "markdown",
   "metadata": {},
   "source": [
    "#### 提取姓氏字段 Surname"
   ]
  },
  {
   "cell_type": "code",
   "execution_count": 46,
   "metadata": {},
   "outputs": [],
   "source": [
    "all_data['Surname']=all_data['Name'].apply(lambda x:x.split(',')[0].strip())"
   ]
  },
  {
   "cell_type": "markdown",
   "metadata": {},
   "source": [
    "#### 提取FamilySize"
   ]
  },
  {
   "cell_type": "markdown",
   "metadata": {},
   "source": [
    "按姓氏统计的家族成员数，这里属于**粗粒度划分**，因为不同家庭同姓氏也是有可能的！\n",
    "\n",
    "<font color='red'>**为什么要统计家庭成员？**</font>\n",
    "有句老话：在家靠父母，出门靠朋友。在援救过程中，势必一起出行的人或多或少会互相帮助，那么对生存预测就有影响。"
   ]
  },
  {
   "cell_type": "code",
   "execution_count": 47,
   "metadata": {},
   "outputs": [],
   "source": [
    "Surname_Count = dict(all_data['Surname'].value_counts()) \n",
    "all_data['FamilySize'] = all_data['Surname'].apply(lambda x:Surname_Count[x])"
   ]
  },
  {
   "cell_type": "code",
   "execution_count": 48,
   "metadata": {},
   "outputs": [
    {
     "data": {
      "text/html": [
       "<div>\n",
       "<style scoped>\n",
       "    .dataframe tbody tr th:only-of-type {\n",
       "        vertical-align: middle;\n",
       "    }\n",
       "\n",
       "    .dataframe tbody tr th {\n",
       "        vertical-align: top;\n",
       "    }\n",
       "\n",
       "    .dataframe thead th {\n",
       "        text-align: right;\n",
       "    }\n",
       "</style>\n",
       "<table border=\"1\" class=\"dataframe\">\n",
       "  <thead>\n",
       "    <tr style=\"text-align: right;\">\n",
       "      <th></th>\n",
       "      <th>Age</th>\n",
       "      <th>Cabin</th>\n",
       "      <th>Embarked</th>\n",
       "      <th>Fare</th>\n",
       "      <th>Name</th>\n",
       "      <th>Parch</th>\n",
       "      <th>PassengerId</th>\n",
       "      <th>Pclass</th>\n",
       "      <th>Sex</th>\n",
       "      <th>SibSp</th>\n",
       "      <th>Survived</th>\n",
       "      <th>Ticket</th>\n",
       "      <th>TicketSize</th>\n",
       "      <th>SingleTicketFare</th>\n",
       "      <th>Title</th>\n",
       "      <th>Surname</th>\n",
       "      <th>FamilySize</th>\n",
       "    </tr>\n",
       "  </thead>\n",
       "  <tbody>\n",
       "    <tr>\n",
       "      <th>0</th>\n",
       "      <td>22.0</td>\n",
       "      <td>NaN</td>\n",
       "      <td>S</td>\n",
       "      <td>7.2500</td>\n",
       "      <td>Braund, Mr. Owen Harris</td>\n",
       "      <td>0</td>\n",
       "      <td>1</td>\n",
       "      <td>3</td>\n",
       "      <td>male</td>\n",
       "      <td>1</td>\n",
       "      <td>0.0</td>\n",
       "      <td>A/5 21171</td>\n",
       "      <td>1</td>\n",
       "      <td>7.25000</td>\n",
       "      <td>Mr</td>\n",
       "      <td>Braund</td>\n",
       "      <td>2</td>\n",
       "    </tr>\n",
       "    <tr>\n",
       "      <th>1</th>\n",
       "      <td>38.0</td>\n",
       "      <td>C85</td>\n",
       "      <td>C</td>\n",
       "      <td>71.2833</td>\n",
       "      <td>Cumings, Mrs. John Bradley (Florence Briggs Th...</td>\n",
       "      <td>0</td>\n",
       "      <td>2</td>\n",
       "      <td>1</td>\n",
       "      <td>female</td>\n",
       "      <td>1</td>\n",
       "      <td>1.0</td>\n",
       "      <td>PC 17599</td>\n",
       "      <td>2</td>\n",
       "      <td>35.64165</td>\n",
       "      <td>Mrs</td>\n",
       "      <td>Cumings</td>\n",
       "      <td>2</td>\n",
       "    </tr>\n",
       "    <tr>\n",
       "      <th>2</th>\n",
       "      <td>26.0</td>\n",
       "      <td>NaN</td>\n",
       "      <td>S</td>\n",
       "      <td>7.9250</td>\n",
       "      <td>Heikkinen, Miss. Laina</td>\n",
       "      <td>0</td>\n",
       "      <td>3</td>\n",
       "      <td>3</td>\n",
       "      <td>female</td>\n",
       "      <td>0</td>\n",
       "      <td>1.0</td>\n",
       "      <td>STON/O2. 3101282</td>\n",
       "      <td>1</td>\n",
       "      <td>7.92500</td>\n",
       "      <td>Miss</td>\n",
       "      <td>Heikkinen</td>\n",
       "      <td>1</td>\n",
       "    </tr>\n",
       "    <tr>\n",
       "      <th>3</th>\n",
       "      <td>35.0</td>\n",
       "      <td>C123</td>\n",
       "      <td>S</td>\n",
       "      <td>53.1000</td>\n",
       "      <td>Futrelle, Mrs. Jacques Heath (Lily May Peel)</td>\n",
       "      <td>0</td>\n",
       "      <td>4</td>\n",
       "      <td>1</td>\n",
       "      <td>female</td>\n",
       "      <td>1</td>\n",
       "      <td>1.0</td>\n",
       "      <td>113803</td>\n",
       "      <td>2</td>\n",
       "      <td>26.55000</td>\n",
       "      <td>Mrs</td>\n",
       "      <td>Futrelle</td>\n",
       "      <td>2</td>\n",
       "    </tr>\n",
       "    <tr>\n",
       "      <th>4</th>\n",
       "      <td>35.0</td>\n",
       "      <td>NaN</td>\n",
       "      <td>S</td>\n",
       "      <td>8.0500</td>\n",
       "      <td>Allen, Mr. William Henry</td>\n",
       "      <td>0</td>\n",
       "      <td>5</td>\n",
       "      <td>3</td>\n",
       "      <td>male</td>\n",
       "      <td>0</td>\n",
       "      <td>0.0</td>\n",
       "      <td>373450</td>\n",
       "      <td>1</td>\n",
       "      <td>8.05000</td>\n",
       "      <td>Mr</td>\n",
       "      <td>Allen</td>\n",
       "      <td>2</td>\n",
       "    </tr>\n",
       "  </tbody>\n",
       "</table>\n",
       "</div>"
      ],
      "text/plain": [
       "    Age Cabin Embarked     Fare  \\\n",
       "0  22.0   NaN        S   7.2500   \n",
       "1  38.0   C85        C  71.2833   \n",
       "2  26.0   NaN        S   7.9250   \n",
       "3  35.0  C123        S  53.1000   \n",
       "4  35.0   NaN        S   8.0500   \n",
       "\n",
       "                                                Name  Parch  PassengerId  \\\n",
       "0                            Braund, Mr. Owen Harris      0            1   \n",
       "1  Cumings, Mrs. John Bradley (Florence Briggs Th...      0            2   \n",
       "2                             Heikkinen, Miss. Laina      0            3   \n",
       "3       Futrelle, Mrs. Jacques Heath (Lily May Peel)      0            4   \n",
       "4                           Allen, Mr. William Henry      0            5   \n",
       "\n",
       "   Pclass     Sex  SibSp  Survived            Ticket  TicketSize  \\\n",
       "0       3    male      1       0.0         A/5 21171           1   \n",
       "1       1  female      1       1.0          PC 17599           2   \n",
       "2       3  female      0       1.0  STON/O2. 3101282           1   \n",
       "3       1  female      1       1.0            113803           2   \n",
       "4       3    male      0       0.0            373450           1   \n",
       "\n",
       "   SingleTicketFare Title    Surname  FamilySize  \n",
       "0           7.25000    Mr     Braund           2  \n",
       "1          35.64165   Mrs    Cumings           2  \n",
       "2           7.92500  Miss  Heikkinen           1  \n",
       "3          26.55000   Mrs   Futrelle           2  \n",
       "4           8.05000    Mr      Allen           2  "
      ]
     },
     "execution_count": 48,
     "metadata": {},
     "output_type": "execute_result"
    }
   ],
   "source": [
    "test = all_data.iloc[train.shape[0]:, :]\n",
    "train = all_data.iloc[:train.shape[0], :]\n",
    "train.head()"
   ]
  },
  {
   "cell_type": "code",
   "execution_count": 49,
   "metadata": {},
   "outputs": [
    {
     "data": {
      "text/plain": [
       "406"
      ]
     },
     "execution_count": 49,
     "metadata": {},
     "output_type": "execute_result"
    }
   ],
   "source": [
    "all_data.loc[all_data.FamilySize > 2, :].sort_values(['Surname', 'Fare', 'Ticket']).shape[0]"
   ]
  },
  {
   "cell_type": "markdown",
   "metadata": {},
   "source": [
    "**姓氏一共多少种？**"
   ]
  },
  {
   "cell_type": "code",
   "execution_count": 50,
   "metadata": {},
   "outputs": [
    {
     "data": {
      "text/plain": [
       "(875, 667, 352)"
      ]
     },
     "execution_count": 50,
     "metadata": {},
     "output_type": "execute_result"
    }
   ],
   "source": [
    "len(all_data.Surname.unique()), len(train.Surname.unique()), len(test.Surname.unique())"
   ]
  },
  {
   "cell_type": "markdown",
   "metadata": {},
   "source": [
    "#### 同姓却是不同家庭\n",
    "\n",
    "启发于：[Erik Bruin](https://www.kaggle.com/erikbruin) 的kernel: [Titanic: 2nd degree families and majority voting](https://www.kaggle.com/erikbruin/titanic-2nd-degree-families-and-majority-voting)"
   ]
  },
  {
   "cell_type": "code",
   "execution_count": 51,
   "metadata": {},
   "outputs": [
    {
     "data": {
      "text/html": [
       "<div>\n",
       "<style scoped>\n",
       "    .dataframe tbody tr th:only-of-type {\n",
       "        vertical-align: middle;\n",
       "    }\n",
       "\n",
       "    .dataframe tbody tr th {\n",
       "        vertical-align: top;\n",
       "    }\n",
       "\n",
       "    .dataframe thead th {\n",
       "        text-align: right;\n",
       "    }\n",
       "</style>\n",
       "<table border=\"1\" class=\"dataframe\">\n",
       "  <thead>\n",
       "    <tr style=\"text-align: right;\">\n",
       "      <th></th>\n",
       "      <th></th>\n",
       "      <th></th>\n",
       "      <th></th>\n",
       "      <th></th>\n",
       "      <th></th>\n",
       "      <th></th>\n",
       "      <th></th>\n",
       "      <th></th>\n",
       "      <th>Survived</th>\n",
       "    </tr>\n",
       "    <tr>\n",
       "      <th>Surname</th>\n",
       "      <th>Ticket</th>\n",
       "      <th>Fare</th>\n",
       "      <th>Pclass</th>\n",
       "      <th>Embarked</th>\n",
       "      <th>Name</th>\n",
       "      <th>Age</th>\n",
       "      <th>SibSp</th>\n",
       "      <th>Parch</th>\n",
       "      <th></th>\n",
       "    </tr>\n",
       "  </thead>\n",
       "  <tbody>\n",
       "    <tr>\n",
       "      <th>Abbing</th>\n",
       "      <th>C.A. 5547</th>\n",
       "      <th>7.5500</th>\n",
       "      <th>3</th>\n",
       "      <th>S</th>\n",
       "      <th>Abbing, Mr. Anthony</th>\n",
       "      <th>42.0</th>\n",
       "      <th>0</th>\n",
       "      <th>0</th>\n",
       "      <td>1</td>\n",
       "    </tr>\n",
       "    <tr>\n",
       "      <th rowspan=\"3\" valign=\"top\">Abbott</th>\n",
       "      <th rowspan=\"3\" valign=\"top\">C.A. 2673</th>\n",
       "      <th rowspan=\"3\" valign=\"top\">20.2500</th>\n",
       "      <th rowspan=\"3\" valign=\"top\">3</th>\n",
       "      <th rowspan=\"3\" valign=\"top\">S</th>\n",
       "      <th>Abbott, Master. Eugene Joseph</th>\n",
       "      <th>13.0</th>\n",
       "      <th>0</th>\n",
       "      <th>2</th>\n",
       "      <td>0</td>\n",
       "    </tr>\n",
       "    <tr>\n",
       "      <th>Abbott, Mr. Rossmore Edward</th>\n",
       "      <th>16.0</th>\n",
       "      <th>1</th>\n",
       "      <th>1</th>\n",
       "      <td>1</td>\n",
       "    </tr>\n",
       "    <tr>\n",
       "      <th>Abbott, Mrs. Stanton (Rosa Hunt)</th>\n",
       "      <th>35.0</th>\n",
       "      <th>1</th>\n",
       "      <th>1</th>\n",
       "      <td>1</td>\n",
       "    </tr>\n",
       "    <tr>\n",
       "      <th rowspan=\"2\" valign=\"top\">Abelseth</th>\n",
       "      <th>348122</th>\n",
       "      <th>7.6500</th>\n",
       "      <th>3</th>\n",
       "      <th>S</th>\n",
       "      <th>Abelseth, Mr. Olaus Jorgensen</th>\n",
       "      <th>25.0</th>\n",
       "      <th>0</th>\n",
       "      <th>0</th>\n",
       "      <td>0</td>\n",
       "    </tr>\n",
       "    <tr>\n",
       "      <th>348125</th>\n",
       "      <th>7.6500</th>\n",
       "      <th>3</th>\n",
       "      <th>S</th>\n",
       "      <th>Abelseth, Miss. Karen Marie</th>\n",
       "      <th>16.0</th>\n",
       "      <th>0</th>\n",
       "      <th>0</th>\n",
       "      <td>0</td>\n",
       "    </tr>\n",
       "    <tr>\n",
       "      <th rowspan=\"2\" valign=\"top\">Abelson</th>\n",
       "      <th rowspan=\"2\" valign=\"top\">P/PP 3381</th>\n",
       "      <th rowspan=\"2\" valign=\"top\">24.0000</th>\n",
       "      <th rowspan=\"2\" valign=\"top\">2</th>\n",
       "      <th rowspan=\"2\" valign=\"top\">C</th>\n",
       "      <th>Abelson, Mr. Samuel</th>\n",
       "      <th>30.0</th>\n",
       "      <th>1</th>\n",
       "      <th>0</th>\n",
       "      <td>1</td>\n",
       "    </tr>\n",
       "    <tr>\n",
       "      <th>Abelson, Mrs. Samuel (Hannah Wizosky)</th>\n",
       "      <th>28.0</th>\n",
       "      <th>1</th>\n",
       "      <th>0</th>\n",
       "      <td>1</td>\n",
       "    </tr>\n",
       "    <tr>\n",
       "      <th>Abrahamsson</th>\n",
       "      <th>SOTON/O2 3101284</th>\n",
       "      <th>7.9250</th>\n",
       "      <th>3</th>\n",
       "      <th>S</th>\n",
       "      <th>Abrahamsson, Mr. Abraham August Johannes</th>\n",
       "      <th>20.0</th>\n",
       "      <th>0</th>\n",
       "      <th>0</th>\n",
       "      <td>0</td>\n",
       "    </tr>\n",
       "    <tr>\n",
       "      <th>Abrahim</th>\n",
       "      <th>2657</th>\n",
       "      <th>7.2292</th>\n",
       "      <th>3</th>\n",
       "      <th>C</th>\n",
       "      <th>Abrahim, Mrs. Joseph (Sophie Halaut Easu)</th>\n",
       "      <th>18.0</th>\n",
       "      <th>0</th>\n",
       "      <th>0</th>\n",
       "      <td>0</td>\n",
       "    </tr>\n",
       "  </tbody>\n",
       "</table>\n",
       "</div>"
      ],
      "text/plain": [
       "                                                                                                                 Survived\n",
       "Surname     Ticket           Fare    Pclass Embarked Name                                      Age  SibSp Parch          \n",
       "Abbing      C.A. 5547        7.5500  3      S        Abbing, Mr. Anthony                       42.0 0     0             1\n",
       "Abbott      C.A. 2673        20.2500 3      S        Abbott, Master. Eugene Joseph             13.0 0     2             0\n",
       "                                                     Abbott, Mr. Rossmore Edward               16.0 1     1             1\n",
       "                                                     Abbott, Mrs. Stanton (Rosa Hunt)          35.0 1     1             1\n",
       "Abelseth    348122           7.6500  3      S        Abelseth, Mr. Olaus Jorgensen             25.0 0     0             0\n",
       "            348125           7.6500  3      S        Abelseth, Miss. Karen Marie               16.0 0     0             0\n",
       "Abelson     P/PP 3381        24.0000 2      C        Abelson, Mr. Samuel                       30.0 1     0             1\n",
       "                                                     Abelson, Mrs. Samuel (Hannah Wizosky)     28.0 1     0             1\n",
       "Abrahamsson SOTON/O2 3101284 7.9250  3      S        Abrahamsson, Mr. Abraham August Johannes  20.0 0     0             0\n",
       "Abrahim     2657             7.2292  3      C        Abrahim, Mrs. Joseph (Sophie Halaut Easu) 18.0 0     0             0"
      ]
     },
     "execution_count": 51,
     "metadata": {},
     "output_type": "execute_result"
    }
   ],
   "source": [
    "data_frame = all_data.groupby(['Surname', 'Ticket', 'Fare', 'Pclass', 'Embarked', 'Name', 'Age', 'SibSp', 'Parch'])[ 'Survived'].count().to_frame()\n",
    "data_frame.head(10)"
   ]
  },
  {
   "cell_type": "markdown",
   "metadata": {},
   "source": [
    "**例1：姓氏为Andersson的乘客**"
   ]
  },
  {
   "cell_type": "code",
   "execution_count": 52,
   "metadata": {},
   "outputs": [
    {
     "data": {
      "text/html": [
       "<div>\n",
       "<style scoped>\n",
       "    .dataframe tbody tr th:only-of-type {\n",
       "        vertical-align: middle;\n",
       "    }\n",
       "\n",
       "    .dataframe tbody tr th {\n",
       "        vertical-align: top;\n",
       "    }\n",
       "\n",
       "    .dataframe thead th {\n",
       "        text-align: right;\n",
       "    }\n",
       "</style>\n",
       "<table border=\"1\" class=\"dataframe\">\n",
       "  <thead>\n",
       "    <tr style=\"text-align: right;\">\n",
       "      <th></th>\n",
       "      <th></th>\n",
       "      <th></th>\n",
       "      <th></th>\n",
       "      <th></th>\n",
       "      <th></th>\n",
       "      <th></th>\n",
       "      <th></th>\n",
       "      <th></th>\n",
       "      <th>Survived</th>\n",
       "    </tr>\n",
       "    <tr>\n",
       "      <th>Surname</th>\n",
       "      <th>Ticket</th>\n",
       "      <th>Fare</th>\n",
       "      <th>Pclass</th>\n",
       "      <th>Embarked</th>\n",
       "      <th>Name</th>\n",
       "      <th>Age</th>\n",
       "      <th>SibSp</th>\n",
       "      <th>Parch</th>\n",
       "      <th></th>\n",
       "    </tr>\n",
       "  </thead>\n",
       "  <tbody>\n",
       "    <tr>\n",
       "      <th rowspan=\"11\" valign=\"top\">Andersson</th>\n",
       "      <th>347075</th>\n",
       "      <th>7.7750</th>\n",
       "      <th>3</th>\n",
       "      <th>S</th>\n",
       "      <th>Andersson, Mr. Johan Samuel</th>\n",
       "      <th>26.0</th>\n",
       "      <th>0</th>\n",
       "      <th>0</th>\n",
       "      <td>0</td>\n",
       "    </tr>\n",
       "    <tr>\n",
       "      <th>347091</th>\n",
       "      <th>7.7750</th>\n",
       "      <th>3</th>\n",
       "      <th>S</th>\n",
       "      <th>Andersson, Miss. Ida Augusta Margareta</th>\n",
       "      <th>38.0</th>\n",
       "      <th>4</th>\n",
       "      <th>2</th>\n",
       "      <td>0</td>\n",
       "    </tr>\n",
       "    <tr>\n",
       "      <th>350043</th>\n",
       "      <th>7.7958</th>\n",
       "      <th>3</th>\n",
       "      <th>S</th>\n",
       "      <th>Andersson, Mr. August Edvard (\"Wennerstrom\")</th>\n",
       "      <th>27.0</th>\n",
       "      <th>0</th>\n",
       "      <th>0</th>\n",
       "      <td>1</td>\n",
       "    </tr>\n",
       "    <tr>\n",
       "      <th>3101281</th>\n",
       "      <th>7.9250</th>\n",
       "      <th>3</th>\n",
       "      <th>S</th>\n",
       "      <th>Andersson, Miss. Erna Alexandra</th>\n",
       "      <th>17.0</th>\n",
       "      <th>4</th>\n",
       "      <th>2</th>\n",
       "      <td>1</td>\n",
       "    </tr>\n",
       "    <tr>\n",
       "      <th rowspan=\"7\" valign=\"top\">347082</th>\n",
       "      <th rowspan=\"7\" valign=\"top\">31.2750</th>\n",
       "      <th rowspan=\"7\" valign=\"top\">3</th>\n",
       "      <th rowspan=\"7\" valign=\"top\">S</th>\n",
       "      <th>Andersson, Master. Sigvard Harald Elias</th>\n",
       "      <th>4.0</th>\n",
       "      <th>4</th>\n",
       "      <th>2</th>\n",
       "      <td>1</td>\n",
       "    </tr>\n",
       "    <tr>\n",
       "      <th>Andersson, Miss. Ebba Iris Alfrida</th>\n",
       "      <th>6.0</th>\n",
       "      <th>4</th>\n",
       "      <th>2</th>\n",
       "      <td>1</td>\n",
       "    </tr>\n",
       "    <tr>\n",
       "      <th>Andersson, Miss. Ellis Anna Maria</th>\n",
       "      <th>2.0</th>\n",
       "      <th>4</th>\n",
       "      <th>2</th>\n",
       "      <td>1</td>\n",
       "    </tr>\n",
       "    <tr>\n",
       "      <th>Andersson, Miss. Ingeborg Constanzia</th>\n",
       "      <th>9.0</th>\n",
       "      <th>4</th>\n",
       "      <th>2</th>\n",
       "      <td>1</td>\n",
       "    </tr>\n",
       "    <tr>\n",
       "      <th>Andersson, Miss. Sigrid Elisabeth</th>\n",
       "      <th>11.0</th>\n",
       "      <th>4</th>\n",
       "      <th>2</th>\n",
       "      <td>1</td>\n",
       "    </tr>\n",
       "    <tr>\n",
       "      <th>Andersson, Mr. Anders Johan</th>\n",
       "      <th>39.0</th>\n",
       "      <th>1</th>\n",
       "      <th>5</th>\n",
       "      <td>1</td>\n",
       "    </tr>\n",
       "    <tr>\n",
       "      <th>Andersson, Mrs. Anders Johan (Alfrida Konstantia Brogren)</th>\n",
       "      <th>39.0</th>\n",
       "      <th>1</th>\n",
       "      <th>5</th>\n",
       "      <td>1</td>\n",
       "    </tr>\n",
       "  </tbody>\n",
       "</table>\n",
       "</div>"
      ],
      "text/plain": [
       "                                                                                                               Survived\n",
       "Surname   Ticket  Fare    Pclass Embarked Name                                               Age  SibSp Parch          \n",
       "Andersson 347075  7.7750  3      S        Andersson, Mr. Johan Samuel                        26.0 0     0             0\n",
       "          347091  7.7750  3      S        Andersson, Miss. Ida Augusta Margareta             38.0 4     2             0\n",
       "          350043  7.7958  3      S        Andersson, Mr. August Edvard (\"Wennerstrom\")       27.0 0     0             1\n",
       "          3101281 7.9250  3      S        Andersson, Miss. Erna Alexandra                    17.0 4     2             1\n",
       "          347082  31.2750 3      S        Andersson, Master. Sigvard Harald Elias            4.0  4     2             1\n",
       "                                          Andersson, Miss. Ebba Iris Alfrida                 6.0  4     2             1\n",
       "                                          Andersson, Miss. Ellis Anna Maria                  2.0  4     2             1\n",
       "                                          Andersson, Miss. Ingeborg Constanzia               9.0  4     2             1\n",
       "                                          Andersson, Miss. Sigrid Elisabeth                  11.0 4     2             1\n",
       "                                          Andersson, Mr. Anders Johan                        39.0 1     5             1\n",
       "                                          Andersson, Mrs. Anders Johan (Alfrida Konstanti... 39.0 1     5             1"
      ]
     },
     "execution_count": 52,
     "metadata": {},
     "output_type": "execute_result"
    }
   ],
   "source": [
    "tmp = data_frame.loc[['Andersson']]\n",
    "tmp.sort_index(level=[0, 2])"
   ]
  },
  {
   "cell_type": "markdown",
   "metadata": {},
   "source": [
    "虽然这些人姓氏都是 `Andersson`， 但是他们却来自不同的家庭，证据：`Ticket, Fare` 差别很大，因此不能将他们简单地按姓氏分成一组。\n",
    "根据 `FamilySize = Parch + SipSp + 1`， 我们得到如下：\n",
    "1. 最后7个人数据能对上，铁定为至亲的一家人。\n",
    "2. 至于第2行与第4行的极有可能是他们的 `SibSp, Parch` 数据有误，有可能最后家庭成员取消出行，却这两列数据没有修改。\n",
    "    - 那么如果第2行的数据 `SibSp, Parch` 均为0，那么可能1,2行两个人有关系，可能是表亲或堂亲（毕竟只是票号最后两位不同），只是猜测，证据不足，。\n",
    "    - 然而 `3,4` 行的乘客数据与其他行差别较大。\n",
    "    \n",
    "<font color='red'>注意：</font> `SibSp, Parch` 两个特征数据经常有误，因此至亲的一家人的大小：`FamiliySize = SibSp + Parch + 1` 并不靠谱，后面例子也可以看到。"
   ]
  },
  {
   "cell_type": "markdown",
   "metadata": {},
   "source": [
    "**例2：姓氏为Brown的乘客**"
   ]
  },
  {
   "cell_type": "code",
   "execution_count": 53,
   "metadata": {},
   "outputs": [
    {
     "data": {
      "text/html": [
       "<div>\n",
       "<style scoped>\n",
       "    .dataframe tbody tr th:only-of-type {\n",
       "        vertical-align: middle;\n",
       "    }\n",
       "\n",
       "    .dataframe tbody tr th {\n",
       "        vertical-align: top;\n",
       "    }\n",
       "\n",
       "    .dataframe thead th {\n",
       "        text-align: right;\n",
       "    }\n",
       "</style>\n",
       "<table border=\"1\" class=\"dataframe\">\n",
       "  <thead>\n",
       "    <tr style=\"text-align: right;\">\n",
       "      <th></th>\n",
       "      <th>Surname</th>\n",
       "      <th>Fare</th>\n",
       "      <th>Ticket</th>\n",
       "      <th>Pclass</th>\n",
       "      <th>Embarked</th>\n",
       "      <th>Cabin</th>\n",
       "      <th>Name</th>\n",
       "      <th>SibSp</th>\n",
       "      <th>Parch</th>\n",
       "      <th>Age</th>\n",
       "      <th>PassengerId</th>\n",
       "    </tr>\n",
       "  </thead>\n",
       "  <tbody>\n",
       "    <tr>\n",
       "      <th>345</th>\n",
       "      <td>Brown</td>\n",
       "      <td>13.0000</td>\n",
       "      <td>248733</td>\n",
       "      <td>2</td>\n",
       "      <td>S</td>\n",
       "      <td>F33</td>\n",
       "      <td>Brown, Miss. Amelia \"Mildred\"</td>\n",
       "      <td>0</td>\n",
       "      <td>0</td>\n",
       "      <td>24.0</td>\n",
       "      <td>346</td>\n",
       "    </tr>\n",
       "    <tr>\n",
       "      <th>194</th>\n",
       "      <td>Brown</td>\n",
       "      <td>27.7208</td>\n",
       "      <td>PC 17610</td>\n",
       "      <td>1</td>\n",
       "      <td>C</td>\n",
       "      <td>B4</td>\n",
       "      <td>Brown, Mrs. James Joseph (Margaret Tobin)</td>\n",
       "      <td>0</td>\n",
       "      <td>0</td>\n",
       "      <td>44.0</td>\n",
       "      <td>195</td>\n",
       "    </tr>\n",
       "    <tr>\n",
       "      <th>670</th>\n",
       "      <td>Brown</td>\n",
       "      <td>39.0000</td>\n",
       "      <td>29750</td>\n",
       "      <td>2</td>\n",
       "      <td>S</td>\n",
       "      <td>NaN</td>\n",
       "      <td>Brown, Mrs. Thomas William Solomon (Elizabeth ...</td>\n",
       "      <td>1</td>\n",
       "      <td>1</td>\n",
       "      <td>40.0</td>\n",
       "      <td>671</td>\n",
       "    </tr>\n",
       "    <tr>\n",
       "      <th>684</th>\n",
       "      <td>Brown</td>\n",
       "      <td>39.0000</td>\n",
       "      <td>29750</td>\n",
       "      <td>2</td>\n",
       "      <td>S</td>\n",
       "      <td>NaN</td>\n",
       "      <td>Brown, Mr. Thomas William Solomon</td>\n",
       "      <td>1</td>\n",
       "      <td>1</td>\n",
       "      <td>60.0</td>\n",
       "      <td>685</td>\n",
       "    </tr>\n",
       "    <tr>\n",
       "      <th>1066</th>\n",
       "      <td>Brown</td>\n",
       "      <td>39.0000</td>\n",
       "      <td>29750</td>\n",
       "      <td>2</td>\n",
       "      <td>S</td>\n",
       "      <td>NaN</td>\n",
       "      <td>Brown, Miss. Edith Eileen</td>\n",
       "      <td>0</td>\n",
       "      <td>2</td>\n",
       "      <td>15.0</td>\n",
       "      <td>1067</td>\n",
       "    </tr>\n",
       "    <tr>\n",
       "      <th>1247</th>\n",
       "      <td>Brown</td>\n",
       "      <td>51.4792</td>\n",
       "      <td>11769</td>\n",
       "      <td>1</td>\n",
       "      <td>S</td>\n",
       "      <td>C101</td>\n",
       "      <td>Brown, Mrs. John Murray (Caroline Lane Lamson)</td>\n",
       "      <td>2</td>\n",
       "      <td>0</td>\n",
       "      <td>59.0</td>\n",
       "      <td>1248</td>\n",
       "    </tr>\n",
       "  </tbody>\n",
       "</table>\n",
       "</div>"
      ],
      "text/plain": [
       "     Surname     Fare    Ticket  Pclass Embarked Cabin  \\\n",
       "345    Brown  13.0000    248733       2        S   F33   \n",
       "194    Brown  27.7208  PC 17610       1        C    B4   \n",
       "670    Brown  39.0000     29750       2        S   NaN   \n",
       "684    Brown  39.0000     29750       2        S   NaN   \n",
       "1066   Brown  39.0000     29750       2        S   NaN   \n",
       "1247   Brown  51.4792     11769       1        S  C101   \n",
       "\n",
       "                                                   Name  SibSp  Parch   Age  \\\n",
       "345                       Brown, Miss. Amelia \"Mildred\"      0      0  24.0   \n",
       "194           Brown, Mrs. James Joseph (Margaret Tobin)      0      0  44.0   \n",
       "670   Brown, Mrs. Thomas William Solomon (Elizabeth ...      1      1  40.0   \n",
       "684                   Brown, Mr. Thomas William Solomon      1      1  60.0   \n",
       "1066                          Brown, Miss. Edith Eileen      0      2  15.0   \n",
       "1247     Brown, Mrs. John Murray (Caroline Lane Lamson)      2      0  59.0   \n",
       "\n",
       "      PassengerId  \n",
       "345           346  \n",
       "194           195  \n",
       "670           671  \n",
       "684           685  \n",
       "1066         1067  \n",
       "1247         1248  "
      ]
     },
     "execution_count": 53,
     "metadata": {},
     "output_type": "execute_result"
    }
   ],
   "source": [
    "tmp = all_data.loc[(all_data.Surname == 'Brown')].sort_values(by=['Surname', 'Fare', 'Ticket'])\n",
    "\n",
    "tmp.loc[:, ['Surname', 'Fare', 'Ticket', 'Pclass', 'Embarked', 'Cabin', 'Name', 'SibSp', 'Parch', 'Age', 'PassengerId']]"
   ]
  },
  {
   "cell_type": "markdown",
   "metadata": {},
   "source": [
    "虽然这些人姓氏都是 `Brown`，但是根据 `Fare, Ticket, Pclass, Embarked, SibSp, Parch` 差别明显，只有第3~5行为一个至亲家庭，即这里面有来自4个家庭的人。"
   ]
  },
  {
   "cell_type": "markdown",
   "metadata": {},
   "source": [
    "**例3：姓氏为 Betros Attalah 的乘客**"
   ]
  },
  {
   "cell_type": "code",
   "execution_count": 54,
   "metadata": {},
   "outputs": [
    {
     "data": {
      "text/html": [
       "<div>\n",
       "<style scoped>\n",
       "    .dataframe tbody tr th:only-of-type {\n",
       "        vertical-align: middle;\n",
       "    }\n",
       "\n",
       "    .dataframe tbody tr th {\n",
       "        vertical-align: top;\n",
       "    }\n",
       "\n",
       "    .dataframe thead th {\n",
       "        text-align: right;\n",
       "    }\n",
       "</style>\n",
       "<table border=\"1\" class=\"dataframe\">\n",
       "  <thead>\n",
       "    <tr style=\"text-align: right;\">\n",
       "      <th></th>\n",
       "      <th>Surname</th>\n",
       "      <th>Fare</th>\n",
       "      <th>Ticket</th>\n",
       "      <th>Pclass</th>\n",
       "      <th>Embarked</th>\n",
       "      <th>Cabin</th>\n",
       "      <th>Name</th>\n",
       "      <th>SibSp</th>\n",
       "      <th>Parch</th>\n",
       "      <th>Age</th>\n",
       "      <th>PassengerId</th>\n",
       "    </tr>\n",
       "  </thead>\n",
       "  <tbody>\n",
       "    <tr>\n",
       "      <th>244</th>\n",
       "      <td>Attalah</td>\n",
       "      <td>7.2250</td>\n",
       "      <td>2694</td>\n",
       "      <td>3</td>\n",
       "      <td>C</td>\n",
       "      <td>NaN</td>\n",
       "      <td>Attalah, Mr. Sleiman</td>\n",
       "      <td>0</td>\n",
       "      <td>0</td>\n",
       "      <td>30.0</td>\n",
       "      <td>245</td>\n",
       "    </tr>\n",
       "    <tr>\n",
       "      <th>114</th>\n",
       "      <td>Attalah</td>\n",
       "      <td>14.4583</td>\n",
       "      <td>2627</td>\n",
       "      <td>3</td>\n",
       "      <td>C</td>\n",
       "      <td>NaN</td>\n",
       "      <td>Attalah, Miss. Malake</td>\n",
       "      <td>0</td>\n",
       "      <td>0</td>\n",
       "      <td>17.0</td>\n",
       "      <td>115</td>\n",
       "    </tr>\n",
       "    <tr>\n",
       "      <th>378</th>\n",
       "      <td>Betros</td>\n",
       "      <td>4.0125</td>\n",
       "      <td>2648</td>\n",
       "      <td>3</td>\n",
       "      <td>C</td>\n",
       "      <td>NaN</td>\n",
       "      <td>Betros, Mr. Tannous</td>\n",
       "      <td>0</td>\n",
       "      <td>0</td>\n",
       "      <td>20.0</td>\n",
       "      <td>379</td>\n",
       "    </tr>\n",
       "    <tr>\n",
       "      <th>1230</th>\n",
       "      <td>Betros</td>\n",
       "      <td>7.2292</td>\n",
       "      <td>2622</td>\n",
       "      <td>3</td>\n",
       "      <td>C</td>\n",
       "      <td>NaN</td>\n",
       "      <td>Betros, Master. Seman</td>\n",
       "      <td>0</td>\n",
       "      <td>0</td>\n",
       "      <td>NaN</td>\n",
       "      <td>1231</td>\n",
       "    </tr>\n",
       "  </tbody>\n",
       "</table>\n",
       "</div>"
      ],
      "text/plain": [
       "      Surname     Fare Ticket  Pclass Embarked Cabin                   Name  \\\n",
       "244   Attalah   7.2250   2694       3        C   NaN   Attalah, Mr. Sleiman   \n",
       "114   Attalah  14.4583   2627       3        C   NaN  Attalah, Miss. Malake   \n",
       "378    Betros   4.0125   2648       3        C   NaN    Betros, Mr. Tannous   \n",
       "1230   Betros   7.2292   2622       3        C   NaN  Betros, Master. Seman   \n",
       "\n",
       "      SibSp  Parch   Age  PassengerId  \n",
       "244       0      0  30.0          245  \n",
       "114       0      0  17.0          115  \n",
       "378       0      0  20.0          379  \n",
       "1230      0      0   NaN         1231  "
      ]
     },
     "execution_count": 54,
     "metadata": {},
     "output_type": "execute_result"
    }
   ],
   "source": [
    "tmp = all_data.loc[(all_data.Surname == 'Betros') | (all_data.Surname == 'Attalah')].sort_values(by=['Surname', 'Fare', 'Ticket'])\n",
    "\n",
    "tmp.loc[:, ['Surname', 'Fare', 'Ticket', 'Pclass', 'Embarked', 'Cabin', 'Name', 'SibSp', 'Parch', 'Age', 'PassengerId']]"
   ]
  },
  {
   "cell_type": "markdown",
   "metadata": {},
   "source": [
    "同理，由于 `Fare, Ticket` 均差别较大，且`SibSp, Parch` 均为0，因此判断他们都是单独出行，不是一家人。"
   ]
  },
  {
   "cell_type": "markdown",
   "metadata": {},
   "source": [
    "#### 堂兄弟堂姐妹（孙子辈）或者叔侄辈\n",
    "\n",
    "**姓氏相同，票价相同， 票号仅仅最后2位不同**，由于：`SibSp=0, Parch=0` 那么很有可能是**堂兄弟堂姐妹或者叔侄**？"
   ]
  },
  {
   "cell_type": "code",
   "execution_count": 55,
   "metadata": {},
   "outputs": [
    {
     "data": {
      "text/html": [
       "<div>\n",
       "<style scoped>\n",
       "    .dataframe tbody tr th:only-of-type {\n",
       "        vertical-align: middle;\n",
       "    }\n",
       "\n",
       "    .dataframe tbody tr th {\n",
       "        vertical-align: top;\n",
       "    }\n",
       "\n",
       "    .dataframe thead th {\n",
       "        text-align: right;\n",
       "    }\n",
       "</style>\n",
       "<table border=\"1\" class=\"dataframe\">\n",
       "  <thead>\n",
       "    <tr style=\"text-align: right;\">\n",
       "      <th></th>\n",
       "      <th>Age</th>\n",
       "      <th>Cabin</th>\n",
       "      <th>Embarked</th>\n",
       "      <th>Fare</th>\n",
       "      <th>Name</th>\n",
       "      <th>Parch</th>\n",
       "      <th>Pclass</th>\n",
       "      <th>Sex</th>\n",
       "      <th>SibSp</th>\n",
       "      <th>Survived</th>\n",
       "      <th>Ticket</th>\n",
       "      <th>TicketSize</th>\n",
       "      <th>SingleTicketFare</th>\n",
       "      <th>Title</th>\n",
       "    </tr>\n",
       "  </thead>\n",
       "  <tbody>\n",
       "    <tr>\n",
       "      <th>948</th>\n",
       "      <td>25.00</td>\n",
       "      <td>F G63</td>\n",
       "      <td>S</td>\n",
       "      <td>7.6500</td>\n",
       "      <td>Abelseth, Mr. Olaus Jorgensen</td>\n",
       "      <td>0</td>\n",
       "      <td>3</td>\n",
       "      <td>male</td>\n",
       "      <td>0</td>\n",
       "      <td>NaN</td>\n",
       "      <td>348122</td>\n",
       "      <td>1</td>\n",
       "      <td>7.6500</td>\n",
       "      <td>Mr</td>\n",
       "    </tr>\n",
       "    <tr>\n",
       "      <th>1236</th>\n",
       "      <td>16.00</td>\n",
       "      <td>NaN</td>\n",
       "      <td>S</td>\n",
       "      <td>7.6500</td>\n",
       "      <td>Abelseth, Miss. Karen Marie</td>\n",
       "      <td>0</td>\n",
       "      <td>3</td>\n",
       "      <td>female</td>\n",
       "      <td>0</td>\n",
       "      <td>NaN</td>\n",
       "      <td>348125</td>\n",
       "      <td>1</td>\n",
       "      <td>7.6500</td>\n",
       "      <td>Miss</td>\n",
       "    </tr>\n",
       "    <tr>\n",
       "      <th>210</th>\n",
       "      <td>24.00</td>\n",
       "      <td>NaN</td>\n",
       "      <td>S</td>\n",
       "      <td>7.0500</td>\n",
       "      <td>Ali, Mr. Ahmed</td>\n",
       "      <td>0</td>\n",
       "      <td>3</td>\n",
       "      <td>male</td>\n",
       "      <td>0</td>\n",
       "      <td>0.0</td>\n",
       "      <td>SOTON/O.Q. 3101311</td>\n",
       "      <td>1</td>\n",
       "      <td>7.0500</td>\n",
       "      <td>Mr</td>\n",
       "    </tr>\n",
       "    <tr>\n",
       "      <th>784</th>\n",
       "      <td>25.00</td>\n",
       "      <td>NaN</td>\n",
       "      <td>S</td>\n",
       "      <td>7.0500</td>\n",
       "      <td>Ali, Mr. William</td>\n",
       "      <td>0</td>\n",
       "      <td>3</td>\n",
       "      <td>male</td>\n",
       "      <td>0</td>\n",
       "      <td>0.0</td>\n",
       "      <td>SOTON/O.Q. 3101312</td>\n",
       "      <td>1</td>\n",
       "      <td>7.0500</td>\n",
       "      <td>Mr</td>\n",
       "    </tr>\n",
       "    <tr>\n",
       "      <th>534</th>\n",
       "      <td>30.00</td>\n",
       "      <td>NaN</td>\n",
       "      <td>S</td>\n",
       "      <td>8.6625</td>\n",
       "      <td>Cacic, Miss. Marija</td>\n",
       "      <td>0</td>\n",
       "      <td>3</td>\n",
       "      <td>female</td>\n",
       "      <td>0</td>\n",
       "      <td>0.0</td>\n",
       "      <td>315084</td>\n",
       "      <td>1</td>\n",
       "      <td>8.6625</td>\n",
       "      <td>Miss</td>\n",
       "    </tr>\n",
       "    <tr>\n",
       "      <th>928</th>\n",
       "      <td>21.00</td>\n",
       "      <td>NaN</td>\n",
       "      <td>S</td>\n",
       "      <td>8.6625</td>\n",
       "      <td>Cacic, Miss. Manda</td>\n",
       "      <td>0</td>\n",
       "      <td>3</td>\n",
       "      <td>female</td>\n",
       "      <td>0</td>\n",
       "      <td>NaN</td>\n",
       "      <td>315087</td>\n",
       "      <td>1</td>\n",
       "      <td>8.6625</td>\n",
       "      <td>Miss</td>\n",
       "    </tr>\n",
       "    <tr>\n",
       "      <th>471</th>\n",
       "      <td>38.00</td>\n",
       "      <td>NaN</td>\n",
       "      <td>S</td>\n",
       "      <td>8.6625</td>\n",
       "      <td>Cacic, Mr. Luka</td>\n",
       "      <td>0</td>\n",
       "      <td>3</td>\n",
       "      <td>male</td>\n",
       "      <td>0</td>\n",
       "      <td>0.0</td>\n",
       "      <td>315089</td>\n",
       "      <td>1</td>\n",
       "      <td>8.6625</td>\n",
       "      <td>Mr</td>\n",
       "    </tr>\n",
       "    <tr>\n",
       "      <th>1201</th>\n",
       "      <td>18.00</td>\n",
       "      <td>NaN</td>\n",
       "      <td>S</td>\n",
       "      <td>8.6625</td>\n",
       "      <td>Cacic, Mr. Jego Grga</td>\n",
       "      <td>0</td>\n",
       "      <td>3</td>\n",
       "      <td>male</td>\n",
       "      <td>0</td>\n",
       "      <td>NaN</td>\n",
       "      <td>315091</td>\n",
       "      <td>1</td>\n",
       "      <td>8.6625</td>\n",
       "      <td>Mr</td>\n",
       "    </tr>\n",
       "    <tr>\n",
       "      <th>1120</th>\n",
       "      <td>36.00</td>\n",
       "      <td>NaN</td>\n",
       "      <td>S</td>\n",
       "      <td>13.0000</td>\n",
       "      <td>Hocking, Mr. Samuel James Metcalfe</td>\n",
       "      <td>0</td>\n",
       "      <td>2</td>\n",
       "      <td>male</td>\n",
       "      <td>0</td>\n",
       "      <td>NaN</td>\n",
       "      <td>242963</td>\n",
       "      <td>1</td>\n",
       "      <td>13.0000</td>\n",
       "      <td>Mr</td>\n",
       "    </tr>\n",
       "    <tr>\n",
       "      <th>529</th>\n",
       "      <td>23.00</td>\n",
       "      <td>NaN</td>\n",
       "      <td>S</td>\n",
       "      <td>11.5000</td>\n",
       "      <td>Hocking, Mr. Richard George</td>\n",
       "      <td>1</td>\n",
       "      <td>2</td>\n",
       "      <td>male</td>\n",
       "      <td>2</td>\n",
       "      <td>0.0</td>\n",
       "      <td>29104</td>\n",
       "      <td>1</td>\n",
       "      <td>11.5000</td>\n",
       "      <td>Mr</td>\n",
       "    </tr>\n",
       "    <tr>\n",
       "      <th>774</th>\n",
       "      <td>54.00</td>\n",
       "      <td>NaN</td>\n",
       "      <td>S</td>\n",
       "      <td>23.0000</td>\n",
       "      <td>Hocking, Mrs. Elizabeth (Eliza Needs)</td>\n",
       "      <td>3</td>\n",
       "      <td>2</td>\n",
       "      <td>female</td>\n",
       "      <td>1</td>\n",
       "      <td>1.0</td>\n",
       "      <td>29105</td>\n",
       "      <td>2</td>\n",
       "      <td>11.5000</td>\n",
       "      <td>Mrs</td>\n",
       "    </tr>\n",
       "    <tr>\n",
       "      <th>943</th>\n",
       "      <td>20.00</td>\n",
       "      <td>NaN</td>\n",
       "      <td>S</td>\n",
       "      <td>23.0000</td>\n",
       "      <td>Hocking, Miss. Ellen Nellie\"\"</td>\n",
       "      <td>1</td>\n",
       "      <td>2</td>\n",
       "      <td>female</td>\n",
       "      <td>2</td>\n",
       "      <td>NaN</td>\n",
       "      <td>29105</td>\n",
       "      <td>2</td>\n",
       "      <td>11.5000</td>\n",
       "      <td>Miss</td>\n",
       "    </tr>\n",
       "    <tr>\n",
       "      <th>407</th>\n",
       "      <td>3.00</td>\n",
       "      <td>NaN</td>\n",
       "      <td>S</td>\n",
       "      <td>18.7500</td>\n",
       "      <td>Richards, Master. William Rowe</td>\n",
       "      <td>1</td>\n",
       "      <td>2</td>\n",
       "      <td>male</td>\n",
       "      <td>1</td>\n",
       "      <td>1.0</td>\n",
       "      <td>29106</td>\n",
       "      <td>3</td>\n",
       "      <td>6.2500</td>\n",
       "      <td>Master</td>\n",
       "    </tr>\n",
       "    <tr>\n",
       "      <th>437</th>\n",
       "      <td>24.00</td>\n",
       "      <td>NaN</td>\n",
       "      <td>S</td>\n",
       "      <td>18.7500</td>\n",
       "      <td>Richards, Mrs. Sidney (Emily Hocking)</td>\n",
       "      <td>3</td>\n",
       "      <td>2</td>\n",
       "      <td>female</td>\n",
       "      <td>2</td>\n",
       "      <td>1.0</td>\n",
       "      <td>29106</td>\n",
       "      <td>3</td>\n",
       "      <td>6.2500</td>\n",
       "      <td>Mrs</td>\n",
       "    </tr>\n",
       "    <tr>\n",
       "      <th>831</th>\n",
       "      <td>0.83</td>\n",
       "      <td>NaN</td>\n",
       "      <td>S</td>\n",
       "      <td>18.7500</td>\n",
       "      <td>Richards, Master. George Sibley</td>\n",
       "      <td>1</td>\n",
       "      <td>2</td>\n",
       "      <td>male</td>\n",
       "      <td>1</td>\n",
       "      <td>1.0</td>\n",
       "      <td>29106</td>\n",
       "      <td>3</td>\n",
       "      <td>6.2500</td>\n",
       "      <td>Master</td>\n",
       "    </tr>\n",
       "  </tbody>\n",
       "</table>\n",
       "</div>"
      ],
      "text/plain": [
       "        Age  Cabin Embarked     Fare                                   Name  \\\n",
       "948   25.00  F G63        S   7.6500          Abelseth, Mr. Olaus Jorgensen   \n",
       "1236  16.00    NaN        S   7.6500            Abelseth, Miss. Karen Marie   \n",
       "210   24.00    NaN        S   7.0500                         Ali, Mr. Ahmed   \n",
       "784   25.00    NaN        S   7.0500                       Ali, Mr. William   \n",
       "534   30.00    NaN        S   8.6625                    Cacic, Miss. Marija   \n",
       "928   21.00    NaN        S   8.6625                     Cacic, Miss. Manda   \n",
       "471   38.00    NaN        S   8.6625                        Cacic, Mr. Luka   \n",
       "1201  18.00    NaN        S   8.6625                   Cacic, Mr. Jego Grga   \n",
       "1120  36.00    NaN        S  13.0000     Hocking, Mr. Samuel James Metcalfe   \n",
       "529   23.00    NaN        S  11.5000            Hocking, Mr. Richard George   \n",
       "774   54.00    NaN        S  23.0000  Hocking, Mrs. Elizabeth (Eliza Needs)   \n",
       "943   20.00    NaN        S  23.0000          Hocking, Miss. Ellen Nellie\"\"   \n",
       "407    3.00    NaN        S  18.7500         Richards, Master. William Rowe   \n",
       "437   24.00    NaN        S  18.7500  Richards, Mrs. Sidney (Emily Hocking)   \n",
       "831    0.83    NaN        S  18.7500        Richards, Master. George Sibley   \n",
       "\n",
       "      Parch  Pclass     Sex  SibSp  Survived              Ticket  TicketSize  \\\n",
       "948       0       3    male      0       NaN              348122           1   \n",
       "1236      0       3  female      0       NaN              348125           1   \n",
       "210       0       3    male      0       0.0  SOTON/O.Q. 3101311           1   \n",
       "784       0       3    male      0       0.0  SOTON/O.Q. 3101312           1   \n",
       "534       0       3  female      0       0.0              315084           1   \n",
       "928       0       3  female      0       NaN              315087           1   \n",
       "471       0       3    male      0       0.0              315089           1   \n",
       "1201      0       3    male      0       NaN              315091           1   \n",
       "1120      0       2    male      0       NaN              242963           1   \n",
       "529       1       2    male      2       0.0               29104           1   \n",
       "774       3       2  female      1       1.0               29105           2   \n",
       "943       1       2  female      2       NaN               29105           2   \n",
       "407       1       2    male      1       1.0               29106           3   \n",
       "437       3       2  female      2       1.0               29106           3   \n",
       "831       1       2    male      1       1.0               29106           3   \n",
       "\n",
       "      SingleTicketFare   Title  \n",
       "948             7.6500      Mr  \n",
       "1236            7.6500    Miss  \n",
       "210             7.0500      Mr  \n",
       "784             7.0500      Mr  \n",
       "534             8.6625    Miss  \n",
       "928             8.6625    Miss  \n",
       "471             8.6625      Mr  \n",
       "1201            8.6625      Mr  \n",
       "1120           13.0000      Mr  \n",
       "529            11.5000      Mr  \n",
       "774            11.5000     Mrs  \n",
       "943            11.5000    Miss  \n",
       "407             6.2500  Master  \n",
       "437             6.2500     Mrs  \n",
       "831             6.2500  Master  "
      ]
     },
     "execution_count": 55,
     "metadata": {},
     "output_type": "execute_result"
    }
   ],
   "source": [
    "tmp = all_data.loc[all_data.Surname.isin(['Ali', 'Cacic', 'Abelseth', 'Hocking', 'Richards']), :].sort_values(by=['Surname', 'Ticket', 'Fare'])\n",
    "\n",
    "tmp.drop(['Surname', 'FamilySize', 'PassengerId'], axis=1)"
   ]
  },
  {
   "cell_type": "markdown",
   "metadata": {},
   "source": [
    "<font color='red'>注意</font>： SibSp, Parch 两个特征数据经常有误，因此至亲的一家人的大小：FamiliySize = SibSp + Parch + 1 并不靠谱，后面例子也可以看到。"
   ]
  },
  {
   "cell_type": "markdown",
   "metadata": {},
   "source": [
    "#### 至亲的一家人"
   ]
  },
  {
   "cell_type": "code",
   "execution_count": 56,
   "metadata": {},
   "outputs": [
    {
     "data": {
      "text/html": [
       "<div>\n",
       "<style scoped>\n",
       "    .dataframe tbody tr th:only-of-type {\n",
       "        vertical-align: middle;\n",
       "    }\n",
       "\n",
       "    .dataframe tbody tr th {\n",
       "        vertical-align: top;\n",
       "    }\n",
       "\n",
       "    .dataframe thead th {\n",
       "        text-align: right;\n",
       "    }\n",
       "</style>\n",
       "<table border=\"1\" class=\"dataframe\">\n",
       "  <thead>\n",
       "    <tr style=\"text-align: right;\">\n",
       "      <th></th>\n",
       "      <th>Surname</th>\n",
       "      <th>Fare</th>\n",
       "      <th>Ticket</th>\n",
       "      <th>Pclass</th>\n",
       "      <th>Embarked</th>\n",
       "      <th>Name</th>\n",
       "      <th>SibSp</th>\n",
       "      <th>Parch</th>\n",
       "      <th>Age</th>\n",
       "      <th>PassengerId</th>\n",
       "    </tr>\n",
       "  </thead>\n",
       "  <tbody>\n",
       "    <tr>\n",
       "      <th>279</th>\n",
       "      <td>Abbott</td>\n",
       "      <td>20.25</td>\n",
       "      <td>C.A. 2673</td>\n",
       "      <td>3</td>\n",
       "      <td>S</td>\n",
       "      <td>Abbott, Mrs. Stanton (Rosa Hunt)</td>\n",
       "      <td>1</td>\n",
       "      <td>1</td>\n",
       "      <td>35.00</td>\n",
       "      <td>280</td>\n",
       "    </tr>\n",
       "    <tr>\n",
       "      <th>746</th>\n",
       "      <td>Abbott</td>\n",
       "      <td>20.25</td>\n",
       "      <td>C.A. 2673</td>\n",
       "      <td>3</td>\n",
       "      <td>S</td>\n",
       "      <td>Abbott, Mr. Rossmore Edward</td>\n",
       "      <td>1</td>\n",
       "      <td>1</td>\n",
       "      <td>16.00</td>\n",
       "      <td>747</td>\n",
       "    </tr>\n",
       "    <tr>\n",
       "      <th>1283</th>\n",
       "      <td>Abbott</td>\n",
       "      <td>20.25</td>\n",
       "      <td>C.A. 2673</td>\n",
       "      <td>3</td>\n",
       "      <td>S</td>\n",
       "      <td>Abbott, Master. Eugene Joseph</td>\n",
       "      <td>0</td>\n",
       "      <td>2</td>\n",
       "      <td>13.00</td>\n",
       "      <td>1284</td>\n",
       "    </tr>\n",
       "    <tr>\n",
       "      <th>58</th>\n",
       "      <td>West</td>\n",
       "      <td>27.75</td>\n",
       "      <td>C.A. 34651</td>\n",
       "      <td>2</td>\n",
       "      <td>S</td>\n",
       "      <td>West, Miss. Constance Mirium</td>\n",
       "      <td>1</td>\n",
       "      <td>2</td>\n",
       "      <td>5.00</td>\n",
       "      <td>59</td>\n",
       "    </tr>\n",
       "    <tr>\n",
       "      <th>450</th>\n",
       "      <td>West</td>\n",
       "      <td>27.75</td>\n",
       "      <td>C.A. 34651</td>\n",
       "      <td>2</td>\n",
       "      <td>S</td>\n",
       "      <td>West, Mr. Edwy Arthur</td>\n",
       "      <td>1</td>\n",
       "      <td>2</td>\n",
       "      <td>36.00</td>\n",
       "      <td>451</td>\n",
       "    </tr>\n",
       "    <tr>\n",
       "      <th>472</th>\n",
       "      <td>West</td>\n",
       "      <td>27.75</td>\n",
       "      <td>C.A. 34651</td>\n",
       "      <td>2</td>\n",
       "      <td>S</td>\n",
       "      <td>West, Mrs. Edwy Arthur (Ada Mary Worth)</td>\n",
       "      <td>1</td>\n",
       "      <td>2</td>\n",
       "      <td>33.00</td>\n",
       "      <td>473</td>\n",
       "    </tr>\n",
       "    <tr>\n",
       "      <th>1141</th>\n",
       "      <td>West</td>\n",
       "      <td>27.75</td>\n",
       "      <td>C.A. 34651</td>\n",
       "      <td>2</td>\n",
       "      <td>S</td>\n",
       "      <td>West, Miss. Barbara J</td>\n",
       "      <td>1</td>\n",
       "      <td>2</td>\n",
       "      <td>0.92</td>\n",
       "      <td>1142</td>\n",
       "    </tr>\n",
       "  </tbody>\n",
       "</table>\n",
       "</div>"
      ],
      "text/plain": [
       "     Surname   Fare      Ticket  Pclass Embarked  \\\n",
       "279   Abbott  20.25   C.A. 2673       3        S   \n",
       "746   Abbott  20.25   C.A. 2673       3        S   \n",
       "1283  Abbott  20.25   C.A. 2673       3        S   \n",
       "58      West  27.75  C.A. 34651       2        S   \n",
       "450     West  27.75  C.A. 34651       2        S   \n",
       "472     West  27.75  C.A. 34651       2        S   \n",
       "1141    West  27.75  C.A. 34651       2        S   \n",
       "\n",
       "                                         Name  SibSp  Parch    Age  \\\n",
       "279          Abbott, Mrs. Stanton (Rosa Hunt)      1      1  35.00   \n",
       "746               Abbott, Mr. Rossmore Edward      1      1  16.00   \n",
       "1283            Abbott, Master. Eugene Joseph      0      2  13.00   \n",
       "58               West, Miss. Constance Mirium      1      2   5.00   \n",
       "450                     West, Mr. Edwy Arthur      1      2  36.00   \n",
       "472   West, Mrs. Edwy Arthur (Ada Mary Worth)      1      2  33.00   \n",
       "1141                    West, Miss. Barbara J      1      2   0.92   \n",
       "\n",
       "      PassengerId  \n",
       "279           280  \n",
       "746           747  \n",
       "1283         1284  \n",
       "58             59  \n",
       "450           451  \n",
       "472           473  \n",
       "1141         1142  "
      ]
     },
     "execution_count": 56,
     "metadata": {},
     "output_type": "execute_result"
    }
   ],
   "source": [
    "tmp = all_data.loc[all_data.Surname.isin(['West', 'Abbott']), :].sort_values(by=['Surname', 'Fare', 'Ticket'])\n",
    "\n",
    "tmp.loc[:, ['Surname', 'Fare', 'Ticket', 'Pclass', 'Embarked', 'Name', 'SibSp', 'Parch', 'Age', 'PassengerId']]"
   ]
  },
  {
   "cell_type": "markdown",
   "metadata": {},
   "source": [
    "1. `West` 一家人，因为`Surname, Fare, Ticket, Pclass, Embarked, SibSp, Parch` 数据完全能对上。\n",
    "2. `Abbott` 也非常像一家人，但是 `SibSp, Parch` 数据却出现出入，第1行与第3行的 `SibSp, Parch` 数据似乎互换了（根据前面Master分析，那么Age无误，推测出来）。\n",
    "\n",
    "<font color='red'>注意</font>：1,3行的`SibSp, Parch` 2个特征数据似乎很有可能又错了。"
   ]
  },
  {
   "cell_type": "markdown",
   "metadata": {},
   "source": [
    "#### SurnameGroupId\n",
    "\n",
    "根据前面所说，如果至亲一家人和孙子辈、叔侄辈共同出行，我们得到如下一起出行的识别方案：\n",
    "\n",
    "1. `SurnameGroupId = Surname + Pclass + Embarked + Fare + Ticket[:-2]`\n",
    "2. 在叔侄辈和孙子辈中，Ticket最后2位不同，所以Ticket最后2位不加考虑，才能识别他们共同出行。"
   ]
  },
  {
   "cell_type": "code",
   "execution_count": 57,
   "metadata": {},
   "outputs": [],
   "source": [
    "getSurnameGroupId(all_data)\n",
    "\n",
    "train = all_data.iloc[:train.shape[0], :]\n",
    "test = all_data.iloc[train.shape[0]:, :]"
   ]
  },
  {
   "cell_type": "markdown",
   "metadata": {},
   "source": [
    "我们来看看例子，叔侄关系（Cacic）与至亲一家（Brown）："
   ]
  },
  {
   "cell_type": "code",
   "execution_count": 58,
   "metadata": {},
   "outputs": [
    {
     "data": {
      "text/html": [
       "<div>\n",
       "<style scoped>\n",
       "    .dataframe tbody tr th:only-of-type {\n",
       "        vertical-align: middle;\n",
       "    }\n",
       "\n",
       "    .dataframe tbody tr th {\n",
       "        vertical-align: top;\n",
       "    }\n",
       "\n",
       "    .dataframe thead th {\n",
       "        text-align: right;\n",
       "    }\n",
       "</style>\n",
       "<table border=\"1\" class=\"dataframe\">\n",
       "  <thead>\n",
       "    <tr style=\"text-align: right;\">\n",
       "      <th></th>\n",
       "      <th>SurnameGroupId</th>\n",
       "      <th>Surname</th>\n",
       "      <th>Fare</th>\n",
       "      <th>Ticket</th>\n",
       "      <th>Pclass</th>\n",
       "      <th>Embarked</th>\n",
       "      <th>Cabin</th>\n",
       "      <th>Name</th>\n",
       "      <th>SibSp</th>\n",
       "      <th>Parch</th>\n",
       "      <th>Age</th>\n",
       "    </tr>\n",
       "  </thead>\n",
       "  <tbody>\n",
       "    <tr>\n",
       "      <th>345</th>\n",
       "      <td>Brown-2-S-13.0-2487__</td>\n",
       "      <td>Brown</td>\n",
       "      <td>13.0000</td>\n",
       "      <td>248733</td>\n",
       "      <td>2</td>\n",
       "      <td>S</td>\n",
       "      <td>F33</td>\n",
       "      <td>Brown, Miss. Amelia \"Mildred\"</td>\n",
       "      <td>0</td>\n",
       "      <td>0</td>\n",
       "      <td>24.0</td>\n",
       "    </tr>\n",
       "    <tr>\n",
       "      <th>194</th>\n",
       "      <td>Brown-1-C-27.7208-PC 176__</td>\n",
       "      <td>Brown</td>\n",
       "      <td>27.7208</td>\n",
       "      <td>PC 17610</td>\n",
       "      <td>1</td>\n",
       "      <td>C</td>\n",
       "      <td>B4</td>\n",
       "      <td>Brown, Mrs. James Joseph (Margaret Tobin)</td>\n",
       "      <td>0</td>\n",
       "      <td>0</td>\n",
       "      <td>44.0</td>\n",
       "    </tr>\n",
       "    <tr>\n",
       "      <th>670</th>\n",
       "      <td>Brown-2-S-39.0-297__</td>\n",
       "      <td>Brown</td>\n",
       "      <td>39.0000</td>\n",
       "      <td>29750</td>\n",
       "      <td>2</td>\n",
       "      <td>S</td>\n",
       "      <td>NaN</td>\n",
       "      <td>Brown, Mrs. Thomas William Solomon (Elizabeth ...</td>\n",
       "      <td>1</td>\n",
       "      <td>1</td>\n",
       "      <td>40.0</td>\n",
       "    </tr>\n",
       "    <tr>\n",
       "      <th>684</th>\n",
       "      <td>Brown-2-S-39.0-297__</td>\n",
       "      <td>Brown</td>\n",
       "      <td>39.0000</td>\n",
       "      <td>29750</td>\n",
       "      <td>2</td>\n",
       "      <td>S</td>\n",
       "      <td>NaN</td>\n",
       "      <td>Brown, Mr. Thomas William Solomon</td>\n",
       "      <td>1</td>\n",
       "      <td>1</td>\n",
       "      <td>60.0</td>\n",
       "    </tr>\n",
       "    <tr>\n",
       "      <th>1066</th>\n",
       "      <td>Brown-2-S-39.0-297__</td>\n",
       "      <td>Brown</td>\n",
       "      <td>39.0000</td>\n",
       "      <td>29750</td>\n",
       "      <td>2</td>\n",
       "      <td>S</td>\n",
       "      <td>NaN</td>\n",
       "      <td>Brown, Miss. Edith Eileen</td>\n",
       "      <td>0</td>\n",
       "      <td>2</td>\n",
       "      <td>15.0</td>\n",
       "    </tr>\n",
       "    <tr>\n",
       "      <th>1247</th>\n",
       "      <td>Brown-1-S-51.4792-117__</td>\n",
       "      <td>Brown</td>\n",
       "      <td>51.4792</td>\n",
       "      <td>11769</td>\n",
       "      <td>1</td>\n",
       "      <td>S</td>\n",
       "      <td>C101</td>\n",
       "      <td>Brown, Mrs. John Murray (Caroline Lane Lamson)</td>\n",
       "      <td>2</td>\n",
       "      <td>0</td>\n",
       "      <td>59.0</td>\n",
       "    </tr>\n",
       "    <tr>\n",
       "      <th>534</th>\n",
       "      <td>Cacic-3-S-8.6625-3150__</td>\n",
       "      <td>Cacic</td>\n",
       "      <td>8.6625</td>\n",
       "      <td>315084</td>\n",
       "      <td>3</td>\n",
       "      <td>S</td>\n",
       "      <td>NaN</td>\n",
       "      <td>Cacic, Miss. Marija</td>\n",
       "      <td>0</td>\n",
       "      <td>0</td>\n",
       "      <td>30.0</td>\n",
       "    </tr>\n",
       "    <tr>\n",
       "      <th>928</th>\n",
       "      <td>Cacic-3-S-8.6625-3150__</td>\n",
       "      <td>Cacic</td>\n",
       "      <td>8.6625</td>\n",
       "      <td>315087</td>\n",
       "      <td>3</td>\n",
       "      <td>S</td>\n",
       "      <td>NaN</td>\n",
       "      <td>Cacic, Miss. Manda</td>\n",
       "      <td>0</td>\n",
       "      <td>0</td>\n",
       "      <td>21.0</td>\n",
       "    </tr>\n",
       "    <tr>\n",
       "      <th>471</th>\n",
       "      <td>Cacic-3-S-8.6625-3150__</td>\n",
       "      <td>Cacic</td>\n",
       "      <td>8.6625</td>\n",
       "      <td>315089</td>\n",
       "      <td>3</td>\n",
       "      <td>S</td>\n",
       "      <td>NaN</td>\n",
       "      <td>Cacic, Mr. Luka</td>\n",
       "      <td>0</td>\n",
       "      <td>0</td>\n",
       "      <td>38.0</td>\n",
       "    </tr>\n",
       "    <tr>\n",
       "      <th>1201</th>\n",
       "      <td>Cacic-3-S-8.6625-3150__</td>\n",
       "      <td>Cacic</td>\n",
       "      <td>8.6625</td>\n",
       "      <td>315091</td>\n",
       "      <td>3</td>\n",
       "      <td>S</td>\n",
       "      <td>NaN</td>\n",
       "      <td>Cacic, Mr. Jego Grga</td>\n",
       "      <td>0</td>\n",
       "      <td>0</td>\n",
       "      <td>18.0</td>\n",
       "    </tr>\n",
       "  </tbody>\n",
       "</table>\n",
       "</div>"
      ],
      "text/plain": [
       "                  SurnameGroupId Surname     Fare    Ticket  Pclass Embarked  \\\n",
       "345        Brown-2-S-13.0-2487__   Brown  13.0000    248733       2        S   \n",
       "194   Brown-1-C-27.7208-PC 176__   Brown  27.7208  PC 17610       1        C   \n",
       "670         Brown-2-S-39.0-297__   Brown  39.0000     29750       2        S   \n",
       "684         Brown-2-S-39.0-297__   Brown  39.0000     29750       2        S   \n",
       "1066        Brown-2-S-39.0-297__   Brown  39.0000     29750       2        S   \n",
       "1247     Brown-1-S-51.4792-117__   Brown  51.4792     11769       1        S   \n",
       "534      Cacic-3-S-8.6625-3150__   Cacic   8.6625    315084       3        S   \n",
       "928      Cacic-3-S-8.6625-3150__   Cacic   8.6625    315087       3        S   \n",
       "471      Cacic-3-S-8.6625-3150__   Cacic   8.6625    315089       3        S   \n",
       "1201     Cacic-3-S-8.6625-3150__   Cacic   8.6625    315091       3        S   \n",
       "\n",
       "     Cabin                                               Name  SibSp  Parch  \\\n",
       "345    F33                      Brown, Miss. Amelia \"Mildred\"      0      0   \n",
       "194     B4          Brown, Mrs. James Joseph (Margaret Tobin)      0      0   \n",
       "670    NaN  Brown, Mrs. Thomas William Solomon (Elizabeth ...      1      1   \n",
       "684    NaN                  Brown, Mr. Thomas William Solomon      1      1   \n",
       "1066   NaN                          Brown, Miss. Edith Eileen      0      2   \n",
       "1247  C101     Brown, Mrs. John Murray (Caroline Lane Lamson)      2      0   \n",
       "534    NaN                                Cacic, Miss. Marija      0      0   \n",
       "928    NaN                                 Cacic, Miss. Manda      0      0   \n",
       "471    NaN                                    Cacic, Mr. Luka      0      0   \n",
       "1201   NaN                               Cacic, Mr. Jego Grga      0      0   \n",
       "\n",
       "       Age  \n",
       "345   24.0  \n",
       "194   44.0  \n",
       "670   40.0  \n",
       "684   60.0  \n",
       "1066  15.0  \n",
       "1247  59.0  \n",
       "534   30.0  \n",
       "928   21.0  \n",
       "471   38.0  \n",
       "1201  18.0  "
      ]
     },
     "execution_count": 58,
     "metadata": {},
     "output_type": "execute_result"
    }
   ],
   "source": [
    "tmp = all_data.loc[(all_data.Surname == 'Brown') | (all_data.Surname == 'Cacic')].sort_values(by=['Surname', 'Fare', 'Ticket'])\n",
    "tmp.loc[:, ['SurnameGroupId', 'Surname', 'Fare', 'Ticket', 'Pclass', 'Embarked', 'Cabin', 'Name', 'SibSp', 'Parch', 'Age']]"
   ]
  },
  {
   "cell_type": "markdown",
   "metadata": {},
   "source": [
    "上表就很明显的看出 `GroupId` 比 `Surname` 在识别哪些人是一起出行这方面更有区分度。\n",
    "\n",
    "**`GroupId` 到底区分了多少一起出行的人？** 如下："
   ]
  },
  {
   "cell_type": "code",
   "execution_count": 59,
   "metadata": {},
   "outputs": [
    {
     "data": {
      "text/plain": [
       "(991, 726, 373)"
      ]
     },
     "execution_count": 59,
     "metadata": {},
     "output_type": "execute_result"
    }
   ],
   "source": [
    "len(all_data.SurnameGroupId.unique()), len(train.SurnameGroupId.unique()), len(test.SurnameGroupId.unique())"
   ]
  },
  {
   "cell_type": "markdown",
   "metadata": {},
   "source": [
    "#### 保姆和亲戚组\n",
    "\n",
    "来看看 `Ticket == 'PC 17608'`, `Fare Ticket Pclass Embarked`一模一样， `Cabin`也相近，根据 `SibSp Parch` 数据推测是保姆或者非同姓亲戚（比如：表亲），当然到底有木有说服力最终还是看预测的结果，我们先保持怀疑的态度。"
   ]
  },
  {
   "cell_type": "code",
   "execution_count": 60,
   "metadata": {},
   "outputs": [
    {
     "data": {
      "text/html": [
       "<div>\n",
       "<style scoped>\n",
       "    .dataframe tbody tr th:only-of-type {\n",
       "        vertical-align: middle;\n",
       "    }\n",
       "\n",
       "    .dataframe tbody tr th {\n",
       "        vertical-align: top;\n",
       "    }\n",
       "\n",
       "    .dataframe thead th {\n",
       "        text-align: right;\n",
       "    }\n",
       "</style>\n",
       "<table border=\"1\" class=\"dataframe\">\n",
       "  <thead>\n",
       "    <tr style=\"text-align: right;\">\n",
       "      <th></th>\n",
       "      <th>SurnameGroupId</th>\n",
       "      <th>Fare</th>\n",
       "      <th>Ticket</th>\n",
       "      <th>Pclass</th>\n",
       "      <th>Embarked</th>\n",
       "      <th>Cabin</th>\n",
       "      <th>Name</th>\n",
       "      <th>SibSp</th>\n",
       "      <th>Parch</th>\n",
       "      <th>Age</th>\n",
       "    </tr>\n",
       "  </thead>\n",
       "  <tbody>\n",
       "    <tr>\n",
       "      <th>1266</th>\n",
       "      <td>Bowen-1-C-262.375-PC 176__</td>\n",
       "      <td>262.375</td>\n",
       "      <td>PC 17608</td>\n",
       "      <td>1</td>\n",
       "      <td>C</td>\n",
       "      <td>NaN</td>\n",
       "      <td>Bowen, Miss. Grace Scott</td>\n",
       "      <td>0</td>\n",
       "      <td>0</td>\n",
       "      <td>45.0</td>\n",
       "    </tr>\n",
       "    <tr>\n",
       "      <th>950</th>\n",
       "      <td>Chaudanson-1-C-262.375-PC 176__</td>\n",
       "      <td>262.375</td>\n",
       "      <td>PC 17608</td>\n",
       "      <td>1</td>\n",
       "      <td>C</td>\n",
       "      <td>B61</td>\n",
       "      <td>Chaudanson, Miss. Victorine</td>\n",
       "      <td>0</td>\n",
       "      <td>0</td>\n",
       "      <td>36.0</td>\n",
       "    </tr>\n",
       "    <tr>\n",
       "      <th>311</th>\n",
       "      <td>Ryerson-1-C-262.375-PC 176__</td>\n",
       "      <td>262.375</td>\n",
       "      <td>PC 17608</td>\n",
       "      <td>1</td>\n",
       "      <td>C</td>\n",
       "      <td>B57 B59 B63 B66</td>\n",
       "      <td>Ryerson, Miss. Emily Borie</td>\n",
       "      <td>2</td>\n",
       "      <td>2</td>\n",
       "      <td>18.0</td>\n",
       "    </tr>\n",
       "    <tr>\n",
       "      <th>742</th>\n",
       "      <td>Ryerson-1-C-262.375-PC 176__</td>\n",
       "      <td>262.375</td>\n",
       "      <td>PC 17608</td>\n",
       "      <td>1</td>\n",
       "      <td>C</td>\n",
       "      <td>B57 B59 B63 B66</td>\n",
       "      <td>Ryerson, Miss. Susan Parker \"Suzette\"</td>\n",
       "      <td>2</td>\n",
       "      <td>2</td>\n",
       "      <td>21.0</td>\n",
       "    </tr>\n",
       "    <tr>\n",
       "      <th>915</th>\n",
       "      <td>Ryerson-1-C-262.375-PC 176__</td>\n",
       "      <td>262.375</td>\n",
       "      <td>PC 17608</td>\n",
       "      <td>1</td>\n",
       "      <td>C</td>\n",
       "      <td>B57 B59 B63 B66</td>\n",
       "      <td>Ryerson, Mrs. Arthur Larned (Emily Maria Borie)</td>\n",
       "      <td>1</td>\n",
       "      <td>3</td>\n",
       "      <td>48.0</td>\n",
       "    </tr>\n",
       "    <tr>\n",
       "      <th>955</th>\n",
       "      <td>Ryerson-1-C-262.375-PC 176__</td>\n",
       "      <td>262.375</td>\n",
       "      <td>PC 17608</td>\n",
       "      <td>1</td>\n",
       "      <td>C</td>\n",
       "      <td>B57 B59 B63 B66</td>\n",
       "      <td>Ryerson, Master. John Borie</td>\n",
       "      <td>2</td>\n",
       "      <td>2</td>\n",
       "      <td>13.0</td>\n",
       "    </tr>\n",
       "    <tr>\n",
       "      <th>1033</th>\n",
       "      <td>Ryerson-1-C-262.375-PC 176__</td>\n",
       "      <td>262.375</td>\n",
       "      <td>PC 17608</td>\n",
       "      <td>1</td>\n",
       "      <td>C</td>\n",
       "      <td>B57 B59 B63 B66</td>\n",
       "      <td>Ryerson, Mr. Arthur Larned</td>\n",
       "      <td>1</td>\n",
       "      <td>3</td>\n",
       "      <td>61.0</td>\n",
       "    </tr>\n",
       "  </tbody>\n",
       "</table>\n",
       "</div>"
      ],
      "text/plain": [
       "                       SurnameGroupId     Fare    Ticket  Pclass Embarked  \\\n",
       "1266       Bowen-1-C-262.375-PC 176__  262.375  PC 17608       1        C   \n",
       "950   Chaudanson-1-C-262.375-PC 176__  262.375  PC 17608       1        C   \n",
       "311      Ryerson-1-C-262.375-PC 176__  262.375  PC 17608       1        C   \n",
       "742      Ryerson-1-C-262.375-PC 176__  262.375  PC 17608       1        C   \n",
       "915      Ryerson-1-C-262.375-PC 176__  262.375  PC 17608       1        C   \n",
       "955      Ryerson-1-C-262.375-PC 176__  262.375  PC 17608       1        C   \n",
       "1033     Ryerson-1-C-262.375-PC 176__  262.375  PC 17608       1        C   \n",
       "\n",
       "                Cabin                                             Name  SibSp  \\\n",
       "1266              NaN                         Bowen, Miss. Grace Scott      0   \n",
       "950               B61                      Chaudanson, Miss. Victorine      0   \n",
       "311   B57 B59 B63 B66                       Ryerson, Miss. Emily Borie      2   \n",
       "742   B57 B59 B63 B66            Ryerson, Miss. Susan Parker \"Suzette\"      2   \n",
       "915   B57 B59 B63 B66  Ryerson, Mrs. Arthur Larned (Emily Maria Borie)      1   \n",
       "955   B57 B59 B63 B66                      Ryerson, Master. John Borie      2   \n",
       "1033  B57 B59 B63 B66                       Ryerson, Mr. Arthur Larned      1   \n",
       "\n",
       "      Parch   Age  \n",
       "1266      0  45.0  \n",
       "950       0  36.0  \n",
       "311       2  18.0  \n",
       "742       2  21.0  \n",
       "915       3  48.0  \n",
       "955       2  13.0  \n",
       "1033      3  61.0  "
      ]
     },
     "execution_count": 60,
     "metadata": {},
     "output_type": "execute_result"
    }
   ],
   "source": [
    "all_data.loc[(all_data.Ticket == 'PC 17608'), ['SurnameGroupId', 'Fare', 'Ticket', 'Pclass', 'Embarked', 'Cabin', 'Name', 'SibSp', 'Parch', 'Age']].sort_values(by=['SurnameGroupId'])"
   ]
  },
  {
   "cell_type": "markdown",
   "metadata": {},
   "source": [
    "#### 朋友团队组\n",
    "\n",
    "例子："
   ]
  },
  {
   "cell_type": "code",
   "execution_count": 61,
   "metadata": {},
   "outputs": [
    {
     "data": {
      "text/html": [
       "<div>\n",
       "<style scoped>\n",
       "    .dataframe tbody tr th:only-of-type {\n",
       "        vertical-align: middle;\n",
       "    }\n",
       "\n",
       "    .dataframe tbody tr th {\n",
       "        vertical-align: top;\n",
       "    }\n",
       "\n",
       "    .dataframe thead th {\n",
       "        text-align: right;\n",
       "    }\n",
       "</style>\n",
       "<table border=\"1\" class=\"dataframe\">\n",
       "  <thead>\n",
       "    <tr style=\"text-align: right;\">\n",
       "      <th></th>\n",
       "      <th>Age</th>\n",
       "      <th>Cabin</th>\n",
       "      <th>Embarked</th>\n",
       "      <th>Fare</th>\n",
       "      <th>Name</th>\n",
       "      <th>Parch</th>\n",
       "      <th>PassengerId</th>\n",
       "      <th>Pclass</th>\n",
       "      <th>Sex</th>\n",
       "      <th>SibSp</th>\n",
       "      <th>Survived</th>\n",
       "      <th>Ticket</th>\n",
       "      <th>TicketSize</th>\n",
       "      <th>SingleTicketFare</th>\n",
       "      <th>Title</th>\n",
       "      <th>Surname</th>\n",
       "      <th>FamilySize</th>\n",
       "      <th>SurnameGroupId</th>\n",
       "    </tr>\n",
       "  </thead>\n",
       "  <tbody>\n",
       "    <tr>\n",
       "      <th>61</th>\n",
       "      <td>38.0</td>\n",
       "      <td>B28</td>\n",
       "      <td>NaN</td>\n",
       "      <td>80.0</td>\n",
       "      <td>Icard, Miss. Amelie</td>\n",
       "      <td>0</td>\n",
       "      <td>62</td>\n",
       "      <td>1</td>\n",
       "      <td>female</td>\n",
       "      <td>0</td>\n",
       "      <td>1.0</td>\n",
       "      <td>113572</td>\n",
       "      <td>2</td>\n",
       "      <td>40.0</td>\n",
       "      <td>Miss</td>\n",
       "      <td>Icard</td>\n",
       "      <td>1</td>\n",
       "      <td>Icard-1-nan-80.0-1135__</td>\n",
       "    </tr>\n",
       "    <tr>\n",
       "      <th>829</th>\n",
       "      <td>62.0</td>\n",
       "      <td>B28</td>\n",
       "      <td>NaN</td>\n",
       "      <td>80.0</td>\n",
       "      <td>Stone, Mrs. George Nelson (Martha Evelyn)</td>\n",
       "      <td>0</td>\n",
       "      <td>830</td>\n",
       "      <td>1</td>\n",
       "      <td>female</td>\n",
       "      <td>0</td>\n",
       "      <td>1.0</td>\n",
       "      <td>113572</td>\n",
       "      <td>2</td>\n",
       "      <td>40.0</td>\n",
       "      <td>Mrs</td>\n",
       "      <td>Stone</td>\n",
       "      <td>1</td>\n",
       "      <td>Stone-1-nan-80.0-1135__</td>\n",
       "    </tr>\n",
       "  </tbody>\n",
       "</table>\n",
       "</div>"
      ],
      "text/plain": [
       "      Age Cabin Embarked  Fare                                       Name  \\\n",
       "61   38.0   B28      NaN  80.0                        Icard, Miss. Amelie   \n",
       "829  62.0   B28      NaN  80.0  Stone, Mrs. George Nelson (Martha Evelyn)   \n",
       "\n",
       "     Parch  PassengerId  Pclass     Sex  SibSp  Survived  Ticket  TicketSize  \\\n",
       "61       0           62       1  female      0       1.0  113572           2   \n",
       "829      0          830       1  female      0       1.0  113572           2   \n",
       "\n",
       "     SingleTicketFare Title Surname  FamilySize           SurnameGroupId  \n",
       "61               40.0  Miss   Icard           1  Icard-1-nan-80.0-1135__  \n",
       "829              40.0   Mrs   Stone           1  Stone-1-nan-80.0-1135__  "
      ]
     },
     "execution_count": 61,
     "metadata": {},
     "output_type": "execute_result"
    }
   ],
   "source": [
    "all_data[all_data.Ticket == '113572']"
   ]
  },
  {
   "cell_type": "markdown",
   "metadata": {},
   "source": [
    "尽管这2位乘客：`Surname, Name` 都不一致，`SibSp, Parch` 均为0，但是 `Pclass, Embarked, Fare, Ticket, Cabin` 完全一致，因此我们怀疑他们是朋友或同事？唯一疑问点：年龄差距比较大。\n",
    "\n",
    "下面一组情况也类似："
   ]
  },
  {
   "cell_type": "code",
   "execution_count": 62,
   "metadata": {},
   "outputs": [
    {
     "data": {
      "text/html": [
       "<div>\n",
       "<style scoped>\n",
       "    .dataframe tbody tr th:only-of-type {\n",
       "        vertical-align: middle;\n",
       "    }\n",
       "\n",
       "    .dataframe tbody tr th {\n",
       "        vertical-align: top;\n",
       "    }\n",
       "\n",
       "    .dataframe thead th {\n",
       "        text-align: right;\n",
       "    }\n",
       "</style>\n",
       "<table border=\"1\" class=\"dataframe\">\n",
       "  <thead>\n",
       "    <tr style=\"text-align: right;\">\n",
       "      <th></th>\n",
       "      <th>SurnameGroupId</th>\n",
       "      <th>Surname</th>\n",
       "      <th>Fare</th>\n",
       "      <th>Ticket</th>\n",
       "      <th>Pclass</th>\n",
       "      <th>Embarked</th>\n",
       "      <th>Cabin</th>\n",
       "      <th>Name</th>\n",
       "      <th>SibSp</th>\n",
       "      <th>Parch</th>\n",
       "      <th>Age</th>\n",
       "    </tr>\n",
       "  </thead>\n",
       "  <tbody>\n",
       "    <tr>\n",
       "      <th>74</th>\n",
       "      <td>Bing-3-S-56.4958-16__</td>\n",
       "      <td>Bing</td>\n",
       "      <td>56.4958</td>\n",
       "      <td>1601</td>\n",
       "      <td>3</td>\n",
       "      <td>S</td>\n",
       "      <td>NaN</td>\n",
       "      <td>Bing, Mr. Lee</td>\n",
       "      <td>0</td>\n",
       "      <td>0</td>\n",
       "      <td>32.0</td>\n",
       "    </tr>\n",
       "    <tr>\n",
       "      <th>838</th>\n",
       "      <td>Chip-3-S-56.4958-16__</td>\n",
       "      <td>Chip</td>\n",
       "      <td>56.4958</td>\n",
       "      <td>1601</td>\n",
       "      <td>3</td>\n",
       "      <td>S</td>\n",
       "      <td>NaN</td>\n",
       "      <td>Chip, Mr. Chang</td>\n",
       "      <td>0</td>\n",
       "      <td>0</td>\n",
       "      <td>32.0</td>\n",
       "    </tr>\n",
       "    <tr>\n",
       "      <th>643</th>\n",
       "      <td>Foo-3-S-56.4958-16__</td>\n",
       "      <td>Foo</td>\n",
       "      <td>56.4958</td>\n",
       "      <td>1601</td>\n",
       "      <td>3</td>\n",
       "      <td>S</td>\n",
       "      <td>NaN</td>\n",
       "      <td>Foo, Mr. Choong</td>\n",
       "      <td>0</td>\n",
       "      <td>0</td>\n",
       "      <td>NaN</td>\n",
       "    </tr>\n",
       "    <tr>\n",
       "      <th>930</th>\n",
       "      <td>Hee-3-S-56.4958-16__</td>\n",
       "      <td>Hee</td>\n",
       "      <td>56.4958</td>\n",
       "      <td>1601</td>\n",
       "      <td>3</td>\n",
       "      <td>S</td>\n",
       "      <td>NaN</td>\n",
       "      <td>Hee, Mr. Ling</td>\n",
       "      <td>0</td>\n",
       "      <td>0</td>\n",
       "      <td>NaN</td>\n",
       "    </tr>\n",
       "    <tr>\n",
       "      <th>692</th>\n",
       "      <td>Lam-3-S-56.4958-16__</td>\n",
       "      <td>Lam</td>\n",
       "      <td>56.4958</td>\n",
       "      <td>1601</td>\n",
       "      <td>3</td>\n",
       "      <td>S</td>\n",
       "      <td>NaN</td>\n",
       "      <td>Lam, Mr. Ali</td>\n",
       "      <td>0</td>\n",
       "      <td>0</td>\n",
       "      <td>NaN</td>\n",
       "    </tr>\n",
       "    <tr>\n",
       "      <th>826</th>\n",
       "      <td>Lam-3-S-56.4958-16__</td>\n",
       "      <td>Lam</td>\n",
       "      <td>56.4958</td>\n",
       "      <td>1601</td>\n",
       "      <td>3</td>\n",
       "      <td>S</td>\n",
       "      <td>NaN</td>\n",
       "      <td>Lam, Mr. Len</td>\n",
       "      <td>0</td>\n",
       "      <td>0</td>\n",
       "      <td>NaN</td>\n",
       "    </tr>\n",
       "    <tr>\n",
       "      <th>509</th>\n",
       "      <td>Lang-3-S-56.4958-16__</td>\n",
       "      <td>Lang</td>\n",
       "      <td>56.4958</td>\n",
       "      <td>1601</td>\n",
       "      <td>3</td>\n",
       "      <td>S</td>\n",
       "      <td>NaN</td>\n",
       "      <td>Lang, Mr. Fang</td>\n",
       "      <td>0</td>\n",
       "      <td>0</td>\n",
       "      <td>26.0</td>\n",
       "    </tr>\n",
       "    <tr>\n",
       "      <th>169</th>\n",
       "      <td>Ling-3-S-56.4958-16__</td>\n",
       "      <td>Ling</td>\n",
       "      <td>56.4958</td>\n",
       "      <td>1601</td>\n",
       "      <td>3</td>\n",
       "      <td>S</td>\n",
       "      <td>NaN</td>\n",
       "      <td>Ling, Mr. Lee</td>\n",
       "      <td>0</td>\n",
       "      <td>0</td>\n",
       "      <td>28.0</td>\n",
       "    </tr>\n",
       "  </tbody>\n",
       "</table>\n",
       "</div>"
      ],
      "text/plain": [
       "            SurnameGroupId Surname     Fare Ticket  Pclass Embarked Cabin  \\\n",
       "74   Bing-3-S-56.4958-16__    Bing  56.4958   1601       3        S   NaN   \n",
       "838  Chip-3-S-56.4958-16__    Chip  56.4958   1601       3        S   NaN   \n",
       "643   Foo-3-S-56.4958-16__     Foo  56.4958   1601       3        S   NaN   \n",
       "930   Hee-3-S-56.4958-16__     Hee  56.4958   1601       3        S   NaN   \n",
       "692   Lam-3-S-56.4958-16__     Lam  56.4958   1601       3        S   NaN   \n",
       "826   Lam-3-S-56.4958-16__     Lam  56.4958   1601       3        S   NaN   \n",
       "509  Lang-3-S-56.4958-16__    Lang  56.4958   1601       3        S   NaN   \n",
       "169  Ling-3-S-56.4958-16__    Ling  56.4958   1601       3        S   NaN   \n",
       "\n",
       "                Name  SibSp  Parch   Age  \n",
       "74     Bing, Mr. Lee      0      0  32.0  \n",
       "838  Chip, Mr. Chang      0      0  32.0  \n",
       "643  Foo, Mr. Choong      0      0   NaN  \n",
       "930    Hee, Mr. Ling      0      0   NaN  \n",
       "692     Lam, Mr. Ali      0      0   NaN  \n",
       "826     Lam, Mr. Len      0      0   NaN  \n",
       "509   Lang, Mr. Fang      0      0  26.0  \n",
       "169    Ling, Mr. Lee      0      0  28.0  "
      ]
     },
     "execution_count": 62,
     "metadata": {},
     "output_type": "execute_result"
    }
   ],
   "source": [
    "all_data.loc[(all_data.Ticket == '1601'), ['SurnameGroupId', 'Surname', 'Fare', 'Ticket', 'Pclass', 'Embarked', 'Cabin', 'Name', 'SibSp', 'Parch', 'Age']].sort_values(['Surname'])"
   ]
  },
  {
   "cell_type": "markdown",
   "metadata": {},
   "source": [
    "#### TicketGroupId\n",
    "\n",
    "**为了识别出保姆、表亲（甚至远亲）、朋友一起出行的情况，构建新的特征**：`TicketGroupId = Pclass-Embarked-Fare-Ticket` 如下所示："
   ]
  },
  {
   "cell_type": "code",
   "execution_count": 63,
   "metadata": {},
   "outputs": [],
   "source": [
    "getTicketGroupId(all_data)\n",
    "\n",
    "train = all_data.iloc[:train.shape[0], :]\n",
    "test = all_data.iloc[train.shape[0]:, :]"
   ]
  },
  {
   "cell_type": "code",
   "execution_count": 64,
   "metadata": {},
   "outputs": [
    {
     "data": {
      "text/plain": [
       "(932, 684, 363)"
      ]
     },
     "execution_count": 64,
     "metadata": {},
     "output_type": "execute_result"
    }
   ],
   "source": [
    "len(all_data.TicketGroupId.unique()), len(train.TicketGroupId.unique()), len(test.TicketGroupId.unique())"
   ]
  },
  {
   "cell_type": "markdown",
   "metadata": {},
   "source": [
    "再来看看经过 `TicketGroupId` 处理后前面2种情况：\n",
    "\n",
    "1.可能是保姆的情况："
   ]
  },
  {
   "cell_type": "code",
   "execution_count": 65,
   "metadata": {},
   "outputs": [
    {
     "data": {
      "text/html": [
       "<div>\n",
       "<style scoped>\n",
       "    .dataframe tbody tr th:only-of-type {\n",
       "        vertical-align: middle;\n",
       "    }\n",
       "\n",
       "    .dataframe tbody tr th {\n",
       "        vertical-align: top;\n",
       "    }\n",
       "\n",
       "    .dataframe thead th {\n",
       "        text-align: right;\n",
       "    }\n",
       "</style>\n",
       "<table border=\"1\" class=\"dataframe\">\n",
       "  <thead>\n",
       "    <tr style=\"text-align: right;\">\n",
       "      <th></th>\n",
       "      <th>TicketGroupId</th>\n",
       "      <th>Ticket</th>\n",
       "      <th>SurnameGroupId</th>\n",
       "      <th>Surname</th>\n",
       "      <th>Fare</th>\n",
       "      <th>Pclass</th>\n",
       "      <th>Embarked</th>\n",
       "      <th>Cabin</th>\n",
       "      <th>Name</th>\n",
       "      <th>SibSp</th>\n",
       "      <th>Parch</th>\n",
       "      <th>Age</th>\n",
       "      <th>Sex</th>\n",
       "    </tr>\n",
       "  </thead>\n",
       "  <tbody>\n",
       "    <tr>\n",
       "      <th>1266</th>\n",
       "      <td>1-C-262.375-PC 17608</td>\n",
       "      <td>PC 17608</td>\n",
       "      <td>Bowen-1-C-262.375-PC 176__</td>\n",
       "      <td>Bowen</td>\n",
       "      <td>262.375</td>\n",
       "      <td>1</td>\n",
       "      <td>C</td>\n",
       "      <td>NaN</td>\n",
       "      <td>Bowen, Miss. Grace Scott</td>\n",
       "      <td>0</td>\n",
       "      <td>0</td>\n",
       "      <td>45.0</td>\n",
       "      <td>female</td>\n",
       "    </tr>\n",
       "    <tr>\n",
       "      <th>950</th>\n",
       "      <td>1-C-262.375-PC 17608</td>\n",
       "      <td>PC 17608</td>\n",
       "      <td>Chaudanson-1-C-262.375-PC 176__</td>\n",
       "      <td>Chaudanson</td>\n",
       "      <td>262.375</td>\n",
       "      <td>1</td>\n",
       "      <td>C</td>\n",
       "      <td>B61</td>\n",
       "      <td>Chaudanson, Miss. Victorine</td>\n",
       "      <td>0</td>\n",
       "      <td>0</td>\n",
       "      <td>36.0</td>\n",
       "      <td>female</td>\n",
       "    </tr>\n",
       "    <tr>\n",
       "      <th>311</th>\n",
       "      <td>1-C-262.375-PC 17608</td>\n",
       "      <td>PC 17608</td>\n",
       "      <td>Ryerson-1-C-262.375-PC 176__</td>\n",
       "      <td>Ryerson</td>\n",
       "      <td>262.375</td>\n",
       "      <td>1</td>\n",
       "      <td>C</td>\n",
       "      <td>B57 B59 B63 B66</td>\n",
       "      <td>Ryerson, Miss. Emily Borie</td>\n",
       "      <td>2</td>\n",
       "      <td>2</td>\n",
       "      <td>18.0</td>\n",
       "      <td>female</td>\n",
       "    </tr>\n",
       "    <tr>\n",
       "      <th>742</th>\n",
       "      <td>1-C-262.375-PC 17608</td>\n",
       "      <td>PC 17608</td>\n",
       "      <td>Ryerson-1-C-262.375-PC 176__</td>\n",
       "      <td>Ryerson</td>\n",
       "      <td>262.375</td>\n",
       "      <td>1</td>\n",
       "      <td>C</td>\n",
       "      <td>B57 B59 B63 B66</td>\n",
       "      <td>Ryerson, Miss. Susan Parker \"Suzette\"</td>\n",
       "      <td>2</td>\n",
       "      <td>2</td>\n",
       "      <td>21.0</td>\n",
       "      <td>female</td>\n",
       "    </tr>\n",
       "    <tr>\n",
       "      <th>915</th>\n",
       "      <td>1-C-262.375-PC 17608</td>\n",
       "      <td>PC 17608</td>\n",
       "      <td>Ryerson-1-C-262.375-PC 176__</td>\n",
       "      <td>Ryerson</td>\n",
       "      <td>262.375</td>\n",
       "      <td>1</td>\n",
       "      <td>C</td>\n",
       "      <td>B57 B59 B63 B66</td>\n",
       "      <td>Ryerson, Mrs. Arthur Larned (Emily Maria Borie)</td>\n",
       "      <td>1</td>\n",
       "      <td>3</td>\n",
       "      <td>48.0</td>\n",
       "      <td>female</td>\n",
       "    </tr>\n",
       "    <tr>\n",
       "      <th>955</th>\n",
       "      <td>1-C-262.375-PC 17608</td>\n",
       "      <td>PC 17608</td>\n",
       "      <td>Ryerson-1-C-262.375-PC 176__</td>\n",
       "      <td>Ryerson</td>\n",
       "      <td>262.375</td>\n",
       "      <td>1</td>\n",
       "      <td>C</td>\n",
       "      <td>B57 B59 B63 B66</td>\n",
       "      <td>Ryerson, Master. John Borie</td>\n",
       "      <td>2</td>\n",
       "      <td>2</td>\n",
       "      <td>13.0</td>\n",
       "      <td>male</td>\n",
       "    </tr>\n",
       "    <tr>\n",
       "      <th>1033</th>\n",
       "      <td>1-C-262.375-PC 17608</td>\n",
       "      <td>PC 17608</td>\n",
       "      <td>Ryerson-1-C-262.375-PC 176__</td>\n",
       "      <td>Ryerson</td>\n",
       "      <td>262.375</td>\n",
       "      <td>1</td>\n",
       "      <td>C</td>\n",
       "      <td>B57 B59 B63 B66</td>\n",
       "      <td>Ryerson, Mr. Arthur Larned</td>\n",
       "      <td>1</td>\n",
       "      <td>3</td>\n",
       "      <td>61.0</td>\n",
       "      <td>male</td>\n",
       "    </tr>\n",
       "  </tbody>\n",
       "</table>\n",
       "</div>"
      ],
      "text/plain": [
       "             TicketGroupId    Ticket                   SurnameGroupId  \\\n",
       "1266  1-C-262.375-PC 17608  PC 17608       Bowen-1-C-262.375-PC 176__   \n",
       "950   1-C-262.375-PC 17608  PC 17608  Chaudanson-1-C-262.375-PC 176__   \n",
       "311   1-C-262.375-PC 17608  PC 17608     Ryerson-1-C-262.375-PC 176__   \n",
       "742   1-C-262.375-PC 17608  PC 17608     Ryerson-1-C-262.375-PC 176__   \n",
       "915   1-C-262.375-PC 17608  PC 17608     Ryerson-1-C-262.375-PC 176__   \n",
       "955   1-C-262.375-PC 17608  PC 17608     Ryerson-1-C-262.375-PC 176__   \n",
       "1033  1-C-262.375-PC 17608  PC 17608     Ryerson-1-C-262.375-PC 176__   \n",
       "\n",
       "         Surname     Fare  Pclass Embarked            Cabin  \\\n",
       "1266       Bowen  262.375       1        C              NaN   \n",
       "950   Chaudanson  262.375       1        C              B61   \n",
       "311      Ryerson  262.375       1        C  B57 B59 B63 B66   \n",
       "742      Ryerson  262.375       1        C  B57 B59 B63 B66   \n",
       "915      Ryerson  262.375       1        C  B57 B59 B63 B66   \n",
       "955      Ryerson  262.375       1        C  B57 B59 B63 B66   \n",
       "1033     Ryerson  262.375       1        C  B57 B59 B63 B66   \n",
       "\n",
       "                                                 Name  SibSp  Parch   Age  \\\n",
       "1266                         Bowen, Miss. Grace Scott      0      0  45.0   \n",
       "950                       Chaudanson, Miss. Victorine      0      0  36.0   \n",
       "311                        Ryerson, Miss. Emily Borie      2      2  18.0   \n",
       "742             Ryerson, Miss. Susan Parker \"Suzette\"      2      2  21.0   \n",
       "915   Ryerson, Mrs. Arthur Larned (Emily Maria Borie)      1      3  48.0   \n",
       "955                       Ryerson, Master. John Borie      2      2  13.0   \n",
       "1033                       Ryerson, Mr. Arthur Larned      1      3  61.0   \n",
       "\n",
       "         Sex  \n",
       "1266  female  \n",
       "950   female  \n",
       "311   female  \n",
       "742   female  \n",
       "915   female  \n",
       "955     male  \n",
       "1033    male  "
      ]
     },
     "execution_count": 65,
     "metadata": {},
     "output_type": "execute_result"
    }
   ],
   "source": [
    "all_data.loc[(all_data.Ticket == 'PC 17608'), ['TicketGroupId', 'Ticket', 'SurnameGroupId', 'Surname', 'Fare', 'Pclass', 'Embarked', 'Cabin', 'Name', 'SibSp', 'Parch', 'Age', 'Sex']].sort_values(by=['TicketGroupId', 'SurnameGroupId'])"
   ]
  },
  {
   "cell_type": "markdown",
   "metadata": {},
   "source": [
    "2.可能是朋友伴随出行的情况："
   ]
  },
  {
   "cell_type": "code",
   "execution_count": 66,
   "metadata": {},
   "outputs": [
    {
     "data": {
      "text/html": [
       "<div>\n",
       "<style scoped>\n",
       "    .dataframe tbody tr th:only-of-type {\n",
       "        vertical-align: middle;\n",
       "    }\n",
       "\n",
       "    .dataframe tbody tr th {\n",
       "        vertical-align: top;\n",
       "    }\n",
       "\n",
       "    .dataframe thead th {\n",
       "        text-align: right;\n",
       "    }\n",
       "</style>\n",
       "<table border=\"1\" class=\"dataframe\">\n",
       "  <thead>\n",
       "    <tr style=\"text-align: right;\">\n",
       "      <th></th>\n",
       "      <th>TicketGroupId</th>\n",
       "      <th>Ticket</th>\n",
       "      <th>SurnameGroupId</th>\n",
       "      <th>Surname</th>\n",
       "      <th>Fare</th>\n",
       "      <th>Pclass</th>\n",
       "      <th>Embarked</th>\n",
       "      <th>Cabin</th>\n",
       "      <th>Name</th>\n",
       "      <th>SibSp</th>\n",
       "      <th>Parch</th>\n",
       "      <th>Age</th>\n",
       "      <th>Sex</th>\n",
       "    </tr>\n",
       "  </thead>\n",
       "  <tbody>\n",
       "    <tr>\n",
       "      <th>61</th>\n",
       "      <td>1-nan-80.0-113572</td>\n",
       "      <td>113572</td>\n",
       "      <td>Icard-1-nan-80.0-1135__</td>\n",
       "      <td>Icard</td>\n",
       "      <td>80.0000</td>\n",
       "      <td>1</td>\n",
       "      <td>NaN</td>\n",
       "      <td>B28</td>\n",
       "      <td>Icard, Miss. Amelie</td>\n",
       "      <td>0</td>\n",
       "      <td>0</td>\n",
       "      <td>38.0</td>\n",
       "      <td>female</td>\n",
       "    </tr>\n",
       "    <tr>\n",
       "      <th>829</th>\n",
       "      <td>1-nan-80.0-113572</td>\n",
       "      <td>113572</td>\n",
       "      <td>Stone-1-nan-80.0-1135__</td>\n",
       "      <td>Stone</td>\n",
       "      <td>80.0000</td>\n",
       "      <td>1</td>\n",
       "      <td>NaN</td>\n",
       "      <td>B28</td>\n",
       "      <td>Stone, Mrs. George Nelson (Martha Evelyn)</td>\n",
       "      <td>0</td>\n",
       "      <td>0</td>\n",
       "      <td>62.0</td>\n",
       "      <td>female</td>\n",
       "    </tr>\n",
       "    <tr>\n",
       "      <th>74</th>\n",
       "      <td>3-S-56.4958-1601</td>\n",
       "      <td>1601</td>\n",
       "      <td>Bing-3-S-56.4958-16__</td>\n",
       "      <td>Bing</td>\n",
       "      <td>56.4958</td>\n",
       "      <td>3</td>\n",
       "      <td>S</td>\n",
       "      <td>NaN</td>\n",
       "      <td>Bing, Mr. Lee</td>\n",
       "      <td>0</td>\n",
       "      <td>0</td>\n",
       "      <td>32.0</td>\n",
       "      <td>male</td>\n",
       "    </tr>\n",
       "    <tr>\n",
       "      <th>169</th>\n",
       "      <td>3-S-56.4958-1601</td>\n",
       "      <td>1601</td>\n",
       "      <td>Ling-3-S-56.4958-16__</td>\n",
       "      <td>Ling</td>\n",
       "      <td>56.4958</td>\n",
       "      <td>3</td>\n",
       "      <td>S</td>\n",
       "      <td>NaN</td>\n",
       "      <td>Ling, Mr. Lee</td>\n",
       "      <td>0</td>\n",
       "      <td>0</td>\n",
       "      <td>28.0</td>\n",
       "      <td>male</td>\n",
       "    </tr>\n",
       "    <tr>\n",
       "      <th>509</th>\n",
       "      <td>3-S-56.4958-1601</td>\n",
       "      <td>1601</td>\n",
       "      <td>Lang-3-S-56.4958-16__</td>\n",
       "      <td>Lang</td>\n",
       "      <td>56.4958</td>\n",
       "      <td>3</td>\n",
       "      <td>S</td>\n",
       "      <td>NaN</td>\n",
       "      <td>Lang, Mr. Fang</td>\n",
       "      <td>0</td>\n",
       "      <td>0</td>\n",
       "      <td>26.0</td>\n",
       "      <td>male</td>\n",
       "    </tr>\n",
       "    <tr>\n",
       "      <th>643</th>\n",
       "      <td>3-S-56.4958-1601</td>\n",
       "      <td>1601</td>\n",
       "      <td>Foo-3-S-56.4958-16__</td>\n",
       "      <td>Foo</td>\n",
       "      <td>56.4958</td>\n",
       "      <td>3</td>\n",
       "      <td>S</td>\n",
       "      <td>NaN</td>\n",
       "      <td>Foo, Mr. Choong</td>\n",
       "      <td>0</td>\n",
       "      <td>0</td>\n",
       "      <td>NaN</td>\n",
       "      <td>male</td>\n",
       "    </tr>\n",
       "    <tr>\n",
       "      <th>692</th>\n",
       "      <td>3-S-56.4958-1601</td>\n",
       "      <td>1601</td>\n",
       "      <td>Lam-3-S-56.4958-16__</td>\n",
       "      <td>Lam</td>\n",
       "      <td>56.4958</td>\n",
       "      <td>3</td>\n",
       "      <td>S</td>\n",
       "      <td>NaN</td>\n",
       "      <td>Lam, Mr. Ali</td>\n",
       "      <td>0</td>\n",
       "      <td>0</td>\n",
       "      <td>NaN</td>\n",
       "      <td>male</td>\n",
       "    </tr>\n",
       "    <tr>\n",
       "      <th>826</th>\n",
       "      <td>3-S-56.4958-1601</td>\n",
       "      <td>1601</td>\n",
       "      <td>Lam-3-S-56.4958-16__</td>\n",
       "      <td>Lam</td>\n",
       "      <td>56.4958</td>\n",
       "      <td>3</td>\n",
       "      <td>S</td>\n",
       "      <td>NaN</td>\n",
       "      <td>Lam, Mr. Len</td>\n",
       "      <td>0</td>\n",
       "      <td>0</td>\n",
       "      <td>NaN</td>\n",
       "      <td>male</td>\n",
       "    </tr>\n",
       "    <tr>\n",
       "      <th>838</th>\n",
       "      <td>3-S-56.4958-1601</td>\n",
       "      <td>1601</td>\n",
       "      <td>Chip-3-S-56.4958-16__</td>\n",
       "      <td>Chip</td>\n",
       "      <td>56.4958</td>\n",
       "      <td>3</td>\n",
       "      <td>S</td>\n",
       "      <td>NaN</td>\n",
       "      <td>Chip, Mr. Chang</td>\n",
       "      <td>0</td>\n",
       "      <td>0</td>\n",
       "      <td>32.0</td>\n",
       "      <td>male</td>\n",
       "    </tr>\n",
       "    <tr>\n",
       "      <th>930</th>\n",
       "      <td>3-S-56.4958-1601</td>\n",
       "      <td>1601</td>\n",
       "      <td>Hee-3-S-56.4958-16__</td>\n",
       "      <td>Hee</td>\n",
       "      <td>56.4958</td>\n",
       "      <td>3</td>\n",
       "      <td>S</td>\n",
       "      <td>NaN</td>\n",
       "      <td>Hee, Mr. Ling</td>\n",
       "      <td>0</td>\n",
       "      <td>0</td>\n",
       "      <td>NaN</td>\n",
       "      <td>male</td>\n",
       "    </tr>\n",
       "  </tbody>\n",
       "</table>\n",
       "</div>"
      ],
      "text/plain": [
       "         TicketGroupId  Ticket           SurnameGroupId Surname     Fare  \\\n",
       "61   1-nan-80.0-113572  113572  Icard-1-nan-80.0-1135__   Icard  80.0000   \n",
       "829  1-nan-80.0-113572  113572  Stone-1-nan-80.0-1135__   Stone  80.0000   \n",
       "74    3-S-56.4958-1601    1601    Bing-3-S-56.4958-16__    Bing  56.4958   \n",
       "169   3-S-56.4958-1601    1601    Ling-3-S-56.4958-16__    Ling  56.4958   \n",
       "509   3-S-56.4958-1601    1601    Lang-3-S-56.4958-16__    Lang  56.4958   \n",
       "643   3-S-56.4958-1601    1601     Foo-3-S-56.4958-16__     Foo  56.4958   \n",
       "692   3-S-56.4958-1601    1601     Lam-3-S-56.4958-16__     Lam  56.4958   \n",
       "826   3-S-56.4958-1601    1601     Lam-3-S-56.4958-16__     Lam  56.4958   \n",
       "838   3-S-56.4958-1601    1601    Chip-3-S-56.4958-16__    Chip  56.4958   \n",
       "930   3-S-56.4958-1601    1601     Hee-3-S-56.4958-16__     Hee  56.4958   \n",
       "\n",
       "     Pclass Embarked Cabin                                       Name  SibSp  \\\n",
       "61        1      NaN   B28                        Icard, Miss. Amelie      0   \n",
       "829       1      NaN   B28  Stone, Mrs. George Nelson (Martha Evelyn)      0   \n",
       "74        3        S   NaN                              Bing, Mr. Lee      0   \n",
       "169       3        S   NaN                              Ling, Mr. Lee      0   \n",
       "509       3        S   NaN                             Lang, Mr. Fang      0   \n",
       "643       3        S   NaN                            Foo, Mr. Choong      0   \n",
       "692       3        S   NaN                               Lam, Mr. Ali      0   \n",
       "826       3        S   NaN                               Lam, Mr. Len      0   \n",
       "838       3        S   NaN                            Chip, Mr. Chang      0   \n",
       "930       3        S   NaN                              Hee, Mr. Ling      0   \n",
       "\n",
       "     Parch   Age     Sex  \n",
       "61       0  38.0  female  \n",
       "829      0  62.0  female  \n",
       "74       0  32.0    male  \n",
       "169      0  28.0    male  \n",
       "509      0  26.0    male  \n",
       "643      0   NaN    male  \n",
       "692      0   NaN    male  \n",
       "826      0   NaN    male  \n",
       "838      0  32.0    male  \n",
       "930      0   NaN    male  "
      ]
     },
     "execution_count": 66,
     "metadata": {},
     "output_type": "execute_result"
    }
   ],
   "source": [
    "all_data.loc[ (all_data.Ticket == '113572') | (all_data.Ticket == '1601'),['TicketGroupId', 'Ticket', 'SurnameGroupId', 'Surname', 'Fare', 'Pclass', 'Embarked', 'Cabin', 'Name', 'SibSp', 'Parch', 'Age', 'Sex']].sort_values(by=['TicketGroupId']) "
   ]
  },
  {
   "cell_type": "markdown",
   "metadata": {},
   "source": [
    "显然经过前面的分析，我们清楚 `SurnameGroupId` 比 `TicketGroupId` 更靠谱地识别出一起出行的人，毕竟 `TicketGroupId` 是由更少的特征组合起来的，那么来试试找出，哪些乘客可能是保姆远亲，甚至朋友一起出行。\n",
    "\n",
    "这些人的特征:\n",
    "\n",
    "1. 这些人（保姆、远亲、朋友）跟所在的至亲家庭几乎不可能是同一个 `SurnameGroupId`，因此他们这些人的 `SurnameGroupSize==1` \n",
    "2. 有了上一条推论，我们清楚有了 `SurnameGoupId` 以后，我们根据 `TicketGroupId` 找到保姆所在的家庭，远亲一起来的家庭，朋友团，然后修改保姆远亲朋友的 `SurnameGroupId`，或者重新定义一个字段 `TogetherId`（这个方法更麻烦一些）。\n",
    "\n",
    "首先，我们先创建出以下两个特征："
   ]
  },
  {
   "cell_type": "markdown",
   "metadata": {},
   "source": [
    "#### TicketGroupSize 和 SurnameGroupSize"
   ]
  },
  {
   "cell_type": "code",
   "execution_count": 67,
   "metadata": {},
   "outputs": [
    {
     "data": {
      "text/html": [
       "<div>\n",
       "<style scoped>\n",
       "    .dataframe tbody tr th:only-of-type {\n",
       "        vertical-align: middle;\n",
       "    }\n",
       "\n",
       "    .dataframe tbody tr th {\n",
       "        vertical-align: top;\n",
       "    }\n",
       "\n",
       "    .dataframe thead th {\n",
       "        text-align: right;\n",
       "    }\n",
       "</style>\n",
       "<table border=\"1\" class=\"dataframe\">\n",
       "  <thead>\n",
       "    <tr style=\"text-align: right;\">\n",
       "      <th></th>\n",
       "      <th>SurnameGroupSize</th>\n",
       "      <th>SurnameGroupId</th>\n",
       "      <th>TicketGroupId</th>\n",
       "      <th>Cabin</th>\n",
       "      <th>Name</th>\n",
       "      <th>SibSp</th>\n",
       "      <th>Parch</th>\n",
       "      <th>Age</th>\n",
       "    </tr>\n",
       "  </thead>\n",
       "  <tbody>\n",
       "    <tr>\n",
       "      <th>845</th>\n",
       "      <td>1</td>\n",
       "      <td>Abbing-3-S-7.55-C.A. 55__</td>\n",
       "      <td>3-S-7.55-C.A. 5547</td>\n",
       "      <td>NaN</td>\n",
       "      <td>Abbing, Mr. Anthony</td>\n",
       "      <td>0</td>\n",
       "      <td>0</td>\n",
       "      <td>42.0</td>\n",
       "    </tr>\n",
       "    <tr>\n",
       "      <th>1283</th>\n",
       "      <td>3</td>\n",
       "      <td>Abbott-3-S-20.25-C.A. 26__</td>\n",
       "      <td>3-S-20.25-C.A. 2673</td>\n",
       "      <td>NaN</td>\n",
       "      <td>Abbott, Master. Eugene Joseph</td>\n",
       "      <td>0</td>\n",
       "      <td>2</td>\n",
       "      <td>13.0</td>\n",
       "    </tr>\n",
       "    <tr>\n",
       "      <th>746</th>\n",
       "      <td>3</td>\n",
       "      <td>Abbott-3-S-20.25-C.A. 26__</td>\n",
       "      <td>3-S-20.25-C.A. 2673</td>\n",
       "      <td>NaN</td>\n",
       "      <td>Abbott, Mr. Rossmore Edward</td>\n",
       "      <td>1</td>\n",
       "      <td>1</td>\n",
       "      <td>16.0</td>\n",
       "    </tr>\n",
       "    <tr>\n",
       "      <th>279</th>\n",
       "      <td>3</td>\n",
       "      <td>Abbott-3-S-20.25-C.A. 26__</td>\n",
       "      <td>3-S-20.25-C.A. 2673</td>\n",
       "      <td>NaN</td>\n",
       "      <td>Abbott, Mrs. Stanton (Rosa Hunt)</td>\n",
       "      <td>1</td>\n",
       "      <td>1</td>\n",
       "      <td>35.0</td>\n",
       "    </tr>\n",
       "    <tr>\n",
       "      <th>948</th>\n",
       "      <td>2</td>\n",
       "      <td>Abelseth-3-S-7.65-3481__</td>\n",
       "      <td>3-S-7.65-348122</td>\n",
       "      <td>F G63</td>\n",
       "      <td>Abelseth, Mr. Olaus Jorgensen</td>\n",
       "      <td>0</td>\n",
       "      <td>0</td>\n",
       "      <td>25.0</td>\n",
       "    </tr>\n",
       "    <tr>\n",
       "      <th>1236</th>\n",
       "      <td>2</td>\n",
       "      <td>Abelseth-3-S-7.65-3481__</td>\n",
       "      <td>3-S-7.65-348125</td>\n",
       "      <td>NaN</td>\n",
       "      <td>Abelseth, Miss. Karen Marie</td>\n",
       "      <td>0</td>\n",
       "      <td>0</td>\n",
       "      <td>16.0</td>\n",
       "    </tr>\n",
       "    <tr>\n",
       "      <th>874</th>\n",
       "      <td>2</td>\n",
       "      <td>Abelson-2-C-24.0-P/PP 33__</td>\n",
       "      <td>2-C-24.0-P/PP 3381</td>\n",
       "      <td>NaN</td>\n",
       "      <td>Abelson, Mrs. Samuel (Hannah Wizosky)</td>\n",
       "      <td>1</td>\n",
       "      <td>0</td>\n",
       "      <td>28.0</td>\n",
       "    </tr>\n",
       "    <tr>\n",
       "      <th>308</th>\n",
       "      <td>2</td>\n",
       "      <td>Abelson-2-C-24.0-P/PP 33__</td>\n",
       "      <td>2-C-24.0-P/PP 3381</td>\n",
       "      <td>NaN</td>\n",
       "      <td>Abelson, Mr. Samuel</td>\n",
       "      <td>1</td>\n",
       "      <td>0</td>\n",
       "      <td>30.0</td>\n",
       "    </tr>\n",
       "  </tbody>\n",
       "</table>\n",
       "</div>"
      ],
      "text/plain": [
       "      SurnameGroupSize              SurnameGroupId        TicketGroupId  \\\n",
       "845                  1   Abbing-3-S-7.55-C.A. 55__   3-S-7.55-C.A. 5547   \n",
       "1283                 3  Abbott-3-S-20.25-C.A. 26__  3-S-20.25-C.A. 2673   \n",
       "746                  3  Abbott-3-S-20.25-C.A. 26__  3-S-20.25-C.A. 2673   \n",
       "279                  3  Abbott-3-S-20.25-C.A. 26__  3-S-20.25-C.A. 2673   \n",
       "948                  2    Abelseth-3-S-7.65-3481__      3-S-7.65-348122   \n",
       "1236                 2    Abelseth-3-S-7.65-3481__      3-S-7.65-348125   \n",
       "874                  2  Abelson-2-C-24.0-P/PP 33__   2-C-24.0-P/PP 3381   \n",
       "308                  2  Abelson-2-C-24.0-P/PP 33__   2-C-24.0-P/PP 3381   \n",
       "\n",
       "      Cabin                                   Name  SibSp  Parch   Age  \n",
       "845     NaN                    Abbing, Mr. Anthony      0      0  42.0  \n",
       "1283    NaN          Abbott, Master. Eugene Joseph      0      2  13.0  \n",
       "746     NaN            Abbott, Mr. Rossmore Edward      1      1  16.0  \n",
       "279     NaN       Abbott, Mrs. Stanton (Rosa Hunt)      1      1  35.0  \n",
       "948   F G63          Abelseth, Mr. Olaus Jorgensen      0      0  25.0  \n",
       "1236    NaN            Abelseth, Miss. Karen Marie      0      0  16.0  \n",
       "874     NaN  Abelson, Mrs. Samuel (Hannah Wizosky)      1      0  28.0  \n",
       "308     NaN                    Abelson, Mr. Samuel      1      0  30.0  "
      ]
     },
     "execution_count": 67,
     "metadata": {},
     "output_type": "execute_result"
    }
   ],
   "source": [
    "surname_group_value_count = all_data.SurnameGroupId.value_counts()\n",
    "all_data['SurnameGroupSize'] = all_data.apply(lambda row : surname_group_value_count[row.SurnameGroupId], axis=1)\n",
    "\n",
    "all_data.sort_values(['SurnameGroupId']).loc[:, ['SurnameGroupSize', 'SurnameGroupId', 'TicketGroupId', 'Cabin', 'Name', 'SibSp', 'Parch', 'Age']].head(8)"
   ]
  },
  {
   "cell_type": "code",
   "execution_count": 68,
   "metadata": {},
   "outputs": [
    {
     "data": {
      "text/plain": [
       "<matplotlib.axes._subplots.AxesSubplot at 0x2d588eacc18>"
      ]
     },
     "execution_count": 68,
     "metadata": {},
     "output_type": "execute_result"
    },
    {
     "data": {
      "image/png": "[encoded data removed]",
      "text/plain": [
       "<Figure size 360x360 with 1 Axes>"
      ]
     },
     "metadata": {},
     "output_type": "display_data"
    }
   ],
   "source": [
    "sns.barplot(x='SurnameGroupSize', y='Survived', data = all_data)"
   ]
  },
  {
   "cell_type": "code",
   "execution_count": 69,
   "metadata": {},
   "outputs": [
    {
     "data": {
      "text/html": [
       "<div>\n",
       "<style scoped>\n",
       "    .dataframe tbody tr th:only-of-type {\n",
       "        vertical-align: middle;\n",
       "    }\n",
       "\n",
       "    .dataframe tbody tr th {\n",
       "        vertical-align: top;\n",
       "    }\n",
       "\n",
       "    .dataframe thead th {\n",
       "        text-align: right;\n",
       "    }\n",
       "</style>\n",
       "<table border=\"1\" class=\"dataframe\">\n",
       "  <thead>\n",
       "    <tr style=\"text-align: right;\">\n",
       "      <th></th>\n",
       "      <th>TicketGroupSize</th>\n",
       "      <th>TicketGroupId</th>\n",
       "      <th>SurnameGroupId</th>\n",
       "      <th>Cabin</th>\n",
       "      <th>Name</th>\n",
       "      <th>SibSp</th>\n",
       "      <th>Parch</th>\n",
       "      <th>Age</th>\n",
       "    </tr>\n",
       "  </thead>\n",
       "  <tbody>\n",
       "    <tr>\n",
       "      <th>1130</th>\n",
       "      <td>3</td>\n",
       "      <td>1-C-106.425-PC 17761</td>\n",
       "      <td>Douglas-1-C-106.425-PC 177__</td>\n",
       "      <td>C86</td>\n",
       "      <td>Douglas, Mrs. Walter Donald (Mahala Dutton)</td>\n",
       "      <td>1</td>\n",
       "      <td>0</td>\n",
       "      <td>48.0</td>\n",
       "    </tr>\n",
       "    <tr>\n",
       "      <th>537</th>\n",
       "      <td>3</td>\n",
       "      <td>1-C-106.425-PC 17761</td>\n",
       "      <td>LeRoy-1-C-106.425-PC 177__</td>\n",
       "      <td>NaN</td>\n",
       "      <td>LeRoy, Miss. Bertha</td>\n",
       "      <td>0</td>\n",
       "      <td>0</td>\n",
       "      <td>30.0</td>\n",
       "    </tr>\n",
       "    <tr>\n",
       "      <th>544</th>\n",
       "      <td>3</td>\n",
       "      <td>1-C-106.425-PC 17761</td>\n",
       "      <td>Douglas-1-C-106.425-PC 177__</td>\n",
       "      <td>C86</td>\n",
       "      <td>Douglas, Mr. Walter Donald</td>\n",
       "      <td>1</td>\n",
       "      <td>0</td>\n",
       "      <td>50.0</td>\n",
       "    </tr>\n",
       "    <tr>\n",
       "      <th>1305</th>\n",
       "      <td>3</td>\n",
       "      <td>1-C-108.9-PC 17758</td>\n",
       "      <td>Oliva y Ocana-1-C-108.9-PC 177__</td>\n",
       "      <td>C105</td>\n",
       "      <td>Oliva y Ocana, Dona. Fermina</td>\n",
       "      <td>0</td>\n",
       "      <td>0</td>\n",
       "      <td>39.0</td>\n",
       "    </tr>\n",
       "    <tr>\n",
       "      <th>307</th>\n",
       "      <td>3</td>\n",
       "      <td>1-C-108.9-PC 17758</td>\n",
       "      <td>Penasco y Castellana-1-C-108.9-PC 177__</td>\n",
       "      <td>C65</td>\n",
       "      <td>Penasco y Castellana, Mrs. Victor de Satode (M...</td>\n",
       "      <td>1</td>\n",
       "      <td>0</td>\n",
       "      <td>17.0</td>\n",
       "    </tr>\n",
       "    <tr>\n",
       "      <th>505</th>\n",
       "      <td>3</td>\n",
       "      <td>1-C-108.9-PC 17758</td>\n",
       "      <td>Penasco y Castellana-1-C-108.9-PC 177__</td>\n",
       "      <td>C65</td>\n",
       "      <td>Penasco y Castellana, Mr. Victor de Satode</td>\n",
       "      <td>1</td>\n",
       "      <td>0</td>\n",
       "      <td>18.0</td>\n",
       "    </tr>\n",
       "  </tbody>\n",
       "</table>\n",
       "</div>"
      ],
      "text/plain": [
       "      TicketGroupSize         TicketGroupId  \\\n",
       "1130                3  1-C-106.425-PC 17761   \n",
       "537                 3  1-C-106.425-PC 17761   \n",
       "544                 3  1-C-106.425-PC 17761   \n",
       "1305                3    1-C-108.9-PC 17758   \n",
       "307                 3    1-C-108.9-PC 17758   \n",
       "505                 3    1-C-108.9-PC 17758   \n",
       "\n",
       "                               SurnameGroupId Cabin  \\\n",
       "1130             Douglas-1-C-106.425-PC 177__   C86   \n",
       "537                LeRoy-1-C-106.425-PC 177__   NaN   \n",
       "544              Douglas-1-C-106.425-PC 177__   C86   \n",
       "1305         Oliva y Ocana-1-C-108.9-PC 177__  C105   \n",
       "307   Penasco y Castellana-1-C-108.9-PC 177__   C65   \n",
       "505   Penasco y Castellana-1-C-108.9-PC 177__   C65   \n",
       "\n",
       "                                                   Name  SibSp  Parch   Age  \n",
       "1130        Douglas, Mrs. Walter Donald (Mahala Dutton)      1      0  48.0  \n",
       "537                                 LeRoy, Miss. Bertha      0      0  30.0  \n",
       "544                          Douglas, Mr. Walter Donald      1      0  50.0  \n",
       "1305                       Oliva y Ocana, Dona. Fermina      0      0  39.0  \n",
       "307   Penasco y Castellana, Mrs. Victor de Satode (M...      1      0  17.0  \n",
       "505          Penasco y Castellana, Mr. Victor de Satode      1      0  18.0  "
      ]
     },
     "execution_count": 69,
     "metadata": {},
     "output_type": "execute_result"
    }
   ],
   "source": [
    "ticket_group_value_count = dict(all_data.TicketGroupId.value_counts())\n",
    "all_data['TicketGroupSize'] = all_data.apply(lambda row : ticket_group_value_count[row.TicketGroupId], axis=1)\n",
    "\n",
    "all_data.sort_values(['TicketGroupId']).loc[:, ['TicketGroupSize', 'TicketGroupId', 'SurnameGroupId', 'Cabin', 'Name', 'SibSp', 'Parch', 'Age']].head(6)"
   ]
  },
  {
   "cell_type": "code",
   "execution_count": 70,
   "metadata": {},
   "outputs": [
    {
     "data": {
      "text/plain": [
       "<matplotlib.axes._subplots.AxesSubplot at 0x2d588eac588>"
      ]
     },
     "execution_count": 70,
     "metadata": {},
     "output_type": "execute_result"
    },
    {
     "data": {
      "image/png": "[encoded data removed]",
      "text/plain": [
       "<Figure size 360x360 with 1 Axes>"
      ]
     },
     "metadata": {},
     "output_type": "display_data"
    }
   ],
   "source": [
    "sns.barplot(x='TicketGroupSize', y='Survived', data = all_data)"
   ]
  },
  {
   "cell_type": "code",
   "execution_count": 71,
   "metadata": {
    "scrolled": true
   },
   "outputs": [
    {
     "data": {
      "text/html": [
       "<div>\n",
       "<style scoped>\n",
       "    .dataframe tbody tr th:only-of-type {\n",
       "        vertical-align: middle;\n",
       "    }\n",
       "\n",
       "    .dataframe tbody tr th {\n",
       "        vertical-align: top;\n",
       "    }\n",
       "\n",
       "    .dataframe thead th {\n",
       "        text-align: right;\n",
       "    }\n",
       "</style>\n",
       "<table border=\"1\" class=\"dataframe\">\n",
       "  <thead>\n",
       "    <tr style=\"text-align: right;\">\n",
       "      <th></th>\n",
       "      <th>Age</th>\n",
       "      <th>Cabin</th>\n",
       "      <th>Embarked</th>\n",
       "      <th>Fare</th>\n",
       "      <th>Name</th>\n",
       "      <th>Parch</th>\n",
       "      <th>PassengerId</th>\n",
       "      <th>Pclass</th>\n",
       "      <th>Sex</th>\n",
       "      <th>SibSp</th>\n",
       "      <th>...</th>\n",
       "      <th>Ticket</th>\n",
       "      <th>TicketSize</th>\n",
       "      <th>SingleTicketFare</th>\n",
       "      <th>Title</th>\n",
       "      <th>Surname</th>\n",
       "      <th>FamilySize</th>\n",
       "      <th>SurnameGroupId</th>\n",
       "      <th>TicketGroupId</th>\n",
       "      <th>SurnameGroupSize</th>\n",
       "      <th>TicketGroupSize</th>\n",
       "    </tr>\n",
       "  </thead>\n",
       "  <tbody>\n",
       "    <tr>\n",
       "      <th>0</th>\n",
       "      <td>22.0</td>\n",
       "      <td>NaN</td>\n",
       "      <td>S</td>\n",
       "      <td>7.2500</td>\n",
       "      <td>Braund, Mr. Owen Harris</td>\n",
       "      <td>0</td>\n",
       "      <td>1</td>\n",
       "      <td>3</td>\n",
       "      <td>male</td>\n",
       "      <td>1</td>\n",
       "      <td>...</td>\n",
       "      <td>A/5 21171</td>\n",
       "      <td>1</td>\n",
       "      <td>7.25000</td>\n",
       "      <td>Mr</td>\n",
       "      <td>Braund</td>\n",
       "      <td>2</td>\n",
       "      <td>Braund-3-S-7.25-A/5 211__</td>\n",
       "      <td>3-S-7.25-A/5 21171</td>\n",
       "      <td>1</td>\n",
       "      <td>1</td>\n",
       "    </tr>\n",
       "    <tr>\n",
       "      <th>1</th>\n",
       "      <td>38.0</td>\n",
       "      <td>C85</td>\n",
       "      <td>C</td>\n",
       "      <td>71.2833</td>\n",
       "      <td>Cumings, Mrs. John Bradley (Florence Briggs Th...</td>\n",
       "      <td>0</td>\n",
       "      <td>2</td>\n",
       "      <td>1</td>\n",
       "      <td>female</td>\n",
       "      <td>1</td>\n",
       "      <td>...</td>\n",
       "      <td>PC 17599</td>\n",
       "      <td>2</td>\n",
       "      <td>35.64165</td>\n",
       "      <td>Mrs</td>\n",
       "      <td>Cumings</td>\n",
       "      <td>2</td>\n",
       "      <td>Cumings-1-C-71.2833-PC 175__</td>\n",
       "      <td>1-C-71.2833-PC 17599</td>\n",
       "      <td>2</td>\n",
       "      <td>2</td>\n",
       "    </tr>\n",
       "    <tr>\n",
       "      <th>2</th>\n",
       "      <td>26.0</td>\n",
       "      <td>NaN</td>\n",
       "      <td>S</td>\n",
       "      <td>7.9250</td>\n",
       "      <td>Heikkinen, Miss. Laina</td>\n",
       "      <td>0</td>\n",
       "      <td>3</td>\n",
       "      <td>3</td>\n",
       "      <td>female</td>\n",
       "      <td>0</td>\n",
       "      <td>...</td>\n",
       "      <td>STON/O2. 3101282</td>\n",
       "      <td>1</td>\n",
       "      <td>7.92500</td>\n",
       "      <td>Miss</td>\n",
       "      <td>Heikkinen</td>\n",
       "      <td>1</td>\n",
       "      <td>Heikkinen-3-S-7.925-STON/O2. 31012__</td>\n",
       "      <td>3-S-7.925-STON/O2. 3101282</td>\n",
       "      <td>1</td>\n",
       "      <td>1</td>\n",
       "    </tr>\n",
       "    <tr>\n",
       "      <th>3</th>\n",
       "      <td>35.0</td>\n",
       "      <td>C123</td>\n",
       "      <td>S</td>\n",
       "      <td>53.1000</td>\n",
       "      <td>Futrelle, Mrs. Jacques Heath (Lily May Peel)</td>\n",
       "      <td>0</td>\n",
       "      <td>4</td>\n",
       "      <td>1</td>\n",
       "      <td>female</td>\n",
       "      <td>1</td>\n",
       "      <td>...</td>\n",
       "      <td>113803</td>\n",
       "      <td>2</td>\n",
       "      <td>26.55000</td>\n",
       "      <td>Mrs</td>\n",
       "      <td>Futrelle</td>\n",
       "      <td>2</td>\n",
       "      <td>Futrelle-1-S-53.1-1138__</td>\n",
       "      <td>1-S-53.1-113803</td>\n",
       "      <td>2</td>\n",
       "      <td>2</td>\n",
       "    </tr>\n",
       "    <tr>\n",
       "      <th>4</th>\n",
       "      <td>35.0</td>\n",
       "      <td>NaN</td>\n",
       "      <td>S</td>\n",
       "      <td>8.0500</td>\n",
       "      <td>Allen, Mr. William Henry</td>\n",
       "      <td>0</td>\n",
       "      <td>5</td>\n",
       "      <td>3</td>\n",
       "      <td>male</td>\n",
       "      <td>0</td>\n",
       "      <td>...</td>\n",
       "      <td>373450</td>\n",
       "      <td>1</td>\n",
       "      <td>8.05000</td>\n",
       "      <td>Mr</td>\n",
       "      <td>Allen</td>\n",
       "      <td>2</td>\n",
       "      <td>Allen-3-S-8.05-3734__</td>\n",
       "      <td>3-S-8.05-373450</td>\n",
       "      <td>1</td>\n",
       "      <td>1</td>\n",
       "    </tr>\n",
       "  </tbody>\n",
       "</table>\n",
       "<p>5 rows × 21 columns</p>\n",
       "</div>"
      ],
      "text/plain": [
       "    Age Cabin Embarked     Fare  \\\n",
       "0  22.0   NaN        S   7.2500   \n",
       "1  38.0   C85        C  71.2833   \n",
       "2  26.0   NaN        S   7.9250   \n",
       "3  35.0  C123        S  53.1000   \n",
       "4  35.0   NaN        S   8.0500   \n",
       "\n",
       "                                                Name  Parch  PassengerId  \\\n",
       "0                            Braund, Mr. Owen Harris      0            1   \n",
       "1  Cumings, Mrs. John Bradley (Florence Briggs Th...      0            2   \n",
       "2                             Heikkinen, Miss. Laina      0            3   \n",
       "3       Futrelle, Mrs. Jacques Heath (Lily May Peel)      0            4   \n",
       "4                           Allen, Mr. William Henry      0            5   \n",
       "\n",
       "   Pclass     Sex  SibSp       ...                   Ticket TicketSize  \\\n",
       "0       3    male      1       ...                A/5 21171          1   \n",
       "1       1  female      1       ...                 PC 17599          2   \n",
       "2       3  female      0       ...         STON/O2. 3101282          1   \n",
       "3       1  female      1       ...                   113803          2   \n",
       "4       3    male      0       ...                   373450          1   \n",
       "\n",
       "   SingleTicketFare  Title    Surname FamilySize  \\\n",
       "0           7.25000     Mr     Braund          2   \n",
       "1          35.64165    Mrs    Cumings          2   \n",
       "2           7.92500   Miss  Heikkinen          1   \n",
       "3          26.55000    Mrs   Futrelle          2   \n",
       "4           8.05000     Mr      Allen          2   \n",
       "\n",
       "                         SurnameGroupId               TicketGroupId  \\\n",
       "0             Braund-3-S-7.25-A/5 211__          3-S-7.25-A/5 21171   \n",
       "1          Cumings-1-C-71.2833-PC 175__        1-C-71.2833-PC 17599   \n",
       "2  Heikkinen-3-S-7.925-STON/O2. 31012__  3-S-7.925-STON/O2. 3101282   \n",
       "3              Futrelle-1-S-53.1-1138__             1-S-53.1-113803   \n",
       "4                 Allen-3-S-8.05-3734__             3-S-8.05-373450   \n",
       "\n",
       "  SurnameGroupSize  TicketGroupSize  \n",
       "0                1                1  \n",
       "1                2                2  \n",
       "2                1                1  \n",
       "3                2                2  \n",
       "4                1                1  \n",
       "\n",
       "[5 rows x 21 columns]"
      ]
     },
     "execution_count": 71,
     "metadata": {},
     "output_type": "execute_result"
    }
   ],
   "source": [
    "test = all_data.iloc[train.shape[0]:, :]\n",
    "train = all_data.iloc[:train.shape[0], :]\n",
    "train.head()"
   ]
  },
  {
   "cell_type": "markdown",
   "metadata": {},
   "source": [
    "#### 寻找保姆、远亲、朋友"
   ]
  },
  {
   "cell_type": "code",
   "execution_count": 72,
   "metadata": {},
   "outputs": [
    {
     "name": "stdout",
     "output_type": "stream",
     "text": [
      "Tottaly 789 solo passengers satifies the condtions\n",
      "Totally adding 130  nannies, cousins and firends to surname groups\n"
     ]
    }
   ],
   "source": [
    "tmp = pd.concat([train, test])\n",
    "nannies_firends_cousins = addNanniesCousinsFriends(all_data, verbose=True)"
   ]
  },
  {
   "cell_type": "code",
   "execution_count": 73,
   "metadata": {},
   "outputs": [
    {
     "data": {
      "text/plain": [
       "65"
      ]
     },
     "execution_count": 73,
     "metadata": {},
     "output_type": "execute_result"
    }
   ],
   "source": [
    "nannies_firends_cousins_data = tmp.loc[tmp.SurnameGroupId.isin(nannies_firends_cousins), ['SurnameGroupId', 'TicketGroupId', 'Pclass', 'Embarked', 'Sex', 'Fare', 'Ticket', 'SibSp', 'Parch', 'Age', 'Surname','Survived']].sort_values(['TicketGroupId'])\n",
    "\n",
    "len(nannies_firends_cousins_data.TicketGroupId.unique())"
   ]
  },
  {
   "cell_type": "code",
   "execution_count": 74,
   "metadata": {},
   "outputs": [
    {
     "data": {
      "text/html": [
       "<div>\n",
       "<style scoped>\n",
       "    .dataframe tbody tr th:only-of-type {\n",
       "        vertical-align: middle;\n",
       "    }\n",
       "\n",
       "    .dataframe tbody tr th {\n",
       "        vertical-align: top;\n",
       "    }\n",
       "\n",
       "    .dataframe thead th {\n",
       "        text-align: right;\n",
       "    }\n",
       "</style>\n",
       "<table border=\"1\" class=\"dataframe\">\n",
       "  <thead>\n",
       "    <tr style=\"text-align: right;\">\n",
       "      <th></th>\n",
       "      <th>SurnameGroupId</th>\n",
       "      <th>TicketGroupId</th>\n",
       "      <th>Sex</th>\n",
       "      <th>Ticket</th>\n",
       "      <th>SibSp</th>\n",
       "      <th>Parch</th>\n",
       "      <th>Age</th>\n",
       "      <th>Surname</th>\n",
       "      <th>Survived</th>\n",
       "    </tr>\n",
       "  </thead>\n",
       "  <tbody>\n",
       "    <tr>\n",
       "      <th>544</th>\n",
       "      <td>Douglas-1-C-106.425-PC 177__</td>\n",
       "      <td>1-C-106.425-PC 17761</td>\n",
       "      <td>male</td>\n",
       "      <td>PC 17761</td>\n",
       "      <td>1</td>\n",
       "      <td>0</td>\n",
       "      <td>50.0</td>\n",
       "      <td>Douglas</td>\n",
       "      <td>0.0</td>\n",
       "    </tr>\n",
       "    <tr>\n",
       "      <th>537</th>\n",
       "      <td>LeRoy-1-C-106.425-PC 177__</td>\n",
       "      <td>1-C-106.425-PC 17761</td>\n",
       "      <td>female</td>\n",
       "      <td>PC 17761</td>\n",
       "      <td>0</td>\n",
       "      <td>0</td>\n",
       "      <td>30.0</td>\n",
       "      <td>LeRoy</td>\n",
       "      <td>1.0</td>\n",
       "    </tr>\n",
       "    <tr>\n",
       "      <th>1130</th>\n",
       "      <td>Douglas-1-C-106.425-PC 177__</td>\n",
       "      <td>1-C-106.425-PC 17761</td>\n",
       "      <td>female</td>\n",
       "      <td>PC 17761</td>\n",
       "      <td>1</td>\n",
       "      <td>0</td>\n",
       "      <td>48.0</td>\n",
       "      <td>Douglas</td>\n",
       "      <td>NaN</td>\n",
       "    </tr>\n",
       "    <tr>\n",
       "      <th>1305</th>\n",
       "      <td>Oliva y Ocana-1-C-108.9-PC 177__</td>\n",
       "      <td>1-C-108.9-PC 17758</td>\n",
       "      <td>female</td>\n",
       "      <td>PC 17758</td>\n",
       "      <td>0</td>\n",
       "      <td>0</td>\n",
       "      <td>39.0</td>\n",
       "      <td>Oliva y Ocana</td>\n",
       "      <td>NaN</td>\n",
       "    </tr>\n",
       "    <tr>\n",
       "      <th>505</th>\n",
       "      <td>Penasco y Castellana-1-C-108.9-PC 177__</td>\n",
       "      <td>1-C-108.9-PC 17758</td>\n",
       "      <td>male</td>\n",
       "      <td>PC 17758</td>\n",
       "      <td>1</td>\n",
       "      <td>0</td>\n",
       "      <td>18.0</td>\n",
       "      <td>Penasco y Castellana</td>\n",
       "      <td>0.0</td>\n",
       "    </tr>\n",
       "    <tr>\n",
       "      <th>307</th>\n",
       "      <td>Penasco y Castellana-1-C-108.9-PC 177__</td>\n",
       "      <td>1-C-108.9-PC 17758</td>\n",
       "      <td>female</td>\n",
       "      <td>PC 17758</td>\n",
       "      <td>1</td>\n",
       "      <td>0</td>\n",
       "      <td>17.0</td>\n",
       "      <td>Penasco y Castellana</td>\n",
       "      <td>1.0</td>\n",
       "    </tr>\n",
       "    <tr>\n",
       "      <th>698</th>\n",
       "      <td>Thayer-1-C-110.8833-174__</td>\n",
       "      <td>1-C-110.8833-17421</td>\n",
       "      <td>male</td>\n",
       "      <td>17421</td>\n",
       "      <td>1</td>\n",
       "      <td>1</td>\n",
       "      <td>49.0</td>\n",
       "      <td>Thayer</td>\n",
       "      <td>0.0</td>\n",
       "    </tr>\n",
       "    <tr>\n",
       "      <th>581</th>\n",
       "      <td>Thayer-1-C-110.8833-174__</td>\n",
       "      <td>1-C-110.8833-17421</td>\n",
       "      <td>female</td>\n",
       "      <td>17421</td>\n",
       "      <td>1</td>\n",
       "      <td>1</td>\n",
       "      <td>39.0</td>\n",
       "      <td>Thayer</td>\n",
       "      <td>1.0</td>\n",
       "    </tr>\n",
       "    <tr>\n",
       "      <th>550</th>\n",
       "      <td>Thayer-1-C-110.8833-174__</td>\n",
       "      <td>1-C-110.8833-17421</td>\n",
       "      <td>male</td>\n",
       "      <td>17421</td>\n",
       "      <td>0</td>\n",
       "      <td>2</td>\n",
       "      <td>17.0</td>\n",
       "      <td>Thayer</td>\n",
       "      <td>1.0</td>\n",
       "    </tr>\n",
       "    <tr>\n",
       "      <th>306</th>\n",
       "      <td>Fleming-1-C-110.8833-174__</td>\n",
       "      <td>1-C-110.8833-17421</td>\n",
       "      <td>female</td>\n",
       "      <td>17421</td>\n",
       "      <td>0</td>\n",
       "      <td>0</td>\n",
       "      <td>NaN</td>\n",
       "      <td>Fleming</td>\n",
       "      <td>1.0</td>\n",
       "    </tr>\n",
       "    <tr>\n",
       "      <th>319</th>\n",
       "      <td>Spedden-1-C-134.5-169__</td>\n",
       "      <td>1-C-134.5-16966</td>\n",
       "      <td>female</td>\n",
       "      <td>16966</td>\n",
       "      <td>1</td>\n",
       "      <td>1</td>\n",
       "      <td>40.0</td>\n",
       "      <td>Spedden</td>\n",
       "      <td>1.0</td>\n",
       "    </tr>\n",
       "    <tr>\n",
       "      <th>1087</th>\n",
       "      <td>Spedden-1-C-134.5-169__</td>\n",
       "      <td>1-C-134.5-16966</td>\n",
       "      <td>male</td>\n",
       "      <td>16966</td>\n",
       "      <td>0</td>\n",
       "      <td>2</td>\n",
       "      <td>6.0</td>\n",
       "      <td>Spedden</td>\n",
       "      <td>NaN</td>\n",
       "    </tr>\n",
       "    <tr>\n",
       "      <th>1133</th>\n",
       "      <td>Spedden-1-C-134.5-169__</td>\n",
       "      <td>1-C-134.5-16966</td>\n",
       "      <td>male</td>\n",
       "      <td>16966</td>\n",
       "      <td>1</td>\n",
       "      <td>1</td>\n",
       "      <td>45.0</td>\n",
       "      <td>Spedden</td>\n",
       "      <td>NaN</td>\n",
       "    </tr>\n",
       "    <tr>\n",
       "      <th>337</th>\n",
       "      <td>Burns-1-C-134.5-169__</td>\n",
       "      <td>1-C-134.5-16966</td>\n",
       "      <td>female</td>\n",
       "      <td>16966</td>\n",
       "      <td>0</td>\n",
       "      <td>0</td>\n",
       "      <td>41.0</td>\n",
       "      <td>Burns</td>\n",
       "      <td>1.0</td>\n",
       "    </tr>\n",
       "    <tr>\n",
       "      <th>1262</th>\n",
       "      <td>Wilson-1-C-134.5-169__</td>\n",
       "      <td>1-C-134.5-16966</td>\n",
       "      <td>female</td>\n",
       "      <td>16966</td>\n",
       "      <td>0</td>\n",
       "      <td>0</td>\n",
       "      <td>31.0</td>\n",
       "      <td>Wilson</td>\n",
       "      <td>NaN</td>\n",
       "    </tr>\n",
       "    <tr>\n",
       "      <th>373</th>\n",
       "      <td>Ringhini-1-C-135.6333-PC 177__</td>\n",
       "      <td>1-C-135.6333-PC 17760</td>\n",
       "      <td>male</td>\n",
       "      <td>PC 17760</td>\n",
       "      <td>0</td>\n",
       "      <td>0</td>\n",
       "      <td>22.0</td>\n",
       "      <td>Ringhini</td>\n",
       "      <td>0.0</td>\n",
       "    </tr>\n",
       "    <tr>\n",
       "      <th>1205</th>\n",
       "      <td>White-1-C-135.6333-PC 177__</td>\n",
       "      <td>1-C-135.6333-PC 17760</td>\n",
       "      <td>female</td>\n",
       "      <td>PC 17760</td>\n",
       "      <td>0</td>\n",
       "      <td>0</td>\n",
       "      <td>55.0</td>\n",
       "      <td>White</td>\n",
       "      <td>NaN</td>\n",
       "    </tr>\n",
       "    <tr>\n",
       "      <th>325</th>\n",
       "      <td>Young-1-C-135.6333-PC 177__</td>\n",
       "      <td>1-C-135.6333-PC 17760</td>\n",
       "      <td>female</td>\n",
       "      <td>PC 17760</td>\n",
       "      <td>0</td>\n",
       "      <td>0</td>\n",
       "      <td>36.0</td>\n",
       "      <td>Young</td>\n",
       "      <td>1.0</td>\n",
       "    </tr>\n",
       "    <tr>\n",
       "      <th>31</th>\n",
       "      <td>Spencer-1-C-146.5208-PC 175__</td>\n",
       "      <td>1-C-146.5208-PC 17569</td>\n",
       "      <td>female</td>\n",
       "      <td>PC 17569</td>\n",
       "      <td>1</td>\n",
       "      <td>0</td>\n",
       "      <td>NaN</td>\n",
       "      <td>Spencer</td>\n",
       "      <td>1.0</td>\n",
       "    </tr>\n",
       "    <tr>\n",
       "      <th>1207</th>\n",
       "      <td>Spencer-1-C-146.5208-PC 175__</td>\n",
       "      <td>1-C-146.5208-PC 17569</td>\n",
       "      <td>male</td>\n",
       "      <td>PC 17569</td>\n",
       "      <td>1</td>\n",
       "      <td>0</td>\n",
       "      <td>57.0</td>\n",
       "      <td>Spencer</td>\n",
       "      <td>NaN</td>\n",
       "    </tr>\n",
       "  </tbody>\n",
       "</table>\n",
       "</div>"
      ],
      "text/plain": [
       "                               SurnameGroupId          TicketGroupId     Sex  \\\n",
       "544              Douglas-1-C-106.425-PC 177__   1-C-106.425-PC 17761    male   \n",
       "537                LeRoy-1-C-106.425-PC 177__   1-C-106.425-PC 17761  female   \n",
       "1130             Douglas-1-C-106.425-PC 177__   1-C-106.425-PC 17761  female   \n",
       "1305         Oliva y Ocana-1-C-108.9-PC 177__     1-C-108.9-PC 17758  female   \n",
       "505   Penasco y Castellana-1-C-108.9-PC 177__     1-C-108.9-PC 17758    male   \n",
       "307   Penasco y Castellana-1-C-108.9-PC 177__     1-C-108.9-PC 17758  female   \n",
       "698                 Thayer-1-C-110.8833-174__     1-C-110.8833-17421    male   \n",
       "581                 Thayer-1-C-110.8833-174__     1-C-110.8833-17421  female   \n",
       "550                 Thayer-1-C-110.8833-174__     1-C-110.8833-17421    male   \n",
       "306                Fleming-1-C-110.8833-174__     1-C-110.8833-17421  female   \n",
       "319                   Spedden-1-C-134.5-169__        1-C-134.5-16966  female   \n",
       "1087                  Spedden-1-C-134.5-169__        1-C-134.5-16966    male   \n",
       "1133                  Spedden-1-C-134.5-169__        1-C-134.5-16966    male   \n",
       "337                     Burns-1-C-134.5-169__        1-C-134.5-16966  female   \n",
       "1262                   Wilson-1-C-134.5-169__        1-C-134.5-16966  female   \n",
       "373            Ringhini-1-C-135.6333-PC 177__  1-C-135.6333-PC 17760    male   \n",
       "1205              White-1-C-135.6333-PC 177__  1-C-135.6333-PC 17760  female   \n",
       "325               Young-1-C-135.6333-PC 177__  1-C-135.6333-PC 17760  female   \n",
       "31              Spencer-1-C-146.5208-PC 175__  1-C-146.5208-PC 17569  female   \n",
       "1207            Spencer-1-C-146.5208-PC 175__  1-C-146.5208-PC 17569    male   \n",
       "\n",
       "        Ticket  SibSp  Parch   Age               Surname  Survived  \n",
       "544   PC 17761      1      0  50.0               Douglas       0.0  \n",
       "537   PC 17761      0      0  30.0                 LeRoy       1.0  \n",
       "1130  PC 17761      1      0  48.0               Douglas       NaN  \n",
       "1305  PC 17758      0      0  39.0         Oliva y Ocana       NaN  \n",
       "505   PC 17758      1      0  18.0  Penasco y Castellana       0.0  \n",
       "307   PC 17758      1      0  17.0  Penasco y Castellana       1.0  \n",
       "698      17421      1      1  49.0                Thayer       0.0  \n",
       "581      17421      1      1  39.0                Thayer       1.0  \n",
       "550      17421      0      2  17.0                Thayer       1.0  \n",
       "306      17421      0      0   NaN               Fleming       1.0  \n",
       "319      16966      1      1  40.0               Spedden       1.0  \n",
       "1087     16966      0      2   6.0               Spedden       NaN  \n",
       "1133     16966      1      1  45.0               Spedden       NaN  \n",
       "337      16966      0      0  41.0                 Burns       1.0  \n",
       "1262     16966      0      0  31.0                Wilson       NaN  \n",
       "373   PC 17760      0      0  22.0              Ringhini       0.0  \n",
       "1205  PC 17760      0      0  55.0                 White       NaN  \n",
       "325   PC 17760      0      0  36.0                 Young       1.0  \n",
       "31    PC 17569      1      0   NaN               Spencer       1.0  \n",
       "1207  PC 17569      1      0  57.0               Spencer       NaN  "
      ]
     },
     "execution_count": 74,
     "metadata": {},
     "output_type": "execute_result"
    }
   ],
   "source": [
    "tmp = None\n",
    "nannies_firends_cousins_data.drop(['Pclass','Embarked', 'Fare'], axis = 1).head(20)"
   ]
  },
  {
   "cell_type": "markdown",
   "metadata": {},
   "source": [
    "**我们来看看之前的保姆、远亲、朋友组**："
   ]
  },
  {
   "cell_type": "code",
   "execution_count": 75,
   "metadata": {
    "scrolled": false
   },
   "outputs": [
    {
     "data": {
      "text/html": [
       "<div>\n",
       "<style scoped>\n",
       "    .dataframe tbody tr th:only-of-type {\n",
       "        vertical-align: middle;\n",
       "    }\n",
       "\n",
       "    .dataframe tbody tr th {\n",
       "        vertical-align: top;\n",
       "    }\n",
       "\n",
       "    .dataframe thead th {\n",
       "        text-align: right;\n",
       "    }\n",
       "</style>\n",
       "<table border=\"1\" class=\"dataframe\">\n",
       "  <thead>\n",
       "    <tr style=\"text-align: right;\">\n",
       "      <th></th>\n",
       "      <th>SurnameGroupId</th>\n",
       "      <th>TicketGroupId</th>\n",
       "      <th>Pclass</th>\n",
       "      <th>Embarked</th>\n",
       "      <th>Sex</th>\n",
       "      <th>Fare</th>\n",
       "      <th>Ticket</th>\n",
       "      <th>SibSp</th>\n",
       "      <th>Parch</th>\n",
       "      <th>Age</th>\n",
       "      <th>Surname</th>\n",
       "      <th>Survived</th>\n",
       "    </tr>\n",
       "  </thead>\n",
       "  <tbody>\n",
       "    <tr>\n",
       "      <th>915</th>\n",
       "      <td>Ryerson-1-C-262.375-PC 176__</td>\n",
       "      <td>1-C-262.375-PC 17608</td>\n",
       "      <td>1</td>\n",
       "      <td>C</td>\n",
       "      <td>female</td>\n",
       "      <td>262.3750</td>\n",
       "      <td>PC 17608</td>\n",
       "      <td>1</td>\n",
       "      <td>3</td>\n",
       "      <td>48.0</td>\n",
       "      <td>Ryerson</td>\n",
       "      <td>NaN</td>\n",
       "    </tr>\n",
       "    <tr>\n",
       "      <th>1033</th>\n",
       "      <td>Ryerson-1-C-262.375-PC 176__</td>\n",
       "      <td>1-C-262.375-PC 17608</td>\n",
       "      <td>1</td>\n",
       "      <td>C</td>\n",
       "      <td>male</td>\n",
       "      <td>262.3750</td>\n",
       "      <td>PC 17608</td>\n",
       "      <td>1</td>\n",
       "      <td>3</td>\n",
       "      <td>61.0</td>\n",
       "      <td>Ryerson</td>\n",
       "      <td>NaN</td>\n",
       "    </tr>\n",
       "    <tr>\n",
       "      <th>950</th>\n",
       "      <td>Chaudanson-1-C-262.375-PC 176__</td>\n",
       "      <td>1-C-262.375-PC 17608</td>\n",
       "      <td>1</td>\n",
       "      <td>C</td>\n",
       "      <td>female</td>\n",
       "      <td>262.3750</td>\n",
       "      <td>PC 17608</td>\n",
       "      <td>0</td>\n",
       "      <td>0</td>\n",
       "      <td>36.0</td>\n",
       "      <td>Chaudanson</td>\n",
       "      <td>NaN</td>\n",
       "    </tr>\n",
       "    <tr>\n",
       "      <th>311</th>\n",
       "      <td>Ryerson-1-C-262.375-PC 176__</td>\n",
       "      <td>1-C-262.375-PC 17608</td>\n",
       "      <td>1</td>\n",
       "      <td>C</td>\n",
       "      <td>female</td>\n",
       "      <td>262.3750</td>\n",
       "      <td>PC 17608</td>\n",
       "      <td>2</td>\n",
       "      <td>2</td>\n",
       "      <td>18.0</td>\n",
       "      <td>Ryerson</td>\n",
       "      <td>1.0</td>\n",
       "    </tr>\n",
       "    <tr>\n",
       "      <th>742</th>\n",
       "      <td>Ryerson-1-C-262.375-PC 176__</td>\n",
       "      <td>1-C-262.375-PC 17608</td>\n",
       "      <td>1</td>\n",
       "      <td>C</td>\n",
       "      <td>female</td>\n",
       "      <td>262.3750</td>\n",
       "      <td>PC 17608</td>\n",
       "      <td>2</td>\n",
       "      <td>2</td>\n",
       "      <td>21.0</td>\n",
       "      <td>Ryerson</td>\n",
       "      <td>1.0</td>\n",
       "    </tr>\n",
       "    <tr>\n",
       "      <th>955</th>\n",
       "      <td>Ryerson-1-C-262.375-PC 176__</td>\n",
       "      <td>1-C-262.375-PC 17608</td>\n",
       "      <td>1</td>\n",
       "      <td>C</td>\n",
       "      <td>male</td>\n",
       "      <td>262.3750</td>\n",
       "      <td>PC 17608</td>\n",
       "      <td>2</td>\n",
       "      <td>2</td>\n",
       "      <td>13.0</td>\n",
       "      <td>Ryerson</td>\n",
       "      <td>NaN</td>\n",
       "    </tr>\n",
       "    <tr>\n",
       "      <th>1266</th>\n",
       "      <td>Bowen-1-C-262.375-PC 176__</td>\n",
       "      <td>1-C-262.375-PC 17608</td>\n",
       "      <td>1</td>\n",
       "      <td>C</td>\n",
       "      <td>female</td>\n",
       "      <td>262.3750</td>\n",
       "      <td>PC 17608</td>\n",
       "      <td>0</td>\n",
       "      <td>0</td>\n",
       "      <td>45.0</td>\n",
       "      <td>Bowen</td>\n",
       "      <td>NaN</td>\n",
       "    </tr>\n",
       "    <tr>\n",
       "      <th>61</th>\n",
       "      <td>Icard-1-nan-80.0-1135__</td>\n",
       "      <td>1-nan-80.0-113572</td>\n",
       "      <td>1</td>\n",
       "      <td>NaN</td>\n",
       "      <td>female</td>\n",
       "      <td>80.0000</td>\n",
       "      <td>113572</td>\n",
       "      <td>0</td>\n",
       "      <td>0</td>\n",
       "      <td>38.0</td>\n",
       "      <td>Icard</td>\n",
       "      <td>1.0</td>\n",
       "    </tr>\n",
       "    <tr>\n",
       "      <th>829</th>\n",
       "      <td>Stone-1-nan-80.0-1135__</td>\n",
       "      <td>1-nan-80.0-113572</td>\n",
       "      <td>1</td>\n",
       "      <td>NaN</td>\n",
       "      <td>female</td>\n",
       "      <td>80.0000</td>\n",
       "      <td>113572</td>\n",
       "      <td>0</td>\n",
       "      <td>0</td>\n",
       "      <td>62.0</td>\n",
       "      <td>Stone</td>\n",
       "      <td>1.0</td>\n",
       "    </tr>\n",
       "    <tr>\n",
       "      <th>838</th>\n",
       "      <td>Chip-3-S-56.4958-16__</td>\n",
       "      <td>3-S-56.4958-1601</td>\n",
       "      <td>3</td>\n",
       "      <td>S</td>\n",
       "      <td>male</td>\n",
       "      <td>56.4958</td>\n",
       "      <td>1601</td>\n",
       "      <td>0</td>\n",
       "      <td>0</td>\n",
       "      <td>32.0</td>\n",
       "      <td>Chip</td>\n",
       "      <td>1.0</td>\n",
       "    </tr>\n",
       "    <tr>\n",
       "      <th>509</th>\n",
       "      <td>Lang-3-S-56.4958-16__</td>\n",
       "      <td>3-S-56.4958-1601</td>\n",
       "      <td>3</td>\n",
       "      <td>S</td>\n",
       "      <td>male</td>\n",
       "      <td>56.4958</td>\n",
       "      <td>1601</td>\n",
       "      <td>0</td>\n",
       "      <td>0</td>\n",
       "      <td>26.0</td>\n",
       "      <td>Lang</td>\n",
       "      <td>1.0</td>\n",
       "    </tr>\n",
       "    <tr>\n",
       "      <th>169</th>\n",
       "      <td>Ling-3-S-56.4958-16__</td>\n",
       "      <td>3-S-56.4958-1601</td>\n",
       "      <td>3</td>\n",
       "      <td>S</td>\n",
       "      <td>male</td>\n",
       "      <td>56.4958</td>\n",
       "      <td>1601</td>\n",
       "      <td>0</td>\n",
       "      <td>0</td>\n",
       "      <td>28.0</td>\n",
       "      <td>Ling</td>\n",
       "      <td>0.0</td>\n",
       "    </tr>\n",
       "    <tr>\n",
       "      <th>930</th>\n",
       "      <td>Hee-3-S-56.4958-16__</td>\n",
       "      <td>3-S-56.4958-1601</td>\n",
       "      <td>3</td>\n",
       "      <td>S</td>\n",
       "      <td>male</td>\n",
       "      <td>56.4958</td>\n",
       "      <td>1601</td>\n",
       "      <td>0</td>\n",
       "      <td>0</td>\n",
       "      <td>NaN</td>\n",
       "      <td>Hee</td>\n",
       "      <td>NaN</td>\n",
       "    </tr>\n",
       "    <tr>\n",
       "      <th>643</th>\n",
       "      <td>Foo-3-S-56.4958-16__</td>\n",
       "      <td>3-S-56.4958-1601</td>\n",
       "      <td>3</td>\n",
       "      <td>S</td>\n",
       "      <td>male</td>\n",
       "      <td>56.4958</td>\n",
       "      <td>1601</td>\n",
       "      <td>0</td>\n",
       "      <td>0</td>\n",
       "      <td>NaN</td>\n",
       "      <td>Foo</td>\n",
       "      <td>1.0</td>\n",
       "    </tr>\n",
       "    <tr>\n",
       "      <th>74</th>\n",
       "      <td>Bing-3-S-56.4958-16__</td>\n",
       "      <td>3-S-56.4958-1601</td>\n",
       "      <td>3</td>\n",
       "      <td>S</td>\n",
       "      <td>male</td>\n",
       "      <td>56.4958</td>\n",
       "      <td>1601</td>\n",
       "      <td>0</td>\n",
       "      <td>0</td>\n",
       "      <td>32.0</td>\n",
       "      <td>Bing</td>\n",
       "      <td>1.0</td>\n",
       "    </tr>\n",
       "  </tbody>\n",
       "</table>\n",
       "</div>"
      ],
      "text/plain": [
       "                       SurnameGroupId         TicketGroupId  Pclass Embarked  \\\n",
       "915      Ryerson-1-C-262.375-PC 176__  1-C-262.375-PC 17608       1        C   \n",
       "1033     Ryerson-1-C-262.375-PC 176__  1-C-262.375-PC 17608       1        C   \n",
       "950   Chaudanson-1-C-262.375-PC 176__  1-C-262.375-PC 17608       1        C   \n",
       "311      Ryerson-1-C-262.375-PC 176__  1-C-262.375-PC 17608       1        C   \n",
       "742      Ryerson-1-C-262.375-PC 176__  1-C-262.375-PC 17608       1        C   \n",
       "955      Ryerson-1-C-262.375-PC 176__  1-C-262.375-PC 17608       1        C   \n",
       "1266       Bowen-1-C-262.375-PC 176__  1-C-262.375-PC 17608       1        C   \n",
       "61            Icard-1-nan-80.0-1135__     1-nan-80.0-113572       1      NaN   \n",
       "829           Stone-1-nan-80.0-1135__     1-nan-80.0-113572       1      NaN   \n",
       "838             Chip-3-S-56.4958-16__      3-S-56.4958-1601       3        S   \n",
       "509             Lang-3-S-56.4958-16__      3-S-56.4958-1601       3        S   \n",
       "169             Ling-3-S-56.4958-16__      3-S-56.4958-1601       3        S   \n",
       "930              Hee-3-S-56.4958-16__      3-S-56.4958-1601       3        S   \n",
       "643              Foo-3-S-56.4958-16__      3-S-56.4958-1601       3        S   \n",
       "74              Bing-3-S-56.4958-16__      3-S-56.4958-1601       3        S   \n",
       "\n",
       "         Sex      Fare    Ticket  SibSp  Parch   Age     Surname  Survived  \n",
       "915   female  262.3750  PC 17608      1      3  48.0     Ryerson       NaN  \n",
       "1033    male  262.3750  PC 17608      1      3  61.0     Ryerson       NaN  \n",
       "950   female  262.3750  PC 17608      0      0  36.0  Chaudanson       NaN  \n",
       "311   female  262.3750  PC 17608      2      2  18.0     Ryerson       1.0  \n",
       "742   female  262.3750  PC 17608      2      2  21.0     Ryerson       1.0  \n",
       "955     male  262.3750  PC 17608      2      2  13.0     Ryerson       NaN  \n",
       "1266  female  262.3750  PC 17608      0      0  45.0       Bowen       NaN  \n",
       "61    female   80.0000    113572      0      0  38.0       Icard       1.0  \n",
       "829   female   80.0000    113572      0      0  62.0       Stone       1.0  \n",
       "838     male   56.4958      1601      0      0  32.0        Chip       1.0  \n",
       "509     male   56.4958      1601      0      0  26.0        Lang       1.0  \n",
       "169     male   56.4958      1601      0      0  28.0        Ling       0.0  \n",
       "930     male   56.4958      1601      0      0   NaN         Hee       NaN  \n",
       "643     male   56.4958      1601      0      0   NaN         Foo       1.0  \n",
       "74      male   56.4958      1601      0      0  32.0        Bing       1.0  "
      ]
     },
     "execution_count": 75,
     "metadata": {},
     "output_type": "execute_result"
    }
   ],
   "source": [
    "nannies_firends_cousins_data.loc[(nannies_firends_cousins_data.Ticket == 'PC 17608') | (nannies_firends_cousins_data.Ticket == '113572') | (nannies_firends_cousins_data.Ticket == '1601')]"
   ]
  },
  {
   "cell_type": "code",
   "execution_count": 76,
   "metadata": {},
   "outputs": [
    {
     "data": {
      "text/html": [
       "<div>\n",
       "<style scoped>\n",
       "    .dataframe tbody tr th:only-of-type {\n",
       "        vertical-align: middle;\n",
       "    }\n",
       "\n",
       "    .dataframe tbody tr th {\n",
       "        vertical-align: top;\n",
       "    }\n",
       "\n",
       "    .dataframe thead th {\n",
       "        text-align: right;\n",
       "    }\n",
       "</style>\n",
       "<table border=\"1\" class=\"dataframe\">\n",
       "  <thead>\n",
       "    <tr style=\"text-align: right;\">\n",
       "      <th></th>\n",
       "      <th>SurnameGroupId</th>\n",
       "      <th>TicketGroupId</th>\n",
       "      <th>Pclass</th>\n",
       "      <th>Embarked</th>\n",
       "      <th>Sex</th>\n",
       "      <th>Fare</th>\n",
       "      <th>Ticket</th>\n",
       "      <th>SibSp</th>\n",
       "      <th>Parch</th>\n",
       "      <th>Age</th>\n",
       "      <th>Surname</th>\n",
       "      <th>Survived</th>\n",
       "    </tr>\n",
       "  </thead>\n",
       "  <tbody>\n",
       "    <tr>\n",
       "      <th>319</th>\n",
       "      <td>Spedden-1-C-134.5-169__</td>\n",
       "      <td>1-C-134.5-16966</td>\n",
       "      <td>1</td>\n",
       "      <td>C</td>\n",
       "      <td>female</td>\n",
       "      <td>134.5000</td>\n",
       "      <td>16966</td>\n",
       "      <td>1</td>\n",
       "      <td>1</td>\n",
       "      <td>40.00</td>\n",
       "      <td>Spedden</td>\n",
       "      <td>1.0</td>\n",
       "    </tr>\n",
       "    <tr>\n",
       "      <th>1087</th>\n",
       "      <td>Spedden-1-C-134.5-169__</td>\n",
       "      <td>1-C-134.5-16966</td>\n",
       "      <td>1</td>\n",
       "      <td>C</td>\n",
       "      <td>male</td>\n",
       "      <td>134.5000</td>\n",
       "      <td>16966</td>\n",
       "      <td>0</td>\n",
       "      <td>2</td>\n",
       "      <td>6.00</td>\n",
       "      <td>Spedden</td>\n",
       "      <td>NaN</td>\n",
       "    </tr>\n",
       "    <tr>\n",
       "      <th>1133</th>\n",
       "      <td>Spedden-1-C-134.5-169__</td>\n",
       "      <td>1-C-134.5-16966</td>\n",
       "      <td>1</td>\n",
       "      <td>C</td>\n",
       "      <td>male</td>\n",
       "      <td>134.5000</td>\n",
       "      <td>16966</td>\n",
       "      <td>1</td>\n",
       "      <td>1</td>\n",
       "      <td>45.00</td>\n",
       "      <td>Spedden</td>\n",
       "      <td>NaN</td>\n",
       "    </tr>\n",
       "    <tr>\n",
       "      <th>915</th>\n",
       "      <td>Ryerson-1-C-262.375-PC 176__</td>\n",
       "      <td>1-C-262.375-PC 17608</td>\n",
       "      <td>1</td>\n",
       "      <td>C</td>\n",
       "      <td>female</td>\n",
       "      <td>262.3750</td>\n",
       "      <td>PC 17608</td>\n",
       "      <td>1</td>\n",
       "      <td>3</td>\n",
       "      <td>48.00</td>\n",
       "      <td>Ryerson</td>\n",
       "      <td>NaN</td>\n",
       "    </tr>\n",
       "    <tr>\n",
       "      <th>1033</th>\n",
       "      <td>Ryerson-1-C-262.375-PC 176__</td>\n",
       "      <td>1-C-262.375-PC 17608</td>\n",
       "      <td>1</td>\n",
       "      <td>C</td>\n",
       "      <td>male</td>\n",
       "      <td>262.3750</td>\n",
       "      <td>PC 17608</td>\n",
       "      <td>1</td>\n",
       "      <td>3</td>\n",
       "      <td>61.00</td>\n",
       "      <td>Ryerson</td>\n",
       "      <td>NaN</td>\n",
       "    </tr>\n",
       "    <tr>\n",
       "      <th>311</th>\n",
       "      <td>Ryerson-1-C-262.375-PC 176__</td>\n",
       "      <td>1-C-262.375-PC 17608</td>\n",
       "      <td>1</td>\n",
       "      <td>C</td>\n",
       "      <td>female</td>\n",
       "      <td>262.3750</td>\n",
       "      <td>PC 17608</td>\n",
       "      <td>2</td>\n",
       "      <td>2</td>\n",
       "      <td>18.00</td>\n",
       "      <td>Ryerson</td>\n",
       "      <td>1.0</td>\n",
       "    </tr>\n",
       "    <tr>\n",
       "      <th>742</th>\n",
       "      <td>Ryerson-1-C-262.375-PC 176__</td>\n",
       "      <td>1-C-262.375-PC 17608</td>\n",
       "      <td>1</td>\n",
       "      <td>C</td>\n",
       "      <td>female</td>\n",
       "      <td>262.3750</td>\n",
       "      <td>PC 17608</td>\n",
       "      <td>2</td>\n",
       "      <td>2</td>\n",
       "      <td>21.00</td>\n",
       "      <td>Ryerson</td>\n",
       "      <td>1.0</td>\n",
       "    </tr>\n",
       "    <tr>\n",
       "      <th>955</th>\n",
       "      <td>Ryerson-1-C-262.375-PC 176__</td>\n",
       "      <td>1-C-262.375-PC 17608</td>\n",
       "      <td>1</td>\n",
       "      <td>C</td>\n",
       "      <td>male</td>\n",
       "      <td>262.3750</td>\n",
       "      <td>PC 17608</td>\n",
       "      <td>2</td>\n",
       "      <td>2</td>\n",
       "      <td>13.00</td>\n",
       "      <td>Ryerson</td>\n",
       "      <td>NaN</td>\n",
       "    </tr>\n",
       "    <tr>\n",
       "      <th>498</th>\n",
       "      <td>Allison-1-S-151.55-1137__</td>\n",
       "      <td>1-S-151.55-113781</td>\n",
       "      <td>1</td>\n",
       "      <td>S</td>\n",
       "      <td>female</td>\n",
       "      <td>151.5500</td>\n",
       "      <td>113781</td>\n",
       "      <td>1</td>\n",
       "      <td>2</td>\n",
       "      <td>25.00</td>\n",
       "      <td>Allison</td>\n",
       "      <td>0.0</td>\n",
       "    </tr>\n",
       "    <tr>\n",
       "      <th>297</th>\n",
       "      <td>Allison-1-S-151.55-1137__</td>\n",
       "      <td>1-S-151.55-113781</td>\n",
       "      <td>1</td>\n",
       "      <td>S</td>\n",
       "      <td>female</td>\n",
       "      <td>151.5500</td>\n",
       "      <td>113781</td>\n",
       "      <td>1</td>\n",
       "      <td>2</td>\n",
       "      <td>2.00</td>\n",
       "      <td>Allison</td>\n",
       "      <td>0.0</td>\n",
       "    </tr>\n",
       "    <tr>\n",
       "      <th>305</th>\n",
       "      <td>Allison-1-S-151.55-1137__</td>\n",
       "      <td>1-S-151.55-113781</td>\n",
       "      <td>1</td>\n",
       "      <td>S</td>\n",
       "      <td>male</td>\n",
       "      <td>151.5500</td>\n",
       "      <td>113781</td>\n",
       "      <td>1</td>\n",
       "      <td>2</td>\n",
       "      <td>0.92</td>\n",
       "      <td>Allison</td>\n",
       "      <td>1.0</td>\n",
       "    </tr>\n",
       "    <tr>\n",
       "      <th>1197</th>\n",
       "      <td>Allison-1-S-151.55-1137__</td>\n",
       "      <td>1-S-151.55-113781</td>\n",
       "      <td>1</td>\n",
       "      <td>S</td>\n",
       "      <td>male</td>\n",
       "      <td>151.5500</td>\n",
       "      <td>113781</td>\n",
       "      <td>1</td>\n",
       "      <td>2</td>\n",
       "      <td>30.00</td>\n",
       "      <td>Allison</td>\n",
       "      <td>NaN</td>\n",
       "    </tr>\n",
       "    <tr>\n",
       "      <th>1108</th>\n",
       "      <td>Wick-1-S-164.8667-369__</td>\n",
       "      <td>1-S-164.8667-36928</td>\n",
       "      <td>1</td>\n",
       "      <td>S</td>\n",
       "      <td>male</td>\n",
       "      <td>164.8667</td>\n",
       "      <td>36928</td>\n",
       "      <td>1</td>\n",
       "      <td>1</td>\n",
       "      <td>57.00</td>\n",
       "      <td>Wick</td>\n",
       "      <td>NaN</td>\n",
       "    </tr>\n",
       "    <tr>\n",
       "      <th>856</th>\n",
       "      <td>Wick-1-S-164.8667-369__</td>\n",
       "      <td>1-S-164.8667-36928</td>\n",
       "      <td>1</td>\n",
       "      <td>S</td>\n",
       "      <td>female</td>\n",
       "      <td>164.8667</td>\n",
       "      <td>36928</td>\n",
       "      <td>1</td>\n",
       "      <td>1</td>\n",
       "      <td>45.00</td>\n",
       "      <td>Wick</td>\n",
       "      <td>1.0</td>\n",
       "    </tr>\n",
       "    <tr>\n",
       "      <th>318</th>\n",
       "      <td>Wick-1-S-164.8667-369__</td>\n",
       "      <td>1-S-164.8667-36928</td>\n",
       "      <td>1</td>\n",
       "      <td>S</td>\n",
       "      <td>female</td>\n",
       "      <td>164.8667</td>\n",
       "      <td>36928</td>\n",
       "      <td>0</td>\n",
       "      <td>2</td>\n",
       "      <td>31.00</td>\n",
       "      <td>Wick</td>\n",
       "      <td>1.0</td>\n",
       "    </tr>\n",
       "    <tr>\n",
       "      <th>50</th>\n",
       "      <td>Panula-3-S-39.6875-31012__</td>\n",
       "      <td>3-S-39.6875-3101295</td>\n",
       "      <td>3</td>\n",
       "      <td>S</td>\n",
       "      <td>male</td>\n",
       "      <td>39.6875</td>\n",
       "      <td>3101295</td>\n",
       "      <td>4</td>\n",
       "      <td>1</td>\n",
       "      <td>7.00</td>\n",
       "      <td>Panula</td>\n",
       "      <td>0.0</td>\n",
       "    </tr>\n",
       "    <tr>\n",
       "      <th>638</th>\n",
       "      <td>Panula-3-S-39.6875-31012__</td>\n",
       "      <td>3-S-39.6875-3101295</td>\n",
       "      <td>3</td>\n",
       "      <td>S</td>\n",
       "      <td>female</td>\n",
       "      <td>39.6875</td>\n",
       "      <td>3101295</td>\n",
       "      <td>0</td>\n",
       "      <td>5</td>\n",
       "      <td>41.00</td>\n",
       "      <td>Panula</td>\n",
       "      <td>0.0</td>\n",
       "    </tr>\n",
       "    <tr>\n",
       "      <th>824</th>\n",
       "      <td>Panula-3-S-39.6875-31012__</td>\n",
       "      <td>3-S-39.6875-3101295</td>\n",
       "      <td>3</td>\n",
       "      <td>S</td>\n",
       "      <td>male</td>\n",
       "      <td>39.6875</td>\n",
       "      <td>3101295</td>\n",
       "      <td>4</td>\n",
       "      <td>1</td>\n",
       "      <td>2.00</td>\n",
       "      <td>Panula</td>\n",
       "      <td>0.0</td>\n",
       "    </tr>\n",
       "    <tr>\n",
       "      <th>164</th>\n",
       "      <td>Panula-3-S-39.6875-31012__</td>\n",
       "      <td>3-S-39.6875-3101295</td>\n",
       "      <td>3</td>\n",
       "      <td>S</td>\n",
       "      <td>male</td>\n",
       "      <td>39.6875</td>\n",
       "      <td>3101295</td>\n",
       "      <td>4</td>\n",
       "      <td>1</td>\n",
       "      <td>1.00</td>\n",
       "      <td>Panula</td>\n",
       "      <td>0.0</td>\n",
       "    </tr>\n",
       "    <tr>\n",
       "      <th>266</th>\n",
       "      <td>Panula-3-S-39.6875-31012__</td>\n",
       "      <td>3-S-39.6875-3101295</td>\n",
       "      <td>3</td>\n",
       "      <td>S</td>\n",
       "      <td>male</td>\n",
       "      <td>39.6875</td>\n",
       "      <td>3101295</td>\n",
       "      <td>4</td>\n",
       "      <td>1</td>\n",
       "      <td>16.00</td>\n",
       "      <td>Panula</td>\n",
       "      <td>0.0</td>\n",
       "    </tr>\n",
       "    <tr>\n",
       "      <th>686</th>\n",
       "      <td>Panula-3-S-39.6875-31012__</td>\n",
       "      <td>3-S-39.6875-3101295</td>\n",
       "      <td>3</td>\n",
       "      <td>S</td>\n",
       "      <td>male</td>\n",
       "      <td>39.6875</td>\n",
       "      <td>3101295</td>\n",
       "      <td>4</td>\n",
       "      <td>1</td>\n",
       "      <td>14.00</td>\n",
       "      <td>Panula</td>\n",
       "      <td>0.0</td>\n",
       "    </tr>\n",
       "  </tbody>\n",
       "</table>\n",
       "</div>"
      ],
      "text/plain": [
       "                    SurnameGroupId         TicketGroupId  Pclass Embarked  \\\n",
       "319        Spedden-1-C-134.5-169__       1-C-134.5-16966       1        C   \n",
       "1087       Spedden-1-C-134.5-169__       1-C-134.5-16966       1        C   \n",
       "1133       Spedden-1-C-134.5-169__       1-C-134.5-16966       1        C   \n",
       "915   Ryerson-1-C-262.375-PC 176__  1-C-262.375-PC 17608       1        C   \n",
       "1033  Ryerson-1-C-262.375-PC 176__  1-C-262.375-PC 17608       1        C   \n",
       "311   Ryerson-1-C-262.375-PC 176__  1-C-262.375-PC 17608       1        C   \n",
       "742   Ryerson-1-C-262.375-PC 176__  1-C-262.375-PC 17608       1        C   \n",
       "955   Ryerson-1-C-262.375-PC 176__  1-C-262.375-PC 17608       1        C   \n",
       "498      Allison-1-S-151.55-1137__     1-S-151.55-113781       1        S   \n",
       "297      Allison-1-S-151.55-1137__     1-S-151.55-113781       1        S   \n",
       "305      Allison-1-S-151.55-1137__     1-S-151.55-113781       1        S   \n",
       "1197     Allison-1-S-151.55-1137__     1-S-151.55-113781       1        S   \n",
       "1108       Wick-1-S-164.8667-369__    1-S-164.8667-36928       1        S   \n",
       "856        Wick-1-S-164.8667-369__    1-S-164.8667-36928       1        S   \n",
       "318        Wick-1-S-164.8667-369__    1-S-164.8667-36928       1        S   \n",
       "50      Panula-3-S-39.6875-31012__   3-S-39.6875-3101295       3        S   \n",
       "638     Panula-3-S-39.6875-31012__   3-S-39.6875-3101295       3        S   \n",
       "824     Panula-3-S-39.6875-31012__   3-S-39.6875-3101295       3        S   \n",
       "164     Panula-3-S-39.6875-31012__   3-S-39.6875-3101295       3        S   \n",
       "266     Panula-3-S-39.6875-31012__   3-S-39.6875-3101295       3        S   \n",
       "686     Panula-3-S-39.6875-31012__   3-S-39.6875-3101295       3        S   \n",
       "\n",
       "         Sex      Fare    Ticket  SibSp  Parch    Age  Surname  Survived  \n",
       "319   female  134.5000     16966      1      1  40.00  Spedden       1.0  \n",
       "1087    male  134.5000     16966      0      2   6.00  Spedden       NaN  \n",
       "1133    male  134.5000     16966      1      1  45.00  Spedden       NaN  \n",
       "915   female  262.3750  PC 17608      1      3  48.00  Ryerson       NaN  \n",
       "1033    male  262.3750  PC 17608      1      3  61.00  Ryerson       NaN  \n",
       "311   female  262.3750  PC 17608      2      2  18.00  Ryerson       1.0  \n",
       "742   female  262.3750  PC 17608      2      2  21.00  Ryerson       1.0  \n",
       "955     male  262.3750  PC 17608      2      2  13.00  Ryerson       NaN  \n",
       "498   female  151.5500    113781      1      2  25.00  Allison       0.0  \n",
       "297   female  151.5500    113781      1      2   2.00  Allison       0.0  \n",
       "305     male  151.5500    113781      1      2   0.92  Allison       1.0  \n",
       "1197    male  151.5500    113781      1      2  30.00  Allison       NaN  \n",
       "1108    male  164.8667     36928      1      1  57.00     Wick       NaN  \n",
       "856   female  164.8667     36928      1      1  45.00     Wick       1.0  \n",
       "318   female  164.8667     36928      0      2  31.00     Wick       1.0  \n",
       "50      male   39.6875   3101295      4      1   7.00   Panula       0.0  \n",
       "638   female   39.6875   3101295      0      5  41.00   Panula       0.0  \n",
       "824     male   39.6875   3101295      4      1   2.00   Panula       0.0  \n",
       "164     male   39.6875   3101295      4      1   1.00   Panula       0.0  \n",
       "266     male   39.6875   3101295      4      1  16.00   Panula       0.0  \n",
       "686     male   39.6875   3101295      4      1  14.00   Panula       0.0  "
      ]
     },
     "execution_count": 76,
     "metadata": {},
     "output_type": "execute_result"
    }
   ],
   "source": [
    "nannies_firends_cousins_data.loc[nannies_firends_cousins_data.Surname.isin(['Spedden', 'Allison', 'Zabour', 'Panula', 'Wick', 'Ryerson'])]"
   ]
  },
  {
   "cell_type": "code",
   "execution_count": 77,
   "metadata": {},
   "outputs": [
    {
     "data": {
      "text/plain": [
       "1.000000    60\n",
       "0.000000    46\n",
       "0.500000     5\n",
       "0.333333     1\n",
       "0.666667     1\n",
       "Name: Survived, dtype: int64"
      ]
     },
     "execution_count": 77,
     "metadata": {},
     "output_type": "execute_result"
    }
   ],
   "source": [
    "nannies_firends_cousins_data.groupby(['SurnameGroupId']).Survived.mean().value_counts()"
   ]
  },
  {
   "cell_type": "markdown",
   "metadata": {},
   "source": [
    "#### 多人一起出行的分组平均幸存率"
   ]
  },
  {
   "cell_type": "markdown",
   "metadata": {},
   "source": [
    "**查看原来的数据，利用未调整 `SurnameGroupId` 前的 `SurnameGroupSize` 的值：**\n",
    "\n",
    "1.<font color='blue'>性别、年龄无差别统计一起出行的人平均幸存率：</font>"
   ]
  },
  {
   "cell_type": "code",
   "execution_count": 78,
   "metadata": {},
   "outputs": [
    {
     "data": {
      "text/plain": [
       "0.000000    73\n",
       "1.000000    70\n",
       "0.500000    29\n",
       "0.666667     9\n",
       "0.333333     1\n",
       "0.750000     1\n",
       "Name: Survived, dtype: int64"
      ]
     },
     "execution_count": 78,
     "metadata": {},
     "output_type": "execute_result"
    }
   ],
   "source": [
    "tmp = all_data.loc[(all_data.SurnameGroupSize > 1)].groupby(['SurnameGroupId']).Survived.mean().value_counts()\n",
    "tmp"
   ]
  },
  {
   "cell_type": "markdown",
   "metadata": {},
   "source": [
    "整组人全部幸存或全部遇难:"
   ]
  },
  {
   "cell_type": "code",
   "execution_count": 79,
   "metadata": {},
   "outputs": [
    {
     "data": {
      "text/plain": [
       "0.7814207650273224"
      ]
     },
     "execution_count": 79,
     "metadata": {},
     "output_type": "execute_result"
    }
   ],
   "source": [
    "(tmp.loc[0] + tmp.loc[1]) / (np.sum(tmp.values))"
   ]
  },
  {
   "cell_type": "markdown",
   "metadata": {},
   "source": [
    "整组人幸存率大于等于$2/3$ 或 $0$:"
   ]
  },
  {
   "cell_type": "code",
   "execution_count": 80,
   "metadata": {},
   "outputs": [
    {
     "data": {
      "text/plain": [
       "0.8360655737704918"
      ]
     },
     "execution_count": 80,
     "metadata": {},
     "output_type": "execute_result"
    }
   ],
   "source": [
    "np.sum(tmp.loc[(tmp.index > 0.5) | (tmp.index == 0)].values) / (np.sum(tmp.values))"
   ]
  },
  {
   "cell_type": "markdown",
   "metadata": {},
   "source": [
    "2.<font color='blue'>只统计一起出行的人当中把女性小孩单独分组的平均幸存率：</font>"
   ]
  },
  {
   "cell_type": "code",
   "execution_count": 81,
   "metadata": {},
   "outputs": [
    {
     "data": {
      "text/plain": [
       "1.000000    101\n",
       "0.000000     31\n",
       "0.333333      1\n",
       "0.750000      1\n",
       "Name: Survived, dtype: int64"
      ]
     },
     "execution_count": 81,
     "metadata": {},
     "output_type": "execute_result"
    }
   ],
   "source": [
    "tmp = all_data.loc[(all_data.SurnameGroupSize > 1) & (index_boy | index_female)].groupby(['SurnameGroupId']).Survived.mean().value_counts()\n",
    "tmp"
   ]
  },
  {
   "cell_type": "code",
   "execution_count": 82,
   "metadata": {},
   "outputs": [
    {
     "data": {
      "text/plain": [
       "0.9850746268656716"
      ]
     },
     "execution_count": 82,
     "metadata": {},
     "output_type": "execute_result"
    }
   ],
   "source": [
    "(tmp.loc[0] + tmp.loc[1]) / (np.sum(tmp.values))"
   ]
  },
  {
   "cell_type": "markdown",
   "metadata": {},
   "source": [
    "女性男孩的数据按照 `SurnameGroupId` 分组以后，几乎所有的男孩和女性要么全遇难，要么全部幸存。"
   ]
  },
  {
   "cell_type": "markdown",
   "metadata": {},
   "source": [
    "<font color='red'>**调整 `SurnameGroupId` 后的数据，`SurnameGroupSize` 需要重新计算**</font>：\n",
    "\n",
    "1.性别、年龄无差别统计一起出行的人平均幸存率："
   ]
  },
  {
   "cell_type": "code",
   "execution_count": 83,
   "metadata": {},
   "outputs": [],
   "source": [
    "surname_group_value_count = dict(all_data.SurnameGroupId.value_counts())\n",
    "all_data['SurnameGroupSize'] = all_data.apply(lambda row : surname_group_value_count[row.SurnameGroupId], axis=1)"
   ]
  },
  {
   "cell_type": "code",
   "execution_count": 84,
   "metadata": {},
   "outputs": [
    {
     "data": {
      "text/plain": [
       "0.000000    89\n",
       "1.000000    84\n",
       "0.500000    34\n",
       "0.666667    11\n",
       "0.750000     2\n",
       "0.800000     1\n",
       "0.333333     1\n",
       "Name: Survived, dtype: int64"
      ]
     },
     "execution_count": 84,
     "metadata": {},
     "output_type": "execute_result"
    }
   ],
   "source": [
    "tmp = all_data.loc[(all_data.SurnameGroupSize > 1)].groupby(['SurnameGroupId']).Survived.mean().value_counts()\n",
    "tmp"
   ]
  },
  {
   "cell_type": "markdown",
   "metadata": {},
   "source": [
    "整组幸存率为$0$或$1$的概率："
   ]
  },
  {
   "cell_type": "code",
   "execution_count": 85,
   "metadata": {},
   "outputs": [
    {
     "data": {
      "text/plain": [
       "0.7792792792792793"
      ]
     },
     "execution_count": 85,
     "metadata": {},
     "output_type": "execute_result"
    }
   ],
   "source": [
    "(tmp.loc[0] + tmp.loc[1]) / (np.sum(tmp.values))"
   ]
  },
  {
   "cell_type": "markdown",
   "metadata": {},
   "source": [
    "整组幸存率大于等于$2/3$或$0$ :"
   ]
  },
  {
   "cell_type": "code",
   "execution_count": 86,
   "metadata": {},
   "outputs": [
    {
     "data": {
      "text/plain": [
       "0.8423423423423423"
      ]
     },
     "execution_count": 86,
     "metadata": {},
     "output_type": "execute_result"
    }
   ],
   "source": [
    "np.sum(tmp.loc[(tmp.index > 0.5) | (tmp.index == 0)].values) / (np.sum(tmp.values))"
   ]
  },
  {
   "cell_type": "markdown",
   "metadata": {},
   "source": [
    "2.只统计一起出行的人当中把**女性男孩单独分组**的平均幸存率："
   ]
  },
  {
   "cell_type": "code",
   "execution_count": 87,
   "metadata": {},
   "outputs": [
    {
     "data": {
      "text/plain": [
       "1.00    122\n",
       "0.00     34\n",
       "0.75      1\n",
       "0.50      1\n",
       "Name: Survived, dtype: int64"
      ]
     },
     "execution_count": 87,
     "metadata": {},
     "output_type": "execute_result"
    }
   ],
   "source": [
    "tmp = all_data.loc[(all_data.SurnameGroupSize > 1) & (index_boy | index_female)].groupby(['SurnameGroupId']).Survived.mean().value_counts()\n",
    "tmp"
   ]
  },
  {
   "cell_type": "markdown",
   "metadata": {},
   "source": [
    "整组幸存率为0或1的概率："
   ]
  },
  {
   "cell_type": "code",
   "execution_count": 88,
   "metadata": {},
   "outputs": [
    {
     "data": {
      "text/plain": [
       "0.9873417721518988"
      ]
     },
     "execution_count": 88,
     "metadata": {},
     "output_type": "execute_result"
    }
   ],
   "source": [
    "(tmp.loc[0] + tmp.loc[1]) / np.sum(tmp.values)"
   ]
  },
  {
   "cell_type": "markdown",
   "metadata": {},
   "source": [
    "回顾一下之前的<font color='red'>**目标**</font>：<font color='blue'><strong>默认预测女性都存活，男性都遇难，再加上以下：</strong></font>\n",
    "\n",
    "1. <font color='blue'>预测什么样的女性会遇难，毕竟少数，如果能够预测对，正确率就会极大提高。</font>\n",
    "\n",
    "2. <font color='blue'>预测什么样的男孩（最小年龄段的男性）会幸存，也是少数，如果能够预测对，正确率就会极大提高。</font>\n",
    "\n",
    "3. <font color='blue'>不是第一个年龄段的男性什么条件下会存活？</font>\n",
    "\n",
    "##### 遇难的女性所在的分组情况："
   ]
  },
  {
   "cell_type": "code",
   "execution_count": 89,
   "metadata": {},
   "outputs": [
    {
     "data": {
      "text/plain": [
       "array(['Vander Planke-3-S-18.0-3457__', 'Palsson-3-S-21.075-3499__',\n",
       "       'Turpin-2-S-21.0-116__', 'Arnold-Franchi-3-S-17.8-3492__',\n",
       "       'Goodwin-3-S-46.9-CA 21__', 'Zabour-3-C-14.4542-26__',\n",
       "       'Jussila-3-S-9.825-41__', 'Yousseff-3-C-14.4583-26__',\n",
       "       'Andersson-3-S-31.275-3470__', 'Robins-3-S-14.5-A/5. 33__',\n",
       "       'Boulos-3-C-15.2458-26__', 'Ford-3-S-34.375-W./C. 66__',\n",
       "       'Skoog-3-S-27.9-3470__', 'Sage-3-S-69.55-CA. 23__',\n",
       "       'Strom-3-S-10.4625-3470__', 'Lefebre-3-S-25.4667-41__',\n",
       "       'Rosblom-3-S-20.2125-3701__', 'Allison-1-S-151.55-1137__',\n",
       "       'Lahtinen-2-S-26.0-2506__', 'Barbara-3-C-14.4542-26__',\n",
       "       'Oreskovic-3-S-8.6625-3150__', 'Van Impe-3-S-24.15-3457__',\n",
       "       'Danbom-3-S-14.4-3470__', 'Canavan-3-Q-7.75-3648__',\n",
       "       'Cacic-3-S-8.6625-3150__', 'Caram-3-C-14.4583-26__',\n",
       "       'Lobb-3-S-16.1-A/5. 33__', 'Panula-3-S-39.6875-31012__',\n",
       "       'Bourke-3-Q-15.5-3648__', 'Ilmakangas-3-S-7.925-STON/O2. 31012__',\n",
       "       'Mudd-2-S-10.5-S.O./P.P.__', 'Carter-2-S-26.0-2442__',\n",
       "       'Rice-3-Q-29.125-3826__', 'Johnston-3-S-23.45-W./C. 66__'],\n",
       "      dtype=object)"
      ]
     },
     "execution_count": 89,
     "metadata": {},
     "output_type": "execute_result"
    }
   ],
   "source": [
    "perished_females_in_group = all_data.loc[(all_data.SurnameGroupSize > 1) & (all_data.Survived == 0) & (index_female), 'SurnameGroupId'].unique()\n",
    "perished_females_in_group"
   ]
  },
  {
   "cell_type": "code",
   "execution_count": 90,
   "metadata": {},
   "outputs": [
    {
     "data": {
      "text/plain": [
       "0.0    33\n",
       "0.5     1\n",
       "Name: Survived, dtype: int64"
      ]
     },
     "execution_count": 90,
     "metadata": {},
     "output_type": "execute_result"
    }
   ],
   "source": [
    "tmp = all_data.loc[all_data.SurnameGroupId.isin(perished_females_in_group), ['SurnameGroupId', 'Survived']].groupby(['SurnameGroupId']).Survived.mean().value_counts()\n",
    "tmp"
   ]
  },
  {
   "cell_type": "code",
   "execution_count": 91,
   "metadata": {},
   "outputs": [
    {
     "data": {
      "text/plain": [
       "0.9705882352941176"
      ]
     },
     "execution_count": 91,
     "metadata": {},
     "output_type": "execute_result"
    }
   ],
   "source": [
    "tmp[0] / tmp.values.sum()"
   ]
  },
  {
   "cell_type": "markdown",
   "metadata": {},
   "source": [
    "遇难的女性所在的分组不幸全军覆没，由此可以得出结论：如果整组都遇难那么，所在组的女性就会遇难。"
   ]
  },
  {
   "cell_type": "markdown",
   "metadata": {},
   "source": [
    "##### 幸存的女性所在的分组情况："
   ]
  },
  {
   "cell_type": "code",
   "execution_count": 92,
   "metadata": {},
   "outputs": [
    {
     "data": {
      "text/plain": [
       "1.000000    75\n",
       "0.500000    28\n",
       "0.666667    10\n",
       "0.750000     2\n",
       "0.333333     1\n",
       "Name: Survived, dtype: int64"
      ]
     },
     "execution_count": 92,
     "metadata": {},
     "output_type": "execute_result"
    }
   ],
   "source": [
    "survived_females_in_group = all_data.loc[(all_data.SurnameGroupSize > 1) & (all_data.Survived == 1.0) & (index_female), 'SurnameGroupId'].unique()\n",
    "tmp = all_data.loc[all_data.SurnameGroupId.isin(survived_females_in_group), ['SurnameGroupId', 'Survived']].groupby(['SurnameGroupId']).Survived.mean().value_counts()\n",
    "tmp"
   ]
  },
  {
   "cell_type": "code",
   "execution_count": 93,
   "metadata": {},
   "outputs": [
    {
     "data": {
      "text/plain": [
       "0.646551724137931"
      ]
     },
     "execution_count": 93,
     "metadata": {},
     "output_type": "execute_result"
    }
   ],
   "source": [
    "tmp[1] / tmp.values.sum()"
   ]
  },
  {
   "cell_type": "markdown",
   "metadata": {},
   "source": [
    "##### 遇难的男孩所在的分组情况"
   ]
  },
  {
   "cell_type": "code",
   "execution_count": 94,
   "metadata": {},
   "outputs": [
    {
     "data": {
      "text/plain": [
       "array(['Palsson-3-S-21.075-3499__', 'Rice-3-Q-29.125-3826__',\n",
       "       'Panula-3-S-39.6875-31012__', 'Goodwin-3-S-46.9-CA 21__',\n",
       "       'Skoog-3-S-27.9-3470__', 'Sage-3-S-69.55-CA. 23__',\n",
       "       'Lefebre-3-S-25.4667-41__', 'Asplund-3-S-31.3875-3470__',\n",
       "       'Hassan-3-C-18.7875-26__', 'Andersson-3-S-31.275-3470__'],\n",
       "      dtype=object)"
      ]
     },
     "execution_count": 94,
     "metadata": {},
     "output_type": "execute_result"
    }
   ],
   "source": [
    "perished_boys_in_group = all_data.loc[ (all_data.SurnameGroupSize > 1) & (all_data.Survived == 0) & (index_boy), 'SurnameGroupId'].unique()\n",
    "perished_boys_in_group"
   ]
  },
  {
   "cell_type": "code",
   "execution_count": 95,
   "metadata": {},
   "outputs": [
    {
     "data": {
      "text/plain": [
       "0.00    8\n",
       "0.50    1\n",
       "0.75    1\n",
       "Name: Survived, dtype: int64"
      ]
     },
     "execution_count": 95,
     "metadata": {},
     "output_type": "execute_result"
    }
   ],
   "source": [
    "tmp = all_data.loc[all_data.SurnameGroupId.isin(perished_boys_in_group), ['SurnameGroupId', 'Survived']].groupby(['SurnameGroupId']).Survived.mean().value_counts()\n",
    "tmp "
   ]
  },
  {
   "cell_type": "code",
   "execution_count": 96,
   "metadata": {},
   "outputs": [
    {
     "data": {
      "text/plain": [
       "0.8"
      ]
     },
     "execution_count": 96,
     "metadata": {},
     "output_type": "execute_result"
    }
   ],
   "source": [
    "tmp[0] / tmp.values.sum()"
   ]
  },
  {
   "cell_type": "markdown",
   "metadata": {},
   "source": [
    "遇难的男孩所在的分组不幸全军覆没，由此可以得出结论：如果整组都遇难那么，所在组的男孩就会遇难。"
   ]
  },
  {
   "cell_type": "markdown",
   "metadata": {},
   "source": [
    "##### 幸存男孩所在的分组"
   ]
  },
  {
   "cell_type": "code",
   "execution_count": 97,
   "metadata": {},
   "outputs": [
    {
     "data": {
      "text/plain": [
       "1.000000    12\n",
       "0.500000     4\n",
       "0.666667     2\n",
       "0.750000     1\n",
       "Name: Survived, dtype: int64"
      ]
     },
     "execution_count": 97,
     "metadata": {},
     "output_type": "execute_result"
    }
   ],
   "source": [
    "survived_boys_in_group = all_data.loc[ (all_data.SurnameGroupSize > 1) & (all_data.Survived == 1) & (index_boy), 'SurnameGroupId'].unique()\n",
    "tmp = all_data.loc[all_data.SurnameGroupId.isin(survived_boys_in_group), ['SurnameGroupId', 'Survived']].groupby(['SurnameGroupId']).Survived.mean().value_counts()\n",
    "tmp"
   ]
  },
  {
   "cell_type": "code",
   "execution_count": 98,
   "metadata": {},
   "outputs": [
    {
     "data": {
      "text/plain": [
       "0.631578947368421"
      ]
     },
     "execution_count": 98,
     "metadata": {},
     "output_type": "execute_result"
    }
   ],
   "source": [
    "tmp[1] / tmp.values.sum()"
   ]
  },
  {
   "cell_type": "markdown",
   "metadata": {},
   "source": [
    "##### 幸存成年男性所在分组情况\n",
    "\n",
    "由之前分析我们得到，成年男性幸存率非常低 $20\\%$不到"
   ]
  },
  {
   "cell_type": "code",
   "execution_count": 99,
   "metadata": {},
   "outputs": [
    {
     "data": {
      "text/plain": [
       "array(['Ling-3-S-56.4958-16__', 'Greenfield-1-C-63.3583-PC 177__',\n",
       "       'Hassan-3-C-18.7875-26__', 'Hoyt-1-S-90.0-199__',\n",
       "       'Beckwith-1-S-52.5542-117__', 'Tornquist-3-S-0.0-LI__',\n",
       "       'McCoy-3-Q-23.25-3672__', 'Harder-1-C-55.4417-117__',\n",
       "       'Carter-1-S-120.0-1137__', 'Goldenberg-1-C-89.1042-174__',\n",
       "       'Bishop-1-C-91.0792-119__', 'Beane-2-S-26.0-29__',\n",
       "       'Thayer-1-C-110.8833-174__', 'Jonsson-3-S-7.8542-3504__',\n",
       "       'Frolicher-Stehli-1-C-79.2-135__',\n",
       "       'Duff Gordon-1-C-56.9292-PC 174__', 'Kimball-1-S-52.5542-117__',\n",
       "       'Nakid-3-C-15.7417-26__', 'Harper-1-C-76.7292-PC 175__',\n",
       "       'Frauenthal-1-S-133.65-PC 176__', 'Cardeza-1-C-512.3292-PC 177__',\n",
       "       'Dick-1-S-57.0-174__', 'Lam-3-S-56.4958-16__',\n",
       "       'Taylor-1-S-52.0-199__', 'Chambers-1-S-53.1-1138__'], dtype=object)"
      ]
     },
     "execution_count": 99,
     "metadata": {},
     "output_type": "execute_result"
    }
   ],
   "source": [
    "survived_male_adults_in_group = all_data.loc[(all_data.SurnameGroupSize > 1) & (all_data.Survived == 1) & (~index_boy) & (all_data.Sex == 'male')]\n",
    "survived_male_adults_in_group.SurnameGroupId.unique()"
   ]
  },
  {
   "cell_type": "code",
   "execution_count": 100,
   "metadata": {},
   "outputs": [
    {
     "data": {
      "text/plain": [
       "(30, 21)"
      ]
     },
     "execution_count": 100,
     "metadata": {},
     "output_type": "execute_result"
    }
   ],
   "source": [
    "survived_male_adults_in_group.shape"
   ]
  },
  {
   "cell_type": "code",
   "execution_count": 101,
   "metadata": {},
   "outputs": [
    {
     "data": {
      "text/plain": [
       "1.00    20\n",
       "0.50     3\n",
       "0.80     1\n",
       "0.75     1\n",
       "Name: Survived, dtype: int64"
      ]
     },
     "execution_count": 101,
     "metadata": {},
     "output_type": "execute_result"
    }
   ],
   "source": [
    "tmp = all_data.loc[all_data.SurnameGroupId.isin(survived_male_adults_in_group.SurnameGroupId), ['SurnameGroupId', 'Survived']].groupby(['SurnameGroupId']).Survived.mean().value_counts()\n",
    "tmp"
   ]
  },
  {
   "cell_type": "code",
   "execution_count": 102,
   "metadata": {},
   "outputs": [
    {
     "data": {
      "text/plain": [
       "0.8"
      ]
     },
     "execution_count": 102,
     "metadata": {},
     "output_type": "execute_result"
    }
   ],
   "source": [
    "tmp.loc[1] / tmp.values.sum()"
   ]
  },
  {
   "cell_type": "code",
   "execution_count": 103,
   "metadata": {},
   "outputs": [
    {
     "data": {
      "text/plain": [
       "<matplotlib.axes._subplots.AxesSubplot at 0x2d58901e9b0>"
      ]
     },
     "execution_count": 103,
     "metadata": {},
     "output_type": "execute_result"
    },
    {
     "data": {
      "image/png": "[encoded data removed]",
      "text/plain": [
       "<Figure size 288x288 with 1 Axes>"
      ]
     },
     "metadata": {},
     "output_type": "display_data"
    }
   ],
   "source": [
    "pylab.rcParams['figure.figsize'] = (4,4)\n",
    "sns.barplot(x='Pclass', y='Survived', data=all_data.loc[all_data.SurnameGroupId.isin(survived_male_adults_in_group.SurnameGroupId)])"
   ]
  },
  {
   "cell_type": "code",
   "execution_count": 104,
   "metadata": {},
   "outputs": [
    {
     "data": {
      "text/plain": [
       "<matplotlib.axes._subplots.AxesSubplot at 0x2d588fcde80>"
      ]
     },
     "execution_count": 104,
     "metadata": {},
     "output_type": "execute_result"
    },
    {
     "data": {
      "image/png": "[encoded data removed]",
      "text/plain": [
       "<Figure size 288x288 with 1 Axes>"
      ]
     },
     "metadata": {},
     "output_type": "display_data"
    }
   ],
   "source": [
    "male_adults_in_group = all_data.loc[(all_data.SurnameGroupSize > 1) & (~index_boy) & (all_data.Sex == 'male')]\n",
    "pylab.rcParams['figure.figsize'] = (4,4)\n",
    "sns.barplot(x='Pclass', y='Survived', data=male_adults_in_group)"
   ]
  },
  {
   "cell_type": "code",
   "execution_count": 105,
   "metadata": {},
   "outputs": [],
   "source": [
    "#all_data.loc[all_data.SurnameGroupId.isin(survived_male_adults_in_group.SurnameGroupId)].sort_values(['SurnameGroupId']).to_csv('幸存的成年男性.csv', index = None)"
   ]
  },
  {
   "cell_type": "markdown",
   "metadata": {},
   "source": [
    "##### 遇难成年男性所在分组情况"
   ]
  },
  {
   "cell_type": "code",
   "execution_count": 106,
   "metadata": {},
   "outputs": [
    {
     "data": {
      "text/plain": [
       "0.000000    76\n",
       "0.500000    32\n",
       "0.666667    11\n",
       "0.800000     1\n",
       "0.333333     1\n",
       "0.750000     1\n",
       "Name: Survived, dtype: int64"
      ]
     },
     "execution_count": 106,
     "metadata": {},
     "output_type": "execute_result"
    }
   ],
   "source": [
    "perished_male_adults_in_group = all_data.loc[(all_data.SurnameGroupSize > 1) & (all_data.Survived == 0) & (~index_boy) & (all_data.Sex == 'male'), 'SurnameGroupId'].unique()\n",
    "tmp = all_data.loc[all_data.SurnameGroupId.isin(perished_male_adults_in_group), ['SurnameGroupId', 'Survived']].groupby(['SurnameGroupId']).Survived.mean().value_counts()\n",
    "tmp"
   ]
  },
  {
   "cell_type": "code",
   "execution_count": 107,
   "metadata": {},
   "outputs": [
    {
     "data": {
      "text/plain": [
       "0.6229508196721312"
      ]
     },
     "execution_count": 107,
     "metadata": {},
     "output_type": "execute_result"
    }
   ],
   "source": [
    "tmp.loc[0] / tmp.values.sum()"
   ]
  },
  {
   "cell_type": "code",
   "execution_count": 108,
   "metadata": {},
   "outputs": [],
   "source": [
    "perished_females_in_group = None\n",
    "survived_females_in_group = None\n",
    "perished_boys_in_group = None\n",
    "survived_male_adults_in_group = None\n",
    "perished_male_adults_in_group = None"
   ]
  },
  {
   "cell_type": "markdown",
   "metadata": {},
   "source": [
    "<font color='red'>**经过上面的分析，我们能用到的就是将女士和男孩单独区分出来，当他们所在的组是全部幸存或者全部遇难的话，就可以直接判断他们幸存与否**</font>"
   ]
  },
  {
   "cell_type": "markdown",
   "metadata": {},
   "source": [
    "### 整组幸存情况都未知\n",
    "\n",
    "回顾一下之前的<font color='red'>**目标**</font>：<font color='blue'><strong>默认预测女性都存活，男性都遇难，再加上以下：</strong></font>\n",
    "\n",
    "1. <font color='blue'>预测什么样的女性会遇难，毕竟少数，如果能够预测对，正确率就会极大提高。</font>\n",
    "\n",
    "2. <font color='blue'>预测什么样的男孩（最小年龄段的男性）会幸存，也是少数，如果能够预测对，正确率就会极大提高。</font>\n",
    "\n",
    "3. <font color='blue'>不是第一个年龄段的男性什么条件下会存活？</font>\n",
    "\n",
    "我们这时候需要考虑**整组人是否幸存都未知的数据**，因为这样的数据我们没法利用组内的平均幸存率做预测。"
   ]
  },
  {
   "cell_type": "code",
   "execution_count": 109,
   "metadata": {},
   "outputs": [],
   "source": [
    "selected_features = ['SurnameGroupId', 'Cabin', 'Pclass', 'Embarked', 'Sex', 'Fare', 'TicketGroupId', 'SibSp', 'Parch', 'Age', 'Survived', 'Title', 'SurnameGroupSize', 'SingleTicketFare']\n",
    "groups = all_data.loc[(all_data.SurnameGroupSize > 1), selected_features].sort_values(['SurnameGroupId', 'Survived']).groupby(['SurnameGroupId'])\n",
    "\n",
    "all_perished_groups = pd.DataFrame()\n",
    "one_more_survived_groups = pd.DataFrame()\n",
    "\n",
    "for index, group in groups:\n",
    "    indices = group.Survived.value_counts().index\n",
    "    if indices.shape[0] == 0:\n",
    "        all_perished_groups = all_perished_groups.append(group)\n",
    "    else:\n",
    "        one_more_survived_groups = one_more_survived_groups.append(group)\n",
    "        \n",
    "groups = None"
   ]
  },
  {
   "cell_type": "markdown",
   "metadata": {},
   "source": [
    "整组人幸存情况未知的组数为："
   ]
  },
  {
   "cell_type": "code",
   "execution_count": 110,
   "metadata": {},
   "outputs": [
    {
     "data": {
      "text/plain": [
       "(21, 222)"
      ]
     },
     "execution_count": 110,
     "metadata": {},
     "output_type": "execute_result"
    }
   ],
   "source": [
    "all_perished_groups.SurnameGroupId.unique().shape[0], len(one_more_survived_groups.SurnameGroupId.unique())"
   ]
  },
  {
   "cell_type": "code",
   "execution_count": 111,
   "metadata": {},
   "outputs": [
    {
     "data": {
      "text/plain": [
       "(44, 606)"
      ]
     },
     "execution_count": 111,
     "metadata": {},
     "output_type": "execute_result"
    }
   ],
   "source": [
    "all_perished_groups.SurnameGroupId.shape[0], one_more_survived_groups.SurnameGroupId.count()"
   ]
  },
  {
   "cell_type": "code",
   "execution_count": 112,
   "metadata": {
    "scrolled": true
   },
   "outputs": [
    {
     "data": {
      "text/html": [
       "<div>\n",
       "<style scoped>\n",
       "    .dataframe tbody tr th:only-of-type {\n",
       "        vertical-align: middle;\n",
       "    }\n",
       "\n",
       "    .dataframe tbody tr th {\n",
       "        vertical-align: top;\n",
       "    }\n",
       "\n",
       "    .dataframe thead th {\n",
       "        text-align: right;\n",
       "    }\n",
       "</style>\n",
       "<table border=\"1\" class=\"dataframe\">\n",
       "  <thead>\n",
       "    <tr style=\"text-align: right;\">\n",
       "      <th></th>\n",
       "      <th>SurnameGroupId</th>\n",
       "      <th>Cabin</th>\n",
       "      <th>Pclass</th>\n",
       "      <th>Embarked</th>\n",
       "      <th>Sex</th>\n",
       "      <th>Fare</th>\n",
       "      <th>TicketGroupId</th>\n",
       "      <th>SibSp</th>\n",
       "      <th>Parch</th>\n",
       "      <th>Age</th>\n",
       "      <th>Title</th>\n",
       "      <th>SingleTicketFare</th>\n",
       "    </tr>\n",
       "  </thead>\n",
       "  <tbody>\n",
       "    <tr>\n",
       "      <th>948</th>\n",
       "      <td>Abelseth-3-S-7.65-3481__</td>\n",
       "      <td>F G63</td>\n",
       "      <td>3</td>\n",
       "      <td>S</td>\n",
       "      <td>male</td>\n",
       "      <td>7.6500</td>\n",
       "      <td>3-S-7.65-348122</td>\n",
       "      <td>0</td>\n",
       "      <td>0</td>\n",
       "      <td>25.00</td>\n",
       "      <td>Mr</td>\n",
       "      <td>7.650000</td>\n",
       "    </tr>\n",
       "    <tr>\n",
       "      <th>1236</th>\n",
       "      <td>Abelseth-3-S-7.65-3481__</td>\n",
       "      <td>NaN</td>\n",
       "      <td>3</td>\n",
       "      <td>S</td>\n",
       "      <td>female</td>\n",
       "      <td>7.6500</td>\n",
       "      <td>3-S-7.65-348125</td>\n",
       "      <td>0</td>\n",
       "      <td>0</td>\n",
       "      <td>16.00</td>\n",
       "      <td>Miss</td>\n",
       "      <td>7.650000</td>\n",
       "    </tr>\n",
       "    <tr>\n",
       "      <th>1105</th>\n",
       "      <td>Andersson-3-S-7.775-3470__</td>\n",
       "      <td>NaN</td>\n",
       "      <td>3</td>\n",
       "      <td>S</td>\n",
       "      <td>female</td>\n",
       "      <td>7.7750</td>\n",
       "      <td>3-S-7.775-347091</td>\n",
       "      <td>4</td>\n",
       "      <td>2</td>\n",
       "      <td>38.00</td>\n",
       "      <td>Miss</td>\n",
       "      <td>7.775000</td>\n",
       "    </tr>\n",
       "    <tr>\n",
       "      <th>1211</th>\n",
       "      <td>Andersson-3-S-7.775-3470__</td>\n",
       "      <td>NaN</td>\n",
       "      <td>3</td>\n",
       "      <td>S</td>\n",
       "      <td>male</td>\n",
       "      <td>7.7750</td>\n",
       "      <td>3-S-7.775-347075</td>\n",
       "      <td>0</td>\n",
       "      <td>0</td>\n",
       "      <td>26.00</td>\n",
       "      <td>Mr</td>\n",
       "      <td>7.775000</td>\n",
       "    </tr>\n",
       "    <tr>\n",
       "      <th>1143</th>\n",
       "      <td>Clark-1-C-136.7792-135__</td>\n",
       "      <td>C89</td>\n",
       "      <td>1</td>\n",
       "      <td>C</td>\n",
       "      <td>male</td>\n",
       "      <td>136.7792</td>\n",
       "      <td>1-C-136.7792-13508</td>\n",
       "      <td>1</td>\n",
       "      <td>0</td>\n",
       "      <td>27.00</td>\n",
       "      <td>Mr</td>\n",
       "      <td>68.389600</td>\n",
       "    </tr>\n",
       "    <tr>\n",
       "      <th>1163</th>\n",
       "      <td>Clark-1-C-136.7792-135__</td>\n",
       "      <td>C89</td>\n",
       "      <td>1</td>\n",
       "      <td>C</td>\n",
       "      <td>female</td>\n",
       "      <td>136.7792</td>\n",
       "      <td>1-C-136.7792-13508</td>\n",
       "      <td>1</td>\n",
       "      <td>0</td>\n",
       "      <td>26.00</td>\n",
       "      <td>Mrs</td>\n",
       "      <td>68.389600</td>\n",
       "    </tr>\n",
       "    <tr>\n",
       "      <th>981</th>\n",
       "      <td>Dyker-3-S-13.9-3470__</td>\n",
       "      <td>NaN</td>\n",
       "      <td>3</td>\n",
       "      <td>S</td>\n",
       "      <td>female</td>\n",
       "      <td>13.9000</td>\n",
       "      <td>3-S-13.9-347072</td>\n",
       "      <td>1</td>\n",
       "      <td>0</td>\n",
       "      <td>22.00</td>\n",
       "      <td>Mrs</td>\n",
       "      <td>6.950000</td>\n",
       "    </tr>\n",
       "    <tr>\n",
       "      <th>1063</th>\n",
       "      <td>Dyker-3-S-13.9-3470__</td>\n",
       "      <td>NaN</td>\n",
       "      <td>3</td>\n",
       "      <td>S</td>\n",
       "      <td>male</td>\n",
       "      <td>13.9000</td>\n",
       "      <td>3-S-13.9-347072</td>\n",
       "      <td>1</td>\n",
       "      <td>0</td>\n",
       "      <td>23.00</td>\n",
       "      <td>Mr</td>\n",
       "      <td>6.950000</td>\n",
       "    </tr>\n",
       "    <tr>\n",
       "      <th>1259</th>\n",
       "      <td>Gibson-1-C-59.4-1123__</td>\n",
       "      <td>NaN</td>\n",
       "      <td>1</td>\n",
       "      <td>C</td>\n",
       "      <td>female</td>\n",
       "      <td>59.4000</td>\n",
       "      <td>1-C-59.4-112378</td>\n",
       "      <td>0</td>\n",
       "      <td>1</td>\n",
       "      <td>45.00</td>\n",
       "      <td>Mrs</td>\n",
       "      <td>29.700000</td>\n",
       "    </tr>\n",
       "    <tr>\n",
       "      <th>1293</th>\n",
       "      <td>Gibson-1-C-59.4-1123__</td>\n",
       "      <td>NaN</td>\n",
       "      <td>1</td>\n",
       "      <td>C</td>\n",
       "      <td>female</td>\n",
       "      <td>59.4000</td>\n",
       "      <td>1-C-59.4-112378</td>\n",
       "      <td>0</td>\n",
       "      <td>1</td>\n",
       "      <td>22.00</td>\n",
       "      <td>Miss</td>\n",
       "      <td>29.700000</td>\n",
       "    </tr>\n",
       "    <tr>\n",
       "      <th>904</th>\n",
       "      <td>Howard-2-S-26.0-240__</td>\n",
       "      <td>NaN</td>\n",
       "      <td>2</td>\n",
       "      <td>S</td>\n",
       "      <td>male</td>\n",
       "      <td>26.0000</td>\n",
       "      <td>2-S-26.0-24065</td>\n",
       "      <td>1</td>\n",
       "      <td>0</td>\n",
       "      <td>63.00</td>\n",
       "      <td>Mr</td>\n",
       "      <td>13.000000</td>\n",
       "    </tr>\n",
       "    <tr>\n",
       "      <th>1104</th>\n",
       "      <td>Howard-2-S-26.0-240__</td>\n",
       "      <td>NaN</td>\n",
       "      <td>2</td>\n",
       "      <td>S</td>\n",
       "      <td>female</td>\n",
       "      <td>26.0000</td>\n",
       "      <td>2-S-26.0-24065</td>\n",
       "      <td>1</td>\n",
       "      <td>0</td>\n",
       "      <td>60.00</td>\n",
       "      <td>Mrs</td>\n",
       "      <td>13.000000</td>\n",
       "    </tr>\n",
       "    <tr>\n",
       "      <th>922</th>\n",
       "      <td>Jefferys-2-S-31.5-C.A. 310__</td>\n",
       "      <td>NaN</td>\n",
       "      <td>2</td>\n",
       "      <td>S</td>\n",
       "      <td>male</td>\n",
       "      <td>31.5000</td>\n",
       "      <td>2-S-31.5-C.A. 31029</td>\n",
       "      <td>2</td>\n",
       "      <td>0</td>\n",
       "      <td>24.00</td>\n",
       "      <td>Mr</td>\n",
       "      <td>10.500000</td>\n",
       "    </tr>\n",
       "    <tr>\n",
       "      <th>1210</th>\n",
       "      <td>Jefferys-2-S-31.5-C.A. 310__</td>\n",
       "      <td>NaN</td>\n",
       "      <td>2</td>\n",
       "      <td>S</td>\n",
       "      <td>male</td>\n",
       "      <td>31.5000</td>\n",
       "      <td>2-S-31.5-C.A. 31029</td>\n",
       "      <td>2</td>\n",
       "      <td>0</td>\n",
       "      <td>22.00</td>\n",
       "      <td>Mr</td>\n",
       "      <td>10.500000</td>\n",
       "    </tr>\n",
       "    <tr>\n",
       "      <th>1229</th>\n",
       "      <td>Jefferys-2-S-31.5-C.A. 310__</td>\n",
       "      <td>NaN</td>\n",
       "      <td>2</td>\n",
       "      <td>S</td>\n",
       "      <td>male</td>\n",
       "      <td>31.5000</td>\n",
       "      <td>2-S-31.5-C.A. 31029</td>\n",
       "      <td>0</td>\n",
       "      <td>0</td>\n",
       "      <td>25.00</td>\n",
       "      <td>Mr</td>\n",
       "      <td>10.500000</td>\n",
       "    </tr>\n",
       "    <tr>\n",
       "      <th>956</th>\n",
       "      <td>Karnes-2-S-21.0-F.C.C. 135__</td>\n",
       "      <td>NaN</td>\n",
       "      <td>2</td>\n",
       "      <td>S</td>\n",
       "      <td>female</td>\n",
       "      <td>21.0000</td>\n",
       "      <td>2-S-21.0-F.C.C. 13534</td>\n",
       "      <td>0</td>\n",
       "      <td>0</td>\n",
       "      <td>NaN</td>\n",
       "      <td>Mrs</td>\n",
       "      <td>10.500000</td>\n",
       "    </tr>\n",
       "    <tr>\n",
       "      <th>1137</th>\n",
       "      <td>Karnes-2-S-21.0-F.C.C. 135__</td>\n",
       "      <td>NaN</td>\n",
       "      <td>2</td>\n",
       "      <td>S</td>\n",
       "      <td>female</td>\n",
       "      <td>21.0000</td>\n",
       "      <td>2-S-21.0-F.C.C. 13534</td>\n",
       "      <td>0</td>\n",
       "      <td>0</td>\n",
       "      <td>22.00</td>\n",
       "      <td>Mrs</td>\n",
       "      <td>10.500000</td>\n",
       "    </tr>\n",
       "    <tr>\n",
       "      <th>976</th>\n",
       "      <td>Khalil-3-C-14.4542-26__</td>\n",
       "      <td>NaN</td>\n",
       "      <td>3</td>\n",
       "      <td>C</td>\n",
       "      <td>male</td>\n",
       "      <td>14.4542</td>\n",
       "      <td>3-C-14.4542-2660</td>\n",
       "      <td>1</td>\n",
       "      <td>0</td>\n",
       "      <td>NaN</td>\n",
       "      <td>Mr</td>\n",
       "      <td>7.227100</td>\n",
       "    </tr>\n",
       "    <tr>\n",
       "      <th>1140</th>\n",
       "      <td>Khalil-3-C-14.4542-26__</td>\n",
       "      <td>NaN</td>\n",
       "      <td>3</td>\n",
       "      <td>C</td>\n",
       "      <td>female</td>\n",
       "      <td>14.4542</td>\n",
       "      <td>3-C-14.4542-2660</td>\n",
       "      <td>1</td>\n",
       "      <td>0</td>\n",
       "      <td>NaN</td>\n",
       "      <td>Mrs</td>\n",
       "      <td>7.227100</td>\n",
       "    </tr>\n",
       "    <tr>\n",
       "      <th>1044</th>\n",
       "      <td>Klasen-3-S-12.1833-3504__</td>\n",
       "      <td>NaN</td>\n",
       "      <td>3</td>\n",
       "      <td>S</td>\n",
       "      <td>female</td>\n",
       "      <td>12.1833</td>\n",
       "      <td>3-S-12.1833-350405</td>\n",
       "      <td>0</td>\n",
       "      <td>2</td>\n",
       "      <td>36.00</td>\n",
       "      <td>Mrs</td>\n",
       "      <td>6.091650</td>\n",
       "    </tr>\n",
       "    <tr>\n",
       "      <th>1154</th>\n",
       "      <td>Klasen-3-S-12.1833-3504__</td>\n",
       "      <td>NaN</td>\n",
       "      <td>3</td>\n",
       "      <td>S</td>\n",
       "      <td>female</td>\n",
       "      <td>12.1833</td>\n",
       "      <td>3-S-12.1833-350405</td>\n",
       "      <td>1</td>\n",
       "      <td>1</td>\n",
       "      <td>1.00</td>\n",
       "      <td>Miss</td>\n",
       "      <td>6.091650</td>\n",
       "    </tr>\n",
       "    <tr>\n",
       "      <th>1009</th>\n",
       "      <td>McCaffry-1-C-75.2417-130__</td>\n",
       "      <td>C6</td>\n",
       "      <td>1</td>\n",
       "      <td>C</td>\n",
       "      <td>male</td>\n",
       "      <td>75.2417</td>\n",
       "      <td>1-C-75.2417-13050</td>\n",
       "      <td>0</td>\n",
       "      <td>0</td>\n",
       "      <td>36.00</td>\n",
       "      <td>Mr</td>\n",
       "      <td>37.620850</td>\n",
       "    </tr>\n",
       "    <tr>\n",
       "      <th>1161</th>\n",
       "      <td>McCaffry-1-C-75.2417-130__</td>\n",
       "      <td>C6</td>\n",
       "      <td>1</td>\n",
       "      <td>C</td>\n",
       "      <td>male</td>\n",
       "      <td>75.2417</td>\n",
       "      <td>1-C-75.2417-13050</td>\n",
       "      <td>0</td>\n",
       "      <td>0</td>\n",
       "      <td>46.00</td>\n",
       "      <td>Mr</td>\n",
       "      <td>37.620850</td>\n",
       "    </tr>\n",
       "    <tr>\n",
       "      <th>1050</th>\n",
       "      <td>Peacock-3-S-13.775-SOTON/O.Q. 31013__</td>\n",
       "      <td>NaN</td>\n",
       "      <td>3</td>\n",
       "      <td>S</td>\n",
       "      <td>female</td>\n",
       "      <td>13.7750</td>\n",
       "      <td>3-S-13.775-SOTON/O.Q. 3101315</td>\n",
       "      <td>0</td>\n",
       "      <td>2</td>\n",
       "      <td>26.00</td>\n",
       "      <td>Mrs</td>\n",
       "      <td>4.591667</td>\n",
       "    </tr>\n",
       "    <tr>\n",
       "      <th>1172</th>\n",
       "      <td>Peacock-3-S-13.775-SOTON/O.Q. 31013__</td>\n",
       "      <td>NaN</td>\n",
       "      <td>3</td>\n",
       "      <td>S</td>\n",
       "      <td>male</td>\n",
       "      <td>13.7750</td>\n",
       "      <td>3-S-13.775-SOTON/O.Q. 3101315</td>\n",
       "      <td>1</td>\n",
       "      <td>1</td>\n",
       "      <td>0.75</td>\n",
       "      <td>Master</td>\n",
       "      <td>4.591667</td>\n",
       "    </tr>\n",
       "    <tr>\n",
       "      <th>1300</th>\n",
       "      <td>Peacock-3-S-13.775-SOTON/O.Q. 31013__</td>\n",
       "      <td>NaN</td>\n",
       "      <td>3</td>\n",
       "      <td>S</td>\n",
       "      <td>female</td>\n",
       "      <td>13.7750</td>\n",
       "      <td>3-S-13.775-SOTON/O.Q. 3101315</td>\n",
       "      <td>1</td>\n",
       "      <td>1</td>\n",
       "      <td>3.00</td>\n",
       "      <td>Miss</td>\n",
       "      <td>4.591667</td>\n",
       "    </tr>\n",
       "    <tr>\n",
       "      <th>1077</th>\n",
       "      <td>Phillips-2-S-21.0-S.O./P.P.__</td>\n",
       "      <td>NaN</td>\n",
       "      <td>2</td>\n",
       "      <td>S</td>\n",
       "      <td>female</td>\n",
       "      <td>21.0000</td>\n",
       "      <td>2-S-21.0-S.O./P.P. 2</td>\n",
       "      <td>0</td>\n",
       "      <td>1</td>\n",
       "      <td>21.00</td>\n",
       "      <td>Miss</td>\n",
       "      <td>10.500000</td>\n",
       "    </tr>\n",
       "    <tr>\n",
       "      <th>1193</th>\n",
       "      <td>Phillips-2-S-21.0-S.O./P.P.__</td>\n",
       "      <td>NaN</td>\n",
       "      <td>2</td>\n",
       "      <td>S</td>\n",
       "      <td>male</td>\n",
       "      <td>21.0000</td>\n",
       "      <td>2-S-21.0-S.O./P.P. 2</td>\n",
       "      <td>0</td>\n",
       "      <td>1</td>\n",
       "      <td>43.00</td>\n",
       "      <td>Mr</td>\n",
       "      <td>10.500000</td>\n",
       "    </tr>\n",
       "    <tr>\n",
       "      <th>1160</th>\n",
       "      <td>Pokrnic-3-S-8.6625-3150__</td>\n",
       "      <td>NaN</td>\n",
       "      <td>3</td>\n",
       "      <td>S</td>\n",
       "      <td>male</td>\n",
       "      <td>8.6625</td>\n",
       "      <td>3-S-8.6625-315095</td>\n",
       "      <td>0</td>\n",
       "      <td>0</td>\n",
       "      <td>17.00</td>\n",
       "      <td>Mr</td>\n",
       "      <td>8.662500</td>\n",
       "    </tr>\n",
       "    <tr>\n",
       "      <th>1194</th>\n",
       "      <td>Pokrnic-3-S-8.6625-3150__</td>\n",
       "      <td>NaN</td>\n",
       "      <td>3</td>\n",
       "      <td>S</td>\n",
       "      <td>male</td>\n",
       "      <td>8.6625</td>\n",
       "      <td>3-S-8.6625-315092</td>\n",
       "      <td>0</td>\n",
       "      <td>0</td>\n",
       "      <td>24.00</td>\n",
       "      <td>Mr</td>\n",
       "      <td>8.662500</td>\n",
       "    </tr>\n",
       "    <tr>\n",
       "      <th>925</th>\n",
       "      <td>Schabert-1-C-57.75-132__</td>\n",
       "      <td>C78</td>\n",
       "      <td>1</td>\n",
       "      <td>C</td>\n",
       "      <td>male</td>\n",
       "      <td>57.7500</td>\n",
       "      <td>1-C-57.75-13236</td>\n",
       "      <td>1</td>\n",
       "      <td>0</td>\n",
       "      <td>30.00</td>\n",
       "      <td>Mr</td>\n",
       "      <td>28.875000</td>\n",
       "    </tr>\n",
       "    <tr>\n",
       "      <th>1013</th>\n",
       "      <td>Schabert-1-C-57.75-132__</td>\n",
       "      <td>C28</td>\n",
       "      <td>1</td>\n",
       "      <td>C</td>\n",
       "      <td>female</td>\n",
       "      <td>57.7500</td>\n",
       "      <td>1-C-57.75-13236</td>\n",
       "      <td>1</td>\n",
       "      <td>0</td>\n",
       "      <td>35.00</td>\n",
       "      <td>Mrs</td>\n",
       "      <td>28.875000</td>\n",
       "    </tr>\n",
       "    <tr>\n",
       "      <th>941</th>\n",
       "      <td>Smith-1-S-60.0-136__</td>\n",
       "      <td>C31</td>\n",
       "      <td>1</td>\n",
       "      <td>S</td>\n",
       "      <td>male</td>\n",
       "      <td>60.0000</td>\n",
       "      <td>1-S-60.0-13695</td>\n",
       "      <td>1</td>\n",
       "      <td>0</td>\n",
       "      <td>24.00</td>\n",
       "      <td>Mr</td>\n",
       "      <td>30.000000</td>\n",
       "    </tr>\n",
       "    <tr>\n",
       "      <th>1286</th>\n",
       "      <td>Smith-1-S-60.0-136__</td>\n",
       "      <td>C31</td>\n",
       "      <td>1</td>\n",
       "      <td>S</td>\n",
       "      <td>female</td>\n",
       "      <td>60.0000</td>\n",
       "      <td>1-S-60.0-13695</td>\n",
       "      <td>1</td>\n",
       "      <td>0</td>\n",
       "      <td>18.00</td>\n",
       "      <td>Mrs</td>\n",
       "      <td>30.000000</td>\n",
       "    </tr>\n",
       "    <tr>\n",
       "      <th>903</th>\n",
       "      <td>Snyder-1-S-82.2667-212__</td>\n",
       "      <td>B45</td>\n",
       "      <td>1</td>\n",
       "      <td>S</td>\n",
       "      <td>female</td>\n",
       "      <td>82.2667</td>\n",
       "      <td>1-S-82.2667-21228</td>\n",
       "      <td>1</td>\n",
       "      <td>0</td>\n",
       "      <td>23.00</td>\n",
       "      <td>Mrs</td>\n",
       "      <td>41.133350</td>\n",
       "    </tr>\n",
       "    <tr>\n",
       "      <th>1178</th>\n",
       "      <td>Snyder-1-S-82.2667-212__</td>\n",
       "      <td>B45</td>\n",
       "      <td>1</td>\n",
       "      <td>S</td>\n",
       "      <td>male</td>\n",
       "      <td>82.2667</td>\n",
       "      <td>1-S-82.2667-21228</td>\n",
       "      <td>1</td>\n",
       "      <td>0</td>\n",
       "      <td>24.00</td>\n",
       "      <td>Mr</td>\n",
       "      <td>41.133350</td>\n",
       "    </tr>\n",
       "    <tr>\n",
       "      <th>991</th>\n",
       "      <td>Stengel-1-C-55.4417-117__</td>\n",
       "      <td>C116</td>\n",
       "      <td>1</td>\n",
       "      <td>C</td>\n",
       "      <td>female</td>\n",
       "      <td>55.4417</td>\n",
       "      <td>1-C-55.4417-11778</td>\n",
       "      <td>1</td>\n",
       "      <td>0</td>\n",
       "      <td>43.00</td>\n",
       "      <td>Mrs</td>\n",
       "      <td>27.720850</td>\n",
       "    </tr>\n",
       "    <tr>\n",
       "      <th>1068</th>\n",
       "      <td>Stengel-1-C-55.4417-117__</td>\n",
       "      <td>C116</td>\n",
       "      <td>1</td>\n",
       "      <td>C</td>\n",
       "      <td>male</td>\n",
       "      <td>55.4417</td>\n",
       "      <td>1-C-55.4417-11778</td>\n",
       "      <td>1</td>\n",
       "      <td>0</td>\n",
       "      <td>54.00</td>\n",
       "      <td>Mr</td>\n",
       "      <td>27.720850</td>\n",
       "    </tr>\n",
       "    <tr>\n",
       "      <th>1007</th>\n",
       "      <td>Thomas-3-C-6.4375-26__</td>\n",
       "      <td>NaN</td>\n",
       "      <td>3</td>\n",
       "      <td>C</td>\n",
       "      <td>male</td>\n",
       "      <td>6.4375</td>\n",
       "      <td>3-C-6.4375-2681</td>\n",
       "      <td>0</td>\n",
       "      <td>0</td>\n",
       "      <td>NaN</td>\n",
       "      <td>Mr</td>\n",
       "      <td>6.437500</td>\n",
       "    </tr>\n",
       "    <tr>\n",
       "      <th>1024</th>\n",
       "      <td>Thomas-3-C-6.4375-26__</td>\n",
       "      <td>NaN</td>\n",
       "      <td>3</td>\n",
       "      <td>C</td>\n",
       "      <td>male</td>\n",
       "      <td>6.4375</td>\n",
       "      <td>3-C-6.4375-2621</td>\n",
       "      <td>1</td>\n",
       "      <td>0</td>\n",
       "      <td>NaN</td>\n",
       "      <td>Mr</td>\n",
       "      <td>6.437500</td>\n",
       "    </tr>\n",
       "    <tr>\n",
       "      <th>1169</th>\n",
       "      <td>Ware-2-S-21.0-CA 313__</td>\n",
       "      <td>NaN</td>\n",
       "      <td>2</td>\n",
       "      <td>S</td>\n",
       "      <td>male</td>\n",
       "      <td>21.0000</td>\n",
       "      <td>2-S-21.0-CA 31352</td>\n",
       "      <td>1</td>\n",
       "      <td>0</td>\n",
       "      <td>30.00</td>\n",
       "      <td>Mr</td>\n",
       "      <td>10.500000</td>\n",
       "    </tr>\n",
       "    <tr>\n",
       "      <th>1253</th>\n",
       "      <td>Ware-2-S-21.0-CA 313__</td>\n",
       "      <td>NaN</td>\n",
       "      <td>2</td>\n",
       "      <td>S</td>\n",
       "      <td>female</td>\n",
       "      <td>21.0000</td>\n",
       "      <td>2-S-21.0-CA 31352</td>\n",
       "      <td>0</td>\n",
       "      <td>0</td>\n",
       "      <td>31.00</td>\n",
       "      <td>Mrs</td>\n",
       "      <td>10.500000</td>\n",
       "    </tr>\n",
       "    <tr>\n",
       "      <th>1027</th>\n",
       "      <td>Zakarian-3-C-7.225-26__</td>\n",
       "      <td>NaN</td>\n",
       "      <td>3</td>\n",
       "      <td>C</td>\n",
       "      <td>male</td>\n",
       "      <td>7.2250</td>\n",
       "      <td>3-C-7.225-2656</td>\n",
       "      <td>0</td>\n",
       "      <td>0</td>\n",
       "      <td>26.50</td>\n",
       "      <td>Mr</td>\n",
       "      <td>7.225000</td>\n",
       "    </tr>\n",
       "    <tr>\n",
       "      <th>1062</th>\n",
       "      <td>Zakarian-3-C-7.225-26__</td>\n",
       "      <td>NaN</td>\n",
       "      <td>3</td>\n",
       "      <td>C</td>\n",
       "      <td>male</td>\n",
       "      <td>7.2250</td>\n",
       "      <td>3-C-7.225-2670</td>\n",
       "      <td>0</td>\n",
       "      <td>0</td>\n",
       "      <td>27.00</td>\n",
       "      <td>Mr</td>\n",
       "      <td>7.225000</td>\n",
       "    </tr>\n",
       "  </tbody>\n",
       "</table>\n",
       "</div>"
      ],
      "text/plain": [
       "                             SurnameGroupId  Cabin  Pclass Embarked     Sex  \\\n",
       "948                Abelseth-3-S-7.65-3481__  F G63       3        S    male   \n",
       "1236               Abelseth-3-S-7.65-3481__    NaN       3        S  female   \n",
       "1105             Andersson-3-S-7.775-3470__    NaN       3        S  female   \n",
       "1211             Andersson-3-S-7.775-3470__    NaN       3        S    male   \n",
       "1143               Clark-1-C-136.7792-135__    C89       1        C    male   \n",
       "1163               Clark-1-C-136.7792-135__    C89       1        C  female   \n",
       "981                   Dyker-3-S-13.9-3470__    NaN       3        S  female   \n",
       "1063                  Dyker-3-S-13.9-3470__    NaN       3        S    male   \n",
       "1259                 Gibson-1-C-59.4-1123__    NaN       1        C  female   \n",
       "1293                 Gibson-1-C-59.4-1123__    NaN       1        C  female   \n",
       "904                   Howard-2-S-26.0-240__    NaN       2        S    male   \n",
       "1104                  Howard-2-S-26.0-240__    NaN       2        S  female   \n",
       "922            Jefferys-2-S-31.5-C.A. 310__    NaN       2        S    male   \n",
       "1210           Jefferys-2-S-31.5-C.A. 310__    NaN       2        S    male   \n",
       "1229           Jefferys-2-S-31.5-C.A. 310__    NaN       2        S    male   \n",
       "956            Karnes-2-S-21.0-F.C.C. 135__    NaN       2        S  female   \n",
       "1137           Karnes-2-S-21.0-F.C.C. 135__    NaN       2        S  female   \n",
       "976                 Khalil-3-C-14.4542-26__    NaN       3        C    male   \n",
       "1140                Khalil-3-C-14.4542-26__    NaN       3        C  female   \n",
       "1044              Klasen-3-S-12.1833-3504__    NaN       3        S  female   \n",
       "1154              Klasen-3-S-12.1833-3504__    NaN       3        S  female   \n",
       "1009             McCaffry-1-C-75.2417-130__     C6       1        C    male   \n",
       "1161             McCaffry-1-C-75.2417-130__     C6       1        C    male   \n",
       "1050  Peacock-3-S-13.775-SOTON/O.Q. 31013__    NaN       3        S  female   \n",
       "1172  Peacock-3-S-13.775-SOTON/O.Q. 31013__    NaN       3        S    male   \n",
       "1300  Peacock-3-S-13.775-SOTON/O.Q. 31013__    NaN       3        S  female   \n",
       "1077          Phillips-2-S-21.0-S.O./P.P.__    NaN       2        S  female   \n",
       "1193          Phillips-2-S-21.0-S.O./P.P.__    NaN       2        S    male   \n",
       "1160              Pokrnic-3-S-8.6625-3150__    NaN       3        S    male   \n",
       "1194              Pokrnic-3-S-8.6625-3150__    NaN       3        S    male   \n",
       "925                Schabert-1-C-57.75-132__    C78       1        C    male   \n",
       "1013               Schabert-1-C-57.75-132__    C28       1        C  female   \n",
       "941                    Smith-1-S-60.0-136__    C31       1        S    male   \n",
       "1286                   Smith-1-S-60.0-136__    C31       1        S  female   \n",
       "903                Snyder-1-S-82.2667-212__    B45       1        S  female   \n",
       "1178               Snyder-1-S-82.2667-212__    B45       1        S    male   \n",
       "991               Stengel-1-C-55.4417-117__   C116       1        C  female   \n",
       "1068              Stengel-1-C-55.4417-117__   C116       1        C    male   \n",
       "1007                 Thomas-3-C-6.4375-26__    NaN       3        C    male   \n",
       "1024                 Thomas-3-C-6.4375-26__    NaN       3        C    male   \n",
       "1169                 Ware-2-S-21.0-CA 313__    NaN       2        S    male   \n",
       "1253                 Ware-2-S-21.0-CA 313__    NaN       2        S  female   \n",
       "1027                Zakarian-3-C-7.225-26__    NaN       3        C    male   \n",
       "1062                Zakarian-3-C-7.225-26__    NaN       3        C    male   \n",
       "\n",
       "          Fare                  TicketGroupId  SibSp  Parch    Age   Title  \\\n",
       "948     7.6500                3-S-7.65-348122      0      0  25.00      Mr   \n",
       "1236    7.6500                3-S-7.65-348125      0      0  16.00    Miss   \n",
       "1105    7.7750               3-S-7.775-347091      4      2  38.00    Miss   \n",
       "1211    7.7750               3-S-7.775-347075      0      0  26.00      Mr   \n",
       "1143  136.7792             1-C-136.7792-13508      1      0  27.00      Mr   \n",
       "1163  136.7792             1-C-136.7792-13508      1      0  26.00     Mrs   \n",
       "981    13.9000                3-S-13.9-347072      1      0  22.00     Mrs   \n",
       "1063   13.9000                3-S-13.9-347072      1      0  23.00      Mr   \n",
       "1259   59.4000                1-C-59.4-112378      0      1  45.00     Mrs   \n",
       "1293   59.4000                1-C-59.4-112378      0      1  22.00    Miss   \n",
       "904    26.0000                 2-S-26.0-24065      1      0  63.00      Mr   \n",
       "1104   26.0000                 2-S-26.0-24065      1      0  60.00     Mrs   \n",
       "922    31.5000            2-S-31.5-C.A. 31029      2      0  24.00      Mr   \n",
       "1210   31.5000            2-S-31.5-C.A. 31029      2      0  22.00      Mr   \n",
       "1229   31.5000            2-S-31.5-C.A. 31029      0      0  25.00      Mr   \n",
       "956    21.0000          2-S-21.0-F.C.C. 13534      0      0    NaN     Mrs   \n",
       "1137   21.0000          2-S-21.0-F.C.C. 13534      0      0  22.00     Mrs   \n",
       "976    14.4542               3-C-14.4542-2660      1      0    NaN      Mr   \n",
       "1140   14.4542               3-C-14.4542-2660      1      0    NaN     Mrs   \n",
       "1044   12.1833             3-S-12.1833-350405      0      2  36.00     Mrs   \n",
       "1154   12.1833             3-S-12.1833-350405      1      1   1.00    Miss   \n",
       "1009   75.2417              1-C-75.2417-13050      0      0  36.00      Mr   \n",
       "1161   75.2417              1-C-75.2417-13050      0      0  46.00      Mr   \n",
       "1050   13.7750  3-S-13.775-SOTON/O.Q. 3101315      0      2  26.00     Mrs   \n",
       "1172   13.7750  3-S-13.775-SOTON/O.Q. 3101315      1      1   0.75  Master   \n",
       "1300   13.7750  3-S-13.775-SOTON/O.Q. 3101315      1      1   3.00    Miss   \n",
       "1077   21.0000           2-S-21.0-S.O./P.P. 2      0      1  21.00    Miss   \n",
       "1193   21.0000           2-S-21.0-S.O./P.P. 2      0      1  43.00      Mr   \n",
       "1160    8.6625              3-S-8.6625-315095      0      0  17.00      Mr   \n",
       "1194    8.6625              3-S-8.6625-315092      0      0  24.00      Mr   \n",
       "925    57.7500                1-C-57.75-13236      1      0  30.00      Mr   \n",
       "1013   57.7500                1-C-57.75-13236      1      0  35.00     Mrs   \n",
       "941    60.0000                 1-S-60.0-13695      1      0  24.00      Mr   \n",
       "1286   60.0000                 1-S-60.0-13695      1      0  18.00     Mrs   \n",
       "903    82.2667              1-S-82.2667-21228      1      0  23.00     Mrs   \n",
       "1178   82.2667              1-S-82.2667-21228      1      0  24.00      Mr   \n",
       "991    55.4417              1-C-55.4417-11778      1      0  43.00     Mrs   \n",
       "1068   55.4417              1-C-55.4417-11778      1      0  54.00      Mr   \n",
       "1007    6.4375                3-C-6.4375-2681      0      0    NaN      Mr   \n",
       "1024    6.4375                3-C-6.4375-2621      1      0    NaN      Mr   \n",
       "1169   21.0000              2-S-21.0-CA 31352      1      0  30.00      Mr   \n",
       "1253   21.0000              2-S-21.0-CA 31352      0      0  31.00     Mrs   \n",
       "1027    7.2250                 3-C-7.225-2656      0      0  26.50      Mr   \n",
       "1062    7.2250                 3-C-7.225-2670      0      0  27.00      Mr   \n",
       "\n",
       "      SingleTicketFare  \n",
       "948           7.650000  \n",
       "1236          7.650000  \n",
       "1105          7.775000  \n",
       "1211          7.775000  \n",
       "1143         68.389600  \n",
       "1163         68.389600  \n",
       "981           6.950000  \n",
       "1063          6.950000  \n",
       "1259         29.700000  \n",
       "1293         29.700000  \n",
       "904          13.000000  \n",
       "1104         13.000000  \n",
       "922          10.500000  \n",
       "1210         10.500000  \n",
       "1229         10.500000  \n",
       "956          10.500000  \n",
       "1137         10.500000  \n",
       "976           7.227100  \n",
       "1140          7.227100  \n",
       "1044          6.091650  \n",
       "1154          6.091650  \n",
       "1009         37.620850  \n",
       "1161         37.620850  \n",
       "1050          4.591667  \n",
       "1172          4.591667  \n",
       "1300          4.591667  \n",
       "1077         10.500000  \n",
       "1193         10.500000  \n",
       "1160          8.662500  \n",
       "1194          8.662500  \n",
       "925          28.875000  \n",
       "1013         28.875000  \n",
       "941          30.000000  \n",
       "1286         30.000000  \n",
       "903          41.133350  \n",
       "1178         41.133350  \n",
       "991          27.720850  \n",
       "1068         27.720850  \n",
       "1007          6.437500  \n",
       "1024          6.437500  \n",
       "1169         10.500000  \n",
       "1253         10.500000  \n",
       "1027          7.225000  \n",
       "1062          7.225000  "
      ]
     },
     "execution_count": 112,
     "metadata": {},
     "output_type": "execute_result"
    }
   ],
   "source": [
    "all_perished_groups.drop(['Survived', 'SurnameGroupSize'], axis=1)"
   ]
  },
  {
   "cell_type": "markdown",
   "metadata": {},
   "source": [
    "挑出女性和男孩的情况： "
   ]
  },
  {
   "cell_type": "code",
   "execution_count": 113,
   "metadata": {
    "scrolled": true
   },
   "outputs": [
    {
     "data": {
      "text/html": [
       "<div>\n",
       "<style scoped>\n",
       "    .dataframe tbody tr th:only-of-type {\n",
       "        vertical-align: middle;\n",
       "    }\n",
       "\n",
       "    .dataframe tbody tr th {\n",
       "        vertical-align: top;\n",
       "    }\n",
       "\n",
       "    .dataframe thead th {\n",
       "        text-align: right;\n",
       "    }\n",
       "</style>\n",
       "<table border=\"1\" class=\"dataframe\">\n",
       "  <thead>\n",
       "    <tr style=\"text-align: right;\">\n",
       "      <th></th>\n",
       "      <th>SurnameGroupId</th>\n",
       "      <th>Cabin</th>\n",
       "      <th>Pclass</th>\n",
       "      <th>Embarked</th>\n",
       "      <th>Sex</th>\n",
       "      <th>Fare</th>\n",
       "      <th>TicketGroupId</th>\n",
       "      <th>SibSp</th>\n",
       "      <th>Parch</th>\n",
       "      <th>Age</th>\n",
       "      <th>Survived</th>\n",
       "      <th>Title</th>\n",
       "      <th>SurnameGroupSize</th>\n",
       "      <th>SingleTicketFare</th>\n",
       "    </tr>\n",
       "  </thead>\n",
       "  <tbody>\n",
       "    <tr>\n",
       "      <th>1236</th>\n",
       "      <td>Abelseth-3-S-7.65-3481__</td>\n",
       "      <td>NaN</td>\n",
       "      <td>3</td>\n",
       "      <td>S</td>\n",
       "      <td>female</td>\n",
       "      <td>7.6500</td>\n",
       "      <td>3-S-7.65-348125</td>\n",
       "      <td>0</td>\n",
       "      <td>0</td>\n",
       "      <td>16.00</td>\n",
       "      <td>NaN</td>\n",
       "      <td>Miss</td>\n",
       "      <td>2</td>\n",
       "      <td>7.650000</td>\n",
       "    </tr>\n",
       "    <tr>\n",
       "      <th>1105</th>\n",
       "      <td>Andersson-3-S-7.775-3470__</td>\n",
       "      <td>NaN</td>\n",
       "      <td>3</td>\n",
       "      <td>S</td>\n",
       "      <td>female</td>\n",
       "      <td>7.7750</td>\n",
       "      <td>3-S-7.775-347091</td>\n",
       "      <td>4</td>\n",
       "      <td>2</td>\n",
       "      <td>38.00</td>\n",
       "      <td>NaN</td>\n",
       "      <td>Miss</td>\n",
       "      <td>2</td>\n",
       "      <td>7.775000</td>\n",
       "    </tr>\n",
       "    <tr>\n",
       "      <th>1163</th>\n",
       "      <td>Clark-1-C-136.7792-135__</td>\n",
       "      <td>C89</td>\n",
       "      <td>1</td>\n",
       "      <td>C</td>\n",
       "      <td>female</td>\n",
       "      <td>136.7792</td>\n",
       "      <td>1-C-136.7792-13508</td>\n",
       "      <td>1</td>\n",
       "      <td>0</td>\n",
       "      <td>26.00</td>\n",
       "      <td>NaN</td>\n",
       "      <td>Mrs</td>\n",
       "      <td>2</td>\n",
       "      <td>68.389600</td>\n",
       "    </tr>\n",
       "    <tr>\n",
       "      <th>981</th>\n",
       "      <td>Dyker-3-S-13.9-3470__</td>\n",
       "      <td>NaN</td>\n",
       "      <td>3</td>\n",
       "      <td>S</td>\n",
       "      <td>female</td>\n",
       "      <td>13.9000</td>\n",
       "      <td>3-S-13.9-347072</td>\n",
       "      <td>1</td>\n",
       "      <td>0</td>\n",
       "      <td>22.00</td>\n",
       "      <td>NaN</td>\n",
       "      <td>Mrs</td>\n",
       "      <td>2</td>\n",
       "      <td>6.950000</td>\n",
       "    </tr>\n",
       "    <tr>\n",
       "      <th>1259</th>\n",
       "      <td>Gibson-1-C-59.4-1123__</td>\n",
       "      <td>NaN</td>\n",
       "      <td>1</td>\n",
       "      <td>C</td>\n",
       "      <td>female</td>\n",
       "      <td>59.4000</td>\n",
       "      <td>1-C-59.4-112378</td>\n",
       "      <td>0</td>\n",
       "      <td>1</td>\n",
       "      <td>45.00</td>\n",
       "      <td>NaN</td>\n",
       "      <td>Mrs</td>\n",
       "      <td>2</td>\n",
       "      <td>29.700000</td>\n",
       "    </tr>\n",
       "    <tr>\n",
       "      <th>1293</th>\n",
       "      <td>Gibson-1-C-59.4-1123__</td>\n",
       "      <td>NaN</td>\n",
       "      <td>1</td>\n",
       "      <td>C</td>\n",
       "      <td>female</td>\n",
       "      <td>59.4000</td>\n",
       "      <td>1-C-59.4-112378</td>\n",
       "      <td>0</td>\n",
       "      <td>1</td>\n",
       "      <td>22.00</td>\n",
       "      <td>NaN</td>\n",
       "      <td>Miss</td>\n",
       "      <td>2</td>\n",
       "      <td>29.700000</td>\n",
       "    </tr>\n",
       "    <tr>\n",
       "      <th>1104</th>\n",
       "      <td>Howard-2-S-26.0-240__</td>\n",
       "      <td>NaN</td>\n",
       "      <td>2</td>\n",
       "      <td>S</td>\n",
       "      <td>female</td>\n",
       "      <td>26.0000</td>\n",
       "      <td>2-S-26.0-24065</td>\n",
       "      <td>1</td>\n",
       "      <td>0</td>\n",
       "      <td>60.00</td>\n",
       "      <td>NaN</td>\n",
       "      <td>Mrs</td>\n",
       "      <td>2</td>\n",
       "      <td>13.000000</td>\n",
       "    </tr>\n",
       "    <tr>\n",
       "      <th>956</th>\n",
       "      <td>Karnes-2-S-21.0-F.C.C. 135__</td>\n",
       "      <td>NaN</td>\n",
       "      <td>2</td>\n",
       "      <td>S</td>\n",
       "      <td>female</td>\n",
       "      <td>21.0000</td>\n",
       "      <td>2-S-21.0-F.C.C. 13534</td>\n",
       "      <td>0</td>\n",
       "      <td>0</td>\n",
       "      <td>NaN</td>\n",
       "      <td>NaN</td>\n",
       "      <td>Mrs</td>\n",
       "      <td>2</td>\n",
       "      <td>10.500000</td>\n",
       "    </tr>\n",
       "    <tr>\n",
       "      <th>1137</th>\n",
       "      <td>Karnes-2-S-21.0-F.C.C. 135__</td>\n",
       "      <td>NaN</td>\n",
       "      <td>2</td>\n",
       "      <td>S</td>\n",
       "      <td>female</td>\n",
       "      <td>21.0000</td>\n",
       "      <td>2-S-21.0-F.C.C. 13534</td>\n",
       "      <td>0</td>\n",
       "      <td>0</td>\n",
       "      <td>22.00</td>\n",
       "      <td>NaN</td>\n",
       "      <td>Mrs</td>\n",
       "      <td>2</td>\n",
       "      <td>10.500000</td>\n",
       "    </tr>\n",
       "    <tr>\n",
       "      <th>1140</th>\n",
       "      <td>Khalil-3-C-14.4542-26__</td>\n",
       "      <td>NaN</td>\n",
       "      <td>3</td>\n",
       "      <td>C</td>\n",
       "      <td>female</td>\n",
       "      <td>14.4542</td>\n",
       "      <td>3-C-14.4542-2660</td>\n",
       "      <td>1</td>\n",
       "      <td>0</td>\n",
       "      <td>NaN</td>\n",
       "      <td>NaN</td>\n",
       "      <td>Mrs</td>\n",
       "      <td>2</td>\n",
       "      <td>7.227100</td>\n",
       "    </tr>\n",
       "    <tr>\n",
       "      <th>1044</th>\n",
       "      <td>Klasen-3-S-12.1833-3504__</td>\n",
       "      <td>NaN</td>\n",
       "      <td>3</td>\n",
       "      <td>S</td>\n",
       "      <td>female</td>\n",
       "      <td>12.1833</td>\n",
       "      <td>3-S-12.1833-350405</td>\n",
       "      <td>0</td>\n",
       "      <td>2</td>\n",
       "      <td>36.00</td>\n",
       "      <td>NaN</td>\n",
       "      <td>Mrs</td>\n",
       "      <td>2</td>\n",
       "      <td>6.091650</td>\n",
       "    </tr>\n",
       "    <tr>\n",
       "      <th>1154</th>\n",
       "      <td>Klasen-3-S-12.1833-3504__</td>\n",
       "      <td>NaN</td>\n",
       "      <td>3</td>\n",
       "      <td>S</td>\n",
       "      <td>female</td>\n",
       "      <td>12.1833</td>\n",
       "      <td>3-S-12.1833-350405</td>\n",
       "      <td>1</td>\n",
       "      <td>1</td>\n",
       "      <td>1.00</td>\n",
       "      <td>NaN</td>\n",
       "      <td>Miss</td>\n",
       "      <td>2</td>\n",
       "      <td>6.091650</td>\n",
       "    </tr>\n",
       "    <tr>\n",
       "      <th>1050</th>\n",
       "      <td>Peacock-3-S-13.775-SOTON/O.Q. 31013__</td>\n",
       "      <td>NaN</td>\n",
       "      <td>3</td>\n",
       "      <td>S</td>\n",
       "      <td>female</td>\n",
       "      <td>13.7750</td>\n",
       "      <td>3-S-13.775-SOTON/O.Q. 3101315</td>\n",
       "      <td>0</td>\n",
       "      <td>2</td>\n",
       "      <td>26.00</td>\n",
       "      <td>NaN</td>\n",
       "      <td>Mrs</td>\n",
       "      <td>3</td>\n",
       "      <td>4.591667</td>\n",
       "    </tr>\n",
       "    <tr>\n",
       "      <th>1172</th>\n",
       "      <td>Peacock-3-S-13.775-SOTON/O.Q. 31013__</td>\n",
       "      <td>NaN</td>\n",
       "      <td>3</td>\n",
       "      <td>S</td>\n",
       "      <td>male</td>\n",
       "      <td>13.7750</td>\n",
       "      <td>3-S-13.775-SOTON/O.Q. 3101315</td>\n",
       "      <td>1</td>\n",
       "      <td>1</td>\n",
       "      <td>0.75</td>\n",
       "      <td>NaN</td>\n",
       "      <td>Master</td>\n",
       "      <td>3</td>\n",
       "      <td>4.591667</td>\n",
       "    </tr>\n",
       "    <tr>\n",
       "      <th>1300</th>\n",
       "      <td>Peacock-3-S-13.775-SOTON/O.Q. 31013__</td>\n",
       "      <td>NaN</td>\n",
       "      <td>3</td>\n",
       "      <td>S</td>\n",
       "      <td>female</td>\n",
       "      <td>13.7750</td>\n",
       "      <td>3-S-13.775-SOTON/O.Q. 3101315</td>\n",
       "      <td>1</td>\n",
       "      <td>1</td>\n",
       "      <td>3.00</td>\n",
       "      <td>NaN</td>\n",
       "      <td>Miss</td>\n",
       "      <td>3</td>\n",
       "      <td>4.591667</td>\n",
       "    </tr>\n",
       "    <tr>\n",
       "      <th>1077</th>\n",
       "      <td>Phillips-2-S-21.0-S.O./P.P.__</td>\n",
       "      <td>NaN</td>\n",
       "      <td>2</td>\n",
       "      <td>S</td>\n",
       "      <td>female</td>\n",
       "      <td>21.0000</td>\n",
       "      <td>2-S-21.0-S.O./P.P. 2</td>\n",
       "      <td>0</td>\n",
       "      <td>1</td>\n",
       "      <td>21.00</td>\n",
       "      <td>NaN</td>\n",
       "      <td>Miss</td>\n",
       "      <td>2</td>\n",
       "      <td>10.500000</td>\n",
       "    </tr>\n",
       "    <tr>\n",
       "      <th>1013</th>\n",
       "      <td>Schabert-1-C-57.75-132__</td>\n",
       "      <td>C28</td>\n",
       "      <td>1</td>\n",
       "      <td>C</td>\n",
       "      <td>female</td>\n",
       "      <td>57.7500</td>\n",
       "      <td>1-C-57.75-13236</td>\n",
       "      <td>1</td>\n",
       "      <td>0</td>\n",
       "      <td>35.00</td>\n",
       "      <td>NaN</td>\n",
       "      <td>Mrs</td>\n",
       "      <td>2</td>\n",
       "      <td>28.875000</td>\n",
       "    </tr>\n",
       "    <tr>\n",
       "      <th>1286</th>\n",
       "      <td>Smith-1-S-60.0-136__</td>\n",
       "      <td>C31</td>\n",
       "      <td>1</td>\n",
       "      <td>S</td>\n",
       "      <td>female</td>\n",
       "      <td>60.0000</td>\n",
       "      <td>1-S-60.0-13695</td>\n",
       "      <td>1</td>\n",
       "      <td>0</td>\n",
       "      <td>18.00</td>\n",
       "      <td>NaN</td>\n",
       "      <td>Mrs</td>\n",
       "      <td>2</td>\n",
       "      <td>30.000000</td>\n",
       "    </tr>\n",
       "    <tr>\n",
       "      <th>903</th>\n",
       "      <td>Snyder-1-S-82.2667-212__</td>\n",
       "      <td>B45</td>\n",
       "      <td>1</td>\n",
       "      <td>S</td>\n",
       "      <td>female</td>\n",
       "      <td>82.2667</td>\n",
       "      <td>1-S-82.2667-21228</td>\n",
       "      <td>1</td>\n",
       "      <td>0</td>\n",
       "      <td>23.00</td>\n",
       "      <td>NaN</td>\n",
       "      <td>Mrs</td>\n",
       "      <td>2</td>\n",
       "      <td>41.133350</td>\n",
       "    </tr>\n",
       "    <tr>\n",
       "      <th>991</th>\n",
       "      <td>Stengel-1-C-55.4417-117__</td>\n",
       "      <td>C116</td>\n",
       "      <td>1</td>\n",
       "      <td>C</td>\n",
       "      <td>female</td>\n",
       "      <td>55.4417</td>\n",
       "      <td>1-C-55.4417-11778</td>\n",
       "      <td>1</td>\n",
       "      <td>0</td>\n",
       "      <td>43.00</td>\n",
       "      <td>NaN</td>\n",
       "      <td>Mrs</td>\n",
       "      <td>2</td>\n",
       "      <td>27.720850</td>\n",
       "    </tr>\n",
       "    <tr>\n",
       "      <th>1253</th>\n",
       "      <td>Ware-2-S-21.0-CA 313__</td>\n",
       "      <td>NaN</td>\n",
       "      <td>2</td>\n",
       "      <td>S</td>\n",
       "      <td>female</td>\n",
       "      <td>21.0000</td>\n",
       "      <td>2-S-21.0-CA 31352</td>\n",
       "      <td>0</td>\n",
       "      <td>0</td>\n",
       "      <td>31.00</td>\n",
       "      <td>NaN</td>\n",
       "      <td>Mrs</td>\n",
       "      <td>2</td>\n",
       "      <td>10.500000</td>\n",
       "    </tr>\n",
       "  </tbody>\n",
       "</table>\n",
       "</div>"
      ],
      "text/plain": [
       "                             SurnameGroupId Cabin  Pclass Embarked     Sex  \\\n",
       "1236               Abelseth-3-S-7.65-3481__   NaN       3        S  female   \n",
       "1105             Andersson-3-S-7.775-3470__   NaN       3        S  female   \n",
       "1163               Clark-1-C-136.7792-135__   C89       1        C  female   \n",
       "981                   Dyker-3-S-13.9-3470__   NaN       3        S  female   \n",
       "1259                 Gibson-1-C-59.4-1123__   NaN       1        C  female   \n",
       "1293                 Gibson-1-C-59.4-1123__   NaN       1        C  female   \n",
       "1104                  Howard-2-S-26.0-240__   NaN       2        S  female   \n",
       "956            Karnes-2-S-21.0-F.C.C. 135__   NaN       2        S  female   \n",
       "1137           Karnes-2-S-21.0-F.C.C. 135__   NaN       2        S  female   \n",
       "1140                Khalil-3-C-14.4542-26__   NaN       3        C  female   \n",
       "1044              Klasen-3-S-12.1833-3504__   NaN       3        S  female   \n",
       "1154              Klasen-3-S-12.1833-3504__   NaN       3        S  female   \n",
       "1050  Peacock-3-S-13.775-SOTON/O.Q. 31013__   NaN       3        S  female   \n",
       "1172  Peacock-3-S-13.775-SOTON/O.Q. 31013__   NaN       3        S    male   \n",
       "1300  Peacock-3-S-13.775-SOTON/O.Q. 31013__   NaN       3        S  female   \n",
       "1077          Phillips-2-S-21.0-S.O./P.P.__   NaN       2        S  female   \n",
       "1013               Schabert-1-C-57.75-132__   C28       1        C  female   \n",
       "1286                   Smith-1-S-60.0-136__   C31       1        S  female   \n",
       "903                Snyder-1-S-82.2667-212__   B45       1        S  female   \n",
       "991               Stengel-1-C-55.4417-117__  C116       1        C  female   \n",
       "1253                 Ware-2-S-21.0-CA 313__   NaN       2        S  female   \n",
       "\n",
       "          Fare                  TicketGroupId  SibSp  Parch    Age  Survived  \\\n",
       "1236    7.6500                3-S-7.65-348125      0      0  16.00       NaN   \n",
       "1105    7.7750               3-S-7.775-347091      4      2  38.00       NaN   \n",
       "1163  136.7792             1-C-136.7792-13508      1      0  26.00       NaN   \n",
       "981    13.9000                3-S-13.9-347072      1      0  22.00       NaN   \n",
       "1259   59.4000                1-C-59.4-112378      0      1  45.00       NaN   \n",
       "1293   59.4000                1-C-59.4-112378      0      1  22.00       NaN   \n",
       "1104   26.0000                 2-S-26.0-24065      1      0  60.00       NaN   \n",
       "956    21.0000          2-S-21.0-F.C.C. 13534      0      0    NaN       NaN   \n",
       "1137   21.0000          2-S-21.0-F.C.C. 13534      0      0  22.00       NaN   \n",
       "1140   14.4542               3-C-14.4542-2660      1      0    NaN       NaN   \n",
       "1044   12.1833             3-S-12.1833-350405      0      2  36.00       NaN   \n",
       "1154   12.1833             3-S-12.1833-350405      1      1   1.00       NaN   \n",
       "1050   13.7750  3-S-13.775-SOTON/O.Q. 3101315      0      2  26.00       NaN   \n",
       "1172   13.7750  3-S-13.775-SOTON/O.Q. 3101315      1      1   0.75       NaN   \n",
       "1300   13.7750  3-S-13.775-SOTON/O.Q. 3101315      1      1   3.00       NaN   \n",
       "1077   21.0000           2-S-21.0-S.O./P.P. 2      0      1  21.00       NaN   \n",
       "1013   57.7500                1-C-57.75-13236      1      0  35.00       NaN   \n",
       "1286   60.0000                 1-S-60.0-13695      1      0  18.00       NaN   \n",
       "903    82.2667              1-S-82.2667-21228      1      0  23.00       NaN   \n",
       "991    55.4417              1-C-55.4417-11778      1      0  43.00       NaN   \n",
       "1253   21.0000              2-S-21.0-CA 31352      0      0  31.00       NaN   \n",
       "\n",
       "       Title  SurnameGroupSize  SingleTicketFare  \n",
       "1236    Miss                 2          7.650000  \n",
       "1105    Miss                 2          7.775000  \n",
       "1163     Mrs                 2         68.389600  \n",
       "981      Mrs                 2          6.950000  \n",
       "1259     Mrs                 2         29.700000  \n",
       "1293    Miss                 2         29.700000  \n",
       "1104     Mrs                 2         13.000000  \n",
       "956      Mrs                 2         10.500000  \n",
       "1137     Mrs                 2         10.500000  \n",
       "1140     Mrs                 2          7.227100  \n",
       "1044     Mrs                 2          6.091650  \n",
       "1154    Miss                 2          6.091650  \n",
       "1050     Mrs                 3          4.591667  \n",
       "1172  Master                 3          4.591667  \n",
       "1300    Miss                 3          4.591667  \n",
       "1077    Miss                 2         10.500000  \n",
       "1013     Mrs                 2         28.875000  \n",
       "1286     Mrs                 2         30.000000  \n",
       "903      Mrs                 2         41.133350  \n",
       "991      Mrs                 2         27.720850  \n",
       "1253     Mrs                 2         10.500000  "
      ]
     },
     "execution_count": 113,
     "metadata": {},
     "output_type": "execute_result"
    }
   ],
   "source": [
    "all_perished_groups.loc[(all_perished_groups.Sex == 'female') | ((all_perished_groups.Age <= children_age_upper_limit) & (all_perished_groups.Sex == 'male')) | (all_perished_groups.Title == 'Master')]"
   ]
  },
  {
   "cell_type": "markdown",
   "metadata": {},
   "source": [
    "检查一下：`van Billiard` 家庭："
   ]
  },
  {
   "cell_type": "code",
   "execution_count": 114,
   "metadata": {},
   "outputs": [
    {
     "data": {
      "text/html": [
       "<div>\n",
       "<style scoped>\n",
       "    .dataframe tbody tr th:only-of-type {\n",
       "        vertical-align: middle;\n",
       "    }\n",
       "\n",
       "    .dataframe tbody tr th {\n",
       "        vertical-align: top;\n",
       "    }\n",
       "\n",
       "    .dataframe thead th {\n",
       "        text-align: right;\n",
       "    }\n",
       "</style>\n",
       "<table border=\"1\" class=\"dataframe\">\n",
       "  <thead>\n",
       "    <tr style=\"text-align: right;\">\n",
       "      <th></th>\n",
       "      <th>Age</th>\n",
       "      <th>Cabin</th>\n",
       "      <th>Embarked</th>\n",
       "      <th>Fare</th>\n",
       "      <th>Parch</th>\n",
       "      <th>Pclass</th>\n",
       "      <th>Sex</th>\n",
       "      <th>SibSp</th>\n",
       "      <th>Survived</th>\n",
       "      <th>TicketSize</th>\n",
       "      <th>SingleTicketFare</th>\n",
       "      <th>Title</th>\n",
       "      <th>SurnameGroupId</th>\n",
       "      <th>TicketGroupId</th>\n",
       "      <th>SurnameGroupSize</th>\n",
       "    </tr>\n",
       "  </thead>\n",
       "  <tbody>\n",
       "    <tr>\n",
       "      <th>153</th>\n",
       "      <td>40.5</td>\n",
       "      <td>NaN</td>\n",
       "      <td>S</td>\n",
       "      <td>14.5</td>\n",
       "      <td>2</td>\n",
       "      <td>3</td>\n",
       "      <td>male</td>\n",
       "      <td>0</td>\n",
       "      <td>0.0</td>\n",
       "      <td>3</td>\n",
       "      <td>4.833333</td>\n",
       "      <td>Mr</td>\n",
       "      <td>van Billiard-3-S-14.5-A/5. 8__</td>\n",
       "      <td>3-S-14.5-A/5. 851</td>\n",
       "      <td>3</td>\n",
       "    </tr>\n",
       "    <tr>\n",
       "      <th>1083</th>\n",
       "      <td>11.5</td>\n",
       "      <td>NaN</td>\n",
       "      <td>S</td>\n",
       "      <td>14.5</td>\n",
       "      <td>1</td>\n",
       "      <td>3</td>\n",
       "      <td>male</td>\n",
       "      <td>1</td>\n",
       "      <td>NaN</td>\n",
       "      <td>3</td>\n",
       "      <td>4.833333</td>\n",
       "      <td>Master</td>\n",
       "      <td>van Billiard-3-S-14.5-A/5. 8__</td>\n",
       "      <td>3-S-14.5-A/5. 851</td>\n",
       "      <td>3</td>\n",
       "    </tr>\n",
       "    <tr>\n",
       "      <th>1235</th>\n",
       "      <td>NaN</td>\n",
       "      <td>NaN</td>\n",
       "      <td>S</td>\n",
       "      <td>14.5</td>\n",
       "      <td>1</td>\n",
       "      <td>3</td>\n",
       "      <td>male</td>\n",
       "      <td>1</td>\n",
       "      <td>NaN</td>\n",
       "      <td>3</td>\n",
       "      <td>4.833333</td>\n",
       "      <td>Master</td>\n",
       "      <td>van Billiard-3-S-14.5-A/5. 8__</td>\n",
       "      <td>3-S-14.5-A/5. 851</td>\n",
       "      <td>3</td>\n",
       "    </tr>\n",
       "  </tbody>\n",
       "</table>\n",
       "</div>"
      ],
      "text/plain": [
       "       Age Cabin Embarked  Fare  Parch  Pclass   Sex  SibSp  Survived  \\\n",
       "153   40.5   NaN        S  14.5      2       3  male      0       0.0   \n",
       "1083  11.5   NaN        S  14.5      1       3  male      1       NaN   \n",
       "1235   NaN   NaN        S  14.5      1       3  male      1       NaN   \n",
       "\n",
       "      TicketSize  SingleTicketFare   Title                  SurnameGroupId  \\\n",
       "153            3          4.833333      Mr  van Billiard-3-S-14.5-A/5. 8__   \n",
       "1083           3          4.833333  Master  van Billiard-3-S-14.5-A/5. 8__   \n",
       "1235           3          4.833333  Master  van Billiard-3-S-14.5-A/5. 8__   \n",
       "\n",
       "          TicketGroupId  SurnameGroupSize  \n",
       "153   3-S-14.5-A/5. 851                 3  \n",
       "1083  3-S-14.5-A/5. 851                 3  \n",
       "1235  3-S-14.5-A/5. 851                 3  "
      ]
     },
     "execution_count": 114,
     "metadata": {},
     "output_type": "execute_result"
    }
   ],
   "source": [
    "all_data.loc[all_data.Surname == 'van Billiard'].drop(['Ticket', 'FamilySize', 'Surname', 'Name', 'TicketGroupSize', 'PassengerId'], axis = 1)"
   ]
  },
  {
   "cell_type": "markdown",
   "metadata": {},
   "source": [
    "#### 至少一个人生存情况可知的组"
   ]
  },
  {
   "cell_type": "code",
   "execution_count": 115,
   "metadata": {
    "scrolled": true
   },
   "outputs": [
    {
     "data": {
      "text/html": [
       "<div>\n",
       "<style scoped>\n",
       "    .dataframe tbody tr th:only-of-type {\n",
       "        vertical-align: middle;\n",
       "    }\n",
       "\n",
       "    .dataframe tbody tr th {\n",
       "        vertical-align: top;\n",
       "    }\n",
       "\n",
       "    .dataframe thead th {\n",
       "        text-align: right;\n",
       "    }\n",
       "</style>\n",
       "<table border=\"1\" class=\"dataframe\">\n",
       "  <thead>\n",
       "    <tr style=\"text-align: right;\">\n",
       "      <th></th>\n",
       "      <th>SurnameGroupId</th>\n",
       "      <th>Cabin</th>\n",
       "      <th>Pclass</th>\n",
       "      <th>Embarked</th>\n",
       "      <th>Sex</th>\n",
       "      <th>Fare</th>\n",
       "      <th>TicketGroupId</th>\n",
       "      <th>SibSp</th>\n",
       "      <th>Parch</th>\n",
       "      <th>Age</th>\n",
       "      <th>Survived</th>\n",
       "      <th>Title</th>\n",
       "      <th>SurnameGroupSize</th>\n",
       "      <th>SingleTicketFare</th>\n",
       "    </tr>\n",
       "  </thead>\n",
       "  <tbody>\n",
       "    <tr>\n",
       "      <th>746</th>\n",
       "      <td>Abbott-3-S-20.25-C.A. 26__</td>\n",
       "      <td>NaN</td>\n",
       "      <td>3</td>\n",
       "      <td>S</td>\n",
       "      <td>male</td>\n",
       "      <td>20.2500</td>\n",
       "      <td>3-S-20.25-C.A. 2673</td>\n",
       "      <td>1</td>\n",
       "      <td>1</td>\n",
       "      <td>16.00</td>\n",
       "      <td>0.0</td>\n",
       "      <td>Mr</td>\n",
       "      <td>3</td>\n",
       "      <td>6.750000</td>\n",
       "    </tr>\n",
       "    <tr>\n",
       "      <th>279</th>\n",
       "      <td>Abbott-3-S-20.25-C.A. 26__</td>\n",
       "      <td>NaN</td>\n",
       "      <td>3</td>\n",
       "      <td>S</td>\n",
       "      <td>female</td>\n",
       "      <td>20.2500</td>\n",
       "      <td>3-S-20.25-C.A. 2673</td>\n",
       "      <td>1</td>\n",
       "      <td>1</td>\n",
       "      <td>35.00</td>\n",
       "      <td>1.0</td>\n",
       "      <td>Mrs</td>\n",
       "      <td>3</td>\n",
       "      <td>6.750000</td>\n",
       "    </tr>\n",
       "    <tr>\n",
       "      <th>1283</th>\n",
       "      <td>Abbott-3-S-20.25-C.A. 26__</td>\n",
       "      <td>NaN</td>\n",
       "      <td>3</td>\n",
       "      <td>S</td>\n",
       "      <td>male</td>\n",
       "      <td>20.2500</td>\n",
       "      <td>3-S-20.25-C.A. 2673</td>\n",
       "      <td>0</td>\n",
       "      <td>2</td>\n",
       "      <td>13.00</td>\n",
       "      <td>NaN</td>\n",
       "      <td>Master</td>\n",
       "      <td>3</td>\n",
       "      <td>6.750000</td>\n",
       "    </tr>\n",
       "    <tr>\n",
       "      <th>308</th>\n",
       "      <td>Abelson-2-C-24.0-P/PP 33__</td>\n",
       "      <td>NaN</td>\n",
       "      <td>2</td>\n",
       "      <td>C</td>\n",
       "      <td>male</td>\n",
       "      <td>24.0000</td>\n",
       "      <td>2-C-24.0-P/PP 3381</td>\n",
       "      <td>1</td>\n",
       "      <td>0</td>\n",
       "      <td>30.00</td>\n",
       "      <td>0.0</td>\n",
       "      <td>Mr</td>\n",
       "      <td>2</td>\n",
       "      <td>12.000000</td>\n",
       "    </tr>\n",
       "    <tr>\n",
       "      <th>874</th>\n",
       "      <td>Abelson-2-C-24.0-P/PP 33__</td>\n",
       "      <td>NaN</td>\n",
       "      <td>2</td>\n",
       "      <td>C</td>\n",
       "      <td>female</td>\n",
       "      <td>24.0000</td>\n",
       "      <td>2-C-24.0-P/PP 3381</td>\n",
       "      <td>1</td>\n",
       "      <td>0</td>\n",
       "      <td>28.00</td>\n",
       "      <td>1.0</td>\n",
       "      <td>Mrs</td>\n",
       "      <td>2</td>\n",
       "      <td>12.000000</td>\n",
       "    </tr>\n",
       "    <tr>\n",
       "      <th>855</th>\n",
       "      <td>Aks-3-S-9.35-3920__</td>\n",
       "      <td>NaN</td>\n",
       "      <td>3</td>\n",
       "      <td>S</td>\n",
       "      <td>female</td>\n",
       "      <td>9.3500</td>\n",
       "      <td>3-S-9.35-392091</td>\n",
       "      <td>0</td>\n",
       "      <td>1</td>\n",
       "      <td>18.00</td>\n",
       "      <td>1.0</td>\n",
       "      <td>Mrs</td>\n",
       "      <td>2</td>\n",
       "      <td>4.675000</td>\n",
       "    </tr>\n",
       "    <tr>\n",
       "      <th>1198</th>\n",
       "      <td>Aks-3-S-9.35-3920__</td>\n",
       "      <td>NaN</td>\n",
       "      <td>3</td>\n",
       "      <td>S</td>\n",
       "      <td>male</td>\n",
       "      <td>9.3500</td>\n",
       "      <td>3-S-9.35-392091</td>\n",
       "      <td>0</td>\n",
       "      <td>1</td>\n",
       "      <td>0.83</td>\n",
       "      <td>NaN</td>\n",
       "      <td>Master</td>\n",
       "      <td>2</td>\n",
       "      <td>4.675000</td>\n",
       "    </tr>\n",
       "    <tr>\n",
       "      <th>210</th>\n",
       "      <td>Ali-3-S-7.05-SOTON/O.Q. 31013__</td>\n",
       "      <td>NaN</td>\n",
       "      <td>3</td>\n",
       "      <td>S</td>\n",
       "      <td>male</td>\n",
       "      <td>7.0500</td>\n",
       "      <td>3-S-7.05-SOTON/O.Q. 3101311</td>\n",
       "      <td>0</td>\n",
       "      <td>0</td>\n",
       "      <td>24.00</td>\n",
       "      <td>0.0</td>\n",
       "      <td>Mr</td>\n",
       "      <td>2</td>\n",
       "      <td>7.050000</td>\n",
       "    </tr>\n",
       "    <tr>\n",
       "      <th>784</th>\n",
       "      <td>Ali-3-S-7.05-SOTON/O.Q. 31013__</td>\n",
       "      <td>NaN</td>\n",
       "      <td>3</td>\n",
       "      <td>S</td>\n",
       "      <td>male</td>\n",
       "      <td>7.0500</td>\n",
       "      <td>3-S-7.05-SOTON/O.Q. 3101312</td>\n",
       "      <td>0</td>\n",
       "      <td>0</td>\n",
       "      <td>25.00</td>\n",
       "      <td>0.0</td>\n",
       "      <td>Mr</td>\n",
       "      <td>2</td>\n",
       "      <td>7.050000</td>\n",
       "    </tr>\n",
       "    <tr>\n",
       "      <th>689</th>\n",
       "      <td>Allen-1-S-211.3375-241__</td>\n",
       "      <td>B5</td>\n",
       "      <td>1</td>\n",
       "      <td>S</td>\n",
       "      <td>female</td>\n",
       "      <td>211.3375</td>\n",
       "      <td>1-S-211.3375-24160</td>\n",
       "      <td>0</td>\n",
       "      <td>1</td>\n",
       "      <td>15.00</td>\n",
       "      <td>1.0</td>\n",
       "      <td>Miss</td>\n",
       "      <td>4</td>\n",
       "      <td>52.834375</td>\n",
       "    </tr>\n",
       "  </tbody>\n",
       "</table>\n",
       "</div>"
      ],
      "text/plain": [
       "                       SurnameGroupId Cabin  Pclass Embarked     Sex  \\\n",
       "746        Abbott-3-S-20.25-C.A. 26__   NaN       3        S    male   \n",
       "279        Abbott-3-S-20.25-C.A. 26__   NaN       3        S  female   \n",
       "1283       Abbott-3-S-20.25-C.A. 26__   NaN       3        S    male   \n",
       "308        Abelson-2-C-24.0-P/PP 33__   NaN       2        C    male   \n",
       "874        Abelson-2-C-24.0-P/PP 33__   NaN       2        C  female   \n",
       "855               Aks-3-S-9.35-3920__   NaN       3        S  female   \n",
       "1198              Aks-3-S-9.35-3920__   NaN       3        S    male   \n",
       "210   Ali-3-S-7.05-SOTON/O.Q. 31013__   NaN       3        S    male   \n",
       "784   Ali-3-S-7.05-SOTON/O.Q. 31013__   NaN       3        S    male   \n",
       "689          Allen-1-S-211.3375-241__    B5       1        S  female   \n",
       "\n",
       "          Fare                TicketGroupId  SibSp  Parch    Age  Survived  \\\n",
       "746    20.2500          3-S-20.25-C.A. 2673      1      1  16.00       0.0   \n",
       "279    20.2500          3-S-20.25-C.A. 2673      1      1  35.00       1.0   \n",
       "1283   20.2500          3-S-20.25-C.A. 2673      0      2  13.00       NaN   \n",
       "308    24.0000           2-C-24.0-P/PP 3381      1      0  30.00       0.0   \n",
       "874    24.0000           2-C-24.0-P/PP 3381      1      0  28.00       1.0   \n",
       "855     9.3500              3-S-9.35-392091      0      1  18.00       1.0   \n",
       "1198    9.3500              3-S-9.35-392091      0      1   0.83       NaN   \n",
       "210     7.0500  3-S-7.05-SOTON/O.Q. 3101311      0      0  24.00       0.0   \n",
       "784     7.0500  3-S-7.05-SOTON/O.Q. 3101312      0      0  25.00       0.0   \n",
       "689   211.3375           1-S-211.3375-24160      0      1  15.00       1.0   \n",
       "\n",
       "       Title  SurnameGroupSize  SingleTicketFare  \n",
       "746       Mr                 3          6.750000  \n",
       "279      Mrs                 3          6.750000  \n",
       "1283  Master                 3          6.750000  \n",
       "308       Mr                 2         12.000000  \n",
       "874      Mrs                 2         12.000000  \n",
       "855      Mrs                 2          4.675000  \n",
       "1198  Master                 2          4.675000  \n",
       "210       Mr                 2          7.050000  \n",
       "784       Mr                 2          7.050000  \n",
       "689     Miss                 4         52.834375  "
      ]
     },
     "execution_count": 115,
     "metadata": {},
     "output_type": "execute_result"
    }
   ],
   "source": [
    "one_more_survived_groups.head(10)"
   ]
  },
  {
   "cell_type": "markdown",
   "metadata": {},
   "source": [
    "#### Pclass"
   ]
  },
  {
   "cell_type": "code",
   "execution_count": 116,
   "metadata": {},
   "outputs": [
    {
     "name": "stdout",
     "output_type": "stream",
     "text": [
      "{1: 0.723404255319149, 2: 0.5567010309278351, 3: 0.27860696517412936}\n"
     ]
    },
    {
     "data": {
      "text/plain": [
       "<matplotlib.axes._subplots.AxesSubplot at 0x2d5890c9978>"
      ]
     },
     "execution_count": 116,
     "metadata": {},
     "output_type": "execute_result"
    },
    {
     "data": {
      "image/png": "[encoded data removed]",
      "text/plain": [
       "<Figure size 360x144 with 1 Axes>"
      ]
     },
     "metadata": {},
     "output_type": "display_data"
    }
   ],
   "source": [
    "pclass_survived = dict(one_more_survived_groups.groupby(['Pclass']).Survived.mean())\n",
    "print(pclass_survived)\n",
    "plt.rcParams['figure.figsize'] =(5, 2)\n",
    "sns.barplot(x='Survived', y='Pclass', data=one_more_survived_groups, orient='h')"
   ]
  },
  {
   "cell_type": "markdown",
   "metadata": {},
   "source": [
    "#### Embarked"
   ]
  },
  {
   "cell_type": "code",
   "execution_count": 117,
   "metadata": {},
   "outputs": [
    {
     "name": "stdout",
     "output_type": "stream",
     "text": [
      "{'C': 0.6826923076923077, 'Q': 0.3181818181818182, 'S': 0.42443729903536975}\n"
     ]
    },
    {
     "data": {
      "text/plain": [
       "<matplotlib.axes._subplots.AxesSubplot at 0x2d5890c9ba8>"
      ]
     },
     "execution_count": 117,
     "metadata": {},
     "output_type": "execute_result"
    },
    {
     "data": {
      "image/png": "[encoded data removed]",
      "text/plain": [
       "<Figure size 216x360 with 1 Axes>"
      ]
     },
     "metadata": {},
     "output_type": "display_data"
    }
   ],
   "source": [
    "embarked_survived = dict(one_more_survived_groups.groupby(['Embarked']).Survived.mean())\n",
    "print(embarked_survived)\n",
    "plt.rcParams['figure.figsize'] =(3, 5)\n",
    "sns.barplot(x='Embarked', y='Survived', data=one_more_survived_groups)"
   ]
  },
  {
   "cell_type": "markdown",
   "metadata": {},
   "source": [
    "#### Fare"
   ]
  },
  {
   "cell_type": "code",
   "execution_count": 118,
   "metadata": {},
   "outputs": [
    {
     "name": "stdout",
     "output_type": "stream",
     "text": [
      "                  Survived\n",
      "CategoricalFare           \n",
      "(-0.001, 11.133]  0.148936\n",
      "(11.133, 15.5]    0.391304\n",
      "(15.5, 20.25]     0.522727\n",
      "(20.25, 25.467]   0.380952\n",
      "(25.467, 27.9]    0.468085\n",
      "(27.9, 39.688]    0.363636\n",
      "(39.688, 57.0]    0.577778\n",
      "(57.0, 78.85]     0.523810\n",
      "(78.85, 134.5]    0.795918\n",
      "(134.5, 512.329]  0.696970\n"
     ]
    },
    {
     "data": {
      "text/plain": [
       "<matplotlib.axes._subplots.AxesSubplot at 0x2d58919feb8>"
      ]
     },
     "execution_count": 118,
     "metadata": {},
     "output_type": "execute_result"
    },
    {
     "data": {
      "image/png": "[encoded data removed]",
      "text/plain": [
       "<Figure size 216x360 with 1 Axes>"
      ]
     },
     "metadata": {},
     "output_type": "display_data"
    }
   ],
   "source": [
    "one_more_survived_groups['CategoricalFare'] = pd.qcut(one_more_survived_groups['Fare'], 10)\n",
    "fare_survived = one_more_survived_groups.loc[:, ['CategoricalFare', 'Survived']].groupby(['CategoricalFare']).mean()\n",
    "print(fare_survived)\n",
    "plt.xticks(rotation=270)\n",
    "plt.rcParams['figure.figsize'] =(5, 5)\n",
    "sns.barplot(x='CategoricalFare', y='Survived', data=one_more_survived_groups)\n",
    "#one_more_survived_groups.drop(['CategoricalFare'], axis = 1, inplace=True)"
   ]
  },
  {
   "cell_type": "code",
   "execution_count": 119,
   "metadata": {},
   "outputs": [
    {
     "name": "stdout",
     "output_type": "stream",
     "text": [
      "                   Survived\n",
      "CategoricalFare            \n",
      "(-0.001, 4.65]     0.242424\n",
      "(4.65, 5.231]      0.346154\n",
      "(5.231, 6.238]     0.448276\n",
      "(6.238, 6.938]     0.321429\n",
      "(6.938, 7.25]      0.266667\n",
      "(7.25, 7.775]      0.428571\n",
      "(7.775, 8.05]      0.212121\n",
      "(8.05, 9.188]      0.384615\n",
      "(9.188, 11.0]      0.500000\n",
      "(11.0, 13.0]       0.527778\n",
      "(13.0, 23.539]     0.538462\n",
      "(23.539, 26.55]    0.647059\n",
      "(26.55, 28.99]     0.916667\n",
      "(28.99, 37.482]    0.653846\n",
      "(37.482, 43.833]   0.615385\n",
      "(43.833, 128.082]  0.846154\n"
     ]
    },
    {
     "data": {
      "text/plain": [
       "<matplotlib.axes._subplots.AxesSubplot at 0x2d5892217b8>"
      ]
     },
     "execution_count": 119,
     "metadata": {},
     "output_type": "execute_result"
    },
    {
     "data": {
      "image/png": "[encoded data removed]",
      "text/plain": [
       "<Figure size 360x360 with 1 Axes>"
      ]
     },
     "metadata": {},
     "output_type": "display_data"
    }
   ],
   "source": [
    "one_more_survived_groups['CategoricalFare'] = pd.qcut(one_more_survived_groups['SingleTicketFare'], 16)\n",
    "fare_survived = one_more_survived_groups.loc[:, ['CategoricalFare', 'Survived']].groupby(['CategoricalFare']).mean()\n",
    "print(fare_survived)\n",
    "plt.xticks(rotation=270)\n",
    "plt.rcParams['figure.figsize'] =(5, 5)\n",
    "sns.barplot(x='CategoricalFare', y='Survived', data=one_more_survived_groups)\n",
    "#one_more_survived_groups.drop(['CategoricalFare'], axis = 1, inplace=True)"
   ]
  },
  {
   "cell_type": "markdown",
   "metadata": {},
   "source": [
    "#### Cabin"
   ]
  },
  {
   "cell_type": "code",
   "execution_count": 120,
   "metadata": {},
   "outputs": [
    {
     "name": "stdout",
     "output_type": "stream",
     "text": [
      "             Survived\n",
      "OneBitCabin          \n",
      "A            0.666667\n",
      "B            0.815789\n",
      "C            0.619048\n",
      "D            0.818182\n",
      "E            0.736842\n",
      "F            0.833333\n",
      "G            0.500000\n",
      "U            0.373770\n"
     ]
    },
    {
     "data": {
      "text/plain": [
       "<matplotlib.axes._subplots.AxesSubplot at 0x2d5892d8208>"
      ]
     },
     "execution_count": 120,
     "metadata": {},
     "output_type": "execute_result"
    },
    {
     "data": {
      "image/png": "[encoded data removed]",
      "text/plain": [
       "<Figure size 360x360 with 1 Axes>"
      ]
     },
     "metadata": {},
     "output_type": "display_data"
    }
   ],
   "source": [
    "one_more_survived_groups.Cabin.fillna('Unknown', inplace=True)\n",
    "one_more_survived_groups['OneBitCabin'] = one_more_survived_groups.Cabin.apply(lambda x: str(x)[0])\n",
    "cabin_survived = one_more_survived_groups.loc[:, ['OneBitCabin', 'Survived']].groupby(['OneBitCabin']).mean()\n",
    "print(cabin_survived)\n",
    "sns.barplot(x='OneBitCabin', y='Survived', data=one_more_survived_groups)\n",
    "#one_more_survived_groups.drop(['OneBitCabin'], axis = 1, inplace=True)"
   ]
  },
  {
   "cell_type": "markdown",
   "metadata": {},
   "source": [
    "#### Sex"
   ]
  },
  {
   "cell_type": "code",
   "execution_count": 121,
   "metadata": {},
   "outputs": [
    {
     "name": "stdout",
     "output_type": "stream",
     "text": [
      "{'female': 0.7361111111111112, 'male': 0.23766816143497757}\n"
     ]
    },
    {
     "data": {
      "text/plain": [
       "<matplotlib.axes._subplots.AxesSubplot at 0x2d5892d1c18>"
      ]
     },
     "execution_count": 121,
     "metadata": {},
     "output_type": "execute_result"
    },
    {
     "data": {
      "image/png": "[encoded data removed]",
      "text/plain": [
       "<Figure size 360x72 with 1 Axes>"
      ]
     },
     "metadata": {},
     "output_type": "display_data"
    }
   ],
   "source": [
    "sex_survived = dict(one_more_survived_groups.groupby(['Sex']).Survived.mean())\n",
    "print(sex_survived)\n",
    "plt.rcParams['figure.figsize'] =(5, 1)\n",
    "sns.barplot(x='Survived', y='Sex', data=one_more_survived_groups, orient='h')"
   ]
  },
  {
   "cell_type": "markdown",
   "metadata": {},
   "source": [
    "#### Age"
   ]
  },
  {
   "cell_type": "code",
   "execution_count": 122,
   "metadata": {},
   "outputs": [
    {
     "name": "stdout",
     "output_type": "stream",
     "text": [
      "0.13861386138613863\n"
     ]
    },
    {
     "data": {
      "text/plain": [
       "<matplotlib.axes._subplots.AxesSubplot at 0x2d58927ae80>"
      ]
     },
     "execution_count": 122,
     "metadata": {},
     "output_type": "execute_result"
    },
    {
     "data": {
      "image/png": "[encoded data removed]",
      "text/plain": [
       "<Figure size 360x72 with 1 Axes>"
      ]
     },
     "metadata": {},
     "output_type": "display_data"
    }
   ],
   "source": [
    "print(np.sum(one_more_survived_groups.Age.isna()) / one_more_survived_groups.shape[0])\n",
    "plt.xticks(rotation=270)\n",
    "pylab.rcParams['figure.figsize'] =(24, 8)\n",
    "sns.barplot(x='Age', y='Survived', data=one_more_survived_groups)"
   ]
  },
  {
   "cell_type": "code",
   "execution_count": 123,
   "metadata": {},
   "outputs": [],
   "source": [
    "def getAgeSegment(age):\n",
    "    age_seg = 3 # 退休\n",
    "    if age <= 15:\n",
    "        age_seg = 1 # 小孩\n",
    "    elif age <= 60:  \n",
    "        age_seg = 2 # 未退休\n",
    "\n",
    "    return np.int32(age_seg)"
   ]
  },
  {
   "cell_type": "code",
   "execution_count": 124,
   "metadata": {},
   "outputs": [
    {
     "name": "stdout",
     "output_type": "stream",
     "text": [
      "{1: 0.5822784810126582, 2: 0.48109965635738833, 3: 0.37681159420289856}\n"
     ]
    },
    {
     "data": {
      "text/plain": [
       "<matplotlib.axes._subplots.AxesSubplot at 0x2d58956b278>"
      ]
     },
     "execution_count": 124,
     "metadata": {},
     "output_type": "execute_result"
    },
    {
     "data": {
      "image/png": "[encoded data removed]",
      "text/plain": [
       "<Figure size 360x288 with 1 Axes>"
      ]
     },
     "metadata": {},
     "output_type": "display_data"
    }
   ],
   "source": [
    "one_more_survived_groups['age_segment'] = one_more_survived_groups.Age.apply(lambda x: getAgeSegment(x))\n",
    "age_survived = dict(one_more_survived_groups.groupby(['age_segment']).Survived.mean())\n",
    "print(age_survived)\n",
    "plt.rcParams['figure.figsize'] = (5, 4)\n",
    "sns.barplot(x='age_segment', y='Survived', data=one_more_survived_groups)"
   ]
  },
  {
   "cell_type": "code",
   "execution_count": 125,
   "metadata": {},
   "outputs": [
    {
     "name": "stdout",
     "output_type": "stream",
     "text": [
      "age_segment  Sex   \n",
      "1            female    0.641026\n",
      "             male      0.525000\n",
      "2            female    0.773973\n",
      "             male      0.186207\n",
      "3            female    0.677419\n",
      "             male      0.131579\n",
      "Name: Survived, dtype: float64\n"
     ]
    },
    {
     "data": {
      "text/plain": [
       "<matplotlib.axes._subplots.AxesSubplot at 0x2d5895e2940>"
      ]
     },
     "execution_count": 125,
     "metadata": {},
     "output_type": "execute_result"
    },
    {
     "data": {
      "image/png": "[encoded data removed]",
      "text/plain": [
       "<Figure size 360x288 with 1 Axes>"
      ]
     },
     "metadata": {},
     "output_type": "display_data"
    }
   ],
   "source": [
    "from numpy import mean\n",
    "sex_age_survived = one_more_survived_groups.groupby(['age_segment', 'Sex']).Survived.mean()\n",
    "print(sex_age_survived)\n",
    "sns.barplot(x='age_segment', y='Survived', hue='Sex', data=one_more_survived_groups, estimator=mean)"
   ]
  },
  {
   "cell_type": "code",
   "execution_count": 126,
   "metadata": {},
   "outputs": [
    {
     "data": {
      "text/plain": [
       "Index(['SurnameGroupId', 'Cabin', 'Pclass', 'Embarked', 'Sex', 'Fare',\n",
       "       'TicketGroupId', 'SibSp', 'Parch', 'Age', 'Survived', 'Title',\n",
       "       'SurnameGroupSize', 'SingleTicketFare', 'CategoricalFare',\n",
       "       'OneBitCabin', 'age_segment'],\n",
       "      dtype='object')"
      ]
     },
     "execution_count": 126,
     "metadata": {},
     "output_type": "execute_result"
    }
   ],
   "source": [
    "one_more_survived_groups.columns"
   ]
  },
  {
   "cell_type": "code",
   "execution_count": 127,
   "metadata": {},
   "outputs": [
    {
     "data": {
      "text/plain": [
       "Index(['SurnameGroupId', 'Cabin', 'Pclass', 'Embarked', 'Sex', 'Fare',\n",
       "       'TicketGroupId', 'SibSp', 'Parch', 'Age', 'Survived', 'Title',\n",
       "       'SurnameGroupSize', 'SingleTicketFare'],\n",
       "      dtype='object')"
      ]
     },
     "execution_count": 127,
     "metadata": {},
     "output_type": "execute_result"
    }
   ],
   "source": [
    "all_perished_groups.columns"
   ]
  },
  {
   "cell_type": "markdown",
   "metadata": {},
   "source": [
    "#### women-children-group"
   ]
  },
  {
   "cell_type": "code",
   "execution_count": 128,
   "metadata": {},
   "outputs": [
    {
     "data": {
      "text/plain": [
       "358"
      ]
     },
     "execution_count": 128,
     "metadata": {},
     "output_type": "execute_result"
    }
   ],
   "source": [
    "indices_boy_groups = ((one_more_survived_groups.Age <= children_age_upper_limit) & (one_more_survived_groups.Sex == 'male')) | (one_more_survived_groups.Title == 'Master')\n",
    "indices_female_groups = (one_more_survived_groups.Sex == 'female')\n",
    "\n",
    "more_one_survived_wcg = one_more_survived_groups.loc[indices_boy_groups|indices_female_groups]\n",
    "more_one_survived_wcg.shape[0]"
   ]
  },
  {
   "cell_type": "code",
   "execution_count": 129,
   "metadata": {},
   "outputs": [],
   "source": [
    "indices_female_groups = None\n",
    "indices_boy_groups = None"
   ]
  },
  {
   "cell_type": "code",
   "execution_count": 130,
   "metadata": {},
   "outputs": [
    {
     "data": {
      "text/html": [
       "<div>\n",
       "<style scoped>\n",
       "    .dataframe tbody tr th:only-of-type {\n",
       "        vertical-align: middle;\n",
       "    }\n",
       "\n",
       "    .dataframe tbody tr th {\n",
       "        vertical-align: top;\n",
       "    }\n",
       "\n",
       "    .dataframe thead th {\n",
       "        text-align: right;\n",
       "    }\n",
       "</style>\n",
       "<table border=\"1\" class=\"dataframe\">\n",
       "  <thead>\n",
       "    <tr style=\"text-align: right;\">\n",
       "      <th></th>\n",
       "      <th>SurnameGroupId</th>\n",
       "      <th>Cabin</th>\n",
       "      <th>Pclass</th>\n",
       "      <th>Embarked</th>\n",
       "      <th>Sex</th>\n",
       "      <th>Fare</th>\n",
       "      <th>TicketGroupId</th>\n",
       "      <th>SibSp</th>\n",
       "      <th>Parch</th>\n",
       "      <th>Age</th>\n",
       "      <th>Survived</th>\n",
       "      <th>Title</th>\n",
       "      <th>SurnameGroupSize</th>\n",
       "      <th>SingleTicketFare</th>\n",
       "      <th>CategoricalFare</th>\n",
       "      <th>OneBitCabin</th>\n",
       "      <th>age_segment</th>\n",
       "    </tr>\n",
       "  </thead>\n",
       "  <tbody>\n",
       "    <tr>\n",
       "      <th>279</th>\n",
       "      <td>Abbott-3-S-20.25-C.A. 26__</td>\n",
       "      <td>Unknown</td>\n",
       "      <td>3</td>\n",
       "      <td>S</td>\n",
       "      <td>female</td>\n",
       "      <td>20.25</td>\n",
       "      <td>3-S-20.25-C.A. 2673</td>\n",
       "      <td>1</td>\n",
       "      <td>1</td>\n",
       "      <td>35.00</td>\n",
       "      <td>1.0</td>\n",
       "      <td>Mrs</td>\n",
       "      <td>3</td>\n",
       "      <td>6.750</td>\n",
       "      <td>(6.238, 6.938]</td>\n",
       "      <td>U</td>\n",
       "      <td>2</td>\n",
       "    </tr>\n",
       "    <tr>\n",
       "      <th>1283</th>\n",
       "      <td>Abbott-3-S-20.25-C.A. 26__</td>\n",
       "      <td>Unknown</td>\n",
       "      <td>3</td>\n",
       "      <td>S</td>\n",
       "      <td>male</td>\n",
       "      <td>20.25</td>\n",
       "      <td>3-S-20.25-C.A. 2673</td>\n",
       "      <td>0</td>\n",
       "      <td>2</td>\n",
       "      <td>13.00</td>\n",
       "      <td>NaN</td>\n",
       "      <td>Master</td>\n",
       "      <td>3</td>\n",
       "      <td>6.750</td>\n",
       "      <td>(6.238, 6.938]</td>\n",
       "      <td>U</td>\n",
       "      <td>1</td>\n",
       "    </tr>\n",
       "    <tr>\n",
       "      <th>874</th>\n",
       "      <td>Abelson-2-C-24.0-P/PP 33__</td>\n",
       "      <td>Unknown</td>\n",
       "      <td>2</td>\n",
       "      <td>C</td>\n",
       "      <td>female</td>\n",
       "      <td>24.00</td>\n",
       "      <td>2-C-24.0-P/PP 3381</td>\n",
       "      <td>1</td>\n",
       "      <td>0</td>\n",
       "      <td>28.00</td>\n",
       "      <td>1.0</td>\n",
       "      <td>Mrs</td>\n",
       "      <td>2</td>\n",
       "      <td>12.000</td>\n",
       "      <td>(11.0, 13.0]</td>\n",
       "      <td>U</td>\n",
       "      <td>2</td>\n",
       "    </tr>\n",
       "    <tr>\n",
       "      <th>855</th>\n",
       "      <td>Aks-3-S-9.35-3920__</td>\n",
       "      <td>Unknown</td>\n",
       "      <td>3</td>\n",
       "      <td>S</td>\n",
       "      <td>female</td>\n",
       "      <td>9.35</td>\n",
       "      <td>3-S-9.35-392091</td>\n",
       "      <td>0</td>\n",
       "      <td>1</td>\n",
       "      <td>18.00</td>\n",
       "      <td>1.0</td>\n",
       "      <td>Mrs</td>\n",
       "      <td>2</td>\n",
       "      <td>4.675</td>\n",
       "      <td>(4.65, 5.231]</td>\n",
       "      <td>U</td>\n",
       "      <td>2</td>\n",
       "    </tr>\n",
       "    <tr>\n",
       "      <th>1198</th>\n",
       "      <td>Aks-3-S-9.35-3920__</td>\n",
       "      <td>Unknown</td>\n",
       "      <td>3</td>\n",
       "      <td>S</td>\n",
       "      <td>male</td>\n",
       "      <td>9.35</td>\n",
       "      <td>3-S-9.35-392091</td>\n",
       "      <td>0</td>\n",
       "      <td>1</td>\n",
       "      <td>0.83</td>\n",
       "      <td>NaN</td>\n",
       "      <td>Master</td>\n",
       "      <td>2</td>\n",
       "      <td>4.675</td>\n",
       "      <td>(4.65, 5.231]</td>\n",
       "      <td>U</td>\n",
       "      <td>1</td>\n",
       "    </tr>\n",
       "  </tbody>\n",
       "</table>\n",
       "</div>"
      ],
      "text/plain": [
       "                  SurnameGroupId    Cabin  Pclass Embarked     Sex   Fare  \\\n",
       "279   Abbott-3-S-20.25-C.A. 26__  Unknown       3        S  female  20.25   \n",
       "1283  Abbott-3-S-20.25-C.A. 26__  Unknown       3        S    male  20.25   \n",
       "874   Abelson-2-C-24.0-P/PP 33__  Unknown       2        C  female  24.00   \n",
       "855          Aks-3-S-9.35-3920__  Unknown       3        S  female   9.35   \n",
       "1198         Aks-3-S-9.35-3920__  Unknown       3        S    male   9.35   \n",
       "\n",
       "            TicketGroupId  SibSp  Parch    Age  Survived   Title  \\\n",
       "279   3-S-20.25-C.A. 2673      1      1  35.00       1.0     Mrs   \n",
       "1283  3-S-20.25-C.A. 2673      0      2  13.00       NaN  Master   \n",
       "874    2-C-24.0-P/PP 3381      1      0  28.00       1.0     Mrs   \n",
       "855       3-S-9.35-392091      0      1  18.00       1.0     Mrs   \n",
       "1198      3-S-9.35-392091      0      1   0.83       NaN  Master   \n",
       "\n",
       "      SurnameGroupSize  SingleTicketFare CategoricalFare OneBitCabin  \\\n",
       "279                  3             6.750  (6.238, 6.938]           U   \n",
       "1283                 3             6.750  (6.238, 6.938]           U   \n",
       "874                  2            12.000    (11.0, 13.0]           U   \n",
       "855                  2             4.675   (4.65, 5.231]           U   \n",
       "1198                 2             4.675   (4.65, 5.231]           U   \n",
       "\n",
       "      age_segment  \n",
       "279             2  \n",
       "1283            1  \n",
       "874             2  \n",
       "855             2  \n",
       "1198            1  "
      ]
     },
     "execution_count": 130,
     "metadata": {},
     "output_type": "execute_result"
    }
   ],
   "source": [
    "more_one_survived_wcg.head()"
   ]
  },
  {
   "cell_type": "code",
   "execution_count": 131,
   "metadata": {
    "scrolled": false
   },
   "outputs": [
    {
     "data": {
      "text/plain": [
       "1.00    122\n",
       "0.00     34\n",
       "0.75      1\n",
       "0.50      1\n",
       "Name: Survived, dtype: int64"
      ]
     },
     "execution_count": 131,
     "metadata": {},
     "output_type": "execute_result"
    }
   ],
   "source": [
    "tmp = more_one_survived_wcg.groupby(['SurnameGroupId']).Survived.mean().value_counts()\n",
    "tmp"
   ]
  },
  {
   "cell_type": "code",
   "execution_count": 132,
   "metadata": {},
   "outputs": [
    {
     "data": {
      "text/plain": [
       "0.9873417721518988"
      ]
     },
     "execution_count": 132,
     "metadata": {},
     "output_type": "execute_result"
    }
   ],
   "source": [
    "(tmp[1] + tmp[0]) / tmp.values.sum()"
   ]
  },
  {
   "cell_type": "markdown",
   "metadata": {},
   "source": [
    "##### Pclass"
   ]
  },
  {
   "cell_type": "code",
   "execution_count": 133,
   "metadata": {
    "scrolled": false
   },
   "outputs": [
    {
     "data": {
      "text/plain": [
       "<matplotlib.axes._subplots.AxesSubplot at 0x2d58a638d68>"
      ]
     },
     "execution_count": 133,
     "metadata": {},
     "output_type": "execute_result"
    },
    {
     "data": {
      "image/png": "[encoded data removed]",
      "text/plain": [
       "<Figure size 144x288 with 1 Axes>"
      ]
     },
     "metadata": {},
     "output_type": "display_data"
    }
   ],
   "source": [
    "pylab.rcParams['figure.figsize'] = (2.0, 4.0) \n",
    "plt.yticks(np.linspace(0.1, 1.0, 10))\n",
    "sns.barplot(x='Pclass', y='Survived', data=more_one_survived_wcg)"
   ]
  },
  {
   "cell_type": "markdown",
   "metadata": {},
   "source": [
    "##### Embarked"
   ]
  },
  {
   "cell_type": "code",
   "execution_count": 134,
   "metadata": {},
   "outputs": [
    {
     "data": {
      "text/plain": [
       "<matplotlib.axes._subplots.AxesSubplot at 0x2d58a695e48>"
      ]
     },
     "execution_count": 134,
     "metadata": {},
     "output_type": "execute_result"
    },
    {
     "data": {
      "image/png": "[encoded data removed]",
      "text/plain": [
       "<Figure size 360x144 with 1 Axes>"
      ]
     },
     "metadata": {},
     "output_type": "display_data"
    }
   ],
   "source": [
    "pylab.rcParams['figure.figsize'] = (5.0, 2.0) \n",
    "plt.xticks(ticks=np.linspace(0.1, 1.0, 10))\n",
    "sns.barplot(x='Survived', y='Embarked', data=more_one_survived_wcg, orient='h')"
   ]
  },
  {
   "cell_type": "markdown",
   "metadata": {},
   "source": [
    "##### Cabin"
   ]
  },
  {
   "cell_type": "code",
   "execution_count": 135,
   "metadata": {},
   "outputs": [
    {
     "name": "stderr",
     "output_type": "stream",
     "text": [
      "C:\\Anaconda3\\lib\\site-packages\\ipykernel\\__main__.py:1: SettingWithCopyWarning: \n",
      "A value is trying to be set on a copy of a slice from a DataFrame.\n",
      "Try using .loc[row_indexer,col_indexer] = value instead\n",
      "\n",
      "See the caveats in the documentation: http://pandas.pydata.org/pandas-docs/stable/indexing.html#indexing-view-versus-copy\n",
      "  if __name__ == '__main__':\n",
      "C:\\Anaconda3\\lib\\site-packages\\ipykernel\\__main__.py:2: SettingWithCopyWarning: \n",
      "A value is trying to be set on a copy of a slice from a DataFrame.\n",
      "Try using .loc[row_indexer,col_indexer] = value instead\n",
      "\n",
      "See the caveats in the documentation: http://pandas.pydata.org/pandas-docs/stable/indexing.html#indexing-view-versus-copy\n",
      "  from ipykernel import kernelapp as app\n"
     ]
    },
    {
     "data": {
      "text/plain": [
       "<matplotlib.axes._subplots.AxesSubplot at 0x2d58917f6a0>"
      ]
     },
     "execution_count": 135,
     "metadata": {},
     "output_type": "execute_result"
    },
    {
     "data": {
      "image/png": "[encoded data removed]",
      "text/plain": [
       "<Figure size 576x360 with 1 Axes>"
      ]
     },
     "metadata": {},
     "output_type": "display_data"
    }
   ],
   "source": [
    "more_one_survived_wcg['Cabin'] = more_one_survived_wcg.Cabin.fillna(\"Unknown\")\n",
    "more_one_survived_wcg['CabinOneBit'] = more_one_survived_wcg.Cabin.apply(lambda x: str(x)[0])\n",
    "pylab.rcParams['figure.figsize'] = (8.0, 5.0) \n",
    "plt.xticks(ticks=np.linspace(0.1, 1.0, 10))\n",
    "sns.barplot(x='Survived', y='CabinOneBit', data=more_one_survived_wcg, orient='h')"
   ]
  },
  {
   "cell_type": "markdown",
   "metadata": {},
   "source": [
    "##### Fare"
   ]
  },
  {
   "cell_type": "code",
   "execution_count": 136,
   "metadata": {},
   "outputs": [
    {
     "name": "stderr",
     "output_type": "stream",
     "text": [
      "C:\\Anaconda3\\lib\\site-packages\\ipykernel\\__main__.py:1: SettingWithCopyWarning: \n",
      "A value is trying to be set on a copy of a slice from a DataFrame.\n",
      "Try using .loc[row_indexer,col_indexer] = value instead\n",
      "\n",
      "See the caveats in the documentation: http://pandas.pydata.org/pandas-docs/stable/indexing.html#indexing-view-versus-copy\n",
      "  if __name__ == '__main__':\n"
     ]
    },
    {
     "data": {
      "text/plain": [
       "<matplotlib.axes._subplots.AxesSubplot at 0x2d58a760eb8>"
      ]
     },
     "execution_count": 136,
     "metadata": {},
     "output_type": "execute_result"
    },
    {
     "data": {
      "image/png": "[encoded data removed]",
      "text/plain": [
       "<Figure size 576x360 with 1 Axes>"
      ]
     },
     "metadata": {},
     "output_type": "display_data"
    }
   ],
   "source": [
    "more_one_survived_wcg['CategoricalFare'] = pd.qcut(more_one_survived_wcg['Fare'], 10)\n",
    "fare_survived = more_one_survived_wcg.loc[:,['CategoricalFare', 'Survived']].groupby(['CategoricalFare']).mean()\n",
    "plt.xticks(rotation=270)\n",
    "plt.yticks(ticks=np.linspace(0.1, 1.0, 10))\n",
    "pylab.rcParams['figure.figsize'] =(10, 5)\n",
    "sns.barplot(x='CategoricalFare', y='Survived', data=more_one_survived_wcg, )\n",
    "#one_more_survived_groups.drop(['CategoricalFare'], axis = 1, inplace=True)"
   ]
  },
  {
   "cell_type": "code",
   "execution_count": 137,
   "metadata": {},
   "outputs": [
    {
     "name": "stdout",
     "output_type": "stream",
     "text": [
      "                    Survived\n",
      "CategoricalFare             \n",
      "(7.749, 14.454]     0.517241\n",
      "(14.454, 15.98]     0.700000\n",
      "(15.98, 21.075]     0.645161\n",
      "(21.075, 26.0]      0.727273\n",
      "(26.0, 29.125]      0.473684\n",
      "(29.125, 39.458]    0.583333\n",
      "(39.458, 61.899]    0.653846\n",
      "(61.899, 82.046]    0.846154\n",
      "(82.046, 146.521]   1.000000\n",
      "(146.521, 512.329]  0.900000\n"
     ]
    }
   ],
   "source": [
    "print(fare_survived)"
   ]
  },
  {
   "cell_type": "markdown",
   "metadata": {},
   "source": [
    "##### Age"
   ]
  },
  {
   "cell_type": "code",
   "execution_count": 138,
   "metadata": {},
   "outputs": [
    {
     "data": {
      "text/plain": [
       "0.12569832402234637"
      ]
     },
     "execution_count": 138,
     "metadata": {},
     "output_type": "execute_result"
    }
   ],
   "source": [
    "more_one_survived_wcg.Age.isna().sum() / more_one_survived_wcg.shape[0]"
   ]
  },
  {
   "cell_type": "code",
   "execution_count": 139,
   "metadata": {},
   "outputs": [],
   "source": [
    "def getAgeSegment(age):\n",
    "    age_seg = 5 # \n",
    "    if age <= 12: # children\n",
    "        age_seg = 1 \n",
    "    elif age <= 18: # adults\n",
    "        age_seg = 2\n",
    "    elif age <= 45:\n",
    "        age_seg = 3\n",
    "    elif age <= 60: # retirement\n",
    "        age_seg = 4\n",
    "    return np.int32(age_seg)"
   ]
  },
  {
   "cell_type": "code",
   "execution_count": 140,
   "metadata": {},
   "outputs": [
    {
     "name": "stdout",
     "output_type": "stream",
     "text": [
      "{1: 0.5797101449275363, 2: 0.7272727272727273, 3: 0.7767857142857143, 4: 0.8421052631578947, 5: 0.6571428571428571}\n"
     ]
    },
    {
     "name": "stderr",
     "output_type": "stream",
     "text": [
      "C:\\Anaconda3\\lib\\site-packages\\ipykernel\\__main__.py:1: SettingWithCopyWarning: \n",
      "A value is trying to be set on a copy of a slice from a DataFrame.\n",
      "Try using .loc[row_indexer,col_indexer] = value instead\n",
      "\n",
      "See the caveats in the documentation: http://pandas.pydata.org/pandas-docs/stable/indexing.html#indexing-view-versus-copy\n",
      "  if __name__ == '__main__':\n"
     ]
    },
    {
     "data": {
      "text/plain": [
       "<matplotlib.axes._subplots.AxesSubplot at 0x2d58918e6d8>"
      ]
     },
     "execution_count": 140,
     "metadata": {},
     "output_type": "execute_result"
    },
    {
     "data": {
      "image/png": "[encoded data removed]",
      "text/plain": [
       "<Figure size 720x360 with 1 Axes>"
      ]
     },
     "metadata": {},
     "output_type": "display_data"
    }
   ],
   "source": [
    "more_one_survived_wcg['AgeSegment'] = more_one_survived_wcg.Age.apply(lambda x: getAgeSegment(x))\n",
    "age_survived = dict(more_one_survived_wcg.groupby(['AgeSegment']).Survived.mean())\n",
    "print(age_survived)\n",
    "plt.xticks(ticks=np.linspace(0.1, 1.0, 10))\n",
    "plt.rcParams['figure.figsize'] = (6, 3)\n",
    "sns.barplot(x='Survived', y='AgeSegment', data=more_one_survived_wcg, orient='h')"
   ]
  },
  {
   "cell_type": "markdown",
   "metadata": {},
   "source": [
    "#### 整组幸存情况未知的预测策略"
   ]
  },
  {
   "cell_type": "code",
   "execution_count": 141,
   "metadata": {},
   "outputs": [
    {
     "data": {
      "text/plain": [
       "606"
      ]
     },
     "execution_count": 141,
     "metadata": {},
     "output_type": "execute_result"
    }
   ],
   "source": [
    "one_more_survived_groups[one_more_survived_groups.SurnameGroupId.notna()].shape[0]"
   ]
  },
  {
   "cell_type": "markdown",
   "metadata": {},
   "source": [
    "### 单独出行\n",
    "\n",
    "单独出行即 `SurnameGroupSize==1` 的乘客："
   ]
  },
  {
   "cell_type": "code",
   "execution_count": 142,
   "metadata": {},
   "outputs": [
    {
     "name": "stdout",
     "output_type": "stream",
     "text": [
      "the number of solo passengers: 659\n"
     ]
    }
   ],
   "source": [
    "solo_passengers = all_data.loc[all_data.SurnameGroupSize == 1].drop(['Ticket', 'Title', 'Surname', 'SurnameGroupSize', 'TicketGroupSize', 'FamilySize'], axis=1)\n",
    "\n",
    "print('the number of solo passengers: %d' % solo_passengers.shape[0])"
   ]
  },
  {
   "cell_type": "markdown",
   "metadata": {},
   "source": [
    "#### Sex"
   ]
  },
  {
   "cell_type": "code",
   "execution_count": 143,
   "metadata": {},
   "outputs": [
    {
     "data": {
      "text/plain": [
       "<matplotlib.axes._subplots.AxesSubplot at 0x2d58a84e160>"
      ]
     },
     "execution_count": 143,
     "metadata": {},
     "output_type": "execute_result"
    },
    {
     "data": {
      "image/png": "[encoded data removed]",
      "text/plain": [
       "<Figure size 288x288 with 1 Axes>"
      ]
     },
     "metadata": {},
     "output_type": "display_data"
    }
   ],
   "source": [
    "plt.rcParams['figure.figsize'] =(4, 4)\n",
    "sns.barplot(x='Sex', y='Survived', data=solo_passengers)"
   ]
  },
  {
   "cell_type": "markdown",
   "metadata": {},
   "source": [
    "#### Age"
   ]
  },
  {
   "cell_type": "code",
   "execution_count": 144,
   "metadata": {},
   "outputs": [
    {
     "name": "stdout",
     "output_type": "stream",
     "text": [
      "{1: nan, 2: 0.41935483870967744, 3: 0.2964426877470356, 4: 0.2894736842105263, 5: 0.23846153846153847}\n"
     ]
    },
    {
     "data": {
      "text/plain": [
       "<matplotlib.axes._subplots.AxesSubplot at 0x2d58a8b4b70>"
      ]
     },
     "execution_count": 144,
     "metadata": {},
     "output_type": "execute_result"
    },
    {
     "data": {
      "image/png": "[encoded data removed]",
      "text/plain": [
       "<Figure size 360x288 with 1 Axes>"
      ]
     },
     "metadata": {},
     "output_type": "display_data"
    }
   ],
   "source": [
    "solo_passengers['age_segment'] = solo_passengers.Age.apply(lambda x: getAgeSegment(x))\n",
    "age_survived = dict(solo_passengers.groupby(['age_segment']).Survived.mean())\n",
    "print(age_survived)\n",
    "plt.rcParams['figure.figsize'] =(5, 4)\n",
    "sns.barplot(x='age_segment', y='Survived', data=solo_passengers)"
   ]
  },
  {
   "cell_type": "markdown",
   "metadata": {},
   "source": [
    "#### Sex and Age"
   ]
  },
  {
   "cell_type": "code",
   "execution_count": 145,
   "metadata": {},
   "outputs": [
    {
     "name": "stdout",
     "output_type": "stream",
     "text": [
      "age_segment  Sex   \n",
      "1            male           NaN\n",
      "2            female    0.785714\n",
      "             male      0.117647\n",
      "3            female    0.745098\n",
      "             male      0.183168\n",
      "4            female    0.875000\n",
      "             male      0.133333\n",
      "5            female    0.720000\n",
      "             male      0.123810\n",
      "Name: Survived, dtype: float64\n"
     ]
    },
    {
     "data": {
      "text/plain": [
       "<matplotlib.axes._subplots.AxesSubplot at 0x2d58a91b208>"
      ]
     },
     "execution_count": 145,
     "metadata": {},
     "output_type": "execute_result"
    },
    {
     "data": {
      "image/png": "[encoded data removed]",
      "text/plain": [
       "<Figure size 360x288 with 1 Axes>"
      ]
     },
     "metadata": {},
     "output_type": "display_data"
    }
   ],
   "source": [
    "from numpy import mean\n",
    "sex_age_survived = solo_passengers.groupby(['age_segment', 'Sex']).Survived.mean()\n",
    "print(sex_age_survived)\n",
    "sns.barplot(x='age_segment', y='Survived', hue='Sex', data=solo_passengers, estimator=mean)"
   ]
  },
  {
   "cell_type": "code",
   "execution_count": 146,
   "metadata": {},
   "outputs": [
    {
     "data": {
      "text/plain": [
       "<matplotlib.axes._subplots.AxesSubplot at 0x2d58a947d30>"
      ]
     },
     "execution_count": 146,
     "metadata": {},
     "output_type": "execute_result"
    },
    {
     "data": {
      "image/png": "[encoded data removed]",
      "text/plain": [
       "<Figure size 360x288 with 1 Axes>"
      ]
     },
     "metadata": {},
     "output_type": "display_data"
    }
   ],
   "source": [
    "sns.barplot(x='Pclass', y='Survived', hue='Sex', data=solo_passengers, estimator=mean)"
   ]
  },
  {
   "cell_type": "code",
   "execution_count": 147,
   "metadata": {},
   "outputs": [
    {
     "name": "stdout",
     "output_type": "stream",
     "text": [
      "                  Survived\n",
      "CategoricalFare           \n",
      "(-0.001, 7.25]    0.144928\n",
      "(7.25, 7.75]      0.339623\n",
      "(7.75, 7.879]     0.333333\n",
      "(7.879, 8.05]     0.157895\n",
      "(8.05, 9.5]       0.142857\n",
      "(9.5, 13.0]       0.387500\n",
      "(13.0, 26.55]     0.513514\n",
      "(26.55, 135.633]  0.431818\n"
     ]
    },
    {
     "data": {
      "image/png": "[encoded data removed]",
      "text/plain": [
       "<Figure size 360x288 with 1 Axes>"
      ]
     },
     "metadata": {},
     "output_type": "display_data"
    }
   ],
   "source": [
    "solo_passengers['CategoricalFare'] = pd.qcut(solo_passengers['Fare'], 8)\n",
    "fare_survived = solo_passengers.loc[:, ['CategoricalFare', 'Survived']].groupby(['CategoricalFare']).mean()\n",
    "print(fare_survived)\n",
    "plt.xticks(rotation=270)\n",
    "sns.barplot(x='CategoricalFare', y='Survived', data=solo_passengers)\n",
    "solo_passengers.drop(['CategoricalFare'], axis = 1, inplace=True)"
   ]
  },
  {
   "cell_type": "markdown",
   "metadata": {},
   "source": [
    "#### 单独出行的男孩\n",
    "\n",
    "借此查看一下，所有`Master`的随行成员数量"
   ]
  },
  {
   "cell_type": "code",
   "execution_count": 148,
   "metadata": {},
   "outputs": [
    {
     "data": {
      "text/plain": [
       "3     23\n",
       "7      9\n",
       "6      8\n",
       "2      6\n",
       "4      5\n",
       "5      4\n",
       "8      3\n",
       "11     2\n",
       "1      2\n",
       "Name: SurnameGroupSize, dtype: int64"
      ]
     },
     "execution_count": 148,
     "metadata": {},
     "output_type": "execute_result"
    }
   ],
   "source": [
    "tmp = all_data.loc[index_boy, 'SurnameGroupSize']\n",
    "tmp.value_counts()"
   ]
  },
  {
   "cell_type": "markdown",
   "metadata": {},
   "source": [
    "称谓是 `Master` 有1个是单独出行的"
   ]
  },
  {
   "cell_type": "code",
   "execution_count": 149,
   "metadata": {},
   "outputs": [
    {
     "data": {
      "text/html": [
       "<div>\n",
       "<style scoped>\n",
       "    .dataframe tbody tr th:only-of-type {\n",
       "        vertical-align: middle;\n",
       "    }\n",
       "\n",
       "    .dataframe tbody tr th {\n",
       "        vertical-align: top;\n",
       "    }\n",
       "\n",
       "    .dataframe thead th {\n",
       "        text-align: right;\n",
       "    }\n",
       "</style>\n",
       "<table border=\"1\" class=\"dataframe\">\n",
       "  <thead>\n",
       "    <tr style=\"text-align: right;\">\n",
       "      <th></th>\n",
       "      <th>Age</th>\n",
       "      <th>Cabin</th>\n",
       "      <th>Embarked</th>\n",
       "      <th>Fare</th>\n",
       "      <th>Name</th>\n",
       "      <th>Parch</th>\n",
       "      <th>PassengerId</th>\n",
       "      <th>Pclass</th>\n",
       "      <th>Sex</th>\n",
       "      <th>SibSp</th>\n",
       "      <th>...</th>\n",
       "      <th>Ticket</th>\n",
       "      <th>TicketSize</th>\n",
       "      <th>SingleTicketFare</th>\n",
       "      <th>Title</th>\n",
       "      <th>Surname</th>\n",
       "      <th>FamilySize</th>\n",
       "      <th>SurnameGroupId</th>\n",
       "      <th>TicketGroupId</th>\n",
       "      <th>SurnameGroupSize</th>\n",
       "      <th>TicketGroupSize</th>\n",
       "    </tr>\n",
       "  </thead>\n",
       "  <tbody>\n",
       "    <tr>\n",
       "      <th>912</th>\n",
       "      <td>9.0</td>\n",
       "      <td>NaN</td>\n",
       "      <td>S</td>\n",
       "      <td>3.1708</td>\n",
       "      <td>Olsen, Master. Artur Karl</td>\n",
       "      <td>1</td>\n",
       "      <td>913</td>\n",
       "      <td>3</td>\n",
       "      <td>male</td>\n",
       "      <td>0</td>\n",
       "      <td>...</td>\n",
       "      <td>C 17368</td>\n",
       "      <td>1</td>\n",
       "      <td>3.1708</td>\n",
       "      <td>Master</td>\n",
       "      <td>Olsen</td>\n",
       "      <td>4</td>\n",
       "      <td>Olsen-3-S-3.1708-C 173__</td>\n",
       "      <td>3-S-3.1708-C 17368</td>\n",
       "      <td>1</td>\n",
       "      <td>1</td>\n",
       "    </tr>\n",
       "    <tr>\n",
       "      <th>1230</th>\n",
       "      <td>NaN</td>\n",
       "      <td>NaN</td>\n",
       "      <td>C</td>\n",
       "      <td>7.2292</td>\n",
       "      <td>Betros, Master. Seman</td>\n",
       "      <td>0</td>\n",
       "      <td>1231</td>\n",
       "      <td>3</td>\n",
       "      <td>male</td>\n",
       "      <td>0</td>\n",
       "      <td>...</td>\n",
       "      <td>2622</td>\n",
       "      <td>1</td>\n",
       "      <td>7.2292</td>\n",
       "      <td>Master</td>\n",
       "      <td>Betros</td>\n",
       "      <td>2</td>\n",
       "      <td>Betros-3-C-7.2292-26__</td>\n",
       "      <td>3-C-7.2292-2622</td>\n",
       "      <td>1</td>\n",
       "      <td>1</td>\n",
       "    </tr>\n",
       "  </tbody>\n",
       "</table>\n",
       "<p>2 rows × 21 columns</p>\n",
       "</div>"
      ],
      "text/plain": [
       "      Age Cabin Embarked    Fare                       Name  Parch  \\\n",
       "912   9.0   NaN        S  3.1708  Olsen, Master. Artur Karl      1   \n",
       "1230  NaN   NaN        C  7.2292      Betros, Master. Seman      0   \n",
       "\n",
       "      PassengerId  Pclass   Sex  SibSp       ...          Ticket TicketSize  \\\n",
       "912           913       3  male      0       ...         C 17368          1   \n",
       "1230         1231       3  male      0       ...            2622          1   \n",
       "\n",
       "      SingleTicketFare   Title Surname FamilySize            SurnameGroupId  \\\n",
       "912             3.1708  Master   Olsen          4  Olsen-3-S-3.1708-C 173__   \n",
       "1230            7.2292  Master  Betros          2    Betros-3-C-7.2292-26__   \n",
       "\n",
       "           TicketGroupId SurnameGroupSize  TicketGroupSize  \n",
       "912   3-S-3.1708-C 17368                1                1  \n",
       "1230     3-C-7.2292-2622                1                1  \n",
       "\n",
       "[2 rows x 21 columns]"
      ]
     },
     "execution_count": 149,
     "metadata": {},
     "output_type": "execute_result"
    }
   ],
   "source": [
    "all_data.loc[(index_boy) & (all_data.SurnameGroupSize == 1)]"
   ]
  },
  {
   "cell_type": "markdown",
   "metadata": {},
   "source": [
    "#### 单独出行的女性"
   ]
  },
  {
   "cell_type": "code",
   "execution_count": 150,
   "metadata": {},
   "outputs": [
    {
     "data": {
      "text/plain": [
       "1.0    74\n",
       "0.0    24\n",
       "Name: Survived, dtype: int64"
      ]
     },
     "execution_count": 150,
     "metadata": {},
     "output_type": "execute_result"
    }
   ],
   "source": [
    "tmp = train.loc[(train.Sex == 'female') & (train.SurnameGroupSize == 1), 'Survived'].value_counts()\n",
    "tmp"
   ]
  },
  {
   "cell_type": "code",
   "execution_count": 151,
   "metadata": {},
   "outputs": [
    {
     "data": {
      "text/plain": [
       "0.24489795918367346"
      ]
     },
     "execution_count": 151,
     "metadata": {},
     "output_type": "execute_result"
    }
   ],
   "source": [
    "tmp[0]/ tmp.values.sum()"
   ]
  },
  {
   "cell_type": "markdown",
   "metadata": {},
   "source": [
    "### 最后的特征"
   ]
  },
  {
   "cell_type": "code",
   "execution_count": 152,
   "metadata": {
    "scrolled": true
   },
   "outputs": [
    {
     "data": {
      "text/plain": [
       "Index(['Age', 'Cabin', 'Embarked', 'Fare', 'Name', 'Parch', 'PassengerId',\n",
       "       'Pclass', 'Sex', 'SibSp', 'Survived', 'Ticket', 'TicketSize',\n",
       "       'SingleTicketFare', 'Title', 'Surname', 'FamilySize', 'SurnameGroupId',\n",
       "       'TicketGroupId', 'SurnameGroupSize', 'TicketGroupSize'],\n",
       "      dtype='object')"
      ]
     },
     "execution_count": 152,
     "metadata": {},
     "output_type": "execute_result"
    }
   ],
   "source": [
    "all_data.columns"
   ]
  },
  {
   "cell_type": "markdown",
   "metadata": {},
   "source": [
    "### K折交叉验证"
   ]
  },
  {
   "cell_type": "code",
   "execution_count": 153,
   "metadata": {},
   "outputs": [],
   "source": [
    "def custom_cv(dataset, num_fold = 5, verbose = False, num_trial = 5):\n",
    "    sum_accuracy_all_trial = 0.0\n",
    "    size_test_set_in_cv = dataset.shape[0] // num_fold    \n",
    "    engineeringFeatures(dataset, verbose)\n",
    "    \n",
    "    for i in range(0, num_trial):\n",
    "        sum_accuracy_per_trial = 0.0\n",
    "        all_set_in_cv = dataset.sample(n = train.shape[0], random_state= i)\n",
    "        for j in range(0, num_fold):\n",
    "            \n",
    "            # get indices of test set and train set in cross validation\n",
    "            start_index_test_set = j * size_test_set_in_cv\n",
    "            indices_test_set_in_cv = np.linspace(0, size_test_set_in_cv - 1, num = size_test_set_in_cv, dtype=np.int32) + start_index_test_set\n",
    "            indices_train_set_in_cv = all_set_in_cv.drop(labels=indices_test_set_in_cv).index\n",
    "            \n",
    "            # get WomanChildGroupSurvived in train set \n",
    "            getWomanChildrenGroupSurvived(all_set_in_cv, indices_train_set_in_cv)\n",
    "            # set WomanChildGroupSurvived in test set\n",
    "            setWomenChildGroupSurvivedInTestSet(all_set_in_cv, indices_test_set_in_cv)\n",
    "            \n",
    "            # get SurnameGroupSurvived\n",
    "            #getSurnameGroupSurvived(all_set_in_cv, indices_train_set_in_cv)\n",
    "            #setSurnameGroupSurvivedInTestSet(all_set_in_cv, indices_test_set_in_cv)\n",
    "            \n",
    "            # female and boy rules\n",
    "            all_set_in_cv = predictionByWomanBoyRules(all_set_in_cv)\n",
    "\n",
    "            accuracy_per_time = np.sum(all_set_in_cv.iloc[indices_test_set_in_cv, :].Predict.astype(np.int32).values == all_set_in_cv.iloc[indices_test_set_in_cv, :].Survived.astype(np.int32).values) / size_test_set_in_cv\n",
    "            sum_accuracy_per_trial += accuracy_per_time  \n",
    "            # the end of for j in range(0, num_fold)\n",
    "            \n",
    "        sum_accuracy_per_trial = sum_accuracy_per_trial / num_fold\n",
    "        sum_accuracy_all_trial += sum_accuracy_per_trial\n",
    "        if verbose == True:\n",
    "            print(\"Trial %d has %d-fold CV accuracy = %f\" % (i + 1, num_fold, sum_accuracy_per_trial)) \n",
    "        # the end of for i in range(0, num_trial)\n",
    "        \n",
    "    print('Average accuracy in trials of total %d times  = %f' % (num_trial, sum_accuracy_all_trial / num_trial)) "
   ]
  },
  {
   "cell_type": "code",
   "execution_count": 154,
   "metadata": {
    "scrolled": true
   },
   "outputs": [
    {
     "name": "stdout",
     "output_type": "stream",
     "text": [
      "Tottaly 179 solo passengers satifies the condtions\n",
      "Totally adding 46  nannies, cousins and firends to surname groups\n",
      "Trial 1 has 10-fold CV accuracy = 0.865169\n",
      "Trial 2 has 10-fold CV accuracy = 0.866292\n",
      "Trial 3 has 10-fold CV accuracy = 0.866292\n",
      "Trial 4 has 10-fold CV accuracy = 0.860674\n",
      "Trial 5 has 10-fold CV accuracy = 0.865169\n",
      "Trial 6 has 10-fold CV accuracy = 0.864045\n",
      "Trial 7 has 10-fold CV accuracy = 0.866292\n",
      "Trial 8 has 10-fold CV accuracy = 0.865169\n",
      "Trial 9 has 10-fold CV accuracy = 0.862921\n",
      "Trial 10 has 10-fold CV accuracy = 0.864045\n",
      "Average accuracy in trials of total 10 times  = 0.864607\n"
     ]
    }
   ],
   "source": [
    "custom_cv(num_fold = 10, verbose = True, num_trial = 10, dataset = pd.read_csv('./data/train.csv'))"
   ]
  },
  {
   "cell_type": "markdown",
   "metadata": {},
   "source": [
    "### 预测"
   ]
  },
  {
   "cell_type": "code",
   "execution_count": 155,
   "metadata": {},
   "outputs": [],
   "source": [
    "#getSurnameGroupSurvived(all_data, train.index)\n",
    "#setSurnameGroupSurvivedInTestSet(all_data, test.index)\n",
    "\n",
    "all_data['WomanChildGroupSurvived'] = np.NaN\n",
    "getWomanChildrenGroupSurvived(all_data, train.index)\n",
    "setWomenChildGroupSurvivedInTestSet(all_data, test.index)"
   ]
  },
  {
   "cell_type": "code",
   "execution_count": 156,
   "metadata": {
    "scrolled": false
   },
   "outputs": [
    {
     "data": {
      "text/plain": [
       "Index(['Age', 'Cabin', 'Embarked', 'Fare', 'Name', 'Parch', 'PassengerId',\n",
       "       'Pclass', 'Sex', 'SibSp', 'Survived', 'Ticket', 'TicketSize',\n",
       "       'SingleTicketFare', 'Title', 'Surname', 'FamilySize', 'SurnameGroupId',\n",
       "       'TicketGroupId', 'SurnameGroupSize', 'TicketGroupSize',\n",
       "       'SurnameGroupSurvived', 'WomanChildGroupSurvived', 'WomanChildGroupId'],\n",
       "      dtype='object')"
      ]
     },
     "execution_count": 156,
     "metadata": {},
     "output_type": "execute_result"
    }
   ],
   "source": [
    "all_data.columns"
   ]
  },
  {
   "cell_type": "code",
   "execution_count": 164,
   "metadata": {
    "scrolled": true
   },
   "outputs": [
    {
     "data": {
      "text/plain": [
       "0.8720538720538721"
      ]
     },
     "execution_count": 164,
     "metadata": {},
     "output_type": "execute_result"
    }
   ],
   "source": [
    "all_data = predictionByWomanBoyRules(all_data)\n",
    "np.sum(all_data.Predict[:train.shape[0]] == all_data.Survived[:train.shape[0]]) / train.shape[0]"
   ]
  },
  {
   "cell_type": "code",
   "execution_count": 165,
   "metadata": {},
   "outputs": [],
   "source": [
    "PassengerId = np.array(range(892, 892 + test.shape[0]))\n",
    "submission = pd.DataFrame({\"PassengerId\": PassengerId, \"Survived\": all_data.Predict[train.shape[0]:].astype(np.int32)})\n",
    "submission.index=range(0, test.shape[0])\n",
    "submission.to_csv('./data/' + \"2.csv\", index=False)"
   ]
  },
  {
   "cell_type": "code",
   "execution_count": 166,
   "metadata": {},
   "outputs": [
    {
     "data": {
      "text/plain": [
       "11"
      ]
     },
     "execution_count": 166,
     "metadata": {},
     "output_type": "execute_result"
    }
   ],
   "source": [
    "result_83772 = pd.read_csv('./data/' + \"same.csv\")\n",
    "np.sum(result_83772.Survived != submission.Survived)"
   ]
  },
  {
   "cell_type": "code",
   "execution_count": 167,
   "metadata": {},
   "outputs": [],
   "source": [
    "differential_indices = submission.loc[(submission.Survived != result_83772.Survived) & (submission.Survived.notna())].index"
   ]
  },
  {
   "cell_type": "code",
   "execution_count": 168,
   "metadata": {
    "scrolled": true
   },
   "outputs": [
    {
     "data": {
      "text/plain": [
       "array([ 982, 1017, 1092, 1106, 1165, 1201, 1237, 1251, 1268, 1274, 1275])"
      ]
     },
     "execution_count": 168,
     "metadata": {},
     "output_type": "execute_result"
    }
   ],
   "source": [
    "differential_passenger_id = submission.loc[differential_indices].PassengerId.values\n",
    "differential_passenger_id"
   ]
  },
  {
   "cell_type": "code",
   "execution_count": 169,
   "metadata": {
    "scrolled": true
   },
   "outputs": [
    {
     "data": {
      "text/plain": [
       "981          Dyker-3-S-13.9-3470__\n",
       "1016         Cribb-3-S-16.1-3713__\n",
       "1091         Murphy-3-Q-15.5-365__\n",
       "1105    Andersson-3-S-7.775-3470__\n",
       "1164        Lennon-3-Q-15.5-3703__\n",
       "1200     Hansen-3-S-14.1083-3500__\n",
       "1236      Abelseth-3-S-7.65-3481__\n",
       "1250      Lindell-3-S-15.55-3499__\n",
       "1267        Kink-3-S-8.6625-3151__\n",
       "1273        Risien-3-S-14.5-3644__\n",
       "1274       McNamee-3-S-16.1-3765__\n",
       "Name: SurnameGroupId, dtype: object"
      ]
     },
     "execution_count": 169,
     "metadata": {},
     "output_type": "execute_result"
    }
   ],
   "source": [
    "differential_surname_group_id = all_data.loc[all_data.PassengerId.isin(differential_passenger_id), 'SurnameGroupId']\n",
    "\n",
    "differential_surname_group_id"
   ]
  },
  {
   "cell_type": "code",
   "execution_count": 170,
   "metadata": {},
   "outputs": [
    {
     "data": {
      "text/html": [
       "<div>\n",
       "<style scoped>\n",
       "    .dataframe tbody tr th:only-of-type {\n",
       "        vertical-align: middle;\n",
       "    }\n",
       "\n",
       "    .dataframe tbody tr th {\n",
       "        vertical-align: top;\n",
       "    }\n",
       "\n",
       "    .dataframe thead th {\n",
       "        text-align: right;\n",
       "    }\n",
       "</style>\n",
       "<table border=\"1\" class=\"dataframe\">\n",
       "  <thead>\n",
       "    <tr style=\"text-align: right;\">\n",
       "      <th></th>\n",
       "      <th>SurnameGroupId</th>\n",
       "      <th>SurnameGroupSurvived</th>\n",
       "      <th>Sex</th>\n",
       "      <th>Age</th>\n",
       "      <th>Survived</th>\n",
       "      <th>Predict</th>\n",
       "      <th>Pclass</th>\n",
       "      <th>WomanChildGroupId</th>\n",
       "      <th>WomanChildGroupSurvived</th>\n",
       "    </tr>\n",
       "  </thead>\n",
       "  <tbody>\n",
       "    <tr>\n",
       "      <th>1236</th>\n",
       "      <td>Abelseth-3-S-7.65-3481__</td>\n",
       "      <td>1.0</td>\n",
       "      <td>female</td>\n",
       "      <td>16.0</td>\n",
       "      <td>NaN</td>\n",
       "      <td>0.0</td>\n",
       "      <td>3</td>\n",
       "      <td>Abelseth-3-S-7.65-3481__</td>\n",
       "      <td>0.000000</td>\n",
       "    </tr>\n",
       "    <tr>\n",
       "      <th>948</th>\n",
       "      <td>Abelseth-3-S-7.65-3481__</td>\n",
       "      <td>1.0</td>\n",
       "      <td>male</td>\n",
       "      <td>25.0</td>\n",
       "      <td>NaN</td>\n",
       "      <td>0.0</td>\n",
       "      <td>3</td>\n",
       "      <td>NoGroup</td>\n",
       "      <td>0.252366</td>\n",
       "    </tr>\n",
       "    <tr>\n",
       "      <th>1211</th>\n",
       "      <td>Andersson-3-S-7.775-3470__</td>\n",
       "      <td>1.0</td>\n",
       "      <td>male</td>\n",
       "      <td>26.0</td>\n",
       "      <td>NaN</td>\n",
       "      <td>0.0</td>\n",
       "      <td>3</td>\n",
       "      <td>NoGroup</td>\n",
       "      <td>0.252366</td>\n",
       "    </tr>\n",
       "    <tr>\n",
       "      <th>1105</th>\n",
       "      <td>Andersson-3-S-7.775-3470__</td>\n",
       "      <td>1.0</td>\n",
       "      <td>female</td>\n",
       "      <td>38.0</td>\n",
       "      <td>NaN</td>\n",
       "      <td>0.0</td>\n",
       "      <td>3</td>\n",
       "      <td>Andersson-3-S-7.775-3470__</td>\n",
       "      <td>0.000000</td>\n",
       "    </tr>\n",
       "    <tr>\n",
       "      <th>1016</th>\n",
       "      <td>Cribb-3-S-16.1-3713__</td>\n",
       "      <td>0.0</td>\n",
       "      <td>female</td>\n",
       "      <td>17.0</td>\n",
       "      <td>NaN</td>\n",
       "      <td>0.0</td>\n",
       "      <td>3</td>\n",
       "      <td>Cribb-3-S-16.1-3713__</td>\n",
       "      <td>0.000000</td>\n",
       "    </tr>\n",
       "    <tr>\n",
       "      <th>160</th>\n",
       "      <td>Cribb-3-S-16.1-3713__</td>\n",
       "      <td>0.0</td>\n",
       "      <td>male</td>\n",
       "      <td>44.0</td>\n",
       "      <td>0.0</td>\n",
       "      <td>0.0</td>\n",
       "      <td>3</td>\n",
       "      <td>NoGroup</td>\n",
       "      <td>0.252366</td>\n",
       "    </tr>\n",
       "    <tr>\n",
       "      <th>981</th>\n",
       "      <td>Dyker-3-S-13.9-3470__</td>\n",
       "      <td>1.0</td>\n",
       "      <td>female</td>\n",
       "      <td>22.0</td>\n",
       "      <td>NaN</td>\n",
       "      <td>0.0</td>\n",
       "      <td>3</td>\n",
       "      <td>Dyker-3-S-13.9-3470__</td>\n",
       "      <td>0.000000</td>\n",
       "    </tr>\n",
       "    <tr>\n",
       "      <th>1063</th>\n",
       "      <td>Dyker-3-S-13.9-3470__</td>\n",
       "      <td>1.0</td>\n",
       "      <td>male</td>\n",
       "      <td>23.0</td>\n",
       "      <td>NaN</td>\n",
       "      <td>0.0</td>\n",
       "      <td>3</td>\n",
       "      <td>NoGroup</td>\n",
       "      <td>0.252366</td>\n",
       "    </tr>\n",
       "    <tr>\n",
       "      <th>1200</th>\n",
       "      <td>Hansen-3-S-14.1083-3500__</td>\n",
       "      <td>0.0</td>\n",
       "      <td>female</td>\n",
       "      <td>45.0</td>\n",
       "      <td>NaN</td>\n",
       "      <td>0.0</td>\n",
       "      <td>3</td>\n",
       "      <td>Hansen-3-S-14.1083-3500__</td>\n",
       "      <td>0.000000</td>\n",
       "    </tr>\n",
       "    <tr>\n",
       "      <th>860</th>\n",
       "      <td>Hansen-3-S-14.1083-3500__</td>\n",
       "      <td>0.0</td>\n",
       "      <td>male</td>\n",
       "      <td>41.0</td>\n",
       "      <td>0.0</td>\n",
       "      <td>0.0</td>\n",
       "      <td>3</td>\n",
       "      <td>NoGroup</td>\n",
       "      <td>0.252366</td>\n",
       "    </tr>\n",
       "    <tr>\n",
       "      <th>69</th>\n",
       "      <td>Kink-3-S-8.6625-3151__</td>\n",
       "      <td>0.0</td>\n",
       "      <td>male</td>\n",
       "      <td>26.0</td>\n",
       "      <td>0.0</td>\n",
       "      <td>0.0</td>\n",
       "      <td>3</td>\n",
       "      <td>NoGroup</td>\n",
       "      <td>0.252366</td>\n",
       "    </tr>\n",
       "    <tr>\n",
       "      <th>1267</th>\n",
       "      <td>Kink-3-S-8.6625-3151__</td>\n",
       "      <td>0.0</td>\n",
       "      <td>female</td>\n",
       "      <td>22.0</td>\n",
       "      <td>NaN</td>\n",
       "      <td>0.0</td>\n",
       "      <td>3</td>\n",
       "      <td>Kink-3-S-8.6625-3151__</td>\n",
       "      <td>0.000000</td>\n",
       "    </tr>\n",
       "    <tr>\n",
       "      <th>1164</th>\n",
       "      <td>Lennon-3-Q-15.5-3703__</td>\n",
       "      <td>0.0</td>\n",
       "      <td>female</td>\n",
       "      <td>NaN</td>\n",
       "      <td>NaN</td>\n",
       "      <td>0.0</td>\n",
       "      <td>3</td>\n",
       "      <td>Lennon-3-Q-15.5-3703__</td>\n",
       "      <td>0.000000</td>\n",
       "    </tr>\n",
       "    <tr>\n",
       "      <th>46</th>\n",
       "      <td>Lennon-3-Q-15.5-3703__</td>\n",
       "      <td>0.0</td>\n",
       "      <td>male</td>\n",
       "      <td>NaN</td>\n",
       "      <td>0.0</td>\n",
       "      <td>0.0</td>\n",
       "      <td>3</td>\n",
       "      <td>NoGroup</td>\n",
       "      <td>0.252366</td>\n",
       "    </tr>\n",
       "    <tr>\n",
       "      <th>605</th>\n",
       "      <td>Lindell-3-S-15.55-3499__</td>\n",
       "      <td>0.0</td>\n",
       "      <td>male</td>\n",
       "      <td>36.0</td>\n",
       "      <td>0.0</td>\n",
       "      <td>0.0</td>\n",
       "      <td>3</td>\n",
       "      <td>NoGroup</td>\n",
       "      <td>0.252366</td>\n",
       "    </tr>\n",
       "    <tr>\n",
       "      <th>1250</th>\n",
       "      <td>Lindell-3-S-15.55-3499__</td>\n",
       "      <td>0.0</td>\n",
       "      <td>female</td>\n",
       "      <td>30.0</td>\n",
       "      <td>NaN</td>\n",
       "      <td>0.0</td>\n",
       "      <td>3</td>\n",
       "      <td>Lindell-3-S-15.55-3499__</td>\n",
       "      <td>0.000000</td>\n",
       "    </tr>\n",
       "    <tr>\n",
       "      <th>743</th>\n",
       "      <td>McNamee-3-S-16.1-3765__</td>\n",
       "      <td>0.0</td>\n",
       "      <td>male</td>\n",
       "      <td>24.0</td>\n",
       "      <td>0.0</td>\n",
       "      <td>0.0</td>\n",
       "      <td>3</td>\n",
       "      <td>NoGroup</td>\n",
       "      <td>0.252366</td>\n",
       "    </tr>\n",
       "    <tr>\n",
       "      <th>1274</th>\n",
       "      <td>McNamee-3-S-16.1-3765__</td>\n",
       "      <td>0.0</td>\n",
       "      <td>female</td>\n",
       "      <td>19.0</td>\n",
       "      <td>NaN</td>\n",
       "      <td>0.0</td>\n",
       "      <td>3</td>\n",
       "      <td>McNamee-3-S-16.1-3765__</td>\n",
       "      <td>0.000000</td>\n",
       "    </tr>\n",
       "    <tr>\n",
       "      <th>718</th>\n",
       "      <td>Murphy-3-Q-15.5-365__</td>\n",
       "      <td>0.0</td>\n",
       "      <td>male</td>\n",
       "      <td>NaN</td>\n",
       "      <td>0.0</td>\n",
       "      <td>0.0</td>\n",
       "      <td>3</td>\n",
       "      <td>NoGroup</td>\n",
       "      <td>0.252366</td>\n",
       "    </tr>\n",
       "    <tr>\n",
       "      <th>1091</th>\n",
       "      <td>Murphy-3-Q-15.5-365__</td>\n",
       "      <td>0.0</td>\n",
       "      <td>female</td>\n",
       "      <td>NaN</td>\n",
       "      <td>NaN</td>\n",
       "      <td>0.0</td>\n",
       "      <td>3</td>\n",
       "      <td>Murphy-3-Q-15.5-365__</td>\n",
       "      <td>0.000000</td>\n",
       "    </tr>\n",
       "    <tr>\n",
       "      <th>1273</th>\n",
       "      <td>Risien-3-S-14.5-3644__</td>\n",
       "      <td>0.0</td>\n",
       "      <td>female</td>\n",
       "      <td>NaN</td>\n",
       "      <td>NaN</td>\n",
       "      <td>0.0</td>\n",
       "      <td>3</td>\n",
       "      <td>Risien-3-S-14.5-3644__</td>\n",
       "      <td>0.000000</td>\n",
       "    </tr>\n",
       "    <tr>\n",
       "      <th>538</th>\n",
       "      <td>Risien-3-S-14.5-3644__</td>\n",
       "      <td>0.0</td>\n",
       "      <td>male</td>\n",
       "      <td>NaN</td>\n",
       "      <td>0.0</td>\n",
       "      <td>0.0</td>\n",
       "      <td>3</td>\n",
       "      <td>NoGroup</td>\n",
       "      <td>0.252366</td>\n",
       "    </tr>\n",
       "  </tbody>\n",
       "</table>\n",
       "</div>"
      ],
      "text/plain": [
       "                  SurnameGroupId  SurnameGroupSurvived     Sex   Age  \\\n",
       "1236    Abelseth-3-S-7.65-3481__                   1.0  female  16.0   \n",
       "948     Abelseth-3-S-7.65-3481__                   1.0    male  25.0   \n",
       "1211  Andersson-3-S-7.775-3470__                   1.0    male  26.0   \n",
       "1105  Andersson-3-S-7.775-3470__                   1.0  female  38.0   \n",
       "1016       Cribb-3-S-16.1-3713__                   0.0  female  17.0   \n",
       "160        Cribb-3-S-16.1-3713__                   0.0    male  44.0   \n",
       "981        Dyker-3-S-13.9-3470__                   1.0  female  22.0   \n",
       "1063       Dyker-3-S-13.9-3470__                   1.0    male  23.0   \n",
       "1200   Hansen-3-S-14.1083-3500__                   0.0  female  45.0   \n",
       "860    Hansen-3-S-14.1083-3500__                   0.0    male  41.0   \n",
       "69        Kink-3-S-8.6625-3151__                   0.0    male  26.0   \n",
       "1267      Kink-3-S-8.6625-3151__                   0.0  female  22.0   \n",
       "1164      Lennon-3-Q-15.5-3703__                   0.0  female   NaN   \n",
       "46        Lennon-3-Q-15.5-3703__                   0.0    male   NaN   \n",
       "605     Lindell-3-S-15.55-3499__                   0.0    male  36.0   \n",
       "1250    Lindell-3-S-15.55-3499__                   0.0  female  30.0   \n",
       "743      McNamee-3-S-16.1-3765__                   0.0    male  24.0   \n",
       "1274     McNamee-3-S-16.1-3765__                   0.0  female  19.0   \n",
       "718        Murphy-3-Q-15.5-365__                   0.0    male   NaN   \n",
       "1091       Murphy-3-Q-15.5-365__                   0.0  female   NaN   \n",
       "1273      Risien-3-S-14.5-3644__                   0.0  female   NaN   \n",
       "538       Risien-3-S-14.5-3644__                   0.0    male   NaN   \n",
       "\n",
       "      Survived  Predict  Pclass           WomanChildGroupId  \\\n",
       "1236       NaN      0.0       3    Abelseth-3-S-7.65-3481__   \n",
       "948        NaN      0.0       3                     NoGroup   \n",
       "1211       NaN      0.0       3                     NoGroup   \n",
       "1105       NaN      0.0       3  Andersson-3-S-7.775-3470__   \n",
       "1016       NaN      0.0       3       Cribb-3-S-16.1-3713__   \n",
       "160        0.0      0.0       3                     NoGroup   \n",
       "981        NaN      0.0       3       Dyker-3-S-13.9-3470__   \n",
       "1063       NaN      0.0       3                     NoGroup   \n",
       "1200       NaN      0.0       3   Hansen-3-S-14.1083-3500__   \n",
       "860        0.0      0.0       3                     NoGroup   \n",
       "69         0.0      0.0       3                     NoGroup   \n",
       "1267       NaN      0.0       3      Kink-3-S-8.6625-3151__   \n",
       "1164       NaN      0.0       3      Lennon-3-Q-15.5-3703__   \n",
       "46         0.0      0.0       3                     NoGroup   \n",
       "605        0.0      0.0       3                     NoGroup   \n",
       "1250       NaN      0.0       3    Lindell-3-S-15.55-3499__   \n",
       "743        0.0      0.0       3                     NoGroup   \n",
       "1274       NaN      0.0       3     McNamee-3-S-16.1-3765__   \n",
       "718        0.0      0.0       3                     NoGroup   \n",
       "1091       NaN      0.0       3       Murphy-3-Q-15.5-365__   \n",
       "1273       NaN      0.0       3      Risien-3-S-14.5-3644__   \n",
       "538        0.0      0.0       3                     NoGroup   \n",
       "\n",
       "      WomanChildGroupSurvived  \n",
       "1236                 0.000000  \n",
       "948                  0.252366  \n",
       "1211                 0.252366  \n",
       "1105                 0.000000  \n",
       "1016                 0.000000  \n",
       "160                  0.252366  \n",
       "981                  0.000000  \n",
       "1063                 0.252366  \n",
       "1200                 0.000000  \n",
       "860                  0.252366  \n",
       "69                   0.252366  \n",
       "1267                 0.000000  \n",
       "1164                 0.000000  \n",
       "46                   0.252366  \n",
       "605                  0.252366  \n",
       "1250                 0.000000  \n",
       "743                  0.252366  \n",
       "1274                 0.000000  \n",
       "718                  0.252366  \n",
       "1091                 0.000000  \n",
       "1273                 0.000000  \n",
       "538                  0.252366  "
      ]
     },
     "execution_count": 170,
     "metadata": {},
     "output_type": "execute_result"
    }
   ],
   "source": [
    "selected_features = ['SurnameGroupId', 'SurnameGroupSurvived',  'Sex', 'Age', 'Survived', 'Predict', 'Pclass', 'WomanChildGroupId', 'WomanChildGroupSurvived']\n",
    "\n",
    "all_data.loc[all_data.SurnameGroupId.isin(differential_surname_group_id),selected_features].sort_values(['SurnameGroupId'])"
   ]
  },
  {
   "cell_type": "code",
   "execution_count": 171,
   "metadata": {},
   "outputs": [
    {
     "data": {
      "text/html": [
       "<div>\n",
       "<style scoped>\n",
       "    .dataframe tbody tr th:only-of-type {\n",
       "        vertical-align: middle;\n",
       "    }\n",
       "\n",
       "    .dataframe tbody tr th {\n",
       "        vertical-align: top;\n",
       "    }\n",
       "\n",
       "    .dataframe thead th {\n",
       "        text-align: right;\n",
       "    }\n",
       "</style>\n",
       "<table border=\"1\" class=\"dataframe\">\n",
       "  <thead>\n",
       "    <tr style=\"text-align: right;\">\n",
       "      <th></th>\n",
       "      <th>Age</th>\n",
       "      <th>Cabin</th>\n",
       "      <th>Embarked</th>\n",
       "      <th>Fare</th>\n",
       "      <th>Name</th>\n",
       "      <th>Parch</th>\n",
       "      <th>PassengerId</th>\n",
       "      <th>Pclass</th>\n",
       "      <th>Sex</th>\n",
       "      <th>SibSp</th>\n",
       "      <th>...</th>\n",
       "      <th>Surname</th>\n",
       "      <th>FamilySize</th>\n",
       "      <th>SurnameGroupId</th>\n",
       "      <th>TicketGroupId</th>\n",
       "      <th>SurnameGroupSize</th>\n",
       "      <th>TicketGroupSize</th>\n",
       "      <th>SurnameGroupSurvived</th>\n",
       "      <th>WomanChildGroupSurvived</th>\n",
       "      <th>WomanChildGroupId</th>\n",
       "      <th>Predict</th>\n",
       "    </tr>\n",
       "  </thead>\n",
       "  <tbody>\n",
       "    <tr>\n",
       "      <th>948</th>\n",
       "      <td>25.0</td>\n",
       "      <td>F G63</td>\n",
       "      <td>S</td>\n",
       "      <td>7.65</td>\n",
       "      <td>Abelseth, Mr. Olaus Jorgensen</td>\n",
       "      <td>0</td>\n",
       "      <td>949</td>\n",
       "      <td>3</td>\n",
       "      <td>male</td>\n",
       "      <td>0</td>\n",
       "      <td>...</td>\n",
       "      <td>Abelseth</td>\n",
       "      <td>2</td>\n",
       "      <td>Abelseth-3-S-7.65-3481__</td>\n",
       "      <td>3-S-7.65-348122</td>\n",
       "      <td>2</td>\n",
       "      <td>1</td>\n",
       "      <td>1.0</td>\n",
       "      <td>0.252366</td>\n",
       "      <td>NoGroup</td>\n",
       "      <td>0.0</td>\n",
       "    </tr>\n",
       "    <tr>\n",
       "      <th>1236</th>\n",
       "      <td>16.0</td>\n",
       "      <td>NaN</td>\n",
       "      <td>S</td>\n",
       "      <td>7.65</td>\n",
       "      <td>Abelseth, Miss. Karen Marie</td>\n",
       "      <td>0</td>\n",
       "      <td>1237</td>\n",
       "      <td>3</td>\n",
       "      <td>female</td>\n",
       "      <td>0</td>\n",
       "      <td>...</td>\n",
       "      <td>Abelseth</td>\n",
       "      <td>2</td>\n",
       "      <td>Abelseth-3-S-7.65-3481__</td>\n",
       "      <td>3-S-7.65-348125</td>\n",
       "      <td>2</td>\n",
       "      <td>1</td>\n",
       "      <td>1.0</td>\n",
       "      <td>0.000000</td>\n",
       "      <td>Abelseth-3-S-7.65-3481__</td>\n",
       "      <td>0.0</td>\n",
       "    </tr>\n",
       "  </tbody>\n",
       "</table>\n",
       "<p>2 rows × 25 columns</p>\n",
       "</div>"
      ],
      "text/plain": [
       "       Age  Cabin Embarked  Fare                           Name  Parch  \\\n",
       "948   25.0  F G63        S  7.65  Abelseth, Mr. Olaus Jorgensen      0   \n",
       "1236  16.0    NaN        S  7.65    Abelseth, Miss. Karen Marie      0   \n",
       "\n",
       "      PassengerId  Pclass     Sex  SibSp   ...      Surname FamilySize  \\\n",
       "948           949       3    male      0   ...     Abelseth          2   \n",
       "1236         1237       3  female      0   ...     Abelseth          2   \n",
       "\n",
       "                SurnameGroupId    TicketGroupId SurnameGroupSize  \\\n",
       "948   Abelseth-3-S-7.65-3481__  3-S-7.65-348122                2   \n",
       "1236  Abelseth-3-S-7.65-3481__  3-S-7.65-348125                2   \n",
       "\n",
       "     TicketGroupSize  SurnameGroupSurvived WomanChildGroupSurvived  \\\n",
       "948                1                   1.0                0.252366   \n",
       "1236               1                   1.0                0.000000   \n",
       "\n",
       "             WomanChildGroupId  Predict  \n",
       "948                    NoGroup      0.0  \n",
       "1236  Abelseth-3-S-7.65-3481__      0.0  \n",
       "\n",
       "[2 rows x 25 columns]"
      ]
     },
     "execution_count": 171,
     "metadata": {},
     "output_type": "execute_result"
    }
   ],
   "source": [
    "all_data.loc[all_data.SurnameGroupId == 'Abelseth-3-S-7.65-3481__']"
   ]
  },
  {
   "cell_type": "markdown",
   "metadata": {},
   "source": [
    "### Maiden Name"
   ]
  },
  {
   "cell_type": "code",
   "execution_count": 172,
   "metadata": {},
   "outputs": [],
   "source": [
    "def getMaidenName(name):\n",
    "    title_search = re.search('\\(([A-Za-z]+) ([A-Za-z]+)\\)', name)\n",
    "    # If the title exists, extract and return it.\n",
    "    if title_search:\n",
    "        return title_search.group(2)\n",
    "    return ''\n",
    "\n",
    "all_data['MaidenName'] = all_data.Name.apply(getMaidenName)"
   ]
  },
  {
   "cell_type": "code",
   "execution_count": 173,
   "metadata": {},
   "outputs": [
    {
     "data": {
      "text/html": [
       "<div>\n",
       "<style scoped>\n",
       "    .dataframe tbody tr th:only-of-type {\n",
       "        vertical-align: middle;\n",
       "    }\n",
       "\n",
       "    .dataframe tbody tr th {\n",
       "        vertical-align: top;\n",
       "    }\n",
       "\n",
       "    .dataframe thead th {\n",
       "        text-align: right;\n",
       "    }\n",
       "</style>\n",
       "<table border=\"1\" class=\"dataframe\">\n",
       "  <thead>\n",
       "    <tr style=\"text-align: right;\">\n",
       "      <th></th>\n",
       "      <th>Age</th>\n",
       "      <th>SurnameGroupId</th>\n",
       "      <th>MaidenName</th>\n",
       "      <th>SibSp</th>\n",
       "      <th>Parch</th>\n",
       "      <th>Sex</th>\n",
       "      <th>TicketGroupId</th>\n",
       "    </tr>\n",
       "  </thead>\n",
       "  <tbody>\n",
       "    <tr>\n",
       "      <th>9</th>\n",
       "      <td>14.0</td>\n",
       "      <td>Nasser-2-C-30.0708-2377__</td>\n",
       "      <td>Achem</td>\n",
       "      <td>1</td>\n",
       "      <td>0</td>\n",
       "      <td>female</td>\n",
       "      <td>2-C-30.0708-237736</td>\n",
       "    </tr>\n",
       "    <tr>\n",
       "      <th>830</th>\n",
       "      <td>15.0</td>\n",
       "      <td>Yasbeck-3-C-14.4542-26__</td>\n",
       "      <td>Alexander</td>\n",
       "      <td>1</td>\n",
       "      <td>0</td>\n",
       "      <td>female</td>\n",
       "      <td>3-C-14.4542-2659</td>\n",
       "    </tr>\n",
       "    <tr>\n",
       "      <th>765</th>\n",
       "      <td>51.0</td>\n",
       "      <td>Longley-1-S-77.9583-135__</td>\n",
       "      <td>Andrews</td>\n",
       "      <td>1</td>\n",
       "      <td>0</td>\n",
       "      <td>female</td>\n",
       "      <td>1-S-77.9583-13502</td>\n",
       "    </tr>\n",
       "    <tr>\n",
       "      <th>1255</th>\n",
       "      <td>25.0</td>\n",
       "      <td>Harder-1-C-55.4417-117__</td>\n",
       "      <td>Annan</td>\n",
       "      <td>1</td>\n",
       "      <td>0</td>\n",
       "      <td>female</td>\n",
       "      <td>1-C-55.4417-11765</td>\n",
       "    </tr>\n",
       "    <tr>\n",
       "      <th>1137</th>\n",
       "      <td>22.0</td>\n",
       "      <td>Karnes-2-S-21.0-F.C.C. 135__</td>\n",
       "      <td>Bennett</td>\n",
       "      <td>0</td>\n",
       "      <td>0</td>\n",
       "      <td>female</td>\n",
       "      <td>2-S-21.0-F.C.C. 13534</td>\n",
       "    </tr>\n",
       "  </tbody>\n",
       "</table>\n",
       "</div>"
      ],
      "text/plain": [
       "       Age                SurnameGroupId MaidenName  SibSp  Parch     Sex  \\\n",
       "9     14.0     Nasser-2-C-30.0708-2377__      Achem      1      0  female   \n",
       "830   15.0      Yasbeck-3-C-14.4542-26__  Alexander      1      0  female   \n",
       "765   51.0     Longley-1-S-77.9583-135__    Andrews      1      0  female   \n",
       "1255  25.0      Harder-1-C-55.4417-117__      Annan      1      0  female   \n",
       "1137  22.0  Karnes-2-S-21.0-F.C.C. 135__    Bennett      0      0  female   \n",
       "\n",
       "              TicketGroupId  \n",
       "9        2-C-30.0708-237736  \n",
       "830        3-C-14.4542-2659  \n",
       "765       1-S-77.9583-13502  \n",
       "1255      1-C-55.4417-11765  \n",
       "1137  2-S-21.0-F.C.C. 13534  "
      ]
     },
     "execution_count": 173,
     "metadata": {},
     "output_type": "execute_result"
    }
   ],
   "source": [
    "all_data.sort_values(['MaidenName']).loc[all_data['MaidenName'] != '',['Age', 'SurnameGroupId', 'MaidenName', 'SibSp', 'Parch', 'Sex', 'TicketGroupId']].head()"
   ]
  },
  {
   "cell_type": "code",
   "execution_count": 174,
   "metadata": {},
   "outputs": [
    {
     "data": {
      "text/html": [
       "<div>\n",
       "<style scoped>\n",
       "    .dataframe tbody tr th:only-of-type {\n",
       "        vertical-align: middle;\n",
       "    }\n",
       "\n",
       "    .dataframe tbody tr th {\n",
       "        vertical-align: top;\n",
       "    }\n",
       "\n",
       "    .dataframe thead th {\n",
       "        text-align: right;\n",
       "    }\n",
       "</style>\n",
       "<table border=\"1\" class=\"dataframe\">\n",
       "  <thead>\n",
       "    <tr style=\"text-align: right;\">\n",
       "      <th></th>\n",
       "      <th>PassengerId</th>\n",
       "      <th>Age</th>\n",
       "      <th>SurnameGroupId</th>\n",
       "      <th>Name</th>\n",
       "      <th>MaidenName</th>\n",
       "      <th>SibSp</th>\n",
       "      <th>Parch</th>\n",
       "      <th>Sex</th>\n",
       "      <th>Survived</th>\n",
       "      <th>Predict</th>\n",
       "    </tr>\n",
       "  </thead>\n",
       "  <tbody>\n",
       "    <tr>\n",
       "      <th>529</th>\n",
       "      <td>530</td>\n",
       "      <td>23.00</td>\n",
       "      <td>Hocking-2-S-11.5-291__</td>\n",
       "      <td>Hocking, Mr. Richard George</td>\n",
       "      <td></td>\n",
       "      <td>2</td>\n",
       "      <td>1</td>\n",
       "      <td>male</td>\n",
       "      <td>0.0</td>\n",
       "      <td>0.0</td>\n",
       "    </tr>\n",
       "    <tr>\n",
       "      <th>1120</th>\n",
       "      <td>1121</td>\n",
       "      <td>36.00</td>\n",
       "      <td>Hocking-2-S-13.0-2429__</td>\n",
       "      <td>Hocking, Mr. Samuel James Metcalfe</td>\n",
       "      <td></td>\n",
       "      <td>0</td>\n",
       "      <td>0</td>\n",
       "      <td>male</td>\n",
       "      <td>NaN</td>\n",
       "      <td>0.0</td>\n",
       "    </tr>\n",
       "    <tr>\n",
       "      <th>943</th>\n",
       "      <td>944</td>\n",
       "      <td>20.00</td>\n",
       "      <td>Hocking-2-S-23.0-291__</td>\n",
       "      <td>Hocking, Miss. Ellen Nellie\"\"</td>\n",
       "      <td></td>\n",
       "      <td>2</td>\n",
       "      <td>1</td>\n",
       "      <td>female</td>\n",
       "      <td>NaN</td>\n",
       "      <td>1.0</td>\n",
       "    </tr>\n",
       "    <tr>\n",
       "      <th>774</th>\n",
       "      <td>775</td>\n",
       "      <td>54.00</td>\n",
       "      <td>Hocking-2-S-23.0-291__</td>\n",
       "      <td>Hocking, Mrs. Elizabeth (Eliza Needs)</td>\n",
       "      <td>Needs</td>\n",
       "      <td>1</td>\n",
       "      <td>3</td>\n",
       "      <td>female</td>\n",
       "      <td>1.0</td>\n",
       "      <td>1.0</td>\n",
       "    </tr>\n",
       "    <tr>\n",
       "      <th>831</th>\n",
       "      <td>832</td>\n",
       "      <td>0.83</td>\n",
       "      <td>Richards-2-S-18.75-291__</td>\n",
       "      <td>Richards, Master. George Sibley</td>\n",
       "      <td></td>\n",
       "      <td>1</td>\n",
       "      <td>1</td>\n",
       "      <td>male</td>\n",
       "      <td>1.0</td>\n",
       "      <td>1.0</td>\n",
       "    </tr>\n",
       "    <tr>\n",
       "      <th>407</th>\n",
       "      <td>408</td>\n",
       "      <td>3.00</td>\n",
       "      <td>Richards-2-S-18.75-291__</td>\n",
       "      <td>Richards, Master. William Rowe</td>\n",
       "      <td></td>\n",
       "      <td>1</td>\n",
       "      <td>1</td>\n",
       "      <td>male</td>\n",
       "      <td>1.0</td>\n",
       "      <td>1.0</td>\n",
       "    </tr>\n",
       "    <tr>\n",
       "      <th>437</th>\n",
       "      <td>438</td>\n",
       "      <td>24.00</td>\n",
       "      <td>Richards-2-S-18.75-291__</td>\n",
       "      <td>Richards, Mrs. Sidney (Emily Hocking)</td>\n",
       "      <td>Hocking</td>\n",
       "      <td>2</td>\n",
       "      <td>3</td>\n",
       "      <td>female</td>\n",
       "      <td>1.0</td>\n",
       "      <td>1.0</td>\n",
       "    </tr>\n",
       "    <tr>\n",
       "      <th>892</th>\n",
       "      <td>893</td>\n",
       "      <td>47.00</td>\n",
       "      <td>Wilkes-3-S-7.0-3632__</td>\n",
       "      <td>Wilkes, Mrs. James (Ellen Needs)</td>\n",
       "      <td>Needs</td>\n",
       "      <td>1</td>\n",
       "      <td>0</td>\n",
       "      <td>female</td>\n",
       "      <td>NaN</td>\n",
       "      <td>1.0</td>\n",
       "    </tr>\n",
       "  </tbody>\n",
       "</table>\n",
       "</div>"
      ],
      "text/plain": [
       "      PassengerId    Age            SurnameGroupId  \\\n",
       "529           530  23.00    Hocking-2-S-11.5-291__   \n",
       "1120         1121  36.00   Hocking-2-S-13.0-2429__   \n",
       "943           944  20.00    Hocking-2-S-23.0-291__   \n",
       "774           775  54.00    Hocking-2-S-23.0-291__   \n",
       "831           832   0.83  Richards-2-S-18.75-291__   \n",
       "407           408   3.00  Richards-2-S-18.75-291__   \n",
       "437           438  24.00  Richards-2-S-18.75-291__   \n",
       "892           893  47.00     Wilkes-3-S-7.0-3632__   \n",
       "\n",
       "                                       Name MaidenName  SibSp  Parch     Sex  \\\n",
       "529             Hocking, Mr. Richard George                 2      1    male   \n",
       "1120     Hocking, Mr. Samuel James Metcalfe                 0      0    male   \n",
       "943           Hocking, Miss. Ellen Nellie\"\"                 2      1  female   \n",
       "774   Hocking, Mrs. Elizabeth (Eliza Needs)      Needs      1      3  female   \n",
       "831         Richards, Master. George Sibley                 1      1    male   \n",
       "407          Richards, Master. William Rowe                 1      1    male   \n",
       "437   Richards, Mrs. Sidney (Emily Hocking)    Hocking      2      3  female   \n",
       "892        Wilkes, Mrs. James (Ellen Needs)      Needs      1      0  female   \n",
       "\n",
       "      Survived  Predict  \n",
       "529        0.0      0.0  \n",
       "1120       NaN      0.0  \n",
       "943        NaN      1.0  \n",
       "774        1.0      1.0  \n",
       "831        1.0      1.0  \n",
       "407        1.0      1.0  \n",
       "437        1.0      1.0  \n",
       "892        NaN      1.0  "
      ]
     },
     "execution_count": 174,
     "metadata": {},
     "output_type": "execute_result"
    }
   ],
   "source": [
    "all_data.loc[(all_data.Surname == 'Richards') | (all_data.Surname == 'Hocking') | (all_data.MaidenName == 'Needs'), ['PassengerId', 'Age', 'SurnameGroupId', 'Name', 'MaidenName', 'SibSp', 'Parch', 'Sex', 'Survived', 'Predict']].sort_values(['SurnameGroupId', 'Age'])"
   ]
  },
  {
   "cell_type": "markdown",
   "metadata": {},
   "source": [
    "除了第二行剩余的人都是一家人，**注意到：票价，舱室级别，票号都相差比较大**。\n",
    "\n",
    "`age = 54` 是 grandmother，她有一个妹妹，她的孩子中\n",
    "1. `PassengerId = 944` ， 未嫁的 `Age = 20` 的还在沿用家族姓氏\n",
    "2. 已经出嫁的 `Age = 24` 的已经使用夫家的姓氏，但是圆括号里面也带了娘家姓氏 `MaidenName` , `PassengerId = 438`, 她有两个男孩：根据`SurnameGroupId`， `PassengerId = 832, 408`\n",
    "\n",
    "3. 比较难以判断的是，到底第一行是不是Hocking家族的孩子。\n",
    "![](./data/grandparents.png)"
   ]
  },
  {
   "cell_type": "code",
   "execution_count": 175,
   "metadata": {},
   "outputs": [],
   "source": [
    "MaidenNameGroupSize_value_counts = all_data.MaidenName.value_counts()"
   ]
  },
  {
   "cell_type": "code",
   "execution_count": 176,
   "metadata": {},
   "outputs": [],
   "source": [
    "all_data['MaidenNameGroupSize'] = all_data.apply(lambda row: np.NaN if row.MaidenName == '' else MaidenNameGroupSize_value_counts[row.MaidenName], axis=1)"
   ]
  },
  {
   "cell_type": "code",
   "execution_count": 177,
   "metadata": {},
   "outputs": [
    {
     "data": {
      "text/plain": [
       "0    NaN\n",
       "1    NaN\n",
       "2    NaN\n",
       "3    NaN\n",
       "4    NaN\n",
       "5    NaN\n",
       "6    NaN\n",
       "7    NaN\n",
       "8    NaN\n",
       "9    1.0\n",
       "Name: MaidenNameGroupSize, dtype: float64"
      ]
     },
     "execution_count": 177,
     "metadata": {},
     "output_type": "execute_result"
    }
   ],
   "source": [
    "all_data['MaidenNameGroupSize'].head(10)"
   ]
  },
  {
   "cell_type": "code",
   "execution_count": 178,
   "metadata": {},
   "outputs": [
    {
     "data": {
      "text/html": [
       "<div>\n",
       "<style scoped>\n",
       "    .dataframe tbody tr th:only-of-type {\n",
       "        vertical-align: middle;\n",
       "    }\n",
       "\n",
       "    .dataframe tbody tr th {\n",
       "        vertical-align: top;\n",
       "    }\n",
       "\n",
       "    .dataframe thead th {\n",
       "        text-align: right;\n",
       "    }\n",
       "</style>\n",
       "<table border=\"1\" class=\"dataframe\">\n",
       "  <thead>\n",
       "    <tr style=\"text-align: right;\">\n",
       "      <th></th>\n",
       "      <th>PassengerId</th>\n",
       "      <th>Age</th>\n",
       "      <th>SurnameGroupId</th>\n",
       "      <th>Name</th>\n",
       "      <th>MaidenName</th>\n",
       "      <th>SibSp</th>\n",
       "      <th>Parch</th>\n",
       "      <th>Sex</th>\n",
       "      <th>Survived</th>\n",
       "    </tr>\n",
       "  </thead>\n",
       "  <tbody>\n",
       "    <tr>\n",
       "      <th>774</th>\n",
       "      <td>775</td>\n",
       "      <td>54.0</td>\n",
       "      <td>Hocking-2-S-23.0-291__</td>\n",
       "      <td>Hocking, Mrs. Elizabeth (Eliza Needs)</td>\n",
       "      <td>Needs</td>\n",
       "      <td>1</td>\n",
       "      <td>3</td>\n",
       "      <td>female</td>\n",
       "      <td>1.0</td>\n",
       "    </tr>\n",
       "    <tr>\n",
       "      <th>892</th>\n",
       "      <td>893</td>\n",
       "      <td>47.0</td>\n",
       "      <td>Wilkes-3-S-7.0-3632__</td>\n",
       "      <td>Wilkes, Mrs. James (Ellen Needs)</td>\n",
       "      <td>Needs</td>\n",
       "      <td>1</td>\n",
       "      <td>0</td>\n",
       "      <td>female</td>\n",
       "      <td>NaN</td>\n",
       "    </tr>\n",
       "  </tbody>\n",
       "</table>\n",
       "</div>"
      ],
      "text/plain": [
       "     PassengerId   Age          SurnameGroupId  \\\n",
       "774          775  54.0  Hocking-2-S-23.0-291__   \n",
       "892          893  47.0   Wilkes-3-S-7.0-3632__   \n",
       "\n",
       "                                      Name MaidenName  SibSp  Parch     Sex  \\\n",
       "774  Hocking, Mrs. Elizabeth (Eliza Needs)      Needs      1      3  female   \n",
       "892       Wilkes, Mrs. James (Ellen Needs)      Needs      1      0  female   \n",
       "\n",
       "     Survived  \n",
       "774       1.0  \n",
       "892       NaN  "
      ]
     },
     "execution_count": 178,
     "metadata": {},
     "output_type": "execute_result"
    }
   ],
   "source": [
    "all_data.loc[all_data.MaidenNameGroupSize > 1, ['PassengerId', 'Age', 'SurnameGroupId', 'Name', 'MaidenName', 'SibSp', 'Parch', 'Sex', 'Survived']]"
   ]
  },
  {
   "cell_type": "markdown",
   "metadata": {},
   "source": []
  }
 ],
 "metadata": {
  "kernelspec": {
   "display_name": "Python [default]",
   "language": "python",
   "name": "python3"
  },
  "language_info": {
   "codemirror_mode": {
    "name": "ipython",
    "version": 3
   },
   "file_extension": ".py",
   "mimetype": "text/x-python",
   "name": "python",
   "nbconvert_exporter": "python",
   "pygments_lexer": "ipython3",
   "version": "3.6.4"
  },
  "toc": {
   "base_numbering": 1,
   "nav_menu": {},
   "number_sections": true,
   "sideBar": true,
   "skip_h1_title": false,
   "title_cell": "Table of Contents",
   "title_sidebar": "Contents",
   "toc_cell": false,
   "toc_position": {
    "height": "calc(100% - 180px)",
    "left": "10px",
    "top": "150px",
    "width": "326px"
   },
   "toc_section_display": true,
   "toc_window_display": true
  }
 },
 "nbformat": 4,
 "nbformat_minor": 2
}
